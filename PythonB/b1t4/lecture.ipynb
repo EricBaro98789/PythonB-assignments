{
 "cells": [
  {
   "cell_type": "code",
   "execution_count": 1,
   "metadata": {},
   "outputs": [
    {
     "name": "stdout",
     "output_type": "stream",
     "text": [
      "[2 4 6 8]\n",
      "[0. 0.] [1. 1.]\n"
     ]
    },
    {
     "data": {
      "text/plain": [
       "array([1, 2, 3], dtype=int16)"
      ]
     },
     "execution_count": 1,
     "metadata": {},
     "output_type": "execute_result"
    }
   ],
   "source": [
    "import numpy as np\n",
    "np.zeros((2,2))\n",
    "np.ones((2,3))\n",
    "aid = np.arange(2, 9, 2)\n",
    "print(aid)\n",
    "zeros, ones = np.zeros(2), np.ones(2)\n",
    "print(zeros, ones)\n",
    "np.array([1,2,3], dtype = np.int16 )"
   ]
  },
  {
   "cell_type": "code",
   "execution_count": 3,
   "metadata": {},
   "outputs": [
    {
     "name": "stdout",
     "output_type": "stream",
     "text": [
      "The total number of elements in the array is: 12\n",
      "(3, 4)\n",
      "The number of rows is: 3 the number of columns is: 4\n"
     ]
    }
   ],
   "source": [
    "import numpy as np\n",
    "\n",
    "#The shape vs size of an array\n",
    "a2d = np.array([[1,2,3,4], [5,6,7,8], [9,10,11,12]])\n",
    "\n",
    "print('The total number of elements in the array is:',a2d.size)\n",
    "\n",
    "rows, columns = a2d.shape\n",
    "print(a2d.shape)\n",
    "print('The number of rows is:',rows,'the number of columns is:',columns)"
   ]
  },
  {
   "cell_type": "code",
   "execution_count": 4,
   "metadata": {},
   "outputs": [
    {
     "data": {
      "text/plain": [
       "array([0., 0., 0.])"
      ]
     },
     "execution_count": 4,
     "metadata": {},
     "output_type": "execute_result"
    }
   ],
   "source": [
    "a3 = np.zeros(3)\n",
    "a3"
   ]
  },
  {
   "cell_type": "code",
   "execution_count": 6,
   "metadata": {},
   "outputs": [
    {
     "data": {
      "text/plain": [
       "array([0, 0, 0])"
      ]
     },
     "execution_count": 6,
     "metadata": {},
     "output_type": "execute_result"
    }
   ],
   "source": [
    "a3 = np.zeros((3), dtype=int)\n",
    "a3"
   ]
  },
  {
   "cell_type": "code",
   "execution_count": 9,
   "metadata": {},
   "outputs": [
    {
     "data": {
      "text/plain": [
       "array([[0., 0., 0.],\n",
       "       [0., 0., 0.],\n",
       "       [0., 0., 0.],\n",
       "       [0., 0., 0.]])"
      ]
     },
     "execution_count": 9,
     "metadata": {},
     "output_type": "execute_result"
    }
   ],
   "source": [
    "a4 = np.zeros((4, 3))\n",
    "a4"
   ]
  },
  {
   "cell_type": "code",
   "execution_count": 11,
   "metadata": {},
   "outputs": [
    {
     "data": {
      "text/plain": [
       "array([1, 2, 3, 4, 5])"
      ]
     },
     "execution_count": 11,
     "metadata": {},
     "output_type": "execute_result"
    }
   ],
   "source": [
    "a1 = np.array([1,2,3,4,5])\n",
    "a1 "
   ]
  },
  {
   "cell_type": "code",
   "execution_count": 13,
   "metadata": {},
   "outputs": [
    {
     "data": {
      "text/plain": [
       "array([[1, 2, 3],\n",
       "       [4, 5, 6],\n",
       "       [7, 8, 9]])"
      ]
     },
     "execution_count": 13,
     "metadata": {},
     "output_type": "execute_result"
    }
   ],
   "source": [
    "a4 = np.array([[1,2,3], [4,5,6], [7, 8, 9]])\n",
    "a4"
   ]
  },
  {
   "cell_type": "code",
   "execution_count": 14,
   "metadata": {},
   "outputs": [
    {
     "data": {
      "text/plain": [
       "array([ 0,  1,  2,  3,  4,  5,  6,  7,  8,  9, 10, 11, 12, 13, 14, 15, 16,\n",
       "       17, 18, 19])"
      ]
     },
     "execution_count": 14,
     "metadata": {},
     "output_type": "execute_result"
    }
   ],
   "source": [
    "a1 = np.arange(20)\n",
    "a1"
   ]
  },
  {
   "cell_type": "code",
   "execution_count": 15,
   "metadata": {},
   "outputs": [
    {
     "data": {
      "text/plain": [
       "array([ 0,  2,  4,  6,  8, 10, 12, 14, 16, 18])"
      ]
     },
     "execution_count": 15,
     "metadata": {},
     "output_type": "execute_result"
    }
   ],
   "source": [
    "a1[::2]"
   ]
  },
  {
   "cell_type": "code",
   "execution_count": 27,
   "metadata": {},
   "outputs": [
    {
     "data": {
      "text/plain": [
       "array([18, 17, 16, 15, 14, 13, 12, 11, 10,  9,  8,  7,  6,  5,  4,  3,  2,\n",
       "        1,  0])"
      ]
     },
     "execution_count": 27,
     "metadata": {},
     "output_type": "execute_result"
    }
   ],
   "source": [
    "\n",
    "a1[18::-1]"
   ]
  },
  {
   "cell_type": "code",
   "execution_count": 2,
   "metadata": {},
   "outputs": [
    {
     "data": {
      "text/plain": [
       "array([[ 4,  5, 32,  2],\n",
       "       [ 2, 34, 23, 12],\n",
       "       [12, 32,  7, 99]])"
      ]
     },
     "execution_count": 2,
     "metadata": {},
     "output_type": "execute_result"
    }
   ],
   "source": [
    "import numpy as np\n",
    "a2 = np.array([[4,5,32,2], [2,34,23,12],[12,32,7,99]])\n",
    "a2"
   ]
  },
  {
   "cell_type": "code",
   "execution_count": 3,
   "metadata": {},
   "outputs": [
    {
     "data": {
      "text/plain": [
       "array([[ 4,  5, 32],\n",
       "       [ 2, 34, 23]])"
      ]
     },
     "execution_count": 3,
     "metadata": {},
     "output_type": "execute_result"
    }
   ],
   "source": [
    "a2[:2, :3]"
   ]
  },
  {
   "cell_type": "code",
   "execution_count": 4,
   "metadata": {},
   "outputs": [
    {
     "data": {
      "text/plain": [
       "array([[ 4],\n",
       "       [ 2],\n",
       "       [12]])"
      ]
     },
     "execution_count": 4,
     "metadata": {},
     "output_type": "execute_result"
    }
   ],
   "source": [
    "a2[:,:1]"
   ]
  },
  {
   "cell_type": "code",
   "execution_count": 5,
   "metadata": {},
   "outputs": [
    {
     "data": {
      "text/plain": [
       "array([[ 4, 32],\n",
       "       [ 2, 23],\n",
       "       [12,  7]])"
      ]
     },
     "execution_count": 5,
     "metadata": {},
     "output_type": "execute_result"
    }
   ],
   "source": [
    "a2[:3, ::2]"
   ]
  },
  {
   "cell_type": "code",
   "execution_count": 8,
   "metadata": {},
   "outputs": [
    {
     "name": "stdout",
     "output_type": "stream",
     "text": [
      "orginal a2: \n",
      " [[ 4  5 32  2]\n",
      " [ 2 34 23 12]\n",
      " [12 32  7 99]]\n",
      "reverted a2: \n",
      " [[99  7 32 12]\n",
      " [12 23 34  2]\n",
      " [ 2 32  5  4]]\n"
     ]
    }
   ],
   "source": [
    "print('orginal a2: \\n', a2)\n",
    "print('reverted a2: \\n', a2[::-1, ::-1])"
   ]
  },
  {
   "cell_type": "code",
   "execution_count": 17,
   "metadata": {},
   "outputs": [
    {
     "name": "stdout",
     "output_type": "stream",
     "text": [
      "a1d before reshape: \n",
      " [ 0  1  2  3  4  5  6  7  8  9 10 11]\n",
      "a1d after the reshape: \n",
      " [[ 0  1  2  3]\n",
      " [ 4  5  6  7]\n",
      " [ 8  9 10 11]]\n",
      "\n",
      "[[ 4  5  6  7]\n",
      " [ 8  9 10 11]\n",
      " [12 13 14 15]]\n"
     ]
    }
   ],
   "source": [
    "a1d = np.arange(0, 12)\n",
    "print('a1d before reshape: \\n', a1d)\n",
    "a1d = a1d.reshape(3,4)\n",
    "print('a1d after the reshape: \\n', a1d)\n",
    "a2d = np.arange(4, 16).reshape(3, 4)\n",
    "print('')\n",
    "print(a2d)"
   ]
  },
  {
   "cell_type": "code",
   "execution_count": 41,
   "metadata": {},
   "outputs": [
    {
     "name": "stdout",
     "output_type": "stream",
     "text": [
      "[ 8 16 24]\n",
      "\n",
      "[ 1  2  3  2  5  7  5  9 14]\n"
     ]
    }
   ],
   "source": [
    "a1 = np.array([1, 2, 3])\n",
    "a2 = np.array([2, 5, 7])\n",
    "a3 = np.array([5, 9, 14])\n",
    "a4 = a1 + a2 + a3\n",
    "a5 = np.concatenate([a1, a2, a3])\n",
    "print(a4)\n",
    "print('')\n",
    "print(a5)"
   ]
  },
  {
   "cell_type": "code",
   "execution_count": 42,
   "metadata": {},
   "outputs": [
    {
     "name": "stdout",
     "output_type": "stream",
     "text": [
      "[[1 2 3]\n",
      " [4 5 6]]\n",
      "[[    7     8     9]\n",
      " [  432 43243  4324]]\n",
      "[[  3  45  34]\n",
      " [ 32 432  12]]\n",
      "\n",
      "[[    1     2     3     7     8     9     3    45    34]\n",
      " [    4     5     6   432 43243  4324    32   432    12]]\n"
     ]
    }
   ],
   "source": [
    "matrix = np.array(((1,2,3), (4, 5, 6)))\n",
    "print(matrix)\n",
    "matrix2 = np.array([[7,8,9], [432, 43243, 4324]])\n",
    "print(matrix2)\n",
    "matrix3 = np.array([[3,45,34], [32, 432, 12]])\n",
    "print(matrix3)\n",
    "print('')\n",
    "matrix_conbine = np.concatenate([matrix, matrix2, matrix3], axis = 1)\n",
    "print(matrix_conbine)"
   ]
  },
  {
   "cell_type": "code",
   "execution_count": 46,
   "metadata": {},
   "outputs": [
    {
     "name": "stdout",
     "output_type": "stream",
     "text": [
      "[[1 2 4 5 6]\n",
      " [3 4 7 8 9]]\n"
     ]
    }
   ],
   "source": [
    "v1 =np.array([[1, 2],[3,4]])\n",
    "matrix = np.array([[4, 5, 6],[7, 8, 9]])\n",
    "v2 = np.concatenate([v1, matrix], axis = 1)\n",
    "print(v2)"
   ]
  },
  {
   "cell_type": "code",
   "execution_count": 49,
   "metadata": {},
   "outputs": [
    {
     "name": "stdout",
     "output_type": "stream",
     "text": [
      "[[1 2 5 6]\n",
      " [3 4 7 8]]\n",
      "\n",
      "[[1 2 5 6]\n",
      " [3 4 7 8]]\n"
     ]
    }
   ],
   "source": [
    "a1 = np.array([[1, 2], [3, 4]])\n",
    "a2 = np.array([[5, 6], [7, 8]])\n",
    "\n",
    "result = np.hstack((a1, a2))\n",
    "result2 = np.concatenate([a1, a2], axis = 1)\n",
    "print(result)\n",
    "print('')\n",
    "print(result2)"
   ]
  },
  {
   "cell_type": "code",
   "execution_count": 57,
   "metadata": {},
   "outputs": [
    {
     "name": "stdout",
     "output_type": "stream",
     "text": [
      "[1 2]\n",
      "[3 4 5]\n",
      "[6 7]\n",
      "[8]\n",
      "[array([1]), array([2, 3]), array([4, 5, 6]), array([7, 8])]\n"
     ]
    }
   ],
   "source": [
    "result = np.array([1,2,3,4,5,6,7,8])\n",
    "s1, s2, s3, s4 =np.split(result, [2,5,7])\n",
    "print(s1)\n",
    "print(s2)\n",
    "print(s3)\n",
    "print(s4)\n",
    "print(np.split(result, [1, 3, 6]))"
   ]
  },
  {
   "cell_type": "code",
   "execution_count": 73,
   "metadata": {},
   "outputs": [
    {
     "name": "stdout",
     "output_type": "stream",
     "text": [
      "[[ 0  1  2  3  4  5]\n",
      " [ 6  7  8  9 10 11]\n",
      " [12 13 14 15 16 17]\n",
      " [18 19 20 21 22 23]\n",
      " [24 25 26 27 28 29]\n",
      " [30 31 32 33 34 35]]\n",
      "--\n",
      "[[ 0  1]\n",
      " [ 6  7]\n",
      " [12 13]\n",
      " [18 19]\n",
      " [24 25]\n",
      " [30 31]]\n",
      "\n",
      "[[ 2  3]\n",
      " [ 8  9]\n",
      " [14 15]\n",
      " [20 21]\n",
      " [26 27]\n",
      " [32 33]]\n",
      "\n",
      "[[ 4  5]\n",
      " [10 11]\n",
      " [16 17]\n",
      " [22 23]\n",
      " [28 29]\n",
      " [34 35]]\n"
     ]
    }
   ],
   "source": [
    "matrix = np.arange(36).reshape([6,6])\n",
    "print(matrix)\n",
    "print('--')\n",
    "m1, m2, m3 =np.hsplit(matrix, 3)\n",
    "print(m1)\n",
    "print('')\n",
    "print(m2)\n",
    "print('')\n",
    "print(m3)"
   ]
  }
 ],
 "metadata": {
  "kernelspec": {
   "display_name": "Python 3",
   "language": "python",
   "name": "python3"
  },
  "language_info": {
   "codemirror_mode": {
    "name": "ipython",
    "version": 3
   },
   "file_extension": ".py",
   "mimetype": "text/x-python",
   "name": "python",
   "nbconvert_exporter": "python",
   "pygments_lexer": "ipython3",
   "version": "3.12.2"
  }
 },
 "nbformat": 4,
 "nbformat_minor": 2
}
