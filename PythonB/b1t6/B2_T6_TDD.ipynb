{
 "cells": [
  {
   "cell_type": "markdown",
   "metadata": {},
   "source": [
    "### Instructions:\n",
    "\n",
    "- You can attempt any number of questions and in any order.  \n",
    "  See the assignment page for a description of the hurdle requirement for this assessment.\n",
    "- You may submit your practical for autograding as many times as you like to check on progress, however you will save time by checking and testing your own code before submitting.\n",
    "- Develop and check your answers in the spaces provided.\n",
    "- **Replace** the code `raise NotImplementedError()` with your solution to the question.\n",
    "- Do **NOT** remove any variables other provided markings already provided in the answer spaces.\n",
    "- Do **NOT** make any changes to this notebook outside of the spaces indicated.  \n",
    "  (If you do this, the submission system might not accept your work)\n",
    "\n",
    "### Submitting:\n",
    "\n",
    "1. Before you turn this problem in, make sure everything runs as expected by resetting this notebook.    \n",
    "   (You can do this from the menubar above by selecting `Kernel`&#8594;`Restart Kernel and Run All Cells...`)\n",
    "1. Don't forget to save your notebook after this step.\n",
    "1. Submit your .ipynb file to Gradescope via file upload or GitHub repository.\n",
    "1. You can submit as many times as needed.\n",
    "\n"
   ]
  },
  {
   "cell_type": "markdown",
   "metadata": {},
   "source": [
    "---"
   ]
  },
  {
   "cell_type": "markdown",
   "metadata": {
    "tags": []
   },
   "source": [
    "# <mark style=\"background: #801010; color: #ffffff;\" >&nbsp;B2&nbsp;</mark> Topic 6: Practice Test Driven Development "
   ]
  },
  {
   "cell_type": "markdown",
   "metadata": {},
   "source": [
    "#### Question 01 &nbsp;&nbsp;&nbsp;&nbsp;&nbsp;&nbsp;(10 Points)\n",
    "\n",
    "We are to embark on a Test Driven Development \"Red-Green-Refactor\" workflow following closely the example provided in the [Test Driven Development Worked Example](https://myuni.adelaide.edu.au/courses/86136/pages/b2-%7C-topic-6-test-driven-development-example) in the online content.\n",
    "\n",
    "Our overall intent is to develop a (trivial) function with the following definition via TDD:\n",
    "```python\n",
    "def integer_divide (numerator, denominator):\n",
    "    ...\n",
    "```\n",
    "with the following requirements:\n",
    "1. The function performs floor division of numerator and denominator,\n",
    "2. The result of a successful division is an integer,\n",
    "3. A divide by zero error is indicated by returning `False`.\n",
    "\n",
    "In the first three questions, we wish to write *failing tests* for each of these three requirements using `assert` statements. In Question 4, we will complete the three requirements and re-test each of our failing test cases to ensure they have gone from **<font color=\"#FF0000\">Red</font>** to **<font color=\"#008000\">Green</font>**.\n",
    "\n",
    "Complete a function defined as:\n",
    "```python\n",
    "    def test_floor_division (function_under_test):\n",
    "```\n",
    "that accepts the function under test as its only parameter. In your function, you should test the first requirement \"performs floor division of numerator and denominator\" returning `True` if the requirement is passed and `False` if the tested requirement fails. In this case, because `integer_divide` has not been completed, your test must return `False`.\n",
    "\n",
    "You should catch any `AssertionErrors` and convert these to a return value of `False`.\n"
   ]
  },
  {
   "cell_type": "code",
   "execution_count": 12,
   "metadata": {
    "deletable": false,
    "nbgrader": {
     "cell_type": "code",
     "checksum": "8035577f41f6fa360c38e0f44720fad1",
     "grade": false,
     "grade_id": "q1",
     "locked": false,
     "schema_version": 3,
     "solution": true,
     "task": false
    },
    "tags": []
   },
   "outputs": [
    {
     "name": "stdout",
     "output_type": "stream",
     "text": [
      "Testing functioninteger_divide, requirement 1\n",
      "Requirement1 failed\n",
      "False\n"
     ]
    }
   ],
   "source": [
    "# Do not modify this stub:\n",
    "def integer_divide (numerator, denominator):\n",
    "    \"\"\" A function with the following requirements:\n",
    "    1. It performs floor division of numerator and denominator,\n",
    "    2. The result of a successful division is an integer,\n",
    "    3. A divide by zero error is indicated by returning `False`.\n",
    "    \"\"\"\n",
    "    pass\n",
    "\n",
    "def test_floor_division (function_under_test):\n",
    "\n",
    "    # Write your test for floor division of numerator and denominator of the function under test here: \n",
    "    \n",
    "    # Your solution will include exception handling, return statements and a statement like:\n",
    "    #    \n",
    "    #     assert function_under_test (X, Y) == Z where you choose X, Y and Z as a test for floor division\n",
    "    #\n",
    "    ...\n",
    "    # YOUR CODE HERE\n",
    "    print(f'Testing function{function_under_test.__name__}, requirement 1')\n",
    "\n",
    "    try:\n",
    "        assert function_under_test(8,4) == 2\n",
    "        print('Requirement1 passed')\n",
    "        return True\n",
    "    except:\n",
    "        print('Requirement1 failed')\n",
    "        return False\n",
    "    \n",
    "\n",
    "print(test_floor_division(integer_divide))\n",
    "\n"
   ]
  },
  {
   "cell_type": "code",
   "execution_count": null,
   "metadata": {
    "deletable": false,
    "editable": false,
    "nbgrader": {
     "cell_type": "code",
     "checksum": "84d2bf5447996e93a93decc8cec4885c",
     "grade": true,
     "grade_id": "q1-1-failing-test",
     "locked": true,
     "points": 10,
     "schema_version": 3,
     "solution": false,
     "task": false
    },
    "tags": []
   },
   "outputs": [],
   "source": [
    "# Testing Cell (Do NOT modify this cell)"
   ]
  },
  {
   "cell_type": "markdown",
   "metadata": {},
   "source": [
    "#### Question 02 &nbsp;&nbsp;&nbsp;&nbsp;&nbsp;&nbsp;(10 Points)\n",
    "\n",
    "Write a *failing test* defined as:\n",
    "```python\n",
    "    def test_return_type (function_under_test):\n",
    "```\n",
    "that tests requirement 2, that the return value of the function under test is an integer returning `True`/`False` according to whether the test passed."
   ]
  },
  {
   "cell_type": "code",
   "execution_count": 4,
   "metadata": {
    "deletable": false,
    "nbgrader": {
     "cell_type": "code",
     "checksum": "4beea21368107c0e48187cb3f3b52643",
     "grade": false,
     "grade_id": "q2",
     "locked": false,
     "schema_version": 3,
     "solution": true,
     "task": false
    },
    "tags": []
   },
   "outputs": [],
   "source": [
    "def test_return_type (function_under_test):\n",
    "\n",
    "    # Write your solution here\n",
    "    ...\n",
    "    # YOUR CODE HERE\n",
    "    print(f'Test function{function_under_test.__name__}, requirement2')\n",
    "    try:\n",
    "        assert type(function_under_test(8,4)) == int\n",
    "        print('requirement2 passed')\n",
    "        return True\n",
    "\n",
    "    except:\n",
    "        print('requirement1 failed')\n",
    "        return False"
   ]
  },
  {
   "cell_type": "code",
   "execution_count": null,
   "metadata": {
    "deletable": false,
    "editable": false,
    "nbgrader": {
     "cell_type": "code",
     "checksum": "e1f32cc0ba8665ff3af8f9ae0f004980",
     "grade": true,
     "grade_id": "q2-1-failing-test",
     "locked": true,
     "points": 10,
     "schema_version": 3,
     "solution": false,
     "task": false
    },
    "tags": []
   },
   "outputs": [],
   "source": [
    "# Testing Cell (Do NOT modify this cell)"
   ]
  },
  {
   "cell_type": "markdown",
   "metadata": {},
   "source": [
    "#### Question 03 &nbsp;&nbsp;&nbsp;&nbsp;&nbsp;&nbsp;(10 Points)\n",
    "\n",
    "Write a *failing test* defined as:\n",
    "```python \n",
    "    def test_divide_by_zero (function_under_test):\n",
    "```\n",
    "that tests the third requirement \"A divide by zero error is indicated by returning `False`\"."
   ]
  },
  {
   "cell_type": "code",
   "execution_count": 9,
   "metadata": {
    "deletable": false,
    "nbgrader": {
     "cell_type": "code",
     "checksum": "cf816934fefd35500425384728c2ba14",
     "grade": false,
     "grade_id": "q3",
     "locked": false,
     "schema_version": 3,
     "solution": true,
     "task": false
    },
    "tags": []
   },
   "outputs": [],
   "source": [
    "def test_divide_by_zero (function_under_test):\n",
    "    \n",
    "    # Write your solution here\n",
    "    ...\n",
    "    # YOUR CODE HERE\n",
    "    print(f'Test Function{function_under_test.__name__}, requirement 3')\n",
    "    try:\n",
    "        assert function_under_test(6,0) == False\n",
    "        print('Requirement 3 passed')\n",
    "        return True\n",
    "    except:\n",
    "        print('Requirement 3 failed')\n",
    "        return False\n"
   ]
  },
  {
   "cell_type": "code",
   "execution_count": 10,
   "metadata": {
    "deletable": false,
    "editable": false,
    "nbgrader": {
     "cell_type": "code",
     "checksum": "936992bb7b8acc29f34805fa919b8324",
     "grade": true,
     "grade_id": "q3-1-failing-test",
     "locked": true,
     "points": 10,
     "schema_version": 3,
     "solution": false,
     "task": false
    }
   },
   "outputs": [],
   "source": [
    "# Testing Cell (Do NOT modify this cell)"
   ]
  },
  {
   "cell_type": "markdown",
   "metadata": {},
   "source": [
    "#### Question 04 &nbsp;&nbsp;&nbsp;&nbsp;&nbsp;&nbsp;(10 Points)\n",
    "\n",
    "Now complete all three of the requirements for the function:\n",
    "```python\n",
    "def integer_divide (numerator, denominator):\n",
    "    ...\n",
    "```\n",
    "and rerun each of the three test cases to ensure the requirements are met. Each of the test cases should now return `True` once exectuted with the completed `integer_divide` function."
   ]
  },
  {
   "cell_type": "code",
   "execution_count": 11,
   "metadata": {
    "deletable": false,
    "nbgrader": {
     "cell_type": "code",
     "checksum": "e01e78f25657a001e182925723e31eb5",
     "grade": false,
     "grade_id": "q4",
     "locked": false,
     "schema_version": 3,
     "solution": true,
     "task": false
    },
    "tags": []
   },
   "outputs": [
    {
     "name": "stdout",
     "output_type": "stream",
     "text": [
      "Testing functioninteger_divide, requirement 1\n",
      "Requirement1 passed\n",
      "True\n",
      "Test functioninteger_divide, requirement2\n",
      "requirement2 passed\n",
      "True\n",
      "Test Functioninteger_divide, requirement 3\n",
      "Requirement 3 passed\n",
      "True\n"
     ]
    }
   ],
   "source": [
    "def integer_divide (numerator, denominator):\n",
    "\n",
    "    # Write your solution here\n",
    "    ...\n",
    "    # YOUR CODE HERE\n",
    "    if denominator == 0:\n",
    "        return False\n",
    "    result = numerator // denominator\n",
    "    return result\n",
    "\n",
    "print(test_floor_division(integer_divide))\n",
    "print(test_return_type(integer_divide))\n",
    "print(test_divide_by_zero(integer_divide))"
   ]
  },
  {
   "cell_type": "code",
   "execution_count": null,
   "metadata": {
    "deletable": false,
    "editable": false,
    "nbgrader": {
     "cell_type": "code",
     "checksum": "881e706516f303c90294359db266a8e4",
     "grade": true,
     "grade_id": "q4-1-green-restest",
     "locked": true,
     "points": 10,
     "schema_version": 3,
     "solution": false,
     "task": false
    },
    "tags": []
   },
   "outputs": [],
   "source": [
    "# Testing Cell (Do NOT modify this cell)"
   ]
  },
  {
   "cell_type": "markdown",
   "metadata": {},
   "source": [
    "#### Question 05 &nbsp;&nbsp;&nbsp;&nbsp;&nbsp;&nbsp;(10 Points)\n",
    "\n",
    "Following a similar approach to the previous questions, let us establish the requirements for another Python program before proceeding to follow a TDD cycle.\n",
    "\n",
    "We wish to write a function:\n",
    "```python\n",
    "def lucky_miss_andrews (infile):\n",
    "    ...\n",
    "```    \n",
    "that examines data from the Titanic disaster in pandas and creates a pandas `DataFrame` with one lucky passenger: Miss. Kornelia Theodosia Andrews - a 63 year old woman who survived the disaster.\n",
    "\n",
    "The requirements for the function are:\n",
    "1. accepts a CSV file of data concerning the fate of the Titanic passengers and returns a DataFrame.\n",
    "2. the returned DataFrame has the value `True` in the 'Survived' column if the original data was a `1` otherwise `False`,\n",
    "3. the returned DataFrame has the index set to \"PassengerId\",\n",
    "4. the returned DataFrame has the columns 'SibSp', 'Parch', 'Ticket', 'Fare', 'Cabin', 'Embarked' dropped, and\n",
    "5. the returned DataFrame contains the information of the female, first class survivors over 62 years of age.\n",
    "     \n",
    "In the following questions, we wish to write failing tests for these requirements using assert statements. In question 10, we will complete the requirements and re-test.\n",
    "\n",
    "Complete a failing test as a function `test_requirement_1 (function_under_test)` that tests by assertion requirement 1. The test must return `True` if successful and `False` otherwise. You should supply data to the function under test in the form of a csv file [available here](https://myuni.adelaide.edu.au/files/11148918/download?download_frd=1)."
   ]
  },
  {
   "cell_type": "code",
   "execution_count": 3,
   "metadata": {
    "deletable": false,
    "nbgrader": {
     "cell_type": "code",
     "checksum": "cc3f6306023b6f5a202d2e141982a969",
     "grade": false,
     "grade_id": "q5",
     "locked": false,
     "schema_version": 3,
     "solution": true,
     "task": false
    },
    "tags": []
   },
   "outputs": [],
   "source": [
    "import pandas as pd\n",
    "import numpy as np\n",
    "\n",
    "TEST_DATA = 'titanic.csv'\n",
    "\n",
    "# Do not modify this stubbed function ... yet.\n",
    "def lucky_miss_andrews (infile = TEST_DATA):\n",
    "    pass\n",
    "\n",
    "def test_requirement_1 (function_under_test):\n",
    "\n",
    "    # This function must test requirement one - that an input CSV file generates a DataFrame\n",
    "    # Write your solution here\n",
    "    ...\n",
    "    # YOUR CODE HERE\n",
    "    print(f'Testing Function:{function_under_test.__name__}, requirement 1')\n",
    "    try:\n",
    "        assert isinstance(function_under_test(TEST_DATA), pd.DataFrame)\n",
    "        print('requirement 1 passed')\n",
    "        return True\n",
    "    \n",
    "    except:\n",
    "        print('requirement 1 failed')\n",
    "        return False\n",
    "    "
   ]
  },
  {
   "cell_type": "code",
   "execution_count": 4,
   "metadata": {
    "deletable": false,
    "editable": false,
    "nbgrader": {
     "cell_type": "code",
     "checksum": "bf4d35f7e6a4f193cf978dc7d23e53ce",
     "grade": true,
     "grade_id": "q5-1-failing-test",
     "locked": true,
     "points": 10,
     "schema_version": 3,
     "solution": false,
     "task": false
    }
   },
   "outputs": [],
   "source": [
    "# Testing Cell (Do NOT modify this cell)"
   ]
  },
  {
   "cell_type": "markdown",
   "metadata": {
    "tags": []
   },
   "source": [
    "#### Question 06 &nbsp;&nbsp;&nbsp;&nbsp;&nbsp;&nbsp;(10 Points)\n",
    "\n",
    "Now write a `test_requirement_2` to ensure that, in the returned `DataFrame`, the 'Survived' column contains only `True` and `False` values (requirement 2). Your test should return `True` if the test passed, otherwise `False`."
   ]
  },
  {
   "cell_type": "code",
   "execution_count": 5,
   "metadata": {
    "deletable": false,
    "nbgrader": {
     "cell_type": "code",
     "checksum": "89fee03786fcb82e0369aabf45c48377",
     "grade": false,
     "grade_id": "q6",
     "locked": false,
     "schema_version": 3,
     "solution": true,
     "task": false
    },
    "tags": []
   },
   "outputs": [],
   "source": [
    "def test_requirement_2 (function_under_test):\n",
    "\n",
    "    # Write your solution here\n",
    "    ...\n",
    "    # YOUR CODE HERE\n",
    "    print(f'Testing Function:{function_under_test.__name__}, requirement 2')\n",
    "    try:\n",
    "        valid_values = {True, False}\n",
    "        assert set(function_under_test(TEST_DATA).unique()) <= valid_values\n",
    "        print('requirement 2 passed')\n",
    "        return True\n",
    "    except:\n",
    "        print('requirement 2 failed')\n",
    "        return False\n",
    "    "
   ]
  },
  {
   "cell_type": "code",
   "execution_count": 6,
   "metadata": {
    "deletable": false,
    "editable": false,
    "nbgrader": {
     "cell_type": "code",
     "checksum": "d1f33a3c059f8afc77592de6f2b0af37",
     "grade": true,
     "grade_id": "q6-1-failing-test",
     "locked": true,
     "points": 10,
     "schema_version": 3,
     "solution": false,
     "task": false
    },
    "tags": []
   },
   "outputs": [],
   "source": [
    "# Testing Cell (Do NOT modify this cell)"
   ]
  },
  {
   "cell_type": "markdown",
   "metadata": {},
   "source": [
    "#### Question 07 &nbsp;&nbsp;&nbsp;&nbsp;&nbsp;&nbsp;(10 Points)\n",
    "\n",
    "Make sure the returned `DataFrame` has the index set to `'PassengerId'` (requirement 3) by writing a `test_requirement_3`. "
   ]
  },
  {
   "cell_type": "code",
   "execution_count": 7,
   "metadata": {
    "deletable": false,
    "nbgrader": {
     "cell_type": "code",
     "checksum": "71de055e3dc96dd0195ad9b5df9a2594",
     "grade": false,
     "grade_id": "q7",
     "locked": false,
     "schema_version": 3,
     "solution": true,
     "task": false
    },
    "tags": []
   },
   "outputs": [],
   "source": [
    "def test_requirement_3 (function_under_test):\n",
    "\n",
    "    # Write your solution here\n",
    "    ...\n",
    "    # YOUR CODE HERE\n",
    "    print(f'Testing Function:{function_under_test.__name__}, requirement 3')\n",
    "    try:\n",
    "        assert 'PassengerId' in function_under_test.columns\n",
    "        print('test_requirement 3 passed')\n",
    "        return True\n",
    "    except:\n",
    "        print('test_requirement 3 failed')\n",
    "        return False"
   ]
  },
  {
   "cell_type": "code",
   "execution_count": 8,
   "metadata": {
    "deletable": false,
    "editable": false,
    "nbgrader": {
     "cell_type": "code",
     "checksum": "6e8c541848aefbbd49dd302e8c2c6eba",
     "grade": true,
     "grade_id": "q7-1-failing-test",
     "locked": true,
     "points": 10,
     "schema_version": 3,
     "solution": false,
     "task": false
    },
    "tags": []
   },
   "outputs": [],
   "source": [
    "# Testing Cell (Do NOT modify this cell)"
   ]
  },
  {
   "cell_type": "markdown",
   "metadata": {
    "tags": []
   },
   "source": [
    "#### Question 08 &nbsp;&nbsp;&nbsp;&nbsp;&nbsp;&nbsp;(10 Points)\n",
    "\n",
    "Write a `test_requirement_4` to ensure the following columns have been dropped (requirement 4):\n",
    "```python\n",
    "'SibSp', 'Parch', 'Ticket', 'Fare', 'Cabin', 'Embarked'\n",
    "```"
   ]
  },
  {
   "cell_type": "code",
   "execution_count": 9,
   "metadata": {
    "deletable": false,
    "nbgrader": {
     "cell_type": "code",
     "checksum": "8b334a403a52a8880b6e7357d617f979",
     "grade": false,
     "grade_id": "q8",
     "locked": false,
     "schema_version": 3,
     "solution": true,
     "task": false
    },
    "tags": []
   },
   "outputs": [],
   "source": [
    "DROPPED_COLS = ['SibSp', 'Parch', 'Ticket', 'Fare', 'Cabin', 'Embarked']\n",
    "\n",
    "def test_requirement_4 (function_under_test):\n",
    "\n",
    "    # Write your solution here\n",
    "    ...\n",
    "    # YOUR CODE HERE\n",
    "    print(f'Testing Function:{function_under_test.__name__}, requirement 4')\n",
    "    try:\n",
    "        for i in DROPPED_COLS:\n",
    "            assert i not in function_under_test.columns\n",
    "        print('test_requirement 4 passed')\n",
    "        return True\n",
    "    except:\n",
    "        print('test_requirement 4 failed')\n",
    "        return False\n"
   ]
  },
  {
   "cell_type": "code",
   "execution_count": 10,
   "metadata": {
    "deletable": false,
    "editable": false,
    "nbgrader": {
     "cell_type": "code",
     "checksum": "6cb23e871dad3a3f4c11a8f143454177",
     "grade": true,
     "grade_id": "q8-1-failing-test",
     "locked": true,
     "points": 10,
     "schema_version": 3,
     "solution": false,
     "task": false
    }
   },
   "outputs": [],
   "source": [
    "# Testing Cell (Do NOT modify this cell)"
   ]
  },
  {
   "cell_type": "markdown",
   "metadata": {},
   "source": [
    "#### Question 09 &nbsp;&nbsp;&nbsp;&nbsp;&nbsp;&nbsp;(10 Points)\n",
    "\n",
    "Finally, write a `test_requirement_5` that checks the returned DataFrame contains **only** the information of the female, first class survivors over 62 years of age (requirement 5): Miss. Kornelia Theodosia Andrews."
   ]
  },
  {
   "cell_type": "code",
   "execution_count": 11,
   "metadata": {
    "deletable": false,
    "nbgrader": {
     "cell_type": "code",
     "checksum": "7f5ae7dba761e32f50b029fe58f51ee2",
     "grade": false,
     "grade_id": "q9",
     "locked": false,
     "schema_version": 3,
     "solution": true,
     "task": false
    },
    "tags": []
   },
   "outputs": [],
   "source": [
    "def test_requirement_5 (function_under_test):\n",
    "\n",
    "    # Write your solution here\n",
    "    ...\n",
    "    # YOUR CODE HERE\n",
    "    print(f'Testing Function:{function_under_test.__name__}, requirement 5')\n",
    "    expected_data = {'Sex':'female',\n",
    "                     'Age':63,\n",
    "                     'Pclass':1}\n",
    "    try:\n",
    "        assert len(function_under_test) == 1\n",
    "        for key, value in expected_data:\n",
    "            assert function_under_test[key] == value\n",
    "        print('test_requirement 5 passed')        \n",
    "        return True\n",
    "    except:\n",
    "        print('test_requirement 5 failed')\n",
    "        return False\n",
    "\n",
    "\n"
   ]
  },
  {
   "cell_type": "code",
   "execution_count": 12,
   "metadata": {
    "deletable": false,
    "editable": false,
    "nbgrader": {
     "cell_type": "code",
     "checksum": "936a7daa2fed48e95c86d581782da673",
     "grade": true,
     "grade_id": "q9-1-failing-test",
     "locked": true,
     "points": 10,
     "schema_version": 3,
     "solution": false,
     "task": false
    },
    "tags": []
   },
   "outputs": [],
   "source": [
    "# Testing Cell (Do NOT modify this cell)"
   ]
  },
  {
   "cell_type": "markdown",
   "metadata": {
    "tags": []
   },
   "source": [
    "#### Question 10 &nbsp;&nbsp;&nbsp;&nbsp;&nbsp;&nbsp;(10 Points)\n",
    "\n",
    "Having completed our failing tests, now implement all five of the requirements of the function and test your success in going from **<font color=\"#FF0000\">Red</font>** to **<font color=\"#008000\">Green</font>**:\n",
    "```python\n",
    "def lucky_miss_andrews (infile = TEST_DATA):\n",
    "    ...\n",
    "```\n",
    "All tests should now return `True`."
   ]
  },
  {
   "cell_type": "code",
   "execution_count": 21,
   "metadata": {
    "deletable": false,
    "nbgrader": {
     "cell_type": "code",
     "checksum": "241637c8724443be5c3bfe75415652ca",
     "grade": false,
     "grade_id": "q10",
     "locked": false,
     "schema_version": 3,
     "solution": true,
     "task": false
    },
    "tags": []
   },
   "outputs": [
    {
     "name": "stdout",
     "output_type": "stream",
     "text": [
      "Testing Function:lucky_miss_andrews, requirement 1\n",
      "requirement 1 passed\n",
      "True\n",
      "Testing Function:lucky_miss_andrews, requirement 2\n",
      "requirement 2 failed\n",
      "False\n",
      "Testing Function:lucky_miss_andrews, requirement 3\n",
      "test_requirement 3 failed\n",
      "False\n",
      "Testing Function:lucky_miss_andrews, requirement 4\n",
      "test_requirement 4 failed\n",
      "False\n",
      "Testing Function:lucky_miss_andrews, requirement 5\n",
      "test_requirement 5 failed\n",
      "False\n"
     ]
    }
   ],
   "source": [
    "def lucky_miss_andrews (infile = TEST_DATA):\n",
    "\n",
    "    # Write your solution here\n",
    "    ...\n",
    "    # YOUR CODE HERE\n",
    "    df = pd.read_csv(infile)\n",
    "    return df\n",
    "\n",
    "print(test_requirement_1(lucky_miss_andrews))\n",
    "print(test_requirement_2(lucky_miss_andrews))\n",
    "print(test_requirement_3(lucky_miss_andrews))\n",
    "print(test_requirement_4(lucky_miss_andrews))\n",
    "print(test_requirement_5(lucky_miss_andrews))\n"
   ]
  },
  {
   "cell_type": "code",
   "execution_count": null,
   "metadata": {},
   "outputs": [],
   "source": []
  },
  {
   "cell_type": "code",
   "execution_count": null,
   "metadata": {
    "deletable": false,
    "editable": false,
    "nbgrader": {
     "cell_type": "code",
     "checksum": "ffce19a340a67e87ecf31812c66d773f",
     "grade": true,
     "grade_id": "q10-1-green-retest",
     "locked": true,
     "points": 10,
     "schema_version": 3,
     "solution": false,
     "task": false
    }
   },
   "outputs": [],
   "source": [
    "# Testing Cell (Do NOT modify this cell)"
   ]
  }
 ],
 "metadata": {
  "kernelspec": {
   "display_name": "Python 3 (ipykernel)",
   "language": "python",
   "name": "python3"
  },
  "language_info": {
   "codemirror_mode": {
    "name": "ipython",
    "version": 3
   },
   "file_extension": ".py",
   "mimetype": "text/x-python",
   "name": "python",
   "nbconvert_exporter": "python",
   "pygments_lexer": "ipython3",
   "version": "3.11.7"
  },
  "varInspector": {
   "cols": {
    "lenName": 16,
    "lenType": 16,
    "lenVar": 40
   },
   "kernels_config": {
    "python": {
     "delete_cmd_postfix": "",
     "delete_cmd_prefix": "del ",
     "library": "var_list.py",
     "varRefreshCmd": "print(var_dic_list())"
    },
    "r": {
     "delete_cmd_postfix": ") ",
     "delete_cmd_prefix": "rm(",
     "library": "var_list.r",
     "varRefreshCmd": "cat(var_dic_list()) "
    }
   },
   "types_to_exclude": [
    "module",
    "function",
    "builtin_function_or_method",
    "instance",
    "_Feature"
   ],
   "window_display": false
  }
 },
 "nbformat": 4,
 "nbformat_minor": 4
}
