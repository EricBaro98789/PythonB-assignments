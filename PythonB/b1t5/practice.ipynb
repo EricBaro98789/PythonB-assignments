{
 "cells": [
  {
   "cell_type": "code",
   "execution_count": 1,
   "metadata": {},
   "outputs": [],
   "source": [
    "import numpy as np\n",
    "import pandas as pd\n",
    "\n"
   ]
  },
  {
   "cell_type": "code",
   "execution_count": 3,
   "metadata": {},
   "outputs": [
    {
     "name": "stdout",
     "output_type": "stream",
     "text": [
      "series1 =\n",
      "apple        1.50\n",
      "blueberry    3.50\n",
      "banana       2.99\n",
      "orange       4.30\n",
      "mandarin      NaN\n",
      "dtype: float64\n",
      "series2 = \n",
      "apple         1.50\n",
      "blueberry     3.50\n",
      "banana        2.99\n",
      "orange        4.30\n",
      "mandarine      NaN\n",
      "rockmelon      NaN\n",
      "strawberry     NaN\n",
      "dtype: float64\n"
     ]
    }
   ],
   "source": [
    "data = {'apple':1.5, 'blueberry':3.5, 'banana':2.99, 'orange':4.3, 'mandarin':np.nan}\n",
    "\n",
    "series1 = pd.Series(data)\n",
    "print('series1 =')\n",
    "print(series1)\n",
    "\n",
    "fruits = ['apple', 'blueberry', 'banana', 'orange', 'mandarine', 'rockmelon', 'strawberry']\n",
    "series2 = pd.Series(series1, index = fruits)\n",
    "print('series2 = ')\n",
    "print(series2)"
   ]
  },
  {
   "cell_type": "code",
   "execution_count": 5,
   "metadata": {},
   "outputs": [
    {
     "data": {
      "text/plain": [
       "apple        False\n",
       "blueberry    False\n",
       "banana       False\n",
       "orange       False\n",
       "mandarin      True\n",
       "dtype: bool"
      ]
     },
     "execution_count": 5,
     "metadata": {},
     "output_type": "execute_result"
    }
   ],
   "source": [
    "series1.isnull()"
   ]
  },
  {
   "cell_type": "code",
   "execution_count": 8,
   "metadata": {},
   "outputs": [
    {
     "name": "stdout",
     "output_type": "stream",
     "text": [
      "colors = \n",
      "0     yellow\n",
      "1      white\n",
      "2      black\n",
      "3      black\n",
      "4      white\n",
      "5        red\n",
      "6     yellow\n",
      "7        red\n",
      "8     purple\n",
      "9      black\n",
      "10     black\n",
      "11       red\n",
      "dtype: object\n",
      "unique value in colors: \n",
      " ['yellow' 'white' 'black' 'red' 'purple']\n"
     ]
    }
   ],
   "source": [
    "colors = pd.Series(['yellow', 'white', 'black', 'black', 'white', 'red', 'yellow', 'red', 'purple', 'black', 'black', 'red'])\n",
    "print('colors = ')\n",
    "print(colors)\n",
    "\n",
    "print('unique value in colors: \\n', colors.unique())"
   ]
  },
  {
   "cell_type": "code",
   "execution_count": 9,
   "metadata": {},
   "outputs": [
    {
     "data": {
      "text/plain": [
       "black     4\n",
       "red       3\n",
       "yellow    2\n",
       "white     2\n",
       "purple    1\n",
       "Name: count, dtype: int64"
      ]
     },
     "execution_count": 9,
     "metadata": {},
     "output_type": "execute_result"
    }
   ],
   "source": [
    "colors.value_counts()"
   ]
  },
  {
   "cell_type": "code",
   "execution_count": 12,
   "metadata": {},
   "outputs": [
    {
     "data": {
      "text/plain": [
       "0     False\n",
       "1     False\n",
       "2      True\n",
       "3      True\n",
       "4     False\n",
       "5      True\n",
       "6     False\n",
       "7      True\n",
       "8     False\n",
       "9      True\n",
       "10     True\n",
       "11     True\n",
       "dtype: bool"
      ]
     },
     "execution_count": 12,
     "metadata": {},
     "output_type": "execute_result"
    }
   ],
   "source": [
    "colors.isin(['green', 'black', 'red'])"
   ]
  },
  {
   "cell_type": "code",
   "execution_count": 13,
   "metadata": {},
   "outputs": [
    {
     "data": {
      "text/plain": [
       "1     white\n",
       "4     white\n",
       "8    purple\n",
       "dtype: object"
      ]
     },
     "execution_count": 13,
     "metadata": {},
     "output_type": "execute_result"
    }
   ],
   "source": [
    "colors[colors.isin(['white', 'purple'])]"
   ]
  },
  {
   "cell_type": "code",
   "execution_count": 19,
   "metadata": {},
   "outputs": [
    {
     "data": {
      "text/plain": [
       "3"
      ]
     },
     "execution_count": 19,
     "metadata": {},
     "output_type": "execute_result"
    }
   ],
   "source": [
    "series2.isnull().sum()\n"
   ]
  },
  {
   "cell_type": "code",
   "execution_count": 21,
   "metadata": {},
   "outputs": [
    {
     "name": "stdout",
     "output_type": "stream",
     "text": [
      "apple        1.50\n",
      "blueberry    3.50\n",
      "banana       2.99\n",
      "orange       4.30\n",
      "dtype: float64\n",
      "mandarine    NaN\n",
      "rockmelon    NaN\n",
      "strawberry   NaN\n",
      "dtype: float64\n"
     ]
    }
   ],
   "source": [
    "print(series2[series2.notnull()])\n",
    "print(series2[series2.isnull()])"
   ]
  },
  {
   "cell_type": "code",
   "execution_count": 22,
   "metadata": {},
   "outputs": [
    {
     "name": "stdout",
     "output_type": "stream",
     "text": [
      "        0     1\n",
      "row1  6.5  90.3\n",
      "row2  3.6   3.2\n"
     ]
    }
   ],
   "source": [
    "df1 = pd.DataFrame(np.array([[6.5, 90.3], [3.6, 3.2]]), index = ['row1', 'row2'])\n",
    "print(df1)"
   ]
  },
  {
   "cell_type": "code",
   "execution_count": 23,
   "metadata": {},
   "outputs": [
    {
     "data": {
      "text/plain": [
       "Index(['row1', 'row2'], dtype='object')"
      ]
     },
     "execution_count": 23,
     "metadata": {},
     "output_type": "execute_result"
    }
   ],
   "source": [
    "df1.index"
   ]
  },
  {
   "cell_type": "code",
   "execution_count": 24,
   "metadata": {},
   "outputs": [
    {
     "data": {
      "text/plain": [
       "'row1'"
      ]
     },
     "execution_count": 24,
     "metadata": {},
     "output_type": "execute_result"
    }
   ],
   "source": [
    "df1.index[0]"
   ]
  },
  {
   "cell_type": "code",
   "execution_count": 25,
   "metadata": {},
   "outputs": [
    {
     "name": "stdout",
     "output_type": "stream",
     "text": [
      "r1 r2\n"
     ]
    }
   ],
   "source": [
    "df1.index = ['r1', 'r2']\n",
    "print(df1.index[0], df1.index[1])"
   ]
  },
  {
   "cell_type": "code",
   "execution_count": 33,
   "metadata": {},
   "outputs": [
    {
     "data": {
      "text/html": [
       "<div>\n",
       "<style scoped>\n",
       "    .dataframe tbody tr th:only-of-type {\n",
       "        vertical-align: middle;\n",
       "    }\n",
       "\n",
       "    .dataframe tbody tr th {\n",
       "        vertical-align: top;\n",
       "    }\n",
       "\n",
       "    .dataframe thead th {\n",
       "        text-align: right;\n",
       "    }\n",
       "</style>\n",
       "<table border=\"1\" class=\"dataframe\">\n",
       "  <thead>\n",
       "    <tr style=\"text-align: right;\">\n",
       "      <th></th>\n",
       "      <th>city</th>\n",
       "      <th>density</th>\n",
       "      <th>state</th>\n",
       "      <th>unemployed_rate</th>\n",
       "    </tr>\n",
       "  </thead>\n",
       "  <tbody>\n",
       "    <tr>\n",
       "      <th>0</th>\n",
       "      <td>Sydney</td>\n",
       "      <td>4627345</td>\n",
       "      <td>4627345</td>\n",
       "      <td>4.3</td>\n",
       "    </tr>\n",
       "    <tr>\n",
       "      <th>1</th>\n",
       "      <td>Melbourne</td>\n",
       "      <td>4246375</td>\n",
       "      <td>4246375</td>\n",
       "      <td>4.9</td>\n",
       "    </tr>\n",
       "    <tr>\n",
       "      <th>2</th>\n",
       "      <td>Brisbane</td>\n",
       "      <td>2189878</td>\n",
       "      <td>2189878</td>\n",
       "      <td>NaN</td>\n",
       "    </tr>\n",
       "    <tr>\n",
       "      <th>3</th>\n",
       "      <td>Perth</td>\n",
       "      <td>1896548</td>\n",
       "      <td>1896548</td>\n",
       "      <td>NaN</td>\n",
       "    </tr>\n",
       "    <tr>\n",
       "      <th>4</th>\n",
       "      <td>Adelaide</td>\n",
       "      <td>1225235</td>\n",
       "      <td>1225235</td>\n",
       "      <td>7.3</td>\n",
       "    </tr>\n",
       "    <tr>\n",
       "      <th>5</th>\n",
       "      <td>Gold Coast</td>\n",
       "      <td>591473</td>\n",
       "      <td>591473</td>\n",
       "      <td>6.4</td>\n",
       "    </tr>\n",
       "    <tr>\n",
       "      <th>6</th>\n",
       "      <td>Canberra</td>\n",
       "      <td>367752</td>\n",
       "      <td>367752</td>\n",
       "      <td>3.5</td>\n",
       "    </tr>\n",
       "    <tr>\n",
       "      <th>7</th>\n",
       "      <td>Newcastle</td>\n",
       "      <td>308308</td>\n",
       "      <td>308308</td>\n",
       "      <td>4.3</td>\n",
       "    </tr>\n",
       "    <tr>\n",
       "      <th>8</th>\n",
       "      <td>Wollongong</td>\n",
       "      <td>292190</td>\n",
       "      <td>292190</td>\n",
       "      <td>4.3</td>\n",
       "    </tr>\n",
       "    <tr>\n",
       "      <th>9</th>\n",
       "      <td>Logan City</td>\n",
       "      <td>282673</td>\n",
       "      <td>282673</td>\n",
       "      <td>6.4</td>\n",
       "    </tr>\n",
       "  </tbody>\n",
       "</table>\n",
       "</div>"
      ],
      "text/plain": [
       "         city  density    state  unemployed_rate\n",
       "0      Sydney  4627345  4627345              4.3\n",
       "1   Melbourne  4246375  4246375              4.9\n",
       "2    Brisbane  2189878  2189878              NaN\n",
       "3       Perth  1896548  1896548              NaN\n",
       "4    Adelaide  1225235  1225235              7.3\n",
       "5  Gold Coast   591473   591473              6.4\n",
       "6    Canberra   367752   367752              3.5\n",
       "7   Newcastle   308308   308308              4.3\n",
       "8  Wollongong   292190   292190              4.3\n",
       "9  Logan City   282673   282673              6.4"
      ]
     },
     "execution_count": 33,
     "metadata": {},
     "output_type": "execute_result"
    }
   ],
   "source": [
    "s_city = pd.Series(['Sydney','Melbourne','Brisbane','Perth','Adelaide','Gold Coast','Canberra','Newcastle','Wollongong','Logan City'])\n",
    "s_density = pd.Series([4627345, 4246375, 2189878, 1896548,1225235, 591473, 367752, 308308, 292190, 282673])\n",
    "s_state = pd.Series(['New South Wales', 'Victoria','Queensland', 'Western Australia','South Australia',\n",
    "                     'Queensland','Australian Capital Territory','New South Wales','New South Wales', 'Queensland'])\n",
    "\n",
    "s_unemployed_rate = pd.Series([4.3, 4.9, np.nan, np.nan, 7.3, 6.4, 3.5, 4.3, 4.3, 6.4])\n",
    "\n",
    "df_pop = pd.DataFrame({'city':s_city, 'density':s_density, 'state': s_density, 'unemployed_rate': s_unemployed_rate})\n",
    "df_pop"
   ]
  },
  {
   "cell_type": "code",
   "execution_count": 34,
   "metadata": {},
   "outputs": [
    {
     "data": {
      "text/plain": [
       "0        Sydney\n",
       "1     Melbourne\n",
       "2      Brisbane\n",
       "3         Perth\n",
       "4      Adelaide\n",
       "5    Gold Coast\n",
       "6      Canberra\n",
       "7     Newcastle\n",
       "8    Wollongong\n",
       "9    Logan City\n",
       "Name: city, dtype: object"
      ]
     },
     "execution_count": 34,
     "metadata": {},
     "output_type": "execute_result"
    }
   ],
   "source": [
    "df_pop.city"
   ]
  },
  {
   "cell_type": "code",
   "execution_count": 35,
   "metadata": {},
   "outputs": [
    {
     "data": {
      "text/plain": [
       "0    4.3\n",
       "1    4.9\n",
       "2    NaN\n",
       "3    NaN\n",
       "4    7.3\n",
       "5    6.4\n",
       "6    3.5\n",
       "7    4.3\n",
       "8    4.3\n",
       "9    6.4\n",
       "Name: unemployed_rate, dtype: float64"
      ]
     },
     "execution_count": 35,
     "metadata": {},
     "output_type": "execute_result"
    }
   ],
   "source": [
    "df_pop.unemployed_rate"
   ]
  },
  {
   "cell_type": "code",
   "execution_count": 36,
   "metadata": {},
   "outputs": [
    {
     "data": {
      "text/plain": [
       "array([['Sydney', 4627345, 4627345, 4.3],\n",
       "       ['Melbourne', 4246375, 4246375, 4.9],\n",
       "       ['Brisbane', 2189878, 2189878, nan],\n",
       "       ['Perth', 1896548, 1896548, nan],\n",
       "       ['Adelaide', 1225235, 1225235, 7.3],\n",
       "       ['Gold Coast', 591473, 591473, 6.4],\n",
       "       ['Canberra', 367752, 367752, 3.5],\n",
       "       ['Newcastle', 308308, 308308, 4.3],\n",
       "       ['Wollongong', 292190, 292190, 4.3],\n",
       "       ['Logan City', 282673, 282673, 6.4]], dtype=object)"
      ]
     },
     "execution_count": 36,
     "metadata": {},
     "output_type": "execute_result"
    }
   ],
   "source": [
    "df_pop.values"
   ]
  },
  {
   "cell_type": "code",
   "execution_count": 37,
   "metadata": {},
   "outputs": [
    {
     "data": {
      "text/plain": [
       "0    4.3\n",
       "1    4.9\n",
       "2    NaN\n",
       "3    NaN\n",
       "4    7.3\n",
       "5    6.4\n",
       "6    3.5\n",
       "7    4.3\n",
       "8    4.3\n",
       "9    6.4\n",
       "Name: unemployed_rate, dtype: float64"
      ]
     },
     "execution_count": 37,
     "metadata": {},
     "output_type": "execute_result"
    }
   ],
   "source": [
    "df_pop['unemployed_rate']"
   ]
  },
  {
   "cell_type": "code",
   "execution_count": 41,
   "metadata": {},
   "outputs": [
    {
     "data": {
      "text/html": [
       "<div>\n",
       "<style scoped>\n",
       "    .dataframe tbody tr th:only-of-type {\n",
       "        vertical-align: middle;\n",
       "    }\n",
       "\n",
       "    .dataframe tbody tr th {\n",
       "        vertical-align: top;\n",
       "    }\n",
       "\n",
       "    .dataframe thead th {\n",
       "        text-align: right;\n",
       "    }\n",
       "</style>\n",
       "<table border=\"1\" class=\"dataframe\">\n",
       "  <thead>\n",
       "    <tr style=\"text-align: right;\">\n",
       "      <th></th>\n",
       "      <th>city</th>\n",
       "      <th>density</th>\n",
       "      <th>state</th>\n",
       "      <th>unemployed_rate</th>\n",
       "    </tr>\n",
       "  </thead>\n",
       "  <tbody>\n",
       "    <tr>\n",
       "      <th>0</th>\n",
       "      <td>Sydney</td>\n",
       "      <td>4627345</td>\n",
       "      <td>4627345</td>\n",
       "      <td>4.3</td>\n",
       "    </tr>\n",
       "    <tr>\n",
       "      <th>1</th>\n",
       "      <td>Melbourne</td>\n",
       "      <td>4246375</td>\n",
       "      <td>4246375</td>\n",
       "      <td>4.9</td>\n",
       "    </tr>\n",
       "    <tr>\n",
       "      <th>2</th>\n",
       "      <td>Brisbane</td>\n",
       "      <td>2189878</td>\n",
       "      <td>2189878</td>\n",
       "      <td>NaN</td>\n",
       "    </tr>\n",
       "    <tr>\n",
       "      <th>3</th>\n",
       "      <td>Perth</td>\n",
       "      <td>1896548</td>\n",
       "      <td>1896548</td>\n",
       "      <td>NaN</td>\n",
       "    </tr>\n",
       "    <tr>\n",
       "      <th>4</th>\n",
       "      <td>Adelaide</td>\n",
       "      <td>1225235</td>\n",
       "      <td>1225235</td>\n",
       "      <td>7.3</td>\n",
       "    </tr>\n",
       "    <tr>\n",
       "      <th>5</th>\n",
       "      <td>Gold Coast</td>\n",
       "      <td>591473</td>\n",
       "      <td>591473</td>\n",
       "      <td>6.4</td>\n",
       "    </tr>\n",
       "    <tr>\n",
       "      <th>6</th>\n",
       "      <td>Canberra</td>\n",
       "      <td>367752</td>\n",
       "      <td>367752</td>\n",
       "      <td>3.5</td>\n",
       "    </tr>\n",
       "  </tbody>\n",
       "</table>\n",
       "</div>"
      ],
      "text/plain": [
       "         city  density    state  unemployed_rate\n",
       "0      Sydney  4627345  4627345              4.3\n",
       "1   Melbourne  4246375  4246375              4.9\n",
       "2    Brisbane  2189878  2189878              NaN\n",
       "3       Perth  1896548  1896548              NaN\n",
       "4    Adelaide  1225235  1225235              7.3\n",
       "5  Gold Coast   591473   591473              6.4\n",
       "6    Canberra   367752   367752              3.5"
      ]
     },
     "execution_count": 41,
     "metadata": {},
     "output_type": "execute_result"
    }
   ],
   "source": [
    "df_pop[:-3]"
   ]
  },
  {
   "cell_type": "code",
   "execution_count": 42,
   "metadata": {},
   "outputs": [
    {
     "data": {
      "text/html": [
       "<div>\n",
       "<style scoped>\n",
       "    .dataframe tbody tr th:only-of-type {\n",
       "        vertical-align: middle;\n",
       "    }\n",
       "\n",
       "    .dataframe tbody tr th {\n",
       "        vertical-align: top;\n",
       "    }\n",
       "\n",
       "    .dataframe thead th {\n",
       "        text-align: right;\n",
       "    }\n",
       "</style>\n",
       "<table border=\"1\" class=\"dataframe\">\n",
       "  <thead>\n",
       "    <tr style=\"text-align: right;\">\n",
       "      <th></th>\n",
       "      <th>city</th>\n",
       "      <th>density</th>\n",
       "      <th>state</th>\n",
       "      <th>unemployed_rate</th>\n",
       "    </tr>\n",
       "  </thead>\n",
       "  <tbody>\n",
       "    <tr>\n",
       "      <th>4</th>\n",
       "      <td>Adelaide</td>\n",
       "      <td>1225235</td>\n",
       "      <td>1225235</td>\n",
       "      <td>7.3</td>\n",
       "    </tr>\n",
       "    <tr>\n",
       "      <th>5</th>\n",
       "      <td>Gold Coast</td>\n",
       "      <td>591473</td>\n",
       "      <td>591473</td>\n",
       "      <td>6.4</td>\n",
       "    </tr>\n",
       "    <tr>\n",
       "      <th>6</th>\n",
       "      <td>Canberra</td>\n",
       "      <td>367752</td>\n",
       "      <td>367752</td>\n",
       "      <td>3.5</td>\n",
       "    </tr>\n",
       "  </tbody>\n",
       "</table>\n",
       "</div>"
      ],
      "text/plain": [
       "         city  density    state  unemployed_rate\n",
       "4    Adelaide  1225235  1225235              7.3\n",
       "5  Gold Coast   591473   591473              6.4\n",
       "6    Canberra   367752   367752              3.5"
      ]
     },
     "execution_count": 42,
     "metadata": {},
     "output_type": "execute_result"
    }
   ],
   "source": [
    "df_pop[4:7]"
   ]
  },
  {
   "cell_type": "code",
   "execution_count": 44,
   "metadata": {},
   "outputs": [
    {
     "data": {
      "text/html": [
       "<div>\n",
       "<style scoped>\n",
       "    .dataframe tbody tr th:only-of-type {\n",
       "        vertical-align: middle;\n",
       "    }\n",
       "\n",
       "    .dataframe tbody tr th {\n",
       "        vertical-align: top;\n",
       "    }\n",
       "\n",
       "    .dataframe thead th {\n",
       "        text-align: right;\n",
       "    }\n",
       "</style>\n",
       "<table border=\"1\" class=\"dataframe\">\n",
       "  <thead>\n",
       "    <tr style=\"text-align: right;\">\n",
       "      <th></th>\n",
       "      <th>city</th>\n",
       "      <th>density</th>\n",
       "    </tr>\n",
       "  </thead>\n",
       "  <tbody>\n",
       "    <tr>\n",
       "      <th>0</th>\n",
       "      <td>Sydney</td>\n",
       "      <td>4627345</td>\n",
       "    </tr>\n",
       "    <tr>\n",
       "      <th>1</th>\n",
       "      <td>Melbourne</td>\n",
       "      <td>4246375</td>\n",
       "    </tr>\n",
       "    <tr>\n",
       "      <th>2</th>\n",
       "      <td>Brisbane</td>\n",
       "      <td>2189878</td>\n",
       "    </tr>\n",
       "  </tbody>\n",
       "</table>\n",
       "</div>"
      ],
      "text/plain": [
       "        city  density\n",
       "0     Sydney  4627345\n",
       "1  Melbourne  4246375\n",
       "2   Brisbane  2189878"
      ]
     },
     "execution_count": 44,
     "metadata": {},
     "output_type": "execute_result"
    }
   ],
   "source": [
    "df_pop.loc[df_pop['density']  > 2000000, ['city', 'density']]"
   ]
  },
  {
   "cell_type": "code",
   "execution_count": 46,
   "metadata": {},
   "outputs": [
    {
     "data": {
      "text/html": [
       "<div>\n",
       "<style scoped>\n",
       "    .dataframe tbody tr th:only-of-type {\n",
       "        vertical-align: middle;\n",
       "    }\n",
       "\n",
       "    .dataframe tbody tr th {\n",
       "        vertical-align: top;\n",
       "    }\n",
       "\n",
       "    .dataframe thead th {\n",
       "        text-align: right;\n",
       "    }\n",
       "</style>\n",
       "<table border=\"1\" class=\"dataframe\">\n",
       "  <thead>\n",
       "    <tr style=\"text-align: right;\">\n",
       "      <th></th>\n",
       "      <th>city</th>\n",
       "      <th>density</th>\n",
       "      <th>state</th>\n",
       "      <th>unemployed_rate</th>\n",
       "    </tr>\n",
       "  </thead>\n",
       "  <tbody>\n",
       "    <tr>\n",
       "      <th>0</th>\n",
       "      <td>Sydney</td>\n",
       "      <td>4627345</td>\n",
       "      <td>4627345</td>\n",
       "      <td>4.3</td>\n",
       "    </tr>\n",
       "    <tr>\n",
       "      <th>7</th>\n",
       "      <td>Newcastle</td>\n",
       "      <td>308308</td>\n",
       "      <td>308308</td>\n",
       "      <td>4.3</td>\n",
       "    </tr>\n",
       "    <tr>\n",
       "      <th>8</th>\n",
       "      <td>Wollongong</td>\n",
       "      <td>292190</td>\n",
       "      <td>292190</td>\n",
       "      <td>4.3</td>\n",
       "    </tr>\n",
       "  </tbody>\n",
       "</table>\n",
       "</div>"
      ],
      "text/plain": [
       "         city  density    state  unemployed_rate\n",
       "0      Sydney  4627345  4627345              4.3\n",
       "7   Newcastle   308308   308308              4.3\n",
       "8  Wollongong   292190   292190              4.3"
      ]
     },
     "execution_count": 46,
     "metadata": {},
     "output_type": "execute_result"
    }
   ],
   "source": [
    "df_pop.loc[(df_pop.unemployed_rate > 4.0) & (df_pop.unemployed_rate <= 4.5)]"
   ]
  },
  {
   "cell_type": "code",
   "execution_count": 17,
   "metadata": {},
   "outputs": [
    {
     "name": "stdout",
     "output_type": "stream",
     "text": [
      "Position of character m is 4\n",
      "Position of character m is -1\n"
     ]
    }
   ],
   "source": [
    "str1 = 'Hi, my name is Eric'\n",
    "print('Position of character m is ' + str(str1.find('m')))\n",
    "print('Position of character m is ' + str(str1.find('my', 2, 5)))"
   ]
  },
  {
   "cell_type": "code",
   "execution_count": 23,
   "metadata": {},
   "outputs": [
    {
     "name": "stdout",
     "output_type": "stream",
     "text": [
      "nm\n",
      "i yn\n",
      "Hma\n"
     ]
    }
   ],
   "source": [
    "\n",
    "print(str1[7:1:-3])\n",
    "print(str1[1:9:2])\n",
    "print(str1[:10:4])"
   ]
  },
  {
   "cell_type": "code",
   "execution_count": 38,
   "metadata": {},
   "outputs": [
    {
     "name": "stdout",
     "output_type": "stream",
     "text": [
      "abcde\n",
      "fghijklmno\n",
      "abcdefghijklmnopqrstu\n",
      "acegikmoqsuwy\n",
      "aeimquy\n",
      "zyxwvutsrqponmlkjihgfedcba\n"
     ]
    }
   ],
   "source": [
    "alphabet ='abcdefghijklmnopqrstuvwxyz'\n",
    "print(alphabet[0:5])\n",
    "print(alphabet[5:15])\n",
    "print(alphabet[:-5])\n",
    "print(alphabet[::2])\n",
    "print(alphabet[::4])\n",
    "print(alphabet[::-1])"
   ]
  },
  {
   "cell_type": "code",
   "execution_count": 56,
   "metadata": {},
   "outputs": [
    {
     "name": "stdout",
     "output_type": "stream",
     "text": [
      "Default separator  ['hello,', 'my', 'name', 'is', 'john,', 'i', 'am', 'an', 'student', 'from', 'the', 'university', 'of', 'adelaide,', 'i', 'love', 'python', 'progamming']\n",
      "\", \" separator:  ['hello', 'my name is john', '\\t i am an student from the university of adelaide', '\\n i love python progamming']\n",
      "\"\n",
      "\"\n"
     ]
    }
   ],
   "source": [
    "txt = \"hello, my name is john, \\t i am an student from the university of adelaide, \\n i love python progamming\"\n",
    "print('Default separator ', txt.split())\n",
    "print('\", \" separator: ', txt.split(', '))\n",
    "print('')"
   ]
  },
  {
   "cell_type": "code",
   "execution_count": 60,
   "metadata": {},
   "outputs": [
    {
     "name": "stdout",
     "output_type": "stream",
     "text": [
      "['hello', 'john', 'university of adelaide', 'python progamming', 'jupyter notebook', 'happy coding']\n",
      "6\n",
      "['hello', 'john', 'university of adelaide, python progamming, jupyter notebook, happy coding']\n",
      "3\n"
     ]
    }
   ],
   "source": [
    "txt = \"hello, john, university of adelaide, python progamming, jupyter notebook, happy coding\"\n",
    "list1 = txt.split(', ')\n",
    "print(list1)\n",
    "print(len(list1))\n",
    "list2 = txt.split(', ', 2)\n",
    "print(list2)\n",
    "print(len(list2))"
   ]
  },
  {
   "cell_type": "code",
   "execution_count": 63,
   "metadata": {},
   "outputs": [
    {
     "name": "stdout",
     "output_type": "stream",
     "text": [
      "hello#john#university of adelaide#python progamming#jupyter notebook#happy coding\n",
      "hello john university of adelaide python progamming jupyter notebook happy coding\n"
     ]
    }
   ],
   "source": [
    "list1 = ['hello', 'john', 'university of adelaide', 'python progamming', 'jupyter notebook', 'happy coding']\n",
    "print('#'.join(list1))\n",
    "print(' '.join(list1))"
   ]
  },
  {
   "cell_type": "code",
   "execution_count": 65,
   "metadata": {},
   "outputs": [
    {
     "name": "stdout",
     "output_type": "stream",
     "text": [
      "['I', 'love', 'programming']\n",
      "I-love-programming\n"
     ]
    }
   ],
   "source": [
    "str2 = 'I love programming'\n",
    "list2 = str2.split(' ')\n",
    "print(list2)\n",
    "str2 = '-'.join(list2)\n",
    "print(str2)"
   ]
  },
  {
   "cell_type": "code",
   "execution_count": 66,
   "metadata": {},
   "outputs": [
    {
     "name": "stdout",
     "output_type": "stream",
     "text": [
      "['My', 'name', 'is', 'John']\n",
      "My !name !is !John\n"
     ]
    }
   ],
   "source": [
    "def split_string(string):\n",
    "    list_string = string.split(' ')\n",
    "      \n",
    "    return list_string\n",
    "  \n",
    "def join_string(list_string):\n",
    "    string = ' !'.join(list_string)\n",
    "      \n",
    "    return string\n",
    "\n",
    "string = 'My name is John'\n",
    "list_string = split_string(string)\n",
    "print(list_string)\n",
    "new_string = join_string(list_string)\n",
    "print(new_string)"
   ]
  },
  {
   "cell_type": "code",
   "execution_count": 68,
   "metadata": {},
   "outputs": [
    {
     "data": {
      "text/plain": [
       "'four'"
      ]
     },
     "execution_count": 68,
     "metadata": {},
     "output_type": "execute_result"
    }
   ],
   "source": [
    "listNumbers = ['zero', 1, 2, 3, 'four', 5.0, 'six', 7, 8.0, 9]\n",
    "listNumbers[4]"
   ]
  },
  {
   "cell_type": "code",
   "execution_count": 71,
   "metadata": {},
   "outputs": [
    {
     "name": "stdout",
     "output_type": "stream",
     "text": [
      "2 3\n"
     ]
    }
   ],
   "source": [
    "print(listNumbers[2], listNumbers[3])"
   ]
  },
  {
   "cell_type": "code",
   "execution_count": 72,
   "metadata": {},
   "outputs": [
    {
     "name": "stdout",
     "output_type": "stream",
     "text": [
      "['zero', 1, 2]\n"
     ]
    }
   ],
   "source": [
    "print(listNumbers[0:3])"
   ]
  },
  {
   "cell_type": "code",
   "execution_count": 73,
   "metadata": {},
   "outputs": [
    {
     "name": "stdout",
     "output_type": "stream",
     "text": [
      "['zero', 1, 2]\n"
     ]
    }
   ],
   "source": [
    "print(listNumbers[:3])"
   ]
  },
  {
   "cell_type": "code",
   "execution_count": 74,
   "metadata": {},
   "outputs": [
    {
     "name": "stdout",
     "output_type": "stream",
     "text": [
      "[3, 'four', 5.0, 'six', 7, 8.0, 9]\n"
     ]
    }
   ],
   "source": [
    "print(listNumbers[3:])"
   ]
  },
  {
   "cell_type": "code",
   "execution_count": 75,
   "metadata": {},
   "outputs": [
    {
     "name": "stdout",
     "output_type": "stream",
     "text": [
      "['zero', 1, 2, 3, 'four', 5.0, 'six', 7, 8.0, 9]\n",
      "9\n",
      "8.0\n"
     ]
    }
   ],
   "source": [
    "print(listNumbers)\n",
    "print(listNumbers[-1])\n",
    "print(listNumbers[-2])"
   ]
  },
  {
   "cell_type": "code",
   "execution_count": 76,
   "metadata": {},
   "outputs": [
    {
     "name": "stdout",
     "output_type": "stream",
     "text": [
      "['zero', 1, 2, 3, 'four', 5.0, 'six', 7, 8.0]\n"
     ]
    }
   ],
   "source": [
    "print(listNumbers[0:-1])"
   ]
  },
  {
   "cell_type": "code",
   "execution_count": 77,
   "metadata": {},
   "outputs": [
    {
     "name": "stdout",
     "output_type": "stream",
     "text": [
      "[7, 8.0, 9]\n"
     ]
    }
   ],
   "source": [
    "print(listNumbers[-3:])"
   ]
  },
  {
   "cell_type": "code",
   "execution_count": 78,
   "metadata": {},
   "outputs": [
    {
     "data": {
      "text/plain": [
       "[9, 8.0, 7, 'six', 5.0, 'four', 3, 2, 1, 'zero']"
      ]
     },
     "execution_count": 78,
     "metadata": {},
     "output_type": "execute_result"
    }
   ],
   "source": [
    "listNumbers[::-1]"
   ]
  },
  {
   "cell_type": "code",
   "execution_count": 81,
   "metadata": {},
   "outputs": [
    {
     "name": "stdout",
     "output_type": "stream",
     "text": [
      "[9, 8.0, 7, 'six', 5.0, 'four', 3, 2, 1]\n"
     ]
    }
   ],
   "source": [
    "print(listNumbers[10:0:-1])"
   ]
  },
  {
   "cell_type": "code",
   "execution_count": 82,
   "metadata": {},
   "outputs": [
    {
     "name": "stdout",
     "output_type": "stream",
     "text": [
      "['zero', 2, 'four', 'six', 8.0]\n"
     ]
    }
   ],
   "source": [
    "print(listNumbers[::2])"
   ]
  },
  {
   "cell_type": "code",
   "execution_count": 83,
   "metadata": {},
   "outputs": [
    {
     "data": {
      "text/plain": [
       "[9, 'six', 3, 'zero']"
      ]
     },
     "execution_count": 83,
     "metadata": {},
     "output_type": "execute_result"
    }
   ],
   "source": [
    "listNumbers[::-3]"
   ]
  },
  {
   "cell_type": "code",
   "execution_count": 101,
   "metadata": {},
   "outputs": [
    {
     "name": "stdout",
     "output_type": "stream",
     "text": [
      "[4, 6, 8]\n",
      "[1, 3, 5, 7, 9]\n",
      "[1, 2, 3]\n",
      "4\n",
      "[4, 5, 6, 7, 8, 9]\n",
      "[4, 5, 6, 7, 8]\n",
      "9\n",
      "1\n",
      "[3, 4, 5, 6]\n",
      "[1, 2]\n"
     ]
    }
   ],
   "source": [
    "lst1 = [1, 2, 3, 4, 5, 6, 7, 8, 9]\n",
    "print(lst1[3:8:2])\n",
    "print(lst1[::2])\n",
    "print(lst1[:3])\n",
    "print((lst1[3]))\n",
    "print(lst1[3:])\n",
    "print(lst1[3:-1])\n",
    "print(lst1[-1])\n",
    "print(lst1[0])\n",
    "print(lst1[2:6])\n",
    "print(lst1[:2])"
   ]
  },
  {
   "cell_type": "code",
   "execution_count": 102,
   "metadata": {},
   "outputs": [
    {
     "name": "stdout",
     "output_type": "stream",
     "text": [
      "[1, 2, 3, 'Hello', 5, 'six']\n",
      "[1, 2, 3, 'Fuck you', 5, 'six']\n"
     ]
    }
   ],
   "source": [
    "list1 = [1, 2, 3, 'Hello', 5, 'six']\n",
    "print(list1)\n",
    "list1[3] = 'Fuck you'\n",
    "print(list1)"
   ]
  },
  {
   "cell_type": "code",
   "execution_count": 110,
   "metadata": {},
   "outputs": [
    {
     "name": "stdout",
     "output_type": "stream",
     "text": [
      "10\n",
      "8\n",
      "[1.4, 1, 20.1, 6, 30, 10.2, 9, 26]\n"
     ]
    }
   ],
   "source": [
    "list1 = [1.4, 1, 20.1, 5, 19.3, 91, 30, 10.2, 9, 26]\n",
    "print(len(list1))\n",
    "list1[3:6] = [6]\n",
    "print(len(list1))\n",
    "print(list1)\n"
   ]
  },
  {
   "cell_type": "code",
   "execution_count": 112,
   "metadata": {},
   "outputs": [
    {
     "name": "stdout",
     "output_type": "stream",
     "text": [
      "['black', 'white', 'yellow', 'grey', 'red']\n",
      "['white', 'yellow', 'grey', 'red']\n"
     ]
    }
   ],
   "source": [
    "colors = ['black', 'white', 'yellow', 'red']\n",
    "colors.insert(3, 'grey')\n",
    "print(colors)\n",
    "colors.pop(0)\n",
    "print(colors)"
   ]
  },
  {
   "cell_type": "code",
   "execution_count": 123,
   "metadata": {},
   "outputs": [
    {
     "name": "stdout",
     "output_type": "stream",
     "text": [
      "[19, 'apple', 'Kelly', 'apple', 3, 78, 5.5, 'apple', [200, 201, 202, 203, 204], 'apple', 'John', 'Danise', 12]\n"
     ]
    }
   ],
   "source": [
    "listThings = ['banana', 'apple', 'apple', 3, 10, 78, 5.5, 'apple', list(range(200,205)), 'apple', 'apple', 10.5]\n",
    "listThings[0] = 19\n",
    "listThings[-2:] = ['John', 'Danise']\n",
    "listThings.insert(2, 'Kelly')\n",
    "listThings.pop(5)\n",
    "listThings.insert(29, 12)\n",
    "print(listThings)"
   ]
  },
  {
   "cell_type": "code",
   "execution_count": 124,
   "metadata": {},
   "outputs": [
    {
     "name": "stdout",
     "output_type": "stream",
     "text": [
      "['H', 'e', 'l', 'l', 'o']\n"
     ]
    }
   ],
   "source": [
    "new_lst = []\n",
    "\n",
    "for letter in 'Hello':\n",
    "    new_lst.append(letter)\n",
    "\n",
    "print(new_lst)"
   ]
  },
  {
   "cell_type": "code",
   "execution_count": 125,
   "metadata": {},
   "outputs": [
    {
     "name": "stdout",
     "output_type": "stream",
     "text": [
      "['H', 'e', 'l', 'l', 'o']\n"
     ]
    }
   ],
   "source": [
    "new_lst = [letter for letter in 'Hello']\n",
    "print(new_lst)"
   ]
  },
  {
   "cell_type": "code",
   "execution_count": 128,
   "metadata": {},
   "outputs": [
    {
     "name": "stdout",
     "output_type": "stream",
     "text": [
      "[0, 2, 2, 4, 6, 10, 16]\n"
     ]
    }
   ],
   "source": [
    "time_one = [0, 1, 1, 2, 3, 5, 8]\n",
    "time_two = [num * 2 for num in time_one]\n",
    "print(time_two)"
   ]
  },
  {
   "cell_type": "code",
   "execution_count": 129,
   "metadata": {},
   "outputs": [
    {
     "name": "stdout",
     "output_type": "stream",
     "text": [
      "['u', 'd', 'c', 's', 't', 'b']\n"
     ]
    }
   ],
   "source": [
    "quarks = ['Up', 'Down', 'Charm', 'Strange', 'Top', 'Bottom']\n",
    "lower_first_letter = [quark[0].lower() for quark in quarks]\n",
    "print(lower_first_letter)"
   ]
  },
  {
   "cell_type": "code",
   "execution_count": 131,
   "metadata": {},
   "outputs": [
    {
     "name": "stdout",
     "output_type": "stream",
     "text": [
      "[0, 2, 4, 6, 8]\n",
      "[0, 2, 4, 6, 8]\n"
     ]
    }
   ],
   "source": [
    "lst1 = []\n",
    "\n",
    "for i in range(10):\n",
    "    if i % 2 == 0:\n",
    "        lst1.append(i)\n",
    "print(lst1)\n",
    "\n",
    "\n",
    "even_number = [number for number in range(10) if number % 2 == 0]\n",
    "print(even_number)\n"
   ]
  },
  {
   "cell_type": "code",
   "execution_count": 132,
   "metadata": {},
   "outputs": [
    {
     "name": "stdout",
     "output_type": "stream",
     "text": [
      "[0, 10, 20, 30, 40, 50, 60, 70, 80, 90]\n"
     ]
    }
   ],
   "source": [
    "numbers = [number for number in range(100) if number % 2 == 0 and number % 5 == 0]\n",
    "print(numbers)"
   ]
  },
  {
   "cell_type": "code",
   "execution_count": 133,
   "metadata": {},
   "outputs": [
    {
     "name": "stdout",
     "output_type": "stream",
     "text": [
      "[0, 2, 4, 6, 8]\n"
     ]
    }
   ],
   "source": [
    "even_odd = ['even' if number % 2 == 0 else 'odd' for number in range(10)]\n",
    "print(even_number)"
   ]
  },
  {
   "cell_type": "code",
   "execution_count": 138,
   "metadata": {},
   "outputs": [
    {
     "name": "stdout",
     "output_type": "stream",
     "text": [
      "[[1, 2, 9], [9, 0, 6]]\n"
     ]
    }
   ],
   "source": [
    "matrix = [[1, 9], [2, 0], [9, 6]]\n",
    "transposed_matrix = [[row[i] for row in matrix] for i in range(2)]\n",
    "print(transposed_matrix)"
   ]
  },
  {
   "cell_type": "code",
   "execution_count": 145,
   "metadata": {},
   "outputs": [
    {
     "name": "stdout",
     "output_type": "stream",
     "text": [
      "[(1, 1), (2, 8), (3, 27)]\n",
      "42\n"
     ]
    }
   ],
   "source": [
    "list = [1,2,3]\n",
    "output = []\n",
    "for i in list:\n",
    "    output.append((i, i **3))\n",
    "print(output)\n",
    "\n",
    "tup = (7, 8, 9, 1, 10, 7)\n",
    "sum = 0\n",
    "for i in tup:\n",
    "    sum += i\n",
    "print(sum)"
   ]
  },
  {
   "cell_type": "code",
   "execution_count": 148,
   "metadata": {},
   "outputs": [
    {
     "name": "stdout",
     "output_type": "stream",
     "text": [
      "(0, 4, 5, 1)\n"
     ]
    }
   ],
   "source": [
    "def mod_tuple(tuple1, tuple2):\n",
    "    mod_tuple = []\n",
    "    for i in range(len(tuple1)):\n",
    "        mod_tuple.append(tuple1[i] % tuple2[i])\n",
    "    \n",
    "    return tuple(mod_tuple)\n",
    "print(mod_tuple((10, 4, 5, 6), (5, 6, 7, 5)))"
   ]
  },
  {
   "cell_type": "code",
   "execution_count": 4,
   "metadata": {},
   "outputs": [
    {
     "name": "stdout",
     "output_type": "stream",
     "text": [
      "{'190', True, 'John', 'big face', 12, 30, 'male'}\n"
     ]
    }
   ],
   "source": [
    "details = {'John', 'Smith', 30, '190', True, 'male'}\n",
    "details.add(12)\n",
    "details.add('big face')\n",
    "details.remove('Smith')\n",
    "print(details)"
   ]
  },
  {
   "cell_type": "code",
   "execution_count": 7,
   "metadata": {},
   "outputs": [
    {
     "name": "stdout",
     "output_type": "stream",
     "text": [
      "x,y union {'Danise', 'Jane', 'James', 'David', 'Smith', 'John', 'Miles', 'Simon'}\n",
      "x,y intersetion {'Jane', 'John'}\n",
      "difference {'Smith', 'Danise', 'Simon', 'David'}\n"
     ]
    }
   ],
   "source": [
    "x = {\"John\", \"Smith\", \"David\", \"Danise\", \"Simon\", \"Jane\"}\n",
    "y = {\"James\", \"John\", \"Jane\", \"Miles\"}\n",
    "print('x,y union', x.union(y))\n",
    "print('x,y intersetion', x.intersection(y))\n",
    "print('difference', x.difference(y))\n",
    "print()"
   ]
  },
  {
   "cell_type": "code",
   "execution_count": 8,
   "metadata": {},
   "outputs": [
    {
     "name": "stdout",
     "output_type": "stream",
     "text": [
      "The Zen of Python, by Tim Peters\n",
      "\n",
      "Beautiful is better than ugly.\n",
      "Explicit is better than implicit.\n",
      "Simple is better than complex.\n",
      "Complex is better than complicated.\n",
      "Flat is better than nested.\n",
      "Sparse is better than dense.\n",
      "Readability counts.\n",
      "Special cases aren't special enough to break the rules.\n",
      "Although practicality beats purity.\n",
      "Errors should never pass silently.\n",
      "Unless explicitly silenced.\n",
      "In the face of ambiguity, refuse the temptation to guess.\n",
      "There should be one-- and preferably only one --obvious way to do it.\n",
      "Although that way may not be obvious at first unless you're Dutch.\n",
      "Now is better than never.\n",
      "Although never is often better than *right* now.\n",
      "If the implementation is hard to explain, it's a bad idea.\n",
      "If the implementation is easy to explain, it may be a good idea.\n",
      "Namespaces are one honking great idea -- let's do more of those!\n"
     ]
    }
   ],
   "source": [
    "import this\n"
   ]
  },
  {
   "cell_type": "code",
   "execution_count": 11,
   "metadata": {},
   "outputs": [
    {
     "name": "stdout",
     "output_type": "stream",
     "text": [
      "False True\n"
     ]
    }
   ],
   "source": [
    "a = False \n",
    "b = not a\n",
    "print(a,b)"
   ]
  },
  {
   "cell_type": "code",
   "execution_count": 14,
   "metadata": {},
   "outputs": [
    {
     "name": "stdout",
     "output_type": "stream",
     "text": [
      "['u', 'a']\n"
     ]
    }
   ],
   "source": [
    "vowels = ['a', 'e', 'i', 'o', 'u']\n",
    "\n",
    "common = [letter for letter in 'human' if letter in vowels]\n",
    "print(common)"
   ]
  },
  {
   "cell_type": "code",
   "execution_count": 16,
   "metadata": {},
   "outputs": [
    {
     "name": "stdout",
     "output_type": "stream",
     "text": [
      "True\n"
     ]
    }
   ],
   "source": [
    "numbers = [-1, -2, -4, 0, 3, -7]\n",
    "any_positive = any(number > 0 for number in  numbers)\n",
    "print(any_positive)"
   ]
  },
  {
   "cell_type": "code",
   "execution_count": 20,
   "metadata": {},
   "outputs": [
    {
     "name": "stdout",
     "output_type": "stream",
     "text": [
      "1 Eric\n",
      "2 John\n",
      "3 Lion\n",
      "4 AdaWong\n"
     ]
    }
   ],
   "source": [
    "\n",
    "players = ['Eric', 'John', 'Lion', 'AdaWong']\n",
    "for i, player in enumerate(players, start=1):\n",
    "    print(i, player)    "
   ]
  },
  {
   "cell_type": "code",
   "execution_count": 21,
   "metadata": {},
   "outputs": [
    {
     "name": "stdout",
     "output_type": "stream",
     "text": [
      "<class 'set'>\n",
      "{True, 'John', 'Smith', '190com', 30, 'male'}\n",
      "6\n"
     ]
    }
   ],
   "source": [
    "details = {'John', 'Smith', 30, '190com', True,'male', 30, 'male'}\n",
    "print(type(details))\n",
    "print(details)\n",
    "print(len(details))"
   ]
  },
  {
   "cell_type": "code",
   "execution_count": 23,
   "metadata": {},
   "outputs": [
    {
     "name": "stdout",
     "output_type": "stream",
     "text": [
      "{True, '190cm', 'John', 'Smith', 12, 30, 'male'}\n",
      "{True, '190cm', 'John', 'Smith', 12, 'male'}\n"
     ]
    }
   ],
   "source": [
    "details = {True, '190cm', 'male', 'Smith', 'John', 30}\n",
    "details.add(12)\n",
    "print(details)\n",
    "details.remove(30)\n",
    "print(details)"
   ]
  },
  {
   "cell_type": "code",
   "execution_count": 28,
   "metadata": {},
   "outputs": [
    {
     "name": "stdout",
     "output_type": "stream",
     "text": [
      "Union: {'Danise', 'Jane', 'James', 'David', 'Smith', 'John', 'Miles', 'Simon'}\n",
      "Intersection: {'Jane', 'John'}\n",
      "Difference: {'Smith', 'Danise', 'Simon', 'David'}\n",
      "Is Disjoint? False\n",
      "Is subset? False\n"
     ]
    }
   ],
   "source": [
    "x = {\"John\", \"Smith\", \"David\", \"Danise\", \"Simon\", \"Jane\"}\n",
    "y = {\"James\", \"John\", \"Jane\", \"Miles\"}\n",
    "print('Union:', x.union(y))\n",
    "print('Intersection:', x.intersection(y))\n",
    "print('Difference:', x.difference(y))\n",
    "print('Is Disjoint?', x.isdisjoint(y))\n",
    "print('Is subset?', x.issubset(y))"
   ]
  },
  {
   "cell_type": "code",
   "execution_count": 30,
   "metadata": {},
   "outputs": [
    {
     "name": "stdout",
     "output_type": "stream",
     "text": [
      "{'t', 'n', 'p', 'y', 'h', 'o'}\n",
      "t\n",
      "n\n",
      "p\n",
      "y\n",
      "h\n",
      "o\n"
     ]
    }
   ],
   "source": [
    "test_set = set(\"python\")\n",
    "print(test_set)\n",
    "for i in test_set:\n",
    "    print(i)"
   ]
  },
  {
   "cell_type": "code",
   "execution_count": 37,
   "metadata": {},
   "outputs": [
    {
     "name": "stdout",
     "output_type": "stream",
     "text": [
      "{80, 20}\n",
      "{5}\n"
     ]
    }
   ],
   "source": [
    "ar1 = [1, 5, 10, 20, 40, 80]\n",
    "ar2 = [6, 7, 20, 80, 100]\n",
    "ar3 = [3, 4, 15, 20, 30, 70, 80, 120]\n",
    "\n",
    "def common_ele(ar1, ar2, ar3):\n",
    "    ar1 = set(ar1)\n",
    "    ar2 = set(ar2)\n",
    "    ar3 = set(ar3)\n",
    "\n",
    "    common = ar1.intersection(ar2)\n",
    "    output = common.intersection(ar3)\n",
    "    return output\n",
    "\n",
    "    \n",
    "print(common_ele(ar1, ar2, ar3))\n",
    "\n",
    "ar1 = [1, 5, 5]\n",
    "ar2 = [3, 4, 5, 5, 10]\n",
    "ar3 = [5, 5, 10, 20]\n",
    "\n",
    "print(common_ele(ar1, ar2, ar3))\n"
   ]
  },
  {
   "cell_type": "code",
   "execution_count": 38,
   "metadata": {},
   "outputs": [
    {
     "name": "stdout",
     "output_type": "stream",
     "text": [
      "{10, 20, 30, 15}\n"
     ]
    }
   ],
   "source": [
    "def diff_lists(list1, list2):\n",
    "    list1 = set(list1)\n",
    "    list2 = set(list2)\n",
    "    diff_list = list1.difference(list2)\n",
    "    return diff_list\n",
    "\n",
    "list1 = [10, 15, 20, 25, 30, 35, 40]\n",
    "list2 = [25, 40, 35] \n",
    "\n",
    "print(diff_lists(list1, list2))"
   ]
  },
  {
   "cell_type": "code",
   "execution_count": null,
   "metadata": {},
   "outputs": [],
   "source": []
  }
 ],
 "metadata": {
  "kernelspec": {
   "display_name": "Python 3",
   "language": "python",
   "name": "python3"
  },
  "language_info": {
   "codemirror_mode": {
    "name": "ipython",
    "version": 3
   },
   "file_extension": ".py",
   "mimetype": "text/x-python",
   "name": "python",
   "nbconvert_exporter": "python",
   "pygments_lexer": "ipython3",
   "version": "3.12.4"
  }
 },
 "nbformat": 4,
 "nbformat_minor": 2
}
