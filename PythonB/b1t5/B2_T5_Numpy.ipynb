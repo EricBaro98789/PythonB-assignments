{
 "cells": [
  {
   "cell_type": "markdown",
   "metadata": {},
   "source": [
    "### Instructions:\n",
    "\n",
    "- You can attempt any number of questions and in any order.  \n",
    "  See the assignment page for a description of the hurdle requirement for this assessment.\n",
    "- You may submit your practical for autograding as many times as you like to check on progress, however you will save time by checking and testing your own code before submitting.\n",
    "- Develop and check your answers in the spaces provided.\n",
    "- **Replace** the code `raise NotImplementedError()` with your solution to the question.\n",
    "- Do **NOT** remove any variables other provided markings already provided in the answer spaces.\n",
    "- Do **NOT** make any changes to this notebook outside of the spaces indicated.  \n",
    "  (If you do this, the submission system might not accept your work)\n",
    "\n",
    "### Submitting:\n",
    "\n",
    "1. Before you turn this problem in, make sure everything runs as expected by resetting this notebook.    \n",
    "   (You can do this from the menubar above by selecting `Kernel`&#8594;`Restart Kernel and Run All Cells...`)\n",
    "1. Don't forget to save your notebook after this step.\n",
    "1. Submit your .ipynb file to Gradescope via file upload or GitHub repository.\n",
    "1. You can submit as many times as needed.\n",
    "\n"
   ]
  },
  {
   "cell_type": "markdown",
   "metadata": {},
   "source": [
    "---"
   ]
  },
  {
   "cell_type": "markdown",
   "metadata": {
    "tags": []
   },
   "source": [
    "# <mark style=\"background: #801010; color: #ffffff;\" >B2</mark> Topic 5: NumPy Arrays"
   ]
  },
  {
   "cell_type": "markdown",
   "metadata": {},
   "source": [
    "#### Question 01 &nbsp;&nbsp;&nbsp;&nbsp;&nbsp;&nbsp;(2 Points)\n",
    "\n",
    "Create a python program that has a 1-D array with 5 elements. It should contain the numbers 0 to 4 in sequence. Assign this array to `output1`."
   ]
  },
  {
   "cell_type": "code",
   "execution_count": 2,
   "metadata": {
    "deletable": false,
    "nbgrader": {
     "cell_type": "code",
     "checksum": "6744efdb831781d9b4fbb6598bf0f11b",
     "grade": false,
     "grade_id": "q1",
     "locked": false,
     "schema_version": 3,
     "solution": true,
     "task": false
    },
    "tags": []
   },
   "outputs": [
    {
     "name": "stdout",
     "output_type": "stream",
     "text": [
      "[0 1 2 3 4]\n"
     ]
    }
   ],
   "source": [
    "import numpy as np\n",
    "\n",
    "# Write your solution here\n",
    "\n",
    "# YOUR CODE HERE\n",
    "output1 = np.arange(5)\n",
    "print(output1)"
   ]
  },
  {
   "cell_type": "code",
   "execution_count": null,
   "metadata": {
    "deletable": false,
    "editable": false,
    "nbgrader": {
     "cell_type": "code",
     "checksum": "da8fc5a2e5b30c9c1036d2751629f3a0",
     "grade": true,
     "grade_id": "q1-1-sequence",
     "locked": true,
     "points": 2,
     "schema_version": 3,
     "solution": false,
     "task": false
    }
   },
   "outputs": [],
   "source": [
    "# Testing Cell (Do NOT modify this cell)"
   ]
  },
  {
   "cell_type": "markdown",
   "metadata": {},
   "source": [
    "#### Question 02 &nbsp;&nbsp;&nbsp;&nbsp;&nbsp;&nbsp;(2 Points)\n",
    "\n",
    "Create a python program that contains a 2-D array with 6 elements (2 rows and 3 columns) that represents the following array. Assign this array to `output2`.\n",
    "\n",
    "$$\\begin{bmatrix} 0 & 1 & 2 \\\\ 3 & 4 & 5 \\end{bmatrix}$$"
   ]
  },
  {
   "cell_type": "code",
   "execution_count": 5,
   "metadata": {
    "deletable": false,
    "nbgrader": {
     "cell_type": "code",
     "checksum": "f7bf1cc802c3812c963c755594726be9",
     "grade": false,
     "grade_id": "q2",
     "locked": false,
     "schema_version": 3,
     "solution": true,
     "task": false
    },
    "tags": []
   },
   "outputs": [
    {
     "name": "stdout",
     "output_type": "stream",
     "text": [
      "[[0 1 2]\n",
      " [3 4 5]]\n"
     ]
    }
   ],
   "source": [
    "import numpy as np\n",
    "\n",
    "# Write your solution here\n",
    "\n",
    "# YOUR CODE HERE\n",
    "output2 = np.arange(6).reshape(2,3)\n",
    "print(output2)\n",
    "# output2 = np.array([[0,1,2], [3,4,5]])\n",
    "# print(output2)"
   ]
  },
  {
   "cell_type": "code",
   "execution_count": null,
   "metadata": {
    "deletable": false,
    "editable": false,
    "nbgrader": {
     "cell_type": "code",
     "checksum": "669eba1f32b84470d43e39fdcfc4deab",
     "grade": true,
     "grade_id": "q2-1-2d-array",
     "locked": true,
     "points": 2,
     "schema_version": 3,
     "solution": false,
     "task": false
    }
   },
   "outputs": [],
   "source": [
    "# Testing Cell (Do NOT modify this cell)"
   ]
  },
  {
   "cell_type": "markdown",
   "metadata": {},
   "source": [
    "#### Question 03 &nbsp;&nbsp;&nbsp;&nbsp;&nbsp;&nbsp;(2 Points)\n",
    "Create a python program that has a 2-D array with 6 elements (3 rows and 2 columns) that represents the following array. Assign this array to `output3`.\n",
    "\n",
    "$$\\begin{bmatrix} 0 & 1 \\\\ 2 & 3 \\\\ 4 & 5 \\end{bmatrix}$$"
   ]
  },
  {
   "cell_type": "code",
   "execution_count": 6,
   "metadata": {
    "deletable": false,
    "nbgrader": {
     "cell_type": "code",
     "checksum": "d2e39acbbf1d26399d76ab56f3705665",
     "grade": false,
     "grade_id": "q3",
     "locked": false,
     "schema_version": 3,
     "solution": true,
     "task": false
    },
    "tags": []
   },
   "outputs": [
    {
     "name": "stdout",
     "output_type": "stream",
     "text": [
      "[[0 1]\n",
      " [2 3]\n",
      " [4 5]]\n"
     ]
    }
   ],
   "source": [
    "import numpy as np\n",
    "\n",
    "# Write your solution here\n",
    "\n",
    "# YOUR CODE HERE\n",
    "output3 = np.arange(6).reshape(3,2)\n",
    "print(output3)"
   ]
  },
  {
   "cell_type": "code",
   "execution_count": null,
   "metadata": {
    "deletable": false,
    "editable": false,
    "nbgrader": {
     "cell_type": "code",
     "checksum": "d259c0f5bb9f3b46b4a842d5d3f1570e",
     "grade": true,
     "grade_id": "q3-1-2d-array",
     "locked": true,
     "points": 2,
     "schema_version": 3,
     "solution": false,
     "task": false
    },
    "tags": []
   },
   "outputs": [],
   "source": [
    "# Testing Cell (Do NOT modify this cell)"
   ]
  },
  {
   "cell_type": "markdown",
   "metadata": {},
   "source": [
    "#### Question 04 &nbsp;&nbsp;&nbsp;&nbsp;&nbsp;&nbsp;(2 Points)\n",
    "\n",
    "Create a python program that has a 3-D array with 8 elements (2 rows and 2 columns, with a depth of 2) using the `zeros` function. Assign this array to `output4`."
   ]
  },
  {
   "cell_type": "code",
   "execution_count": 8,
   "metadata": {
    "deletable": false,
    "nbgrader": {
     "cell_type": "code",
     "checksum": "cd7ebd5a47671f799b7cfa7a46dd4c6a",
     "grade": false,
     "grade_id": "q4",
     "locked": false,
     "schema_version": 3,
     "solution": true,
     "task": false
    },
    "tags": []
   },
   "outputs": [
    {
     "name": "stdout",
     "output_type": "stream",
     "text": [
      "[[[0. 0.]\n",
      "  [0. 0.]]\n",
      "\n",
      " [[0. 0.]\n",
      "  [0. 0.]]]\n"
     ]
    }
   ],
   "source": [
    "import numpy as np\n",
    "\n",
    "# Write your solution here\n",
    "\n",
    "# YOUR CODE HERE\n",
    "output4 = np.zeros((2,2,2))\n",
    "print(output4)"
   ]
  },
  {
   "cell_type": "code",
   "execution_count": null,
   "metadata": {
    "deletable": false,
    "editable": false,
    "nbgrader": {
     "cell_type": "code",
     "checksum": "4fdf9628dc33e487848ee762bd522405",
     "grade": true,
     "grade_id": "q4-1-zeros",
     "locked": true,
     "points": 2,
     "schema_version": 3,
     "solution": false,
     "task": false
    },
    "tags": []
   },
   "outputs": [],
   "source": [
    "# Testing Cell (Do NOT modify this cell)"
   ]
  },
  {
   "cell_type": "markdown",
   "metadata": {},
   "source": [
    "#### Question 05 &nbsp;&nbsp;&nbsp;&nbsp;&nbsp;&nbsp;(2 Points)\n",
    "\n",
    "You are given a 2-D array of unknown size named `array5`. Create a Python function that finds the size of that array and returns the number of rows."
   ]
  },
  {
   "cell_type": "code",
   "execution_count": 11,
   "metadata": {
    "deletable": false,
    "nbgrader": {
     "cell_type": "code",
     "checksum": "914149c148cc0ed4bd7b771677c055f9",
     "grade": false,
     "grade_id": "q5",
     "locked": false,
     "schema_version": 3,
     "solution": true,
     "task": false
    },
    "tags": []
   },
   "outputs": [
    {
     "name": "stdout",
     "output_type": "stream",
     "text": [
      "(6, 2)\n"
     ]
    }
   ],
   "source": [
    "import numpy as np\n",
    "\n",
    "def question05(array5):\n",
    "\n",
    "    # Write your solution here\n",
    "\n",
    "    # YOUR CODE HERE\n",
    "    size = np.size(array5)\n",
    "    row, column = np.shape(array5)\n",
    "    \n",
    "    return row\n",
    "array = np.array([[0,1,2], [3,4,5]])\n",
    "print(question05(array))"
   ]
  },
  {
   "cell_type": "code",
   "execution_count": null,
   "metadata": {
    "deletable": false,
    "editable": false,
    "nbgrader": {
     "cell_type": "code",
     "checksum": "374aeb3d200528ba2c7ae3782fb764c3",
     "grade": true,
     "grade_id": "q5-1-size",
     "locked": true,
     "points": 2,
     "schema_version": 3,
     "solution": false,
     "task": false
    },
    "tags": []
   },
   "outputs": [],
   "source": [
    "# Testing Cell (Do NOT modify this cell)"
   ]
  },
  {
   "cell_type": "markdown",
   "metadata": {},
   "source": [
    "#### Question 06 &nbsp;&nbsp;&nbsp;&nbsp;&nbsp;&nbsp;(2 Points)\n",
    "\n",
    "Create a python program that performs the following calculation using universal functions. Assign the result to `output6`.\n",
    "\n",
    "$$\\begin{bmatrix} 0 & 1 \\\\ 2 & 3 \\end{bmatrix} + \\begin{bmatrix} 0 & 1 \\\\ 2 & 3 \\end{bmatrix}$$"
   ]
  },
  {
   "cell_type": "code",
   "execution_count": 15,
   "metadata": {
    "deletable": false,
    "nbgrader": {
     "cell_type": "code",
     "checksum": "5bf6e26ab49f89e7f595d85cdb54f10c",
     "grade": false,
     "grade_id": "q6",
     "locked": false,
     "schema_version": 3,
     "solution": true,
     "task": false
    },
    "tags": []
   },
   "outputs": [
    {
     "name": "stdout",
     "output_type": "stream",
     "text": [
      "[[0 2]\n",
      " [4 6]]\n"
     ]
    }
   ],
   "source": [
    "import numpy as np\n",
    "\n",
    "# Write your solution here\n",
    "\n",
    "# YOUR CODE HERE\n",
    "array = np.arange(4).reshape(2,2)\n",
    "output6 = array + array\n",
    "print(output6)"
   ]
  },
  {
   "cell_type": "code",
   "execution_count": null,
   "metadata": {
    "deletable": false,
    "editable": false,
    "nbgrader": {
     "cell_type": "code",
     "checksum": "289fe9377bccf096ad6f809c97220272",
     "grade": true,
     "grade_id": "q6-1-add",
     "locked": true,
     "points": 2,
     "schema_version": 3,
     "solution": false,
     "task": false
    },
    "tags": []
   },
   "outputs": [],
   "source": [
    "# Testing Cell (Do NOT modify this cell)"
   ]
  },
  {
   "cell_type": "markdown",
   "metadata": {},
   "source": [
    "#### Question 07 &nbsp;&nbsp;&nbsp;&nbsp;&nbsp;&nbsp;(4 Points)\n",
    "You are given two 2-D arrays of that are the same size (`array7_i` and `array7_ii`). Create a python program that multiplies the two arrays together using universal functions. Return a new array containing the result."
   ]
  },
  {
   "cell_type": "code",
   "execution_count": 16,
   "metadata": {
    "deletable": false,
    "nbgrader": {
     "cell_type": "code",
     "checksum": "48e099c1e311b6e4dff196743501114d",
     "grade": false,
     "grade_id": "q7",
     "locked": false,
     "schema_version": 3,
     "solution": true,
     "task": false
    },
    "tags": []
   },
   "outputs": [
    {
     "name": "stdout",
     "output_type": "stream",
     "text": [
      "[[ 136629 1627536]\n",
      " [ 103683 1437535]]\n"
     ]
    }
   ],
   "source": [
    "import numpy as np\n",
    "\n",
    "def question07(a1, a2):\n",
    "\n",
    "    # Write your solution here\n",
    "    output7 = np.multiply(a1, a2)\n",
    "    return output7\n",
    "    # YOUR CODE HERE\n",
    "array7_i = np.array([[323,123], [323,443]])\n",
    "array7_ii = np.array([[423,13232], [321,3245]])\n",
    "print(question07(array7_i, array7_ii))"
   ]
  },
  {
   "cell_type": "code",
   "execution_count": null,
   "metadata": {
    "deletable": false,
    "editable": false,
    "nbgrader": {
     "cell_type": "code",
     "checksum": "c60965412b73e856c3bc553c5b3abcd9",
     "grade": true,
     "grade_id": "q7-1-mult",
     "locked": true,
     "points": 4,
     "schema_version": 3,
     "solution": false,
     "task": false
    },
    "tags": []
   },
   "outputs": [],
   "source": [
    "# Testing Cell (Do NOT modify this cell)"
   ]
  },
  {
   "cell_type": "markdown",
   "metadata": {},
   "source": [
    "#### Question 08 &nbsp;&nbsp;&nbsp;&nbsp;&nbsp;&nbsp;(4 Points)\n",
    "\n",
    "Create a python program that performs the following calculation using universal functions. Assign the result to `output8`.\n",
    "\n",
    "$$\\begin{bmatrix} 0 & 1 \\\\ 2 & 3 \\end{bmatrix} ** 3$$"
   ]
  },
  {
   "cell_type": "code",
   "execution_count": 17,
   "metadata": {
    "deletable": false,
    "nbgrader": {
     "cell_type": "code",
     "checksum": "6b073212af023486b5dde7978f23f1b1",
     "grade": false,
     "grade_id": "q8",
     "locked": false,
     "schema_version": 3,
     "solution": true,
     "task": false
    },
    "tags": []
   },
   "outputs": [
    {
     "name": "stdout",
     "output_type": "stream",
     "text": [
      "[[ 0  1]\n",
      " [ 8 27]]\n"
     ]
    }
   ],
   "source": [
    "import numpy as np\n",
    "\n",
    "# Write your solution here\n",
    "\n",
    "# YOUR CODE HERE\n",
    "array = np.arange(4).reshape(2,2)\n",
    "output8 = np.power(array, 3)\n",
    "print(output8)"
   ]
  },
  {
   "cell_type": "code",
   "execution_count": null,
   "metadata": {
    "deletable": false,
    "editable": false,
    "nbgrader": {
     "cell_type": "code",
     "checksum": "6718348ab6eab9ab9eb8ec98ea0dffb7",
     "grade": true,
     "grade_id": "q8-1-exponent",
     "locked": true,
     "points": 4,
     "schema_version": 3,
     "solution": false,
     "task": false
    },
    "tags": []
   },
   "outputs": [],
   "source": [
    "# Testing Cell (Do NOT modify this cell)"
   ]
  },
  {
   "cell_type": "markdown",
   "metadata": {},
   "source": [
    "#### Question 09 &nbsp;&nbsp;&nbsp;&nbsp;&nbsp;&nbsp;(4 Points)\n",
    "\n",
    "Create a python program that has a 1-D array with 100 elements. It should contain the numbers 0, 2, 4, 6, all the way to 198 in sequence. Assign this array to `output9`."
   ]
  },
  {
   "cell_type": "code",
   "execution_count": 21,
   "metadata": {
    "deletable": false,
    "nbgrader": {
     "cell_type": "code",
     "checksum": "de5e93fd46d033b8730006c28d652021",
     "grade": false,
     "grade_id": "q9",
     "locked": false,
     "schema_version": 3,
     "solution": true,
     "task": false
    },
    "tags": []
   },
   "outputs": [
    {
     "name": "stdout",
     "output_type": "stream",
     "text": [
      "[  0   2   4   6   8  10  12  14  16  18  20  22  24  26  28  30  32  34\n",
      "  36  38  40  42  44  46  48  50  52  54  56  58  60  62  64  66  68  70\n",
      "  72  74  76  78  80  82  84  86  88  90  92  94  96  98 100 102 104 106\n",
      " 108 110 112 114 116 118 120 122 124 126 128 130 132 134 136 138 140 142\n",
      " 144 146 148 150 152 154 156 158 160 162 164 166 168 170 172 174 176 178\n",
      " 180 182 184 186 188 190 192 194 196 198]\n"
     ]
    }
   ],
   "source": [
    "import numpy as np\n",
    "\n",
    "# Write your solution here\n",
    "\n",
    "# YOUR CODE HERE\n",
    "output9 = np.arange(0,200,2)\n",
    "print(output9)"
   ]
  },
  {
   "cell_type": "code",
   "execution_count": null,
   "metadata": {
    "deletable": false,
    "editable": false,
    "nbgrader": {
     "cell_type": "code",
     "checksum": "7c1be4c502a86f1c8f6dfdd10c41aa14",
     "grade": true,
     "grade_id": "q9-1-evens",
     "locked": true,
     "points": 4,
     "schema_version": 3,
     "solution": false,
     "task": false
    }
   },
   "outputs": [],
   "source": [
    "# Testing Cell (Do NOT modify this cell)"
   ]
  },
  {
   "cell_type": "markdown",
   "metadata": {},
   "source": [
    "#### Question 10 &nbsp;&nbsp;&nbsp;&nbsp;&nbsp;&nbsp;(4 Points)\n",
    "\n",
    "Create a python program that has a 1-D array with 16 elements. It should contain the numbers 10, 20, 30, 40, all the way to 160 in sequence. Afterwards, change its shape using `reshape` to a 4-D array. Assign this reshaped array to `output10`.\n",
    "\n",
    "***\n",
    "<details>\n",
    "  <summary><span style=\"color:blue\">Click to see Hints</span></summary>\n",
    "   In one of the provided examples, you saw how a 2-D 3-by-3 array. Use that as a basis for reshaping into a 4-D 2-by-2-by-2-by-2 array. \n",
    "</details>"
   ]
  },
  {
   "cell_type": "code",
   "execution_count": 25,
   "metadata": {
    "deletable": false,
    "nbgrader": {
     "cell_type": "code",
     "checksum": "b141feb9b2625d25370d503e18467b65",
     "grade": false,
     "grade_id": "q10",
     "locked": false,
     "schema_version": 3,
     "solution": true,
     "task": false
    },
    "tags": []
   },
   "outputs": [
    {
     "name": "stdout",
     "output_type": "stream",
     "text": [
      "[[[[ 10  20]\n",
      "   [ 30  40]]\n",
      "\n",
      "  [[ 50  60]\n",
      "   [ 70  80]]]\n",
      "\n",
      "\n",
      " [[[ 90 100]\n",
      "   [110 120]]\n",
      "\n",
      "  [[130 140]\n",
      "   [150 160]]]]\n"
     ]
    }
   ],
   "source": [
    "import numpy as np\n",
    "\n",
    "# Write your solution here\n",
    "\n",
    "# YOUR CODE HERE\n",
    "output10 = np.arange(10, 161, 10).reshape(2,2,2,2)\n",
    "print(output10)"
   ]
  },
  {
   "cell_type": "code",
   "execution_count": null,
   "metadata": {
    "deletable": false,
    "editable": false,
    "nbgrader": {
     "cell_type": "code",
     "checksum": "47b73e6f2d999289129ea4089d18e0f2",
     "grade": true,
     "grade_id": "q10-1-tens",
     "locked": true,
     "points": 4,
     "schema_version": 3,
     "solution": false,
     "task": false
    },
    "tags": []
   },
   "outputs": [],
   "source": [
    "# Testing Cell (Do NOT modify this cell)"
   ]
  },
  {
   "cell_type": "markdown",
   "metadata": {},
   "source": [
    "#### Question 11 &nbsp;&nbsp;&nbsp;&nbsp;&nbsp;&nbsp;(6 Points)\n",
    "\n",
    "One of the most common models in statistics (and by extention data science) is the normal distribution. In order to graph a normal distribution first the mean and standard deviation of the data must be found. NumPy has functions that allow us to analyse data and obtain these values.\n",
    "\n",
    "You are given an array of unknown size and dimensions named `array11` that represents some data. Create a python program that finds the both the mean and standard deviation (rounded to 4 decimal points) of the data. Return the values in a dictionary of the following structure:\n",
    "```python\n",
    "question11 = {\n",
    "  \"mean\": some_value,\n",
    "  \"standard_deviation\": some_value\n",
    "}\n",
    "```"
   ]
  },
  {
   "cell_type": "code",
   "execution_count": 16,
   "metadata": {
    "deletable": false,
    "nbgrader": {
     "cell_type": "code",
     "checksum": "aa5b0c9f3dae4d8b9c306019e2c0d211",
     "grade": false,
     "grade_id": "q11",
     "locked": false,
     "schema_version": 3,
     "solution": true,
     "task": false
    },
    "tags": []
   },
   "outputs": [
    {
     "name": "stdout",
     "output_type": "stream",
     "text": [
      "{'mean': -0.0579, 'standard_deviation': 0.9008}\n"
     ]
    }
   ],
   "source": [
    "import numpy as np\n",
    "\n",
    "def question11(array11):\n",
    "    mean = round((np.mean(array11)), 4)\n",
    "    deviation =round((np.std(array11)),4)\n",
    "    output11 = {\n",
    "        'mean': mean,\n",
    "        'standard_deviation':deviation\n",
    "    }\n",
    "    return output11\n",
    "\n",
    "\n",
    "array11 = np.random.randn(100)\n",
    "\n",
    "print(question11(array11))\n",
    "\n"
   ]
  },
  {
   "cell_type": "code",
   "execution_count": null,
   "metadata": {
    "deletable": false,
    "editable": false,
    "nbgrader": {
     "cell_type": "code",
     "checksum": "a2a45f60a5223f018995e1a0f0b03483",
     "grade": true,
     "grade_id": "q11-1-normal-distrib",
     "locked": true,
     "points": 6,
     "schema_version": 3,
     "solution": false,
     "task": false
    }
   },
   "outputs": [],
   "source": [
    "# Testing Cell (Do NOT modify this cell)"
   ]
  },
  {
   "cell_type": "markdown",
   "metadata": {},
   "source": [
    "#### Question 12 &nbsp;&nbsp;&nbsp;&nbsp;&nbsp;&nbsp;(6 Points)\n",
    "\n",
    "You are given an 1-D array of unknown size named `array12`. Create a python program that finds both the first element and the minimum element in the array determined using a standard function. Return the values in a dictionary of the following structure:\n",
    "```python\n",
    "{\n",
    "  \"first\": some_value,\n",
    "  \"smallest\": some_value\n",
    "}\n",
    "```"
   ]
  },
  {
   "cell_type": "code",
   "execution_count": 23,
   "metadata": {
    "deletable": false,
    "nbgrader": {
     "cell_type": "code",
     "checksum": "8ee9c1b2b567fc0ad09fdff50c0d360c",
     "grade": false,
     "grade_id": "q12",
     "locked": false,
     "schema_version": 3,
     "solution": true,
     "task": false
    },
    "tags": []
   },
   "outputs": [
    {
     "name": "stdout",
     "output_type": "stream",
     "text": [
      "[31 26 81 31 56]\n",
      "{'first': 31, 'smallest': 26}\n"
     ]
    }
   ],
   "source": [
    "import numpy as np\n",
    "\n",
    "def question12(array12):\n",
    "\n",
    "    first = array12[0]\n",
    "    smallest = np.min(array12)\n",
    "    output12 = {\n",
    "        \"first\": first,\n",
    "        \"smallest\": smallest\n",
    "    }\n",
    "    return output12\n",
    "array12 = np.random.randint(1, 100, size = 5)\n",
    "print(array12)\n",
    "print(question12(array12))"
   ]
  },
  {
   "cell_type": "code",
   "execution_count": null,
   "metadata": {
    "deletable": false,
    "editable": false,
    "nbgrader": {
     "cell_type": "code",
     "checksum": "9e511f76edf23127bfd315a209b795f9",
     "grade": true,
     "grade_id": "q12-1-1st-smallest",
     "locked": true,
     "points": 6,
     "schema_version": 3,
     "solution": false,
     "task": false
    },
    "tags": []
   },
   "outputs": [],
   "source": [
    "# Testing Cell (Do NOT modify this cell)"
   ]
  },
  {
   "cell_type": "markdown",
   "metadata": {},
   "source": [
    "#### Question 13 &nbsp;&nbsp;&nbsp;&nbsp;&nbsp;&nbsp;(6 Points)\n",
    "\n",
    "You are given an 2-D array of unknown size named `array13`. Create a python program that finds the first row of data and the maximum number within that row.  Return the values in a dictionary of the following structure:\n",
    "```python\n",
    "question13 = {\n",
    "  \"first_row\": some_value,\n",
    "  \"max_row_value\": some_value\n",
    "}\n",
    "```"
   ]
  },
  {
   "cell_type": "code",
   "execution_count": 56,
   "metadata": {
    "deletable": false,
    "nbgrader": {
     "cell_type": "code",
     "checksum": "13eae852b95db01e8dac9ec9084e5973",
     "grade": false,
     "grade_id": "q13",
     "locked": false,
     "schema_version": 3,
     "solution": true,
     "task": false
    },
    "tags": []
   },
   "outputs": [
    {
     "name": "stdout",
     "output_type": "stream",
     "text": [
      "{'first_row': array([59, 26, 12, 49, 61]), 'max_row_value': 61}\n"
     ]
    }
   ],
   "source": [
    "import numpy as np\n",
    "\n",
    "def question13(array13):\n",
    "\n",
    "    first = array13[0]\n",
    "    max = np.max(first)\n",
    "    output13 = {\n",
    "        \"first_row\": first,\n",
    "        \"max_row_value\": max\n",
    "    }\n",
    "    return output13\n",
    "\n",
    "arrays = np.random.randint(1,100, size=(5,5))\n",
    "print(question13(arrays))    "
   ]
  },
  {
   "cell_type": "code",
   "execution_count": null,
   "metadata": {
    "deletable": false,
    "editable": false,
    "nbgrader": {
     "cell_type": "code",
     "checksum": "bf276a26a89870642e2fa3b42526ecf7",
     "grade": true,
     "grade_id": "q13-1-first-max",
     "locked": true,
     "points": 6,
     "schema_version": 3,
     "solution": false,
     "task": false
    }
   },
   "outputs": [],
   "source": [
    "# Testing Cell (Do NOT modify this cell)\n"
   ]
  },
  {
   "cell_type": "markdown",
   "metadata": {},
   "source": [
    "#### Question 14 &nbsp;&nbsp;&nbsp;&nbsp;&nbsp;&nbsp;(6 Points)\n",
    "\n",
    "You are given an 1-D array of unknown size named `array14`. Create a python program that finds the first 6 entries within that row. Next, split that array into two arrays using the `split` function. Return the values in a dictionary of the following structure:\n",
    "```python\n",
    "question14 = {\n",
    "  \"array\": first_6_entries,\n",
    "  \"part1\": split_first_half,\n",
    "  \"part2\": split_other_half\n",
    "}\n",
    "```"
   ]
  },
  {
   "cell_type": "code",
   "execution_count": 59,
   "metadata": {
    "deletable": false,
    "nbgrader": {
     "cell_type": "code",
     "checksum": "59a5a43783e45e2277b765c00c759b40",
     "grade": false,
     "grade_id": "q14",
     "locked": false,
     "schema_version": 3,
     "solution": true,
     "task": false
    },
    "tags": []
   },
   "outputs": [
    {
     "name": "stdout",
     "output_type": "stream",
     "text": [
      "{'array': array([29, 86, 99, 40, 82,  3]), 'part1': array([29, 86, 99]), 'part2': array([40, 82,  3])}\n"
     ]
    }
   ],
   "source": [
    "import numpy as np\n",
    "\n",
    "def question14(array14):\n",
    "\n",
    "    # Write your solution here\n",
    "\n",
    "    # YOUR CODE HERE\n",
    "    array = array14[:6]\n",
    "    part1, part2 = np.split(array, 2)\n",
    "    output14 = {\n",
    "        \"array\": array,\n",
    "        \"part1\": part1,\n",
    "        \"part2\": part2\n",
    "    }\n",
    "    return output14\n",
    "array14 = np.random.randint(1,100, size=10)\n",
    "print(question14(array14))"
   ]
  },
  {
   "cell_type": "code",
   "execution_count": null,
   "metadata": {
    "deletable": false,
    "editable": false,
    "nbgrader": {
     "cell_type": "code",
     "checksum": "c043f1515553ae65cdaab97eee8f4867",
     "grade": true,
     "grade_id": "q14-1-split",
     "locked": true,
     "points": 6,
     "schema_version": 3,
     "solution": false,
     "task": false
    },
    "tags": []
   },
   "outputs": [],
   "source": [
    "# Testing Cell (Do NOT modify this cell)"
   ]
  },
  {
   "cell_type": "markdown",
   "metadata": {},
   "source": [
    "#### Question 15 &nbsp;&nbsp;&nbsp;&nbsp;&nbsp;&nbsp;(6 Points)\n",
    "\n",
    "You are given an 1-D array of 40 elements named `array15`. Create a Python program that finds every second element starting from index 4 and stopping before index 20. Return the result as an array."
   ]
  },
  {
   "cell_type": "code",
   "execution_count": 61,
   "metadata": {
    "deletable": false,
    "nbgrader": {
     "cell_type": "code",
     "checksum": "ab1cfb976842987f27287ebc0304c802",
     "grade": false,
     "grade_id": "q15",
     "locked": false,
     "schema_version": 3,
     "solution": true,
     "task": false
    },
    "tags": []
   },
   "outputs": [
    {
     "name": "stdout",
     "output_type": "stream",
     "text": [
      "[45 86 19 20 61 22 36 32 23 51 79 23 26 32 53 29 99 19 77 88 40 63 98 90\n",
      " 28 56 90 38 11 38  9 25 64 60 67  9 94 16 24 29]\n",
      "[61 36 23 79 26 53 99 77]\n"
     ]
    }
   ],
   "source": [
    "import numpy as np\n",
    "\n",
    "def question15(array15):\n",
    "\n",
    "    # Write your solution here\n",
    "\n",
    "    # YOUR CODE HERE\n",
    "    output15 = array15[4:20:2]\n",
    "    return output15\n",
    "array15 = np.random.randint(1,100, size=40)\n",
    "print(array15)\n",
    "print(question15(array15)) "
   ]
  },
  {
   "cell_type": "code",
   "execution_count": null,
   "metadata": {
    "deletable": false,
    "editable": false,
    "nbgrader": {
     "cell_type": "code",
     "checksum": "acf5c36f792fca9b33923743af6b1ada",
     "grade": true,
     "grade_id": "q15-1-second-element",
     "locked": true,
     "points": 6,
     "schema_version": 3,
     "solution": false,
     "task": false
    },
    "tags": []
   },
   "outputs": [],
   "source": [
    "# Testing Cell (Do NOT modify this cell)"
   ]
  },
  {
   "cell_type": "markdown",
   "metadata": {},
   "source": [
    "#### Question 16 &nbsp;&nbsp;&nbsp;&nbsp;&nbsp;&nbsp;(6 Points)\n",
    "\n",
    "You are given 2 sorted 1-D arrays of 20 elements named `array16_i` and `array16_ii`. Create a python program that concatenates these two arrays by appending `array16_ii` to the end of `array16_i`. Afterwards, sort the new array.\n",
    "Return both the unsorted concatenated array, and the sorted array in a dictionary of the following structure:\n",
    "```python\n",
    "question16 = {\n",
    "  \"concat\": concatenated_array,\n",
    "  \"sorted\": sorted_array\n",
    "}\n",
    "```"
   ]
  },
  {
   "cell_type": "code",
   "execution_count": 67,
   "metadata": {
    "deletable": false,
    "nbgrader": {
     "cell_type": "code",
     "checksum": "0505aa2d27ae40754a911af6cfe74f9e",
     "grade": false,
     "grade_id": "q16",
     "locked": false,
     "schema_version": 3,
     "solution": true,
     "task": false
    },
    "tags": []
   },
   "outputs": [
    {
     "name": "stdout",
     "output_type": "stream",
     "text": [
      "{'concat': array([1, 2, 2, 4, 4, 4, 5, 5, 5, 5, 6, 6, 6, 7, 7, 8, 8, 9, 9, 9, 1, 2,\n",
      "       2, 3, 3, 3, 3, 3, 3, 4, 6, 7, 7, 8, 8, 8, 9, 9, 9, 9]), 'sorted': array([1, 1, 2, 2, 2, 2, 3, 3, 3, 3, 3, 3, 4, 4, 4, 4, 5, 5, 5, 5, 6, 6,\n",
      "       6, 6, 7, 7, 7, 7, 8, 8, 8, 8, 8, 9, 9, 9, 9, 9, 9, 9])}\n"
     ]
    }
   ],
   "source": [
    "import numpy as np\n",
    "\n",
    "def question16(array16_i, array16_ii):\n",
    "\n",
    "    # Write your solution here\n",
    "\n",
    "    # YOUR CODE HERE\n",
    "    concat = np.concatenate([array16_i, array16_ii])\n",
    "    sorted_array = np.sort(concat)\n",
    "    output16 = {\n",
    "        \"concat\": concat,\n",
    "        \"sorted\": sorted_array\n",
    "    }\n",
    "    return output16\n",
    "array16_i = np.sort(np.random.randint(1,10, size = 20))\n",
    "array16_ii = np.sort(np.random.randint(1,10, size = 20))\n",
    "print(question16(array16_i, array16_ii))"
   ]
  },
  {
   "cell_type": "code",
   "execution_count": null,
   "metadata": {
    "deletable": false,
    "editable": false,
    "nbgrader": {
     "cell_type": "code",
     "checksum": "50137a91285dded3d3b922f896cd0d89",
     "grade": true,
     "grade_id": "a16-1-concat",
     "locked": true,
     "points": 6,
     "schema_version": 3,
     "solution": false,
     "task": false
    }
   },
   "outputs": [],
   "source": [
    "# Testing Cell (Do NOT modify this cell)"
   ]
  },
  {
   "cell_type": "markdown",
   "metadata": {},
   "source": [
    "#### Question 17 &nbsp;&nbsp;&nbsp;&nbsp;&nbsp;&nbsp;(8 Points)\n",
    "\n",
    "Create a python program that:\n",
    "\n",
    "1. initializes two arrays using the `arange` function followed by the `reshape` functions.\n",
    "   1. The first array should have 2 rows and 5 columns and contain the numbers 0, 1, 2, up to and including 9.\n",
    "   2. The second array should  have 2 rows and 3 columns and contain the numbers 1, 3, 5, up to and including 11.\n",
    "2. concatenates these two arrays by appending along the column axis (creating an array with 2 rows and 8 columns), then transposes the result (creating an array with 8 rows and 2 columns).\n",
    "\n",
    "Assign the end result to `output17`."
   ]
  },
  {
   "cell_type": "code",
   "execution_count": 45,
   "metadata": {
    "deletable": false,
    "nbgrader": {
     "cell_type": "code",
     "checksum": "cf51cce2822460403b110a8e815892ac",
     "grade": false,
     "grade_id": "q17",
     "locked": false,
     "schema_version": 3,
     "solution": true,
     "task": false
    },
    "tags": []
   },
   "outputs": [
    {
     "name": "stdout",
     "output_type": "stream",
     "text": [
      "[[ 0  1  2  3  4  1  3  5]\n",
      " [ 5  6  7  8  9  7  9 11]]\n",
      "[[ 0  5]\n",
      " [ 1  6]\n",
      " [ 2  7]\n",
      " [ 3  8]\n",
      " [ 4  9]\n",
      " [ 1  7]\n",
      " [ 3  9]\n",
      " [ 5 11]]\n"
     ]
    }
   ],
   "source": [
    "# Write your solution here\n",
    "\n",
    "# YOUR CODE HERE\n",
    "import numpy as np\n",
    "first_array = np.arange(10).reshape(2,5)\n",
    "second_array = np.arange(1,12,2).reshape(2,3)\n",
    "output17 = np.concatenate([first_array, second_array], 1)\n",
    "print(output17)\n",
    "output17 = output17.T\n",
    "\n",
    "print(output17)\n",
    "\n"
   ]
  },
  {
   "cell_type": "code",
   "execution_count": null,
   "metadata": {
    "deletable": false,
    "editable": false,
    "nbgrader": {
     "cell_type": "code",
     "checksum": "9198539abde43e894b47d6e69d964ddc",
     "grade": true,
     "grade_id": "q17-1-reshape-and-concat",
     "locked": true,
     "points": 8,
     "schema_version": 3,
     "solution": false,
     "task": false
    },
    "tags": []
   },
   "outputs": [],
   "source": [
    "# Testing Cell (Do NOT modify this cell)"
   ]
  },
  {
   "cell_type": "markdown",
   "metadata": {},
   "source": [
    "#### Question 18 &nbsp;&nbsp;&nbsp;&nbsp;&nbsp;&nbsp;(8 Points)\n",
    "\n",
    "Create a python program that:\n",
    "\n",
    "1. initializes two arrays using the `arange` function followed by the `reshape` functions.\n",
    "   1. The first array should have 4 rows and 2 columns and contain the numbers 0, 1, 2, up to 7.\n",
    "   2. The second array should have 3 rows and 2 columns and contain the numbers 1, 3, 5, up to 11.\n",
    "2. concatenates these two arrays by appending along the row axis.\n",
    "3. afterwards, reshape the new array into a 1-D array and sort it in decending order.\n",
    "\n",
    "Assign the end result to `output18`."
   ]
  },
  {
   "cell_type": "code",
   "execution_count": 22,
   "metadata": {
    "deletable": false,
    "nbgrader": {
     "cell_type": "code",
     "checksum": "6e0b0a1305721b9d3ec8772568e3e9d6",
     "grade": false,
     "grade_id": "q18",
     "locked": false,
     "schema_version": 3,
     "solution": true,
     "task": false
    },
    "tags": []
   },
   "outputs": [
    {
     "name": "stdout",
     "output_type": "stream",
     "text": [
      "[11  9  7  7  6  5  5  4  3  3  2  1  1  0]\n"
     ]
    }
   ],
   "source": [
    "# Write your solution here\n",
    "\n",
    "# YOUR CODE HERE\n",
    "first_array = np.arange(8).reshape(4,2)\n",
    "second_array = np.arange(1,12,2).reshape(3,2)\n",
    "output18 = np.concatenate([first_array, second_array], 0)\n",
    "output18 = output18.reshape(-1)\n",
    "output18 =np.sort(output18)[::-1]\n",
    "print(output18)"
   ]
  },
  {
   "cell_type": "code",
   "execution_count": null,
   "metadata": {
    "deletable": false,
    "editable": false,
    "nbgrader": {
     "cell_type": "code",
     "checksum": "7a0c4a1eec461b780ae877b01f508f4c",
     "grade": true,
     "grade_id": "q18-1-1d-descent",
     "locked": true,
     "points": 8,
     "schema_version": 3,
     "solution": false,
     "task": false
    }
   },
   "outputs": [],
   "source": [
    "# Testing Cell (Do NOT modify this cell)"
   ]
  },
  {
   "cell_type": "markdown",
   "metadata": {},
   "source": [
    "#### Question 19 &nbsp;&nbsp;&nbsp;&nbsp;&nbsp;&nbsp;(10 Points)\n",
    "\n",
    "Create a python program that:\n",
    "\n",
    "1. initializes two 2-D arrays as depicted below.\n",
    "$$a1 = \\begin{bmatrix} 70 & 51 & 89 \\\\ 42 & 15 & 8 \\end{bmatrix}, a2 = \\begin{bmatrix} 75 & 12 & 38 \\\\ 99 & 75 & 45 \\end{bmatrix}$$\n",
    "2. performs integer division, by dividing the elements of a1 by a2. Assign this result to `output19_i`.\n",
    "3. sums the three arrays together. Assign this result to `output19_ii`, also assign a copy of the second row to `output19_iii`.\n"
   ]
  },
  {
   "cell_type": "code",
   "execution_count": 28,
   "metadata": {
    "deletable": false,
    "nbgrader": {
     "cell_type": "code",
     "checksum": "e30185ef0d239d72d7b9c3ebe51b63d0",
     "grade": false,
     "grade_id": "q19",
     "locked": false,
     "schema_version": 3,
     "solution": true,
     "task": false
    },
    "tags": []
   },
   "outputs": [
    {
     "name": "stdout",
     "output_type": "stream",
     "text": [
      "[[0 4 2]\n",
      " [0 0 0]]\n",
      "[[145  67 129]\n",
      " [141  90  53]]\n",
      "[141  90  53]\n"
     ]
    }
   ],
   "source": [
    "# Write your solution here\n",
    "\n",
    "# YOUR CODE HERE\n",
    "a1 = np.array([[70,51,89],[42,15,8]])\n",
    "a2 = np.array([[75, 12, 38], [99, 75, 45]])\n",
    "output19_i = a1 // a2\n",
    "output19_ii = a1 + a2 + output19_i\n",
    "print(output19_i)\n",
    "print(output19_ii)\n",
    "output19_iii = output19_ii[1].copy()\n",
    "print(output19_iii)"
   ]
  },
  {
   "cell_type": "code",
   "execution_count": null,
   "metadata": {
    "deletable": false,
    "editable": false,
    "nbgrader": {
     "cell_type": "code",
     "checksum": "60007cfdbfd3f96926773c6576d399da",
     "grade": true,
     "grade_id": "q19-1-div-and-sum",
     "locked": true,
     "points": 10,
     "schema_version": 3,
     "solution": false,
     "task": false
    }
   },
   "outputs": [],
   "source": [
    "# Testing Cell (Do NOT modify this cell)"
   ]
  },
  {
   "cell_type": "markdown",
   "metadata": {},
   "source": [
    "#### Question 20 &nbsp;&nbsp;&nbsp;&nbsp;&nbsp;&nbsp;(10 Points)\n",
    "\n",
    "Create a python program that:\n",
    "\n",
    "1. initializes two 2-D arrays as depicted below.\n",
    "$$a1 = \\begin{bmatrix} 48 & 75 & 75 \\\\ 15 & 2 & 46 \\end{bmatrix}, a2 = \\begin{bmatrix} 78 & 15 & 87 \\\\ 0 & 61 & 9 \\end{bmatrix}$$\n",
    "2. multiplies the two arrays together, then slice the result to only assign the last column to `output20` (note: an n-row, 1-column array automatically converts into a 1-row, n-column array, leave your answer like this).\n"
   ]
  },
  {
   "cell_type": "code",
   "execution_count": 1,
   "metadata": {
    "deletable": false,
    "nbgrader": {
     "cell_type": "code",
     "checksum": "07cecfed492ebdb10bfbb1405cd57600",
     "grade": false,
     "grade_id": "q20",
     "locked": false,
     "schema_version": 3,
     "solution": true,
     "task": false
    },
    "tags": []
   },
   "outputs": [
    {
     "ename": "NameError",
     "evalue": "name 'np' is not defined",
     "output_type": "error",
     "traceback": [
      "\u001b[1;31m---------------------------------------------------------------------------\u001b[0m",
      "\u001b[1;31mNameError\u001b[0m                                 Traceback (most recent call last)",
      "Cell \u001b[1;32mIn[1], line 5\u001b[0m\n\u001b[0;32m      1\u001b[0m \u001b[38;5;66;03m# Write your solution here\u001b[39;00m\n\u001b[0;32m      2\u001b[0m \n\u001b[0;32m      3\u001b[0m \u001b[38;5;66;03m# YOUR CODE HERE\u001b[39;00m\n\u001b[1;32m----> 5\u001b[0m a1 \u001b[38;5;241m=\u001b[39m \u001b[43mnp\u001b[49m\u001b[38;5;241m.\u001b[39marray([[\u001b[38;5;241m48\u001b[39m, \u001b[38;5;241m75\u001b[39m, \u001b[38;5;241m75\u001b[39m], [\u001b[38;5;241m15\u001b[39m, \u001b[38;5;241m2\u001b[39m, \u001b[38;5;241m46\u001b[39m]])\n\u001b[0;32m      6\u001b[0m a2 \u001b[38;5;241m=\u001b[39m np\u001b[38;5;241m.\u001b[39marray([[\u001b[38;5;241m78\u001b[39m, \u001b[38;5;241m15\u001b[39m, \u001b[38;5;241m87\u001b[39m], [\u001b[38;5;241m0\u001b[39m, \u001b[38;5;241m61\u001b[39m, \u001b[38;5;241m9\u001b[39m]])\n\u001b[0;32m      8\u001b[0m output20 \u001b[38;5;241m=\u001b[39m a1 \u001b[38;5;241m*\u001b[39m a2\n",
      "\u001b[1;31mNameError\u001b[0m: name 'np' is not defined"
     ]
    }
   ],
   "source": [
    "    # Write your solution here\n",
    "\n",
    "    # YOUR CODE HERE\n",
    "\n",
    "a1 = np.array([[48, 75, 75], [15, 2, 46]])\n",
    "a2 = np.array([[78, 15, 87], [0, 61, 9]])\n",
    "\n",
    "output20 = a1 * a2\n",
    "print(output20)\n",
    "last_column = output20[:, -1]\n",
    "print('---')\n",
    "output20 = last_column\n",
    "print(output20)"
   ]
  },
  {
   "cell_type": "code",
   "execution_count": null,
   "metadata": {
    "deletable": false,
    "editable": false,
    "nbgrader": {
     "cell_type": "code",
     "checksum": "eaa1909f11bd05673dacf06538522807",
     "grade": true,
     "grade_id": "q20-1-multiply-and-slice",
     "locked": true,
     "points": 10,
     "schema_version": 3,
     "solution": false,
     "task": false
    }
   },
   "outputs": [],
   "source": [
    "# Testing Cell (Do NOT modify this cell)"
   ]
  }
 ],
 "metadata": {
  "kernelspec": {
   "display_name": "Python 3 (ipykernel)",
   "language": "python",
   "name": "python3"
  },
  "language_info": {
   "codemirror_mode": {
    "name": "ipython",
    "version": 3
   },
   "file_extension": ".py",
   "mimetype": "text/x-python",
   "name": "python",
   "nbconvert_exporter": "python",
   "pygments_lexer": "ipython3",
   "version": "3.12.4"
  },
  "varInspector": {
   "cols": {
    "lenName": 16,
    "lenType": 16,
    "lenVar": 40
   },
   "kernels_config": {
    "python": {
     "delete_cmd_postfix": "",
     "delete_cmd_prefix": "del ",
     "library": "var_list.py",
     "varRefreshCmd": "print(var_dic_list())"
    },
    "r": {
     "delete_cmd_postfix": ") ",
     "delete_cmd_prefix": "rm(",
     "library": "var_list.r",
     "varRefreshCmd": "cat(var_dic_list()) "
    }
   },
   "types_to_exclude": [
    "module",
    "function",
    "builtin_function_or_method",
    "instance",
    "_Feature"
   ],
   "window_display": false
  },
  "vscode": {
   "interpreter": {
    "hash": "0ac57d2eed93d1985c061356ac1b47099e5703f3945d87a36acb05b5379e5e68"
   }
  }
 },
 "nbformat": 4,
 "nbformat_minor": 4
}
