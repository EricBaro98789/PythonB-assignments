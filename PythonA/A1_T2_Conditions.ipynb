{
 "cells": [
  {
   "cell_type": "markdown",
   "metadata": {},
   "source": [
    "### Instructions:\n",
    "\n",
    "- You can attempt any number of questions and in any order.  \n",
    "  See the assignment page for a description of the hurdle requirement for this assessment.\n",
    "- You may submit your practical for autograding as many times as you like to check on progress, however you will save time by checking and testing your own code before submitting.\n",
    "- Develop and check your answers in the spaces provided.\n",
    "- **Replace** the code `raise NotImplementedError()` with your solution to the question.\n",
    "- Do **NOT** remove any variables other provided markings already provided in the answer spaces.\n",
    "- Do **NOT** make any changes to this notebook outside of the spaces indicated.  \n",
    "  (If you do this, the submission system might not accept your work)\n",
    "\n",
    "### Submitting:\n",
    "\n",
    "1. Before you turn this problem in, make sure everything runs as expected by resetting this notebook.    \n",
    "   (You can do this from the menubar above by selecting `Kernel`&#8594;`Restart Kernel and Run All Cells...`)\n",
    "1. Don't forget to save your notebook after this step.\n",
    "1. Submit your .ipynb file to Gradescope via file upload or GitHub repository.\n",
    "1. You can submit as many times as needed.\n",
    "1. You **must** give your submitted file the **identical** filename to that which you downloaded without changing **any** aspects - spaces, underscores, capitalisation etc. If your operating system has changed the filename because you downloaded the file twice or more you **must** also fix this.  \n",
    "\n"
   ]
  },
  {
   "cell_type": "markdown",
   "metadata": {},
   "source": [
    "---"
   ]
  },
  {
   "cell_type": "markdown",
   "metadata": {},
   "source": [
    "#### Question 1&nbsp;&nbsp;&nbsp;&nbsp;&nbsp;&nbsp;(1 Point)\n",
    "Create the variable `q1_user_age` and assign a value (indicating user's age) to it."
   ]
  },
  {
   "cell_type": "code",
   "execution_count": 10,
   "metadata": {
    "deletable": false,
    "nbgrader": {
     "cell_type": "code",
     "checksum": "92fa9b3e0456d6397a45189c2be5adff",
     "grade": false,
     "grade_id": "q1_vars",
     "locked": false,
     "schema_version": 3,
     "solution": true,
     "task": false
    },
    "tags": []
   },
   "outputs": [],
   "source": [
    "# Create your variable here\n",
    "\n",
    "# YOUR CODE HERE\n",
    "q1_user_age = 23"
   ]
  },
  {
   "cell_type": "markdown",
   "metadata": {},
   "source": [
    "Write code to check if the the user is eligible to vote. A user is eligible to vote if they are at least 18.  \n",
    "\n",
    "Assign the string \"Eligible to vote!\" to the `output1` variable if a user is eligible to vote, otherwise, assign the string \"Not eligible to vote\" to `output1`.  \n",
    "Print `output1` at the end of the program to check whether your conditional statements are accurately working."
   ]
  },
  {
   "cell_type": "code",
   "execution_count": 11,
   "metadata": {
    "deletable": false,
    "nbgrader": {
     "cell_type": "code",
     "checksum": "76ccdbff69d5251620978f72db0779e3",
     "grade": false,
     "grade_id": "q1_soln",
     "locked": false,
     "schema_version": 3,
     "solution": true,
     "task": false
    },
    "tags": []
   },
   "outputs": [
    {
     "name": "stdout",
     "output_type": "stream",
     "text": [
      "Eligible to vote\n"
     ]
    }
   ],
   "source": [
    "\n",
    "# YOUR CODE HERE\n",
    "if q1_user_age >= 18:\n",
    "    output1 = \"Eligible to vote!\"\n",
    "    print(output1)\n",
    "else:\n",
    "    output1 = \"Not eligible to vote\"\n",
    "    print(output1)"
   ]
  },
  {
   "cell_type": "code",
   "execution_count": null,
   "metadata": {
    "deletable": false,
    "editable": false,
    "nbgrader": {
     "cell_type": "code",
     "checksum": "9e2004d008dcc756b375014880134946",
     "grade": true,
     "grade_id": "1-1_Age_Check",
     "locked": true,
     "points": 1,
     "schema_version": 3,
     "solution": false,
     "task": false
    },
    "tags": []
   },
   "outputs": [],
   "source": [
    "# Testing Cell (Do NOT not modify this cell)"
   ]
  },
  {
   "cell_type": "markdown",
   "metadata": {},
   "source": [
    "#### Question 2&nbsp;&nbsp;&nbsp;&nbsp;&nbsp;&nbsp;(1 Point)\n",
    "Given a variable `q2_username` containing a username, write a python progam to check if the username is valid.  \n",
    "A valid username is one that only contains letters (no numbers or symbols)\n",
    "\n",
    "If the username is valid, assign the string \"Valid username\" to `output2`. Otherwise, assign \"Invalid username\" to `output2`.  \n",
    "Print `output2` at the end of the program to check whether your conditional statements are accurately working."
   ]
  },
  {
   "cell_type": "code",
   "execution_count": 14,
   "metadata": {},
   "outputs": [],
   "source": [
    "q2_username = \"john1\""
   ]
  },
  {
   "cell_type": "code",
   "execution_count": 15,
   "metadata": {
    "deletable": false,
    "nbgrader": {
     "cell_type": "code",
     "checksum": "6ee64c29e529d879d3e0d7b27fa1893e",
     "grade": false,
     "grade_id": "q2_soln",
     "locked": false,
     "schema_version": 3,
     "solution": true,
     "task": false
    },
    "tags": []
   },
   "outputs": [
    {
     "name": "stdout",
     "output_type": "stream",
     "text": [
      "Invalid username\n"
     ]
    }
   ],
   "source": [
    "\n",
    "# YOUR CODE HERE\n",
    "if q2_username.isalpha():\n",
    "    output2 = 'Valid username'\n",
    "else:\n",
    "    output2 = 'Invalid username'\n",
    "print(output2)"
   ]
  },
  {
   "cell_type": "code",
   "execution_count": null,
   "metadata": {
    "deletable": false,
    "editable": false,
    "nbgrader": {
     "cell_type": "code",
     "checksum": "c4c24cd35397596658a8196fb67528f6",
     "grade": true,
     "grade_id": "2-1_Username",
     "locked": true,
     "points": 1,
     "schema_version": 3,
     "solution": false,
     "task": false
    },
    "tags": []
   },
   "outputs": [],
   "source": [
    "# Testing Cell (Do NOT not modify this cell)"
   ]
  },
  {
   "cell_type": "markdown",
   "metadata": {},
   "source": [
    "#### Question 3&nbsp;&nbsp;&nbsp;&nbsp;&nbsp;&nbsp;(1 Point)\n",
    "Given the three numbers `q3_x`, `q3_y`, and `q3_z`, write a Python program to check if `q3_x` is greater than `q3_y`, and that `q3_z` is greater than `q3_x`.  \n",
    "\n",
    "If both conditions are True, assign the string \"Conditions met\" to `output3`. Otherwise, `output3` should be \"Conditions NOT met\".  \n",
    "Print `output3` at the end of the program to check whether your conditional statements are accurately working."
   ]
  },
  {
   "cell_type": "code",
   "execution_count": 16,
   "metadata": {},
   "outputs": [],
   "source": [
    "q3_x, q3_y, q3_z = 220, 30, 490"
   ]
  },
  {
   "cell_type": "code",
   "execution_count": 18,
   "metadata": {
    "deletable": false,
    "nbgrader": {
     "cell_type": "code",
     "checksum": "01ec7b746e72a43a7a6e50aa90dc8a0f",
     "grade": false,
     "grade_id": "q3_soln",
     "locked": false,
     "schema_version": 3,
     "solution": true,
     "task": false
    },
    "tags": []
   },
   "outputs": [
    {
     "name": "stdout",
     "output_type": "stream",
     "text": [
      "Conditions met\n"
     ]
    }
   ],
   "source": [
    "\n",
    "# YOUR CODE HERE\n",
    "if q3_x > q3_y and q3_z > q3_x:\n",
    "    output3 = 'Conditions met'\n",
    "else:\n",
    "    output3 = 'Conditions NOT met'\n",
    "print(output3)"
   ]
  },
  {
   "cell_type": "code",
   "execution_count": null,
   "metadata": {
    "deletable": false,
    "editable": false,
    "nbgrader": {
     "cell_type": "code",
     "checksum": "e730feb127a9089825174f6e0a52d283",
     "grade": true,
     "grade_id": "3-1_Compare_numbers",
     "locked": true,
     "points": 1,
     "schema_version": 3,
     "solution": false,
     "task": false
    },
    "tags": []
   },
   "outputs": [],
   "source": [
    "# Testing Cell (Do NOT not modify this cell)"
   ]
  },
  {
   "cell_type": "markdown",
   "metadata": {},
   "source": [
    "#### Question 4&nbsp;&nbsp;&nbsp;&nbsp;&nbsp;&nbsp;(1 Point)\n",
    "Create the variable `q4_num` and assign a number to it."
   ]
  },
  {
   "cell_type": "code",
   "execution_count": 28,
   "metadata": {
    "deletable": false,
    "nbgrader": {
     "cell_type": "code",
     "checksum": "7b3c84451d65787236de6223b69f54e1",
     "grade": false,
     "grade_id": "q4_vars",
     "locked": false,
     "schema_version": 3,
     "solution": true,
     "task": false
    },
    "tags": []
   },
   "outputs": [],
   "source": [
    "# Create your variable here\n",
    "\n",
    "# YOUR CODE HERE\n",
    "q4_num = -5"
   ]
  },
  {
   "cell_type": "markdown",
   "metadata": {},
   "source": [
    "Write code to check if the number is negative. \n",
    "\n",
    "If the number is positive or zero, assign the string \"This is a positive number!\" to the `output4` variable. Otherwise, assign the string \"This is a negative number!\" to `output4`.  \n",
    "Print `output4` at the end of the program to check whether your conditional statements are accurately working."
   ]
  },
  {
   "cell_type": "code",
   "execution_count": 29,
   "metadata": {
    "deletable": false,
    "nbgrader": {
     "cell_type": "code",
     "checksum": "f3ccd12065c7bb409f40a0470b2c2555",
     "grade": false,
     "grade_id": "q4_soln",
     "locked": false,
     "schema_version": 3,
     "solution": true,
     "task": false
    },
    "tags": []
   },
   "outputs": [
    {
     "data": {
      "text/plain": [
       "'This is a negative number!'"
      ]
     },
     "execution_count": 29,
     "metadata": {},
     "output_type": "execute_result"
    }
   ],
   "source": [
    "\n",
    "# YOUR CODE HERE\n",
    "if q4_num >= 0:\n",
    "    output4 = 'This is a positive number!'\n",
    "else:\n",
    "    output4 = 'This is a negative number!'\n",
    "output4"
   ]
  },
  {
   "cell_type": "code",
   "execution_count": null,
   "metadata": {
    "deletable": false,
    "editable": false,
    "nbgrader": {
     "cell_type": "code",
     "checksum": "eeb0afc7765c893187d4b9b542e14373",
     "grade": true,
     "grade_id": "4-1_Check_positive",
     "locked": true,
     "points": 1,
     "schema_version": 3,
     "solution": false,
     "task": false
    },
    "tags": []
   },
   "outputs": [],
   "source": [
    "# Testing Cell (Do NOT not modify this cell)"
   ]
  },
  {
   "cell_type": "markdown",
   "metadata": {},
   "source": [
    "#### Question 5&nbsp;&nbsp;&nbsp;&nbsp;&nbsp;&nbsp;(1 Point)\n",
    "Given the three numbers `q5_x`, `q5_y` and `q5_z`, write code to check if either `q5_x` is greater than `q5_y` or `q5_x` is greater than `q5_z`.  \n",
    "If either condition is true, do nothing, but if both conditions are false create the variable `output5` and assign the string \"No conditions are met\" to it.\n",
    "\n",
    "***\n",
    "\n",
    "<details>\n",
    "  <summary><span style=\"color:blue\">Click to see Hints</span></summary>\n",
    "    \n",
    "* if statements cannot be empty. However, if you want have an if statement with no content, you can add a `pass` statement to avoid getting an error in the program.  <br />\n",
    "* Try completing this exercise both with and without using a `pass` statement\n",
    "</details>"
   ]
  },
  {
   "cell_type": "code",
   "execution_count": 31,
   "metadata": {},
   "outputs": [],
   "source": [
    "q5_x, q5_y, q5_z = 100, 220, 490"
   ]
  },
  {
   "cell_type": "code",
   "execution_count": 32,
   "metadata": {
    "deletable": false,
    "nbgrader": {
     "cell_type": "code",
     "checksum": "940dbc02b5ac982e417c7313919bab45",
     "grade": false,
     "grade_id": "q5_soln",
     "locked": false,
     "schema_version": 3,
     "solution": true,
     "task": false
    },
    "tags": []
   },
   "outputs": [
    {
     "data": {
      "text/plain": [
       "'No conditions are met'"
      ]
     },
     "execution_count": 32,
     "metadata": {},
     "output_type": "execute_result"
    }
   ],
   "source": [
    "\n",
    "# YOUR CODE HERE\n",
    "if q5_x <= q5_y and q5_x <= q5_z:\n",
    "    output5 = 'No conditions are met'\n",
    "else:\n",
    "    pass\n"
   ]
  },
  {
   "cell_type": "code",
   "execution_count": null,
   "metadata": {
    "deletable": false,
    "editable": false,
    "nbgrader": {
     "cell_type": "code",
     "checksum": "bc9512fa518da376237f6d6c043f6d31",
     "grade": true,
     "grade_id": "5-1_Compare_more_numbers",
     "locked": true,
     "points": 1,
     "schema_version": 3,
     "solution": false,
     "task": false
    },
    "tags": []
   },
   "outputs": [],
   "source": [
    "# Testing Cell (Do NOT not modify this cell)"
   ]
  },
  {
   "cell_type": "markdown",
   "metadata": {},
   "source": [
    "#### Question 6&nbsp;&nbsp;&nbsp;&nbsp;&nbsp;&nbsp;(3 Points)\n",
    "Create variable `q6_username` and assign a username to it.  "
   ]
  },
  {
   "cell_type": "code",
   "execution_count": 96,
   "metadata": {
    "deletable": false,
    "nbgrader": {
     "cell_type": "code",
     "checksum": "3dbe079c4c6bbbe33305a5d9e6db2278",
     "grade": false,
     "grade_id": "q6_vars",
     "locked": false,
     "schema_version": 3,
     "solution": true,
     "task": false
    },
    "tags": []
   },
   "outputs": [],
   "source": [
    "# Create your variable here\n",
    "\n",
    "# YOUR CODE HERE\n",
    "q6_username = 'Eric Baron'"
   ]
  },
  {
   "cell_type": "markdown",
   "metadata": {},
   "source": [
    "Write code to create a basic user login check:\n",
    "\n",
    "- If a username is valid, display the welcome message \"Good morning user! Welcome to the dashboard.\".\n",
    "  - A valid username is any string that does not begin with `&`\n",
    "  - Usernames are not case-sensitive ('User', 'user' and 'uSEr' are all the same username)\n",
    "- The username \"system admin\" belongs to a special administrative account.\n",
    "  - \"system admin\" should recieve the welcome message \"Welcome to the system admin dashboard!\"\n",
    "  - Remember, usernames are not case-sensitive.\n",
    "- If the username is NOT valid, the message should be \"Invalid user entry!\"\n",
    "  \n",
    "Assign the message to a variable `output6`.  \n",
    "Print `output6` at the end of the program to check whether your conditional statements are accurately working."
   ]
  },
  {
   "cell_type": "code",
   "execution_count": 102,
   "metadata": {
    "deletable": false,
    "nbgrader": {
     "cell_type": "code",
     "checksum": "5d26e9faa451a7f511fe7e526998845a",
     "grade": false,
     "grade_id": "q6_soln",
     "locked": false,
     "schema_version": 3,
     "solution": true,
     "task": false
    },
    "tags": []
   },
   "outputs": [
    {
     "data": {
      "text/plain": [
       "'Good morning user! Welcome to the dashboard.'"
      ]
     },
     "execution_count": 102,
     "metadata": {},
     "output_type": "execute_result"
    }
   ],
   "source": [
    "\n",
    "# YOUR CODE HERE\n",
    "q6_username = q6_username.lower()\n",
    "if q6_username.startswith(\"&\"):\n",
    "    output6 = 'Invalid user entry!'\n",
    "elif q6_username == 'system admin':\n",
    "    output6 ='Welcome to the system admin dashboard!'\n",
    "else:\n",
    "    output6 ='Good morning user! Welcome to the dashboard.'\n",
    "\n",
    "output6"
   ]
  },
  {
   "cell_type": "code",
   "execution_count": null,
   "metadata": {
    "deletable": false,
    "editable": false,
    "nbgrader": {
     "cell_type": "code",
     "checksum": "5228bb75f0d330ce8e3552695a9bcf72",
     "grade": true,
     "grade_id": "6-1_User_login",
     "locked": true,
     "points": 3,
     "schema_version": 3,
     "solution": false,
     "task": false
    },
    "tags": []
   },
   "outputs": [],
   "source": [
    "# Testing Cell (Do NOT not modify this cell)"
   ]
  },
  {
   "cell_type": "markdown",
   "metadata": {},
   "source": [
    "#### Question 7&nbsp;&nbsp;&nbsp;&nbsp;&nbsp;&nbsp;(3 Points) \n",
    "Create the variable `q7_num` and assign a number to it."
   ]
  },
  {
   "cell_type": "code",
   "execution_count": 60,
   "metadata": {
    "deletable": false,
    "nbgrader": {
     "cell_type": "code",
     "checksum": "9ff5b27181731e4c4c18aeb1ac65ef3a",
     "grade": false,
     "grade_id": "q7_vars",
     "locked": false,
     "schema_version": 3,
     "solution": true,
     "task": false
    },
    "tags": []
   },
   "outputs": [],
   "source": [
    "# Create your variable here\n",
    "\n",
    "# YOUR CODE HERE\n",
    "q7_num = 30"
   ]
  },
  {
   "cell_type": "markdown",
   "metadata": {},
   "source": [
    "Write a Python program which assigns `True` (boolean) to the variable `output7`, if the number `q7_num` is both even and divisible by 5. Otherwise, assign `False` (boolean) to the variable `output7`. Print `output7` at the end of the program to check whether your conditional statements are accurately working."
   ]
  },
  {
   "cell_type": "code",
   "execution_count": 61,
   "metadata": {
    "deletable": false,
    "nbgrader": {
     "cell_type": "code",
     "checksum": "e2ed7b63eaf474765c3808c8dff3b4a4",
     "grade": false,
     "grade_id": "q7_soln",
     "locked": false,
     "schema_version": 3,
     "solution": true,
     "task": false
    },
    "tags": []
   },
   "outputs": [
    {
     "data": {
      "text/plain": [
       "True"
      ]
     },
     "execution_count": 61,
     "metadata": {},
     "output_type": "execute_result"
    }
   ],
   "source": [
    "\n",
    "# YOUR CODE HERE\n",
    "if q7_num % 2 ==0 and q7_num % 5 == 0:\n",
    "    output7 = True\n",
    "else:\n",
    "    output7 = False\n",
    "output7 "
   ]
  },
  {
   "cell_type": "code",
   "execution_count": 52,
   "metadata": {
    "deletable": false,
    "editable": false,
    "nbgrader": {
     "cell_type": "code",
     "checksum": "bce05d3e567b89c4bd4ad49e910388d8",
     "grade": true,
     "grade_id": "7-1_Divisible",
     "locked": true,
     "points": 3,
     "schema_version": 3,
     "solution": false,
     "task": false
    },
    "tags": []
   },
   "outputs": [],
   "source": [
    "# Testing Cell (Do NOT not modify this cell)"
   ]
  },
  {
   "cell_type": "markdown",
   "metadata": {},
   "source": [
    "#### Question 8&nbsp;&nbsp;&nbsp;&nbsp;&nbsp;&nbsp;(3 Points) \n",
    "Create the variable `q8_num` and assign a decimal number value to it. "
   ]
  },
  {
   "cell_type": "code",
   "execution_count": 77,
   "metadata": {
    "deletable": false,
    "nbgrader": {
     "cell_type": "code",
     "checksum": "066c196b75ea460c2e85cdd1018db325",
     "grade": false,
     "grade_id": "q8_vars",
     "locked": false,
     "schema_version": 3,
     "solution": true,
     "task": false
    },
    "tags": []
   },
   "outputs": [],
   "source": [
    "# Create your variable here\n",
    "\n",
    "# YOUR CODE HERE\n",
    "q8_num = 8.6616"
   ]
  },
  {
   "cell_type": "markdown",
   "metadata": {},
   "source": [
    "Write a Python program which extracts the decimal part of `q8_num` rounded to 2 decimal places, and assigns that part to the variable `output8` (e.g., the decimal part of `91.12` is `0.12`).  \n",
    "If the decimal part **before rounding** is zero (e.g., `12.0`, `12.00`) assign the string: \"Not Found\" to the variable `output8`.  \n",
    "Print `output8` at the end of the program to check whether your conditional statements are accurately working."
   ]
  },
  {
   "cell_type": "code",
   "execution_count": 78,
   "metadata": {
    "deletable": false,
    "nbgrader": {
     "cell_type": "code",
     "checksum": "6ae8539a3460e01eafa75d7e61e0478c",
     "grade": false,
     "grade_id": "q8_soln",
     "locked": false,
     "schema_version": 3,
     "solution": true,
     "task": false
    },
    "tags": []
   },
   "outputs": [
    {
     "data": {
      "text/plain": [
       "0.66"
      ]
     },
     "execution_count": 78,
     "metadata": {},
     "output_type": "execute_result"
    }
   ],
   "source": [
    "\n",
    "# YOUR CODE HERE\n",
    "decimal = q8_num - int(q8_num)\n",
    "round_decimal = round(decimal, 2)\n",
    "output8 = round_decimal\n",
    "if decimal == 0:\n",
    "    output8 = 'Not Found'\n",
    "output8"
   ]
  },
  {
   "cell_type": "code",
   "execution_count": null,
   "metadata": {
    "deletable": false,
    "editable": false,
    "nbgrader": {
     "cell_type": "code",
     "checksum": "a40cff0ea600a177d774824f53083262",
     "grade": true,
     "grade_id": "8-1_Decimal_component",
     "locked": true,
     "points": 3,
     "schema_version": 3,
     "solution": false,
     "task": false
    },
    "tags": []
   },
   "outputs": [],
   "source": [
    "# Testing Cell (Do NOT not modify this cell)"
   ]
  },
  {
   "cell_type": "markdown",
   "metadata": {},
   "source": [
    "#### Question 9&nbsp;&nbsp;&nbsp;&nbsp;&nbsp;&nbsp;(3 Points)\n",
    "Create two variables `q9_height` and `q9_width`, and assign them values, where the variables represent the height and width of a rectangle, respectively."
   ]
  },
  {
   "cell_type": "code",
   "execution_count": 83,
   "metadata": {
    "deletable": false,
    "nbgrader": {
     "cell_type": "code",
     "checksum": "9f882f21c5834534596203f857e589c6",
     "grade": false,
     "grade_id": "q9_vars",
     "locked": false,
     "schema_version": 3,
     "solution": true,
     "task": false
    },
    "tags": []
   },
   "outputs": [],
   "source": [
    "# Create your variables here\n",
    "\n",
    "# YOUR CODE HERE\n",
    "q9_height = 3\n",
    "q9_width = 3"
   ]
  },
  {
   "cell_type": "markdown",
   "metadata": {},
   "source": [
    "Write a Python program to check if the rectangle is square or not.  \n",
    "- If it is a square assign the string \"A square of size: WIDTH\" to `output9` variable (where WIDTH should be replaced with the numeric value that the user entered).\n",
    "- If it is not a square, `output9` should be \"A rectangle of width: WIDTH and height: HEIGHT\" (where WIDTH and HEIGHT should be replaced with the numeric values that the user entered).  \n",
    "Print `output9` at the end of the program to check whether your conditional statements are accurately working."
   ]
  },
  {
   "cell_type": "code",
   "execution_count": 84,
   "metadata": {
    "deletable": false,
    "nbgrader": {
     "cell_type": "code",
     "checksum": "ccd603b24e6cff76feb87771fa202fc2",
     "grade": false,
     "grade_id": "q9_soln",
     "locked": false,
     "schema_version": 3,
     "solution": true,
     "task": false
    },
    "tags": []
   },
   "outputs": [
    {
     "data": {
      "text/plain": [
       "'A square of size: 3'"
      ]
     },
     "execution_count": 84,
     "metadata": {},
     "output_type": "execute_result"
    }
   ],
   "source": [
    "\n",
    "# YOUR CODE HERE\n",
    "if q9_height == q9_width:\n",
    "    output9 = f'A square of size: {q9_height}'\n",
    "else:\n",
    "    output9 = f'A rectangle of width: {q9_width} and height: {q9_height}'\n",
    "output9"
   ]
  },
  {
   "cell_type": "code",
   "execution_count": null,
   "metadata": {
    "deletable": false,
    "editable": false,
    "nbgrader": {
     "cell_type": "code",
     "checksum": "cc19b3818e636839dd0606cfd94c318e",
     "grade": true,
     "grade_id": "9-1_Rectangle",
     "locked": true,
     "points": 3,
     "schema_version": 3,
     "solution": false,
     "task": false
    },
    "tags": []
   },
   "outputs": [],
   "source": [
    "# Testing Cell (Do NOT not modify this cell)"
   ]
  },
  {
   "cell_type": "markdown",
   "metadata": {},
   "source": [
    "#### Question 10&nbsp;&nbsp;&nbsp;&nbsp;&nbsp;&nbsp;(3 Points)\n",
    "Create two variables `q10_num1` and `q10_num2` and assign numbers to them."
   ]
  },
  {
   "cell_type": "code",
   "execution_count": 91,
   "metadata": {
    "deletable": false,
    "nbgrader": {
     "cell_type": "code",
     "checksum": "825f4d77ec32c88c7b4d77d2b5715cdf",
     "grade": false,
     "grade_id": "q10_vars",
     "locked": false,
     "schema_version": 3,
     "solution": true,
     "task": false
    },
    "tags": []
   },
   "outputs": [],
   "source": [
    "# Create your variables here\n",
    "\n",
    "# YOUR CODE HERE\n",
    "q10_num1, q10_num2 = 1, 10"
   ]
  },
  {
   "cell_type": "markdown",
   "metadata": {},
   "source": [
    "Get the sum of these two numbers and set `output10` to that sum.  \n",
    "\n",
    "- If the sum of these two numbers is between 20-40 (inclusive), set `output10` to 40.  \n",
    "- If the sum of these two numbers is between 120-140 (inclusive), set `output10` to 140.  \n",
    "- Otherwise, keep the original sum of two numbers without doing any changes.  \n",
    "\n",
    "Print `output10` at the end of the program to check whether your conditional statements are accurately working."
   ]
  },
  {
   "cell_type": "code",
   "execution_count": 92,
   "metadata": {
    "deletable": false,
    "nbgrader": {
     "cell_type": "code",
     "checksum": "8e50ae01191ba552706bf583e2d548b4",
     "grade": false,
     "grade_id": "q10_soln",
     "locked": false,
     "schema_version": 3,
     "solution": true,
     "task": false
    },
    "tags": []
   },
   "outputs": [
    {
     "data": {
      "text/plain": [
       "11"
      ]
     },
     "execution_count": 92,
     "metadata": {},
     "output_type": "execute_result"
    }
   ],
   "source": [
    "\n",
    "# YOUR CODE HERE\n",
    "output10 = q10_num1 + q10_num2\n",
    "if 20 <= output10 <= 40:\n",
    "    output10 = 40\n",
    "elif 120 <=output10 <= 140:\n",
    "    output10 = 140\n",
    "else:\n",
    "    pass\n",
    "output10 "
   ]
  },
  {
   "cell_type": "code",
   "execution_count": null,
   "metadata": {
    "deletable": false,
    "editable": false,
    "nbgrader": {
     "cell_type": "code",
     "checksum": "99103bda0bb00feb12f028c5fb37f704",
     "grade": true,
     "grade_id": "10-1_Conditional_sum",
     "locked": true,
     "points": 3,
     "schema_version": 3,
     "solution": false,
     "task": false
    },
    "tags": []
   },
   "outputs": [],
   "source": [
    "# Testing Cell (Do NOT not modify this cell)"
   ]
  },
  {
   "cell_type": "markdown",
   "metadata": {},
   "source": [
    "#### Question 11&nbsp;&nbsp;&nbsp;&nbsp;&nbsp;&nbsp;(4 Points)\n",
    "Create a variable `q11_num` and assign a number to it."
   ]
  },
  {
   "cell_type": "code",
   "execution_count": 108,
   "metadata": {
    "deletable": false,
    "nbgrader": {
     "cell_type": "code",
     "checksum": "ca11ca27eea9ce9f1c92557db5b7f5a0",
     "grade": false,
     "grade_id": "q11_vars",
     "locked": false,
     "schema_version": 3,
     "solution": true,
     "task": false
    },
    "tags": []
   },
   "outputs": [],
   "source": [
    "# Create your variable here\n",
    "\n",
    "# YOUR CODE HERE\n",
    "q11_num = 9"
   ]
  },
  {
   "cell_type": "markdown",
   "metadata": {},
   "source": [
    "Write a Python program to check whether this number is divisible by 4 or divisible by 9. \n",
    "- If so, assign the string `The number NUMBER is \"divisible by 4\" or \"divisible by 9\"` to `output11`. \n",
    "- If not divisible by either 4 or 9, check if `q11_num` is odd. \n",
    "  - If yes, assign the string `The number NUMBER is \"odd\"` to `output11`. \n",
    "- Otherwise, assign the string `The number NUMBER is not \"divisible by 4\" or \"divisible by 9\" or \"odd\"` and assign it to the `output11` variable.\n",
    "\n",
    "Where NUMBER in the given strings should be replaced with the value of `q11_num`. Recall that when handling strings, you can escape the `\"` character like: `\\\"` in order to append it to a string. \n",
    "\n",
    "Print `output11` at the end of the program to check whether your conditional statements are accurately working. You will need to **exactly** match the formatted strings above.\n",
    "\n",
    "***\n",
    "\n",
    "<details>\n",
    "  <summary><span style=\"color:blue\">Click to see Hints</span></summary>\n",
    "    \n",
    "  * You will need to use if...elif ladder to do this.\n",
    "</details>"
   ]
  },
  {
   "cell_type": "code",
   "execution_count": 109,
   "metadata": {
    "deletable": false,
    "nbgrader": {
     "cell_type": "code",
     "checksum": "6703715d45725c29c0569f5919e7e171",
     "grade": false,
     "grade_id": "q11_soln",
     "locked": false,
     "schema_version": 3,
     "solution": true,
     "task": false
    },
    "tags": []
   },
   "outputs": [
    {
     "data": {
      "text/plain": [
       "'The number NUMBER is \"divisible by 4\" or \"divisible by 9\"'"
      ]
     },
     "execution_count": 109,
     "metadata": {},
     "output_type": "execute_result"
    }
   ],
   "source": [
    "\n",
    "# YOUR CODE HERE\n",
    "if q11_num % 4 ==0 or q11_num % 9 == 0:\n",
    "    output11 = f'The number {q11_num} is \"divisible by 4\" or \"divisible by 9\"'\n",
    "else:\n",
    "    if q11_num % 2:\n",
    "        output11 = f'The number {q11_num} is \"odd\"'\n",
    "    else:\n",
    "        output11 = f'The number {q11_num} is not \"divisible by 4\" or \"divisible by 9\" or \"odd\"'\n",
    "output11"
   ]
  },
  {
   "cell_type": "code",
   "execution_count": null,
   "metadata": {
    "deletable": false,
    "editable": false,
    "nbgrader": {
     "cell_type": "code",
     "checksum": "b093a9d2bd689e74de1fe8e4b12edc68",
     "grade": true,
     "grade_id": "11-1_Divisible_further",
     "locked": true,
     "points": 4,
     "schema_version": 3,
     "solution": false,
     "task": false
    },
    "tags": []
   },
   "outputs": [],
   "source": [
    "# Testing Cell (Do NOT not modify this cell)"
   ]
  },
  {
   "cell_type": "markdown",
   "metadata": {},
   "source": [
    "#### Question 12&nbsp;&nbsp;&nbsp;&nbsp;&nbsp;&nbsp;(4 Points)\n",
    "Create the variables `q12_num1`, `q12_num2` and `q12_num3`, and assign numbers to each of them. "
   ]
  },
  {
   "cell_type": "code",
   "execution_count": 128,
   "metadata": {
    "deletable": false,
    "nbgrader": {
     "cell_type": "code",
     "checksum": "85005865117b76b6699f697dcadfcd75",
     "grade": false,
     "grade_id": "q12_vars",
     "locked": false,
     "schema_version": 3,
     "solution": true,
     "task": false
    },
    "tags": []
   },
   "outputs": [],
   "source": [
    "# Create your variables here\n",
    "\n",
    "# YOUR CODE HERE\n",
    "q12_num1, q12_num2, q12_num3 = 42, 51, 51"
   ]
  },
  {
   "cell_type": "markdown",
   "metadata": {},
   "source": [
    "Write a Python program to determine the highest number out of these three numbers using conditional statements (i.e., without using methods such as `min()`). Create the variable `output12` and assign the string \"The highest number is: NUMBER\" (Where NUMBER should be replaced with the highest number). \n",
    "\n",
    "If `q12_num1`, `q12_num2` and `q12_num3` are the same, `output12` should be \"Equal numbers!\". \n",
    "\n",
    "***\n",
    "\n",
    "<details>\n",
    "  <summary><span style=\"color:blue\">Click to see Hints</span></summary>\n",
    "    \n",
    "  * You will need to use if...elif ladder to do this.\n",
    "    \n",
    "</details>"
   ]
  },
  {
   "cell_type": "code",
   "execution_count": 162,
   "metadata": {
    "deletable": false,
    "nbgrader": {
     "cell_type": "code",
     "checksum": "0a60cf6ccd7cc999dee3715d3a786bad",
     "grade": false,
     "grade_id": "q12_soln",
     "locked": false,
     "schema_version": 3,
     "solution": true,
     "task": false
    },
    "tags": []
   },
   "outputs": [
    {
     "data": {
      "text/plain": [
       "'The highest number is: 52'"
      ]
     },
     "execution_count": 162,
     "metadata": {},
     "output_type": "execute_result"
    }
   ],
   "source": [
    "\n",
    "# YOUR CODE HERE\n",
    "\n",
    "if q12_num1 == q12_num2 == q12_num3:\n",
    "    output12 = 'Equal numbers!'\n",
    "else:\n",
    "    if q12_num1 >= q12_num2 and q12_num1 >= q12_num3:\n",
    "        output12 = f'The highest number is: {q12_num1}'\n",
    "    elif q12_num2 >= q12_num1 and q12_num2 >= q12_num3:\n",
    "        output12 = f'The highest number is: {q12_num2}'\n",
    "    elif q12_num3 >= q12_num1 and q12_num3 >= q12_num2:\n",
    "        output12 = f'The highest number is: {q12_num3}'\n",
    "\n",
    "output12"
   ]
  },
  {
   "cell_type": "code",
   "execution_count": null,
   "metadata": {
    "deletable": false,
    "editable": false,
    "nbgrader": {
     "cell_type": "code",
     "checksum": "3d9da9256436243a36bfeba643f2a9aa",
     "grade": true,
     "grade_id": "12-1_Max",
     "locked": true,
     "points": 4,
     "schema_version": 3,
     "solution": false,
     "task": false
    },
    "tags": []
   },
   "outputs": [],
   "source": [
    "# Testing Cell (Do NOT not modify this cell)"
   ]
  },
  {
   "cell_type": "markdown",
   "metadata": {},
   "source": [
    "#### Question 13&nbsp;&nbsp;&nbsp;&nbsp;&nbsp;&nbsp;(4 Points)\n",
    "Create the variable `q13_input` and assign a letter (e.g. `'E'`) to it."
   ]
  },
  {
   "cell_type": "code",
   "execution_count": 151,
   "metadata": {
    "deletable": false,
    "nbgrader": {
     "cell_type": "code",
     "checksum": "d286cbd5a0c8bfe9e2690961292c8b77",
     "grade": false,
     "grade_id": "q13_vars",
     "locked": false,
     "schema_version": 3,
     "solution": true,
     "task": false
    },
    "tags": []
   },
   "outputs": [],
   "source": [
    "# Create your variable here\n",
    "\n",
    "# YOUR CODE HERE\n",
    "q13_input = 'E'"
   ]
  },
  {
   "cell_type": "markdown",
   "metadata": {},
   "source": [
    "Write a Python program to decide whether `q13_input` is a vowel or consonant:\n",
    "* 'a', 'e', 'i', 'o', 'u' are vowels. If `q13_input` is one of them, the string `LETTER is a vowel.` (where LETTER is the value of `q13_input`) should be assigned to `output13`.\n",
    "* For other letters, `output13` should be `LETTER is a consonant.` (again, where LETTER is the value of `q13_input`).\n",
    "* The program should work with both upper-case and lower-case letters.\n",
    "* Your program will need to **exactly** match the expected formats above.\n",
    "\n",
    "***\n",
    "<details>\n",
    "  <summary><span style=\"color:blue\">Click to see Hints</span></summary>\n",
    "    \n",
    "* Check the case of the letters: it maybe a good idea to lowercase the input when checking the vowels.\n",
    "</details>"
   ]
  },
  {
   "cell_type": "code",
   "execution_count": 152,
   "metadata": {
    "deletable": false,
    "nbgrader": {
     "cell_type": "code",
     "checksum": "e9df023159e002808b63af94d5d9fd67",
     "grade": false,
     "grade_id": "q13_soln",
     "locked": false,
     "schema_version": 3,
     "solution": true,
     "task": false
    },
    "tags": []
   },
   "outputs": [
    {
     "data": {
      "text/plain": [
       "'E is a vowel.'"
      ]
     },
     "execution_count": 152,
     "metadata": {},
     "output_type": "execute_result"
    }
   ],
   "source": [
    "\n",
    "# YOUR CODE HERE\n",
    "\n",
    "vowels = ['a', 'e', 'i', 'o', 'u']\n",
    "if q13_input.lower() in vowels:\n",
    "    output13 = f'{q13_input} is a vowel.'\n",
    "else:\n",
    "    output13 = f'{q13_input} is a consonant.'\n",
    "output13"
   ]
  },
  {
   "cell_type": "code",
   "execution_count": null,
   "metadata": {
    "deletable": false,
    "editable": false,
    "nbgrader": {
     "cell_type": "code",
     "checksum": "49a84e4d17359429e3c134a041e7c1a2",
     "grade": true,
     "grade_id": "13-1_Vowels_and_consonants",
     "locked": true,
     "points": 4,
     "schema_version": 3,
     "solution": false,
     "task": false
    },
    "tags": []
   },
   "outputs": [],
   "source": [
    "# Testing Cell (Do NOT not modify this cell)"
   ]
  },
  {
   "cell_type": "markdown",
   "metadata": {},
   "source": [
    "#### Question 14&nbsp;&nbsp;&nbsp;&nbsp;&nbsp;&nbsp;(4 Points)\n",
    "Write a Python program to convert a given dog's age (which is in human years) into dog's years. For this purpose, use the below-mentioned guidelines.\n",
    "\n",
    "1. For the first 2 years, one dog year is equivalent to 10.5 human years. \n",
    "2. After the first 2 years, each dog year is equivalent to 4 human years. \n",
    "\n",
    "Create the variable `q14_dogage` and assign 20 to it. When a dog's age is 20 in human years, the expected output should be `93`in dog's years.\n",
    "\n",
    "Use the variable `output14` to calculate the dog's age in dog's years using conditional statements. If `q14_dogage` is mistakenly set to a negative value (e.g., `-30`) as an input, `output14` should be \"No negative values\"."
   ]
  },
  {
   "cell_type": "code",
   "execution_count": 158,
   "metadata": {
    "deletable": false,
    "nbgrader": {
     "cell_type": "code",
     "checksum": "187cb3b976cf4555f1b9220d17ce505c",
     "grade": false,
     "grade_id": "q14_vars",
     "locked": false,
     "schema_version": 3,
     "solution": true,
     "task": false
    },
    "tags": []
   },
   "outputs": [],
   "source": [
    "# Create your variable here\n",
    "\n",
    "# YOUR CODE HERE\n",
    "q14_dogage = 4.5\n"
   ]
  },
  {
   "cell_type": "code",
   "execution_count": 163,
   "metadata": {
    "deletable": false,
    "nbgrader": {
     "cell_type": "code",
     "checksum": "cad39977585d6876202733958b37f2a5",
     "grade": false,
     "grade_id": "q14_soln",
     "locked": false,
     "schema_version": 3,
     "solution": true,
     "task": false
    },
    "tags": []
   },
   "outputs": [
    {
     "data": {
      "text/plain": [
       "31.0"
      ]
     },
     "execution_count": 163,
     "metadata": {},
     "output_type": "execute_result"
    }
   ],
   "source": [
    "\n",
    "# YOUR CODE HERE\n",
    "if q14_dogage < 0:\n",
    "    output14 = 'No negative values'\n",
    "elif q14_dogage < 2:\n",
    "    output14 = 10.5 * q14_dogage\n",
    "else:\n",
    "    output14 = 21 + (q14_dogage - 2) * 4\n",
    "output14"
   ]
  },
  {
   "cell_type": "code",
   "execution_count": null,
   "metadata": {
    "deletable": false,
    "editable": false,
    "nbgrader": {
     "cell_type": "code",
     "checksum": "757e010873985421edf59c0954a54235",
     "grade": true,
     "grade_id": "14-1_Dog_age",
     "locked": true,
     "points": 4,
     "schema_version": 3,
     "solution": false,
     "task": false
    },
    "tags": []
   },
   "outputs": [],
   "source": [
    "# Testing Cell (Do NOT not modify this cell)"
   ]
  },
  {
   "cell_type": "markdown",
   "metadata": {},
   "source": [
    "#### Question 15 &nbsp;&nbsp;&nbsp;&nbsp;&nbsp;&nbsp;(4 Points) \n",
    "Write a Python program to determine from the three numbers whether the given triangle type is equilateral, isosceles or scalene. \n",
    "\n",
    "* The Equilateral triangle has **all** sides with equal length.\n",
    "* The Scalene triangle  has **no** sides with equal length.\n",
    "* The Isosceles triangle has **two** sides with equal length.\n",
    "\n",
    "Create `q15_side1`, `q15_side2` and `q15_side3` variables (which indicate the three sides of a triangle) and assign three numbers.\n",
    "\n",
    "If the triangle is equilateral, assign \"This is an equilateral triangle.\" to `output15`.  \n",
    "If isosceles, assign \"This is an isosceles triangle.\" to `output15`.  \n",
    "If scalene, assign \"This is a scalene triangle.\" to `output15`."
   ]
  },
  {
   "cell_type": "code",
   "execution_count": 182,
   "metadata": {
    "deletable": false,
    "nbgrader": {
     "cell_type": "code",
     "checksum": "6bca2d545e77d7e62fc9d5c7094ca246",
     "grade": false,
     "grade_id": "q15_vars",
     "locked": false,
     "schema_version": 3,
     "solution": true,
     "task": false
    },
    "tags": []
   },
   "outputs": [],
   "source": [
    "# Create your variables here\n",
    "\n",
    "# YOUR CODE HERE\n",
    "q15_side1, q15_side2, q15_side3 = 3, 4, 6"
   ]
  },
  {
   "cell_type": "code",
   "execution_count": 183,
   "metadata": {
    "deletable": false,
    "nbgrader": {
     "cell_type": "code",
     "checksum": "a2f3238a4fb5e0a441673b5fd2628af0",
     "grade": false,
     "grade_id": "q15_soln",
     "locked": false,
     "schema_version": 3,
     "solution": true,
     "task": false
    },
    "tags": []
   },
   "outputs": [
    {
     "data": {
      "text/plain": [
       "'This is a scalene triangle.'"
      ]
     },
     "execution_count": 183,
     "metadata": {},
     "output_type": "execute_result"
    }
   ],
   "source": [
    "\n",
    "# YOUR CODE HERE\n",
    "if q15_side1 == q15_side2 and q15_side1 == q15_side3 and q15_side2 == q15_side3:\n",
    "    output15 = 'This is an equilateral triangle.'\n",
    "    \n",
    "elif q15_side1 != q15_side2 and q15_side1 != q15_side3 and q15_side2 != q15_side3:\n",
    "    output15 = 'This is a scalene triangle.'\n",
    "else:\n",
    "    output15 = 'This is an isosceles triangle.'\n",
    "output15"
   ]
  },
  {
   "cell_type": "code",
   "execution_count": null,
   "metadata": {
    "deletable": false,
    "editable": false,
    "nbgrader": {
     "cell_type": "code",
     "checksum": "15c863bf94514bda717e2037d3d9a8ad",
     "grade": true,
     "grade_id": "15-1_Triangles",
     "locked": true,
     "points": 4,
     "schema_version": 3,
     "solution": false,
     "task": false
    },
    "tags": []
   },
   "outputs": [],
   "source": [
    "# Testing Cell (Do NOT not modify this cell)"
   ]
  },
  {
   "cell_type": "markdown",
   "metadata": {},
   "source": [
    "#### Question 16 &nbsp;&nbsp;&nbsp;&nbsp;&nbsp;&nbsp;(4 Points)\n",
    "Create the variable `q16_num` and assign a number."
   ]
  },
  {
   "cell_type": "code",
   "execution_count": 189,
   "metadata": {
    "deletable": false,
    "nbgrader": {
     "cell_type": "code",
     "checksum": "91c3084856b8ccde3651ecd0a39aa9f1",
     "grade": false,
     "grade_id": "q16_vars",
     "locked": false,
     "schema_version": 3,
     "solution": true,
     "task": false
    },
    "tags": []
   },
   "outputs": [],
   "source": [
    "# Create your variable here\n",
    "\n",
    "# YOUR CODE HERE\n",
    "q16_num = 67"
   ]
  },
  {
   "cell_type": "markdown",
   "metadata": {},
   "source": [
    "Write a Python program to get the last digit of `q16_num` (e.g., if `1919`, the last digit would be `9`) using arithmetic operations and assign it to `output16`.  \n",
    "Check whether the last digit is divisible by 5. If so, increase the last digit by 10%. If not, decrease the last digit by 10%.\n",
    "***\n",
    "\n",
    "<details>\n",
    "  <summary><span style=\"color:blue\">Click to see Hints</span></summary>\n",
    "    \n",
    "* You will need to use modulo operator (`%`) to find the last digit.\n",
    "</details>"
   ]
  },
  {
   "cell_type": "code",
   "execution_count": 190,
   "metadata": {
    "deletable": false,
    "nbgrader": {
     "cell_type": "code",
     "checksum": "4cc0b0008786e7d70e8a18323fb94ea0",
     "grade": false,
     "grade_id": "q16_soln",
     "locked": false,
     "schema_version": 3,
     "solution": true,
     "task": false
    },
    "tags": []
   },
   "outputs": [
    {
     "data": {
      "text/plain": [
       "6.3"
      ]
     },
     "execution_count": 190,
     "metadata": {},
     "output_type": "execute_result"
    }
   ],
   "source": [
    "\n",
    "# YOUR CODE HERE\n",
    "output16 = q16_num % 10\n",
    "if output16 % 5 == 0:\n",
    "    output16 = 1.1 * output16\n",
    "else:\n",
    "    output16 = 0.9 * output16\n",
    "output16"
   ]
  },
  {
   "cell_type": "code",
   "execution_count": null,
   "metadata": {
    "deletable": false,
    "editable": false,
    "nbgrader": {
     "cell_type": "code",
     "checksum": "c40f168b40bc03086785a06027427d36",
     "grade": true,
     "grade_id": "16-1_Scaling",
     "locked": true,
     "points": 4,
     "schema_version": 3,
     "solution": false,
     "task": false
    },
    "tags": []
   },
   "outputs": [],
   "source": [
    "# Testing Cell (Do NOT not modify this cell)"
   ]
  },
  {
   "cell_type": "markdown",
   "metadata": {},
   "source": [
    "#### Question 17 &nbsp;&nbsp;&nbsp;&nbsp;&nbsp;&nbsp;(6 Points)\n",
    "Create the variable `q17_variable` and assign any value of any type to it."
   ]
  },
  {
   "cell_type": "code",
   "execution_count": 3,
   "metadata": {
    "deletable": false,
    "nbgrader": {
     "cell_type": "code",
     "checksum": "63e8170e5c3d70c252464688c3922216",
     "grade": false,
     "grade_id": "q17_vars",
     "locked": false,
     "schema_version": 3,
     "solution": true,
     "task": false
    },
    "tags": []
   },
   "outputs": [],
   "source": [
    "# Create your variable here\n",
    "\n",
    "# YOUR CODE HERE\n",
    "q17_variable = None"
   ]
  },
  {
   "cell_type": "markdown",
   "metadata": {},
   "source": [
    "Write a Python program using the following guidelines to print the data type of `q17_variable`.\n",
    "\n",
    "* If `q17_variable` is string, assign the value \"Type of the variable is string.\" to `output17`.\n",
    "* If `q17_variable` is integer, assign the value \"Type of the variable is int.\" to `output17`.\n",
    "* If `q17_variable` is floating point, assign the value \"Type of the variable is float.\" to `output17`.\n",
    "* If `q17_variable` is boolean, assign the value \"Type of the variable is bool.\" to `output17`.\n",
    "* If `q17_variable` is complex, assign the value \"Type of the variable is complex.\" to `output17`.\n",
    "* If `q17_variable` is None, assign the value \"The variable is None.\" to `output17` (yes, this one is different)\n",
    "\n",
    "Print `output17` at the end of the program to check whether your conditional statements are accurately working.\n",
    "\n",
    "***\n",
    "<details>\n",
    "  <summary><span style=\"color:blue\">Click to see Hints</span></summary>\n",
    "\n",
    "* In addition to the int and float that we learnt in Week 1, Python also has one other numeric type called *complex numbers*. Complex numbers are written with a \"j\" as the imaginary part (e.g., `3+5j`). The type of complex numbers are `complex`.\n",
    "</details>\n"
   ]
  },
  {
   "cell_type": "code",
   "execution_count": 4,
   "metadata": {
    "deletable": false,
    "nbgrader": {
     "cell_type": "code",
     "checksum": "28846a8a4e4ea07bda199883b877665b",
     "grade": false,
     "grade_id": "q17_soln",
     "locked": false,
     "schema_version": 3,
     "solution": true,
     "task": false
    },
    "tags": []
   },
   "outputs": [
    {
     "data": {
      "text/plain": [
       "'The variable is None.'"
      ]
     },
     "execution_count": 4,
     "metadata": {},
     "output_type": "execute_result"
    }
   ],
   "source": [
    "\n",
    "# YOUR CODE HERE\n",
    "if type(q17_variable) is int:\n",
    "    output17 = \"Type of the variable is int.\"\n",
    "    \n",
    "elif type(q17_variable) is str:\n",
    "    output17 = \"Type of the variable is string.\"\n",
    "    \n",
    "elif type(q17_variable) is float:\n",
    "    output17 = \"Type of the variable is float.\"\n",
    "\n",
    "elif type(q17_variable) is bool:\n",
    "    output17 = \"Type of the variable is bool.\"\n",
    "\n",
    "elif type(q17_variable) is complex:\n",
    "    output17 = \"Type of the variable is complex.\"\n",
    "\n",
    "elif q17_variable is None:\n",
    "    output17 = \"The variable is None.\"\n",
    "\n",
    "output17"
   ]
  },
  {
   "cell_type": "code",
   "execution_count": null,
   "metadata": {
    "deletable": false,
    "editable": false,
    "nbgrader": {
     "cell_type": "code",
     "checksum": "5350ed0c19ae3d79c4fdd7498c536b9d",
     "grade": true,
     "grade_id": "17-1_Types",
     "locked": true,
     "points": 6,
     "schema_version": 3,
     "solution": false,
     "task": false
    },
    "tags": []
   },
   "outputs": [],
   "source": [
    "# Testing Cell (Do NOT not modify this cell)"
   ]
  },
  {
   "cell_type": "markdown",
   "metadata": {},
   "source": [
    "#### Question 18 &nbsp;&nbsp;&nbsp;&nbsp;&nbsp;&nbsp;(6 Points)\n",
    "Given the string variable `q18_month`, write a Python program that shows a message depending on the value entered in `q18_month`, according to the messages given in the table below.  \n",
    "\n",
    "|Month|Message|\n",
    "|:---: |:---:|\n",
    "|January|Hello, 1st Month|\n",
    "|February|Hello, 2nd Month|\n",
    "|March|Hello, 3rd Month|\n",
    "|April|Hello, 4th Month|\n",
    "|May|Hello, 5th Month|\n",
    "|June|Hello, 6th Month|\n",
    "|July|Hello, 7th Month|\n",
    "|August|Hello, 8th Month|\n",
    "|September|Hello, 9th Month|\n",
    "|October|Hello, 10th Month|\n",
    "|November|Hello, 11th Month|\n",
    "|December|Hello, 12th Month|\n",
    "\n",
    "Assign the output message to the variable `output18`.  \n",
    "If no valid month name is present in the string, set `output18` to `None`\n",
    "\n",
    "Print `output18` at the end of your program to check whether your conditional statements are accurately working.\n",
    "\n",
    "Note: The input string in `q18_month` is poorly formatted, full of extra spaces and mixed case; you'll need to clean it up.\n"
   ]
  },
  {
   "cell_type": "code",
   "execution_count": 6,
   "metadata": {},
   "outputs": [],
   "source": [
    "q18_month = \"   \\n \\t \\n Fe \\n brua \\n rY \\n \\n   \""
   ]
  },
  {
   "cell_type": "code",
   "execution_count": 21,
   "metadata": {
    "deletable": false,
    "nbgrader": {
     "cell_type": "code",
     "checksum": "7bd06c0dae16db66580e4fb091140b72",
     "grade": false,
     "grade_id": "q18_soln",
     "locked": false,
     "schema_version": 3,
     "solution": true,
     "task": false
    },
    "tags": []
   },
   "outputs": [
    {
     "data": {
      "text/plain": [
       "'Hello, 4th Month'"
      ]
     },
     "execution_count": 21,
     "metadata": {},
     "output_type": "execute_result"
    }
   ],
   "source": [
    "\n",
    "# YOUR CODE HERE\n",
    "q18_month = q18_month.strip().lower().replace('\\n','').replace(' ','').capitalize()\n",
    "month_message = {'January':\t'Hello, 1st Month',\n",
    "                'February':\t'Hello, 2nd Month',\n",
    "                'March': 'Hello, 3rd Month',\n",
    "                'April': 'Hello, 4th Month',\n",
    "                'May': 'Hello, 5th Month',\n",
    "                'June':\t'Hello, 6th Month',\n",
    "                'July':\t'Hello, 7th Month',\n",
    "                'August': 'Hello, 8th Month',\n",
    "                'September': 'Hello, 9th Month',\n",
    "                'October':\t'Hello, 10th Month',\n",
    "                'November':\t'Hello, 11th Month',\n",
    "                'December':\t'Hello, 12th Month'}\n",
    "\n",
    "output18 = month_message[q18_month]\n",
    "output18"
   ]
  },
  {
   "cell_type": "code",
   "execution_count": 9,
   "metadata": {
    "deletable": false,
    "editable": false,
    "nbgrader": {
     "cell_type": "code",
     "checksum": "56b140652199cf022742233a13e164d6",
     "grade": true,
     "grade_id": "18-1_Months",
     "locked": true,
     "points": 6,
     "schema_version": 3,
     "solution": false,
     "task": false
    },
    "tags": []
   },
   "outputs": [],
   "source": [
    "# Testing Cell (Do NOT not modify this cell)"
   ]
  },
  {
   "cell_type": "markdown",
   "metadata": {},
   "source": [
    "#### Question 19 &nbsp;&nbsp;&nbsp;&nbsp;&nbsp;&nbsp;(6 Points)\n",
    "Write a Python program to develop a simple calculator using the following details.\n",
    "\n",
    "The two variables `q19_num1` and `q19_num2` denote the two numbers that your calculator takes to perform the calculations. For this question, set these two variables to -12 and -10.\n",
    "\n",
    "Note that since your calculator is simple, it won't process any negative numbers. Therefore, if `q19_num1` and `q19_num2` are negative, make them positive using Python built-in functions.\n",
    "\n",
    "Create the variable `q19_choice` that denotes the arithmetic operation that the user wants to perform. The choices and their relevant codes are summarised in the following table.\n",
    "\n",
    "|Choice Number|Operation|\n",
    "|:---:|:---:|\n",
    "|(\"1\")|Average|\n",
    "|(\"2\")|Multiplication|\n",
    "|(\"3\")|Division|\n",
    "|(\"4\")|Integer division|\n",
    "|(\"5\")|Exponent/Power|\n",
    "|(\"6\")|Modulo|\n",
    "\n",
    "In this example, set the variable `q19_choice` to the value (\"6\"). \n",
    "\n",
    "Use the variable `output19` to assign the calculated output. Print `output19` at the end of the program to check whether your conditional statements are accurately working.\n",
    "\n",
    "***\n",
    "<details>\n",
    "  <summary><span style=\"color:blue\">Click to see Hints</span></summary>  \n",
    "    \n",
    "* You will need to use `abs()` to make the negative numbers positive.\n",
    "    \n",
    "</details>"
   ]
  },
  {
   "cell_type": "code",
   "execution_count": 29,
   "metadata": {},
   "outputs": [],
   "source": [
    "q19_num1 = -12\n",
    "q19_num2 = -10\n",
    "q19_choice = '(\"6\")'"
   ]
  },
  {
   "cell_type": "code",
   "execution_count": 30,
   "metadata": {
    "deletable": false,
    "nbgrader": {
     "cell_type": "code",
     "checksum": "538f0d644cfee9d9a8c4bb9b62bd817c",
     "grade": false,
     "grade_id": "q19_soln",
     "locked": false,
     "schema_version": 3,
     "solution": true,
     "task": false
    },
    "tags": []
   },
   "outputs": [
    {
     "data": {
      "text/plain": [
       "2"
      ]
     },
     "execution_count": 30,
     "metadata": {},
     "output_type": "execute_result"
    }
   ],
   "source": [
    "\n",
    "# YOUR CODE HERE\n",
    "\n",
    "q19_num1, q19_num2 = abs(q19_num1), abs(q19_num2)\n",
    "if q19_choice == '(\"1\")':\n",
    "    output19 = (q19_num1 + q19_num2) / 2\n",
    "\n",
    "elif q19_choice == '(\"2\")':\n",
    "    output19 = q19_num1 * q19_num2\n",
    "\n",
    "elif q19_choice == '(\"3\")':\n",
    "    output19 = q19_num1 / q19_num2\n",
    "\n",
    "elif q19_choice == '(\"4\")':\n",
    "    output19 = q19_num1 // q19_num2\n",
    "\n",
    "elif q19_choice == '(\"5\")':\n",
    "    output19 = q19_num1 ** q19_num2\n",
    "\n",
    "elif q19_choice == '(\"6\")':\n",
    "    output19 = q19_num1 % q19_num2\n",
    "\n",
    "output19\n",
    "\n",
    "\n",
    "    "
   ]
  },
  {
   "cell_type": "code",
   "execution_count": null,
   "metadata": {
    "deletable": false,
    "editable": false,
    "nbgrader": {
     "cell_type": "code",
     "checksum": "a4a3cd368b98292a4fe2950bc4d3ee55",
     "grade": true,
     "grade_id": "19-1_Calculator",
     "locked": true,
     "points": 6,
     "schema_version": 3,
     "solution": false,
     "task": false
    },
    "tags": []
   },
   "outputs": [],
   "source": [
    "# Testing Cell (Do NOT not modify this cell)"
   ]
  },
  {
   "cell_type": "markdown",
   "metadata": {},
   "source": [
    "#### Question 20 &nbsp;&nbsp;&nbsp;&nbsp;&nbsp;&nbsp;(6 Points)\n",
    "\n",
    "Create the variable `q20_amount` and assign a number to it. "
   ]
  },
  {
   "cell_type": "code",
   "execution_count": 22,
   "metadata": {
    "deletable": false,
    "nbgrader": {
     "cell_type": "code",
     "checksum": "8a972d4d7dbad5533c70170b187ea439",
     "grade": false,
     "grade_id": "q20_vars",
     "locked": false,
     "schema_version": 3,
     "solution": true,
     "task": false
    },
    "tags": []
   },
   "outputs": [],
   "source": [
    "# Create your variable here\n",
    "\n",
    "# YOUR CODE HERE\n",
    "q20_amount = 66"
   ]
  },
  {
   "cell_type": "markdown",
   "metadata": {},
   "source": [
    "Write a Python program to that computes the minimum number of notes/coins needed to make change for a person.\n",
    "\n",
    "For the simplicity of the problem, assume that we only have `$20`, `$10`, `$5`, `$2` and `$1` notes/coins. For instance, if you need to give `$91` in change, you would need four `$20`, one `$10`, and one `$1`. \n",
    "\n",
    "The output of this program should be in the following format (for the above-described example of `$91`).\n",
    "\n",
    "```\n",
    "4 twenties\n",
    "1 ten\n",
    "1 one\n",
    "```\n",
    "\n",
    "Use conditional statements to handle the singular and plural version of the above output. When only one bill is needed, you should use the singular version of the word. When more than one bill is needed, the plural of the label should be used. Mentioned below are the singular and plural version of the bills.\n",
    "\n",
    "|denomination|singular|plural|\n",
    "|:---:|:---:|:---:|\n",
    "|20| twenty|twenties|\n",
    "|10|ten|tens|\n",
    "|5|five|fives|\n",
    "|2|two|twos|\n",
    "|1|one|ones|\n",
    "\n",
    "Use the variable `output20` to assign the solution.\n",
    "\n",
    "***\n",
    "<details>\n",
    "  <summary><span style=\"color:blue\">Click to see Hints</span></summary>\n",
    "    \n",
    "* To identify the number of bills needed, you will need to use integer division and modulo operations.\n",
    "* Use the intermediate variables `q20_20`, `q20_10`, `q20_5`, `q20_2` and `q20_1` in the conditional statements to decide the singular and plural forms in `output20`.\n",
    "* You may need to remove extra `\\n` at the end of the `output20` using `strip()` function.\n",
    "</details>"
   ]
  },
  {
   "cell_type": "code",
   "execution_count": 23,
   "metadata": {
    "deletable": false,
    "nbgrader": {
     "cell_type": "code",
     "checksum": "7595505dd33bc8e2f531ae1cd87fa72a",
     "grade": false,
     "grade_id": "q20_soln",
     "locked": false,
     "schema_version": 3,
     "solution": true,
     "task": false
    },
    "tags": []
   },
   "outputs": [
    {
     "name": "stdout",
     "output_type": "stream",
     "text": [
      "3 twenties\n",
      "1 five\n",
      "1 one\n"
     ]
    }
   ],
   "source": [
    "q20_20 = q20_10 = q20_5 = q20_2 = q20_1 = 0\n",
    "if q20_amount >= 20:\n",
    "    q20_20 = q20_amount // 20\n",
    "    q20_amount %= 20 \n",
    "\n",
    "if q20_amount >= 10:\n",
    "    q20_10 = q20_amount // 10\n",
    "    q20_amount %= 10\n",
    "\n",
    "if q20_amount >= 5:\n",
    "    q20_5 = q20_amount // 5\n",
    "    q20_amount %= 5\n",
    "\n",
    "if q20_amount >= 2:\n",
    "    q20_2 = q20_amount // 2\n",
    "    q20_amount %= 2\n",
    "\n",
    "if q20_amount == 1:\n",
    "    q20_1 = 1\n",
    "\n",
    "output20 = []\n",
    "\n",
    "if q20_20 > 0:\n",
    "    output20.append(f\"{q20_20} {'twenties' if q20_20 > 1 else 'twenty'}\")\n",
    "    \n",
    "if q20_10 > 0:\n",
    "    output20.append(f\"{q20_10} {'tens' if q20_10 > 1 else 'ten'}\")\n",
    "\n",
    "if q20_5 > 0:\n",
    "    output20.append(f\"{q20_5} {'fives' if q20_5 > 1 else 'five'}\")\n",
    "\n",
    "if q20_2 > 0:\n",
    "    output20.append(f\"{q20_2} {'twos' if q20_2 > 1 else 'two'}\")\n",
    "\n",
    "if q20_1 > 0:\n",
    "    output20.append(f\"{q20_1} {'ones' if q20_1 > 1 else 'one'}\")\n",
    "\n",
    "output20 = '\\n'.join(output20)\n",
    "\n",
    "print(output20)\n",
    "        "
   ]
  },
  {
   "cell_type": "code",
   "execution_count": 43,
   "metadata": {
    "deletable": false,
    "editable": false,
    "nbgrader": {
     "cell_type": "code",
     "checksum": "1e41cb0ecc6a99f917e67d7d7bedaee1",
     "grade": true,
     "grade_id": "20-1_Give_change",
     "locked": true,
     "points": 6,
     "schema_version": 3,
     "solution": false,
     "task": false
    },
    "tags": []
   },
   "outputs": [],
   "source": [
    "# Testing Cell (Do NOT not modify this cell)"
   ]
  },
  {
   "cell_type": "markdown",
   "metadata": {},
   "source": [
    "#### Question 21 &nbsp;&nbsp;&nbsp;&nbsp;&nbsp;&nbsp;(6 Points)\n",
    "Given a number of seconds, write a Python program to convert into days, hours, minutes and seconds.\n",
    "\n",
    "The output of this program should be in the following format. Use the variable `output21` to assign the solution.\n",
    "\n",
    "```\n",
    "0 days\n",
    "5 hours\n",
    "19 minutes\n",
    "51 seconds\n",
    "```\n",
    "\n",
    "Use conditional statements to handle the singular and plural version of the above output. When only 1, you should use the singular version of the word. When more than one (or 0), the plural of the label should be used. Mentioned below are the singular and plural versions of the days, hours, minutes and seconds.\n",
    "\n",
    "|singular|plural|\n",
    "|:---:|:---:|\n",
    "|day|days|\n",
    "|hour|hours|\n",
    "|minute|minutes|\n",
    "|second|seconds|\n",
    "\n",
    "***\n",
    "\n",
    "<details>\n",
    "  <summary><span style=\"color:blue\">Click to see Hints</span></summary>\n",
    "    \n",
    "* To identify the number of days, hours, minutes and seconds, you will need to use integer division and modulo operations.\n",
    "* You may need to remove extra `\\n` at the end of the `output21` using `strip()` function.\n",
    "\n",
    "</details>"
   ]
  },
  {
   "cell_type": "code",
   "execution_count": 16,
   "metadata": {},
   "outputs": [],
   "source": [
    "q21_seconds = 19191"
   ]
  },
  {
   "cell_type": "code",
   "execution_count": 17,
   "metadata": {
    "deletable": false,
    "nbgrader": {
     "cell_type": "code",
     "checksum": "7e95a9df4086a30386bf0395add5c9af",
     "grade": false,
     "grade_id": "q21_soln",
     "locked": false,
     "schema_version": 3,
     "solution": true,
     "task": false
    },
    "tags": []
   },
   "outputs": [
    {
     "name": "stdout",
     "output_type": "stream",
     "text": [
      "0 days\n",
      "5 hours\n",
      "19 minutes\n",
      "51 seconds\n"
     ]
    }
   ],
   "source": [
    "\n",
    "# YOUR CODE HERE\n",
    "days = hours = minutes = seconds = 0\n",
    "days = q21_seconds // (60 * 60 * 24)\n",
    "q21_seconds %= (60 * 60 * 24)\n",
    "\n",
    "hours = q21_seconds // (60 * 60)\n",
    "q21_seconds %= (60 * 60)\n",
    "\n",
    "minutes = q21_seconds // 60\n",
    "q21_seconds %= 60\n",
    "\n",
    "seconds = q21_seconds\n",
    "\n",
    "output21 = []\n",
    "\n",
    "output21.append(f\"{days} {'day' if days == 1 else 'days'}\")\n",
    "output21.append(f\"{hours} {'hour' if hours == 1 else 'hours'}\")\n",
    "output21.append(f\"{minutes} {'minute' if minutes == 1 else 'minutes'}\")\n",
    "output21.append(f\"{seconds} {'second' if seconds == 1 else 'seconds'}\")\n",
    "\n",
    "output21 = '\\n'.join(output21)\n",
    "\n",
    "print(output21)"
   ]
  },
  {
   "cell_type": "code",
   "execution_count": null,
   "metadata": {
    "deletable": false,
    "editable": false,
    "nbgrader": {
     "cell_type": "code",
     "checksum": "5612274cf590121c603a68d97636b0de",
     "grade": true,
     "grade_id": "21-1_Convert_seconds",
     "locked": true,
     "points": 6,
     "schema_version": 3,
     "solution": false,
     "task": false
    },
    "tags": []
   },
   "outputs": [],
   "source": [
    "# Testing Cell (Do NOT not modify this cell)"
   ]
  },
  {
   "cell_type": "markdown",
   "metadata": {},
   "source": [
    "#### Question 22 &nbsp;&nbsp;&nbsp;&nbsp;&nbsp;&nbsp;(6 Points)\n",
    "Create the variable `q22_localtime` and assign a time string to it (e.g. \"11:52\" or \"16:21\")."
   ]
  },
  {
   "cell_type": "code",
   "execution_count": 32,
   "metadata": {
    "deletable": false,
    "nbgrader": {
     "cell_type": "code",
     "checksum": "1f971e888d91fd706e38dfe598f4f5b6",
     "grade": false,
     "grade_id": "q22_vars",
     "locked": false,
     "schema_version": 3,
     "solution": true,
     "task": false
    },
    "tags": []
   },
   "outputs": [],
   "source": [
    "# Create your variable here\n",
    "\n",
    "# YOUR CODE HERE\n",
    "q22_localtime = '16:21'"
   ]
  },
  {
   "cell_type": "markdown",
   "metadata": {},
   "source": [
    "Write a Python Program that displays a greeting message based on the `q22_localtime`, as given in the guidelines below.\n",
    "* `output22` should be \"Good morning\", if before 12:00 (from 00:00).\n",
    "* `output22` should be \"Good afternoon\", from 12:00 to 16:59.\n",
    "* `output22` should be \"Good evening\", 17:00 or later (up to 23:59). "
   ]
  },
  {
   "cell_type": "code",
   "execution_count": 33,
   "metadata": {
    "deletable": false,
    "nbgrader": {
     "cell_type": "code",
     "checksum": "2dbda99345422e1d2b97376b55063fb4",
     "grade": false,
     "grade_id": "q22_soln",
     "locked": false,
     "schema_version": 3,
     "solution": true,
     "task": false
    },
    "tags": []
   },
   "outputs": [
    {
     "name": "stdout",
     "output_type": "stream",
     "text": [
      "Good afternoon\n"
     ]
    }
   ],
   "source": [
    "\n",
    "# YOUR CODE HERE\n",
    "q22_localtime = q22_localtime.replace(':', '')\n",
    "q22_localtime = int(q22_localtime)\n",
    "q22_localtime\n",
    "if 0 <= q22_localtime < 1200:\n",
    "    output22 = 'Good morning'\n",
    "    \n",
    "if 1200 <= q22_localtime <= 1659:\n",
    "    output22 = 'Good afternoon'\n",
    "\n",
    "if 1700 <= q22_localtime <= 2359:\n",
    "    output22 = 'Good evening'\n",
    "\n",
    "print(output22)"
   ]
  },
  {
   "cell_type": "code",
   "execution_count": null,
   "metadata": {
    "deletable": false,
    "editable": false,
    "nbgrader": {
     "cell_type": "code",
     "checksum": "89d7677913ee444699a6bd52eb17129a",
     "grade": true,
     "grade_id": "22-1_Good_day",
     "locked": true,
     "points": 6,
     "schema_version": 3,
     "solution": false,
     "task": false
    },
    "tags": []
   },
   "outputs": [],
   "source": [
    "# Testing Cell (Do NOT not modify this cell)"
   ]
  },
  {
   "cell_type": "markdown",
   "metadata": {},
   "source": [
    "#### Question 23 &nbsp;&nbsp;&nbsp;&nbsp;&nbsp;&nbsp;(10 Points)\n",
    "Given two variables `service_years` and `salary`, write a Python program to calculate a salary scheme of a company. \n",
    "\n",
    "Note the following guidelines when developing the program and use `salary` for salary calculations needed.\n",
    "\n",
    "* If the number of years is 0, do not change the salary.\n",
    "* If the number of years is less than or equal 2 years and salary is more than \\\\$20000, give a 5% bonus. \n",
    "* If the number of years is less than or equal 2 years and salary is less than or equal \\\\$20000, give a 2.5% bonus.\n",
    "* If the number of years is more than 2 years and salary is more than \\\\$40000, give a 7.5% bonus.\n",
    "* If the number of years is more than 2 years and salary is less than or equal to \\\\$40000, give a 5% bonus.\n",
    "* If the number of years is more than or equal to 5 years, give an additional \\\\$5000 bonus. \n",
    "\n",
    "Store the final salary result in a new variable named `final_salary`.\n",
    "\n",
    "When developing the program, note the following conditions. \n",
    "* If the user has mistakenly entered a negative value for the number of service years or current salary, set `final_salary` to `None` to indicate an error.\n",
    "* No salary should be greater than `$200000` or less than `$10000`. If the value of `final_salary` is greater than `$200000` or less than `$10000`, set `final_salary` to `None` to indicate an error.\n",
    "\n",
    "Print `final_salary` at the end of the program to check whether your conditional statements are accurately working."
   ]
  },
  {
   "cell_type": "code",
   "execution_count": 34,
   "metadata": {},
   "outputs": [],
   "source": [
    "service_years = 6\n",
    "salary = 46000.0"
   ]
  },
  {
   "cell_type": "code",
   "execution_count": 35,
   "metadata": {
    "deletable": false,
    "nbgrader": {
     "cell_type": "code",
     "checksum": "4a7b9359d731c0565f52576ea992457d",
     "grade": false,
     "grade_id": "q23_soln",
     "locked": false,
     "schema_version": 3,
     "solution": true,
     "task": false
    },
    "tags": []
   },
   "outputs": [
    {
     "name": "stdout",
     "output_type": "stream",
     "text": [
      "54450.0\n"
     ]
    }
   ],
   "source": [
    "\n",
    "# YOUR CODE HERE\n",
    "if service_years == 0:\n",
    "    final_salary = salary\n",
    "\n",
    "elif service_years <= 2 and salary > 20000:\n",
    "    final_salary = salary * 1.05\n",
    "\n",
    "elif service_years <= 2 and salary <= 20000:\n",
    "    final_salary = salary * 1.025\n",
    "\n",
    "\n",
    "elif service_years > 2 and salary > 40000:\n",
    "    final_salary = salary * 1.075\n",
    "\n",
    "\n",
    "elif service_years > 2 and salary <= 40000:\n",
    "    final_salary = salary * 1.05\n",
    "\n",
    "if service_years >= 5:\n",
    "    final_salary += 5000\n",
    "\n",
    "if final_salary > 200000 or final_salary < 10000:\n",
    "    final_salary = None\n",
    "\n",
    "if service_years < 0 or salary < 0:\n",
    "    final_salary = None\n",
    "\n",
    "print(final_salary)"
   ]
  },
  {
   "cell_type": "code",
   "execution_count": 36,
   "metadata": {
    "deletable": false,
    "editable": false,
    "nbgrader": {
     "cell_type": "code",
     "checksum": "6e48b59b71336743de47154907246c33",
     "grade": true,
     "grade_id": "23-1_Salary",
     "locked": true,
     "points": 10,
     "schema_version": 3,
     "solution": false,
     "task": false
    },
    "tags": []
   },
   "outputs": [],
   "source": [
    "# Testing Cell (Do NOT not modify this cell)"
   ]
  },
  {
   "cell_type": "markdown",
   "metadata": {},
   "source": [
    "#### Question 24 &nbsp;&nbsp;&nbsp;&nbsp;&nbsp;&nbsp;(10 Points)\n",
    "Create the variables, `items_ordered` and `items_inStock`, and assign numbers to them. "
   ]
  },
  {
   "cell_type": "code",
   "execution_count": 37,
   "metadata": {
    "deletable": false,
    "nbgrader": {
     "cell_type": "code",
     "checksum": "dae55c3e56d55bc4ca6c0346971cdf21",
     "grade": false,
     "grade_id": "q24_vars",
     "locked": false,
     "schema_version": 3,
     "solution": true,
     "task": false
    },
    "tags": []
   },
   "outputs": [],
   "source": [
    "# Create your variables here\n",
    "\n",
    "# YOUR CODE HERE\n",
    "items_ordered = 66\n",
    "items_inStock = 100"
   ]
  },
  {
   "cell_type": "markdown",
   "metadata": {},
   "source": [
    "Write a Python program to handle product inventory for a store's ordering system, as described in the scenario below.\n",
    "\n",
    "First, compare the size of a new eCommerce order (i.e., `items_ordered`) with how much inventory is left (i.e., `items_inStock`). If there's enough inventory, update the remaining number of inventory left in `items_inStock` (using `items_ordered`), and assign the string \"Order confirmed\" to `output24`. Otherwise, `output24` should be \"Insufficient inventory\".\n",
    "\n",
    "If we have a sufficient number of items to fulfil the eCommerce order in our inventory, next we want to calculate how many boxes we should post to the customer. The company policy is to include only 8 items per package. Calculate the number of packages for the order and assign it to the variable `package_count`. \n",
    "\n",
    "The delivery company will only deliver at most 4 packages in a single order (i.e., if we have 9 packages, we need 3 deliveries). If `package_count` is more than 4, we need to calculate the delivery count based on the number of packages and assign it to the variable `delivery_count`. Otherwise, `delivery_count` should be 1.\n",
    "\n",
    "***\n",
    "<details>\n",
    "  <summary><span style=\"color:blue\">Click to see Hints</span></summary>\n",
    "    \n",
    "* You will need to use nested if statements.\n",
    "* You may need to use `math.ceil()` in `math` module to round up the number of packages in `package_count` and number of deliveries in `delivery_count`.\n",
    "</details>\n"
   ]
  },
  {
   "cell_type": "code",
   "execution_count": 38,
   "metadata": {
    "deletable": false,
    "nbgrader": {
     "cell_type": "code",
     "checksum": "5ee579d2249af855bfbc7598fc6e0adf",
     "grade": false,
     "grade_id": "q24_soln",
     "locked": false,
     "schema_version": 3,
     "solution": true,
     "task": false
    },
    "tags": []
   },
   "outputs": [
    {
     "name": "stdout",
     "output_type": "stream",
     "text": [
      "Order confirmed 9 3\n"
     ]
    }
   ],
   "source": [
    "import math\n",
    "\n",
    "# YOUR CODE HERE\n",
    "if items_inStock >= items_ordered:\n",
    "    items_inStock -= items_ordered\n",
    "    output24 = 'Order confirmed'\n",
    "    package_count = items_ordered // 8\n",
    "    if items_ordered % 8 == 0:\n",
    "        pass\n",
    "    else:\n",
    "        package_count += 1\n",
    "    if package_count > 4:\n",
    "        delivery_count = package_count // 4\n",
    "        if package_count % 4 == 0:\n",
    "            pass\n",
    "        else:\n",
    "            delivery_count += 1\n",
    "    else:\n",
    "        delivery_count = 1\n",
    "        \n",
    "else:\n",
    "    output24 = 'Insufficient inventory'\n",
    "print(output24, package_count, delivery_count)"
   ]
  },
  {
   "cell_type": "code",
   "execution_count": null,
   "metadata": {
    "deletable": false,
    "editable": false,
    "nbgrader": {
     "cell_type": "code",
     "checksum": "b23e24f6f95b13147e0f8b8a5ba26d80",
     "grade": true,
     "grade_id": "24-1_Inventory",
     "locked": true,
     "points": 10,
     "schema_version": 3,
     "solution": false,
     "task": false
    },
    "tags": []
   },
   "outputs": [],
   "source": [
    "# Testing Cell (Do NOT not modify this cell)"
   ]
  }
 ],
 "metadata": {
  "kernelspec": {
   "display_name": "Python 3 (ipykernel)",
   "language": "python",
   "name": "python3"
  },
  "language_info": {
   "codemirror_mode": {
    "name": "ipython",
    "version": 3
   },
   "file_extension": ".py",
   "mimetype": "text/x-python",
   "name": "python",
   "nbconvert_exporter": "python",
   "pygments_lexer": "ipython3",
   "version": "3.11.7"
  },
  "varInspector": {
   "cols": {
    "lenName": 16,
    "lenType": 16,
    "lenVar": 40
   },
   "kernels_config": {
    "python": {
     "delete_cmd_postfix": "",
     "delete_cmd_prefix": "del ",
     "library": "var_list.py",
     "varRefreshCmd": "print(var_dic_list())"
    },
    "r": {
     "delete_cmd_postfix": ") ",
     "delete_cmd_prefix": "rm(",
     "library": "var_list.r",
     "varRefreshCmd": "cat(var_dic_list()) "
    }
   },
   "types_to_exclude": [
    "module",
    "function",
    "builtin_function_or_method",
    "instance",
    "_Feature"
   ],
   "window_display": false
  }
 },
 "nbformat": 4,
 "nbformat_minor": 4
}
