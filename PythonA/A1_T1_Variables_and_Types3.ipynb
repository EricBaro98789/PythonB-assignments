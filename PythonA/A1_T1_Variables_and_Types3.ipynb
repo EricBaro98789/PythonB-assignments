{
 "cells": [
  {
   "cell_type": "markdown",
   "metadata": {},
   "source": [
    "### Instructions:\n",
    "\n",
    "- You can attempt any number of questions and in any order.  \n",
    "  See the assignment page for a description of the hurdle requirement for this assessment.\n",
    "- You may submit your practical for autograding as many times as you like to check on progress, however you will save time by checking and testing your own code before submitting.\n",
    "- Develop and check your answers in the spaces provided.\n",
    "- **Replace** the code `raise NotImplementedError()` with your solution to the question.\n",
    "- Do **NOT** remove any variables other provided markings already provided in the answer spaces.\n",
    "- Do **NOT** make any changes to this notebook outside of the spaces indicated.  \n",
    "  (If you do this, the submission system might not accept your work)\n",
    "\n",
    "### Submitting:\n",
    "\n",
    "1. Before you turn this problem in, make sure everything runs as expected by resetting this notebook.    \n",
    "   (You can do this from the menubar above by selecting `Kernel`&#8594;`Restart Kernel and Run All Cells...`)\n",
    "1. Don't forget to save your notebook after this step.\n",
    "1. Submit your .ipynb file to Gradescope via file upload or GitHub repository.\n",
    "1. You can submit as many times as needed.\n",
    "1. You **must** give your submitted file the **identical** filename to that which you downloaded without changing **any** aspects - spaces, underscores, capitalisation etc. If your operating system has changed the filename because you downloaded the file twice or more you **must** also fix this.  \n",
    "\n"
   ]
  },
  {
   "cell_type": "markdown",
   "metadata": {},
   "source": [
    "---"
   ]
  },
  {
   "cell_type": "markdown",
   "metadata": {
    "tags": []
   },
   "source": [
    "#### Question 1&nbsp;&nbsp;&nbsp;&nbsp;&nbsp;&nbsp;(2 Point)\n",
    "Write a Python program to calculate the length of the sentence `I love Python Programming` using string methods. Create a variable `output1` and assign the length of the sentence to it.\n",
    "\n",
    "For example, if the text was `I love Lucy` you would calculate the length of the string in your program and assign that value to `output1`.\n"
   ]
  },
  {
   "cell_type": "code",
   "execution_count": 5,
   "metadata": {
    "deletable": false,
    "nbgrader": {
     "cell_type": "code",
     "checksum": "15e4fb81fbf82fe23355ea9f8ac86e94",
     "grade": false,
     "grade_id": "question_1",
     "locked": false,
     "schema_version": 3,
     "solution": true,
     "task": false
    },
    "tags": []
   },
   "outputs": [
    {
     "data": {
      "text/plain": [
       "25"
      ]
     },
     "execution_count": 5,
     "metadata": {},
     "output_type": "execute_result"
    }
   ],
   "source": [
    "txt = \"I love Python Programming\"\n",
    "\n",
    "# Write your solution here\n",
    "\n",
    "# YOUR CODE HERE\n",
    "output1 = len(txt)\n",
    "output1"
   ]
  },
  {
   "cell_type": "code",
   "execution_count": 3,
   "metadata": {
    "deletable": false,
    "editable": false,
    "nbgrader": {
     "cell_type": "code",
     "checksum": "4967e0a37ea354db4928e303aaa951b4",
     "grade": true,
     "grade_id": "1-1_String_Length",
     "locked": true,
     "points": 2,
     "schema_version": 3,
     "solution": false,
     "task": false
    },
    "tags": []
   },
   "outputs": [],
   "source": [
    "# Testing Cell (Do NOT not modify this cell)\n",
    "assert txt == \"I love Python Programming\", 'txt should be \"I love Python Programming\"'"
   ]
  },
  {
   "cell_type": "markdown",
   "metadata": {},
   "source": [
    "#### Question 2&nbsp;&nbsp;&nbsp;&nbsp;&nbsp;&nbsp;(2 Point)\n",
    "Write a Python program to print a random integer value in the range of 1 to 10. Create a variable `output2` and assign the solution to it."
   ]
  },
  {
   "cell_type": "code",
   "execution_count": 50,
   "metadata": {
    "deletable": false,
    "nbgrader": {
     "cell_type": "code",
     "checksum": "36d0a44d1225b7c5e781bf5f7add4d45",
     "grade": false,
     "grade_id": "question_2",
     "locked": false,
     "schema_version": 3,
     "solution": true,
     "task": false
    },
    "tags": []
   },
   "outputs": [
    {
     "data": {
      "text/plain": [
       "10"
      ]
     },
     "execution_count": 50,
     "metadata": {},
     "output_type": "execute_result"
    }
   ],
   "source": [
    "import random\n",
    "\n",
    "# Write your solution here\n",
    "\n",
    "# YOUR CODE HERE\n",
    "output2 = random.randint(1,10)\n",
    "output2\n"
   ]
  },
  {
   "cell_type": "code",
   "execution_count": 10,
   "metadata": {
    "deletable": false,
    "editable": false,
    "nbgrader": {
     "cell_type": "code",
     "checksum": "1ce28f3543739dafc6ca489babea7fd9",
     "grade": true,
     "grade_id": "2-1_Random_Integer",
     "locked": true,
     "points": 2,
     "schema_version": 3,
     "solution": false,
     "task": false
    },
    "tags": []
   },
   "outputs": [],
   "source": [
    "# Testing Cell (Do NOT not modify this cell)"
   ]
  },
  {
   "cell_type": "markdown",
   "metadata": {},
   "source": [
    "#### Question 3&nbsp;&nbsp;&nbsp;&nbsp;&nbsp;&nbsp;(2 Point)\n",
    "Write a Python program to print the data type of -35.59. Create a variable `output3` and assign the solution to it."
   ]
  },
  {
   "cell_type": "code",
   "execution_count": 51,
   "metadata": {
    "deletable": false,
    "nbgrader": {
     "cell_type": "code",
     "checksum": "7f4b233e4295b3929fe72e95c22d9b7d",
     "grade": false,
     "grade_id": "question_3",
     "locked": false,
     "schema_version": 3,
     "solution": true,
     "task": false
    },
    "tags": []
   },
   "outputs": [
    {
     "data": {
      "text/plain": [
       "float"
      ]
     },
     "execution_count": 51,
     "metadata": {},
     "output_type": "execute_result"
    }
   ],
   "source": [
    "y = -35.59\n",
    "\n",
    "# Write your solution here\n",
    "\n",
    "# YOUR CODE HERE\n",
    "output3 = type(y)\n",
    "output3"
   ]
  },
  {
   "cell_type": "code",
   "execution_count": null,
   "metadata": {
    "deletable": false,
    "editable": false,
    "nbgrader": {
     "cell_type": "code",
     "checksum": "e2902418a26be0a34439abd3a3038892",
     "grade": true,
     "grade_id": "3-1_Data_Type",
     "locked": true,
     "points": 2,
     "schema_version": 3,
     "solution": false,
     "task": false
    },
    "tags": []
   },
   "outputs": [],
   "source": [
    "# Testing Cell (Do NOT not modify this cell)"
   ]
  },
  {
   "cell_type": "markdown",
   "metadata": {},
   "source": [
    "#### Question 4&nbsp;&nbsp;&nbsp;&nbsp;&nbsp;&nbsp;(2 Point)\n",
    "Write a Python program to get the answer of 4<sup>20</sup>. Create a variable `output4` and assign the solution to it."
   ]
  },
  {
   "cell_type": "code",
   "execution_count": 52,
   "metadata": {
    "deletable": false,
    "nbgrader": {
     "cell_type": "code",
     "checksum": "8b5b15560de762f24a031a89fa33de6a",
     "grade": false,
     "grade_id": "question_4",
     "locked": false,
     "schema_version": 3,
     "solution": true,
     "task": false
    },
    "tags": []
   },
   "outputs": [
    {
     "data": {
      "text/plain": [
       "1099511627776"
      ]
     },
     "execution_count": 52,
     "metadata": {},
     "output_type": "execute_result"
    }
   ],
   "source": [
    "# Write your solution here\n",
    "\n",
    "# YOUR CODE HERE\n",
    "output4 = 4**20\n",
    "output4"
   ]
  },
  {
   "cell_type": "code",
   "execution_count": null,
   "metadata": {
    "deletable": false,
    "editable": false,
    "nbgrader": {
     "cell_type": "code",
     "checksum": "3f7eba54c887036642275f130214a548",
     "grade": true,
     "grade_id": "4-1_Exponents",
     "locked": true,
     "points": 2,
     "schema_version": 3,
     "solution": false,
     "task": false
    },
    "tags": []
   },
   "outputs": [],
   "source": [
    "# Testing Cell (Do NOT not modify this cell)"
   ]
  },
  {
   "cell_type": "markdown",
   "metadata": {},
   "source": [
    "#### Question 5&nbsp;&nbsp;&nbsp;&nbsp;&nbsp;&nbsp;(2 Point)\n",
    "Define one string as the word \"Problem\" and define another string as the word \"Solving\". Combine these two strings to make the statement \"Problem Solving\". Create a variable `output5` and assign the solution to it."
   ]
  },
  {
   "cell_type": "code",
   "execution_count": 65,
   "metadata": {
    "deletable": false,
    "nbgrader": {
     "cell_type": "code",
     "checksum": "2ed4973234bbf6aba369baead46201cc",
     "grade": false,
     "grade_id": "question_5",
     "locked": false,
     "schema_version": 3,
     "solution": true,
     "task": false
    },
    "tags": []
   },
   "outputs": [
    {
     "name": "stdout",
     "output_type": "stream",
     "text": [
      "Problem Solving\n"
     ]
    }
   ],
   "source": [
    "# Write your solution here\n",
    "\n",
    "# YOUR CODE HERE\n",
    "string1 = \"Problem\"\n",
    "string2 = \"Solving\"\n",
    "output5 = print(string1 + \" \" +string2)\n",
    "output5"
   ]
  },
  {
   "cell_type": "code",
   "execution_count": null,
   "metadata": {
    "deletable": false,
    "editable": false,
    "nbgrader": {
     "cell_type": "code",
     "checksum": "10433fa338ad6de68ed540c39ea5a078",
     "grade": true,
     "grade_id": "5-1_String_Concatenation",
     "locked": true,
     "points": 2,
     "schema_version": 3,
     "solution": false,
     "task": false
    },
    "tags": []
   },
   "outputs": [],
   "source": [
    "# Testing Cell (Do NOT not modify this cell)"
   ]
  },
  {
   "cell_type": "markdown",
   "metadata": {},
   "source": [
    "#### Question 6&nbsp;&nbsp;&nbsp;&nbsp;&nbsp;&nbsp;(3 Points)\n",
    "Set the values 7 and 3 to the variables `x` and `y` (You can do this in one line in Python, if needed - see Hints).  \n",
    "What is the value & data type of `x/y`?. Create a variable `output6_i` and assign the **data type** to it.  \n",
    "What is the value & data type of `x//y`?. Create a variable `output6_ii` and assign the **data type** to it.\n",
    "\n",
    "***\n",
    "<details>\n",
    "  <summary><span style=\"color:blue\">Click to see Hints</span></summary>\n",
    "    \n",
    "* Python allows you to assign values to multiple variables in one line. e.g., `name1, name2 = \"John\", \"David\"`\n",
    "</details>"
   ]
  },
  {
   "cell_type": "code",
   "execution_count": 70,
   "metadata": {
    "deletable": false,
    "nbgrader": {
     "cell_type": "code",
     "checksum": "9531f0a0dc087fcf4b1c71ea95920c23",
     "grade": false,
     "grade_id": "question_6",
     "locked": false,
     "schema_version": 3,
     "solution": true,
     "task": false
    },
    "tags": []
   },
   "outputs": [
    {
     "name": "stdout",
     "output_type": "stream",
     "text": [
      "<class 'float'> <class 'int'>\n"
     ]
    }
   ],
   "source": [
    "# Write your solution here\n",
    "\n",
    "# YOUR CODE HERE\n",
    "x,y = 7,3\n",
    "output6_i = type(x/y)\n",
    "output6_ii = type(x//y)\n",
    "print(output6_i, output6_ii)\n"
   ]
  },
  {
   "cell_type": "code",
   "execution_count": null,
   "metadata": {
    "deletable": false,
    "editable": false,
    "nbgrader": {
     "cell_type": "code",
     "checksum": "5288967550a745a996fb1a50829d33c3",
     "grade": true,
     "grade_id": "6-1_Integer_Division",
     "locked": true,
     "points": 3,
     "schema_version": 3,
     "solution": false,
     "task": false
    },
    "tags": []
   },
   "outputs": [],
   "source": [
    "# Testing Cell (Do NOT not modify this cell)\n",
    "assert x == 7, 'x should be 7'\n",
    "assert y == 3, 'y should be 3'"
   ]
  },
  {
   "cell_type": "markdown",
   "metadata": {},
   "source": [
    "#### Question 7&nbsp;&nbsp;&nbsp;&nbsp;&nbsp;&nbsp;(3 Points) \n",
    "Pick a number `n` to make the following statement True: (5<=n). Create a variable `output7` and assign the solution to it to show your number works."
   ]
  },
  {
   "cell_type": "code",
   "execution_count": 76,
   "metadata": {
    "deletable": false,
    "nbgrader": {
     "cell_type": "code",
     "checksum": "b851b692d6624bb6ad00ac6959fef88f",
     "grade": false,
     "grade_id": "question_7",
     "locked": false,
     "schema_version": 3,
     "solution": true,
     "task": false
    },
    "tags": []
   },
   "outputs": [
    {
     "data": {
      "text/plain": [
       "True"
      ]
     },
     "execution_count": 76,
     "metadata": {},
     "output_type": "execute_result"
    }
   ],
   "source": [
    "# Write your solution here\n",
    "\n",
    "# YOUR CODE HERE\n",
    "n = 5\n",
    "output7 = 5<=n\n",
    "output7"
   ]
  },
  {
   "cell_type": "code",
   "execution_count": null,
   "metadata": {
    "deletable": false,
    "editable": false,
    "nbgrader": {
     "cell_type": "code",
     "checksum": "39d0f7c02d5de2017531d6ccac6ef104",
     "grade": true,
     "grade_id": "7-1_Boolean_Expression",
     "locked": true,
     "points": 3,
     "schema_version": 3,
     "solution": false,
     "task": false
    },
    "tags": []
   },
   "outputs": [],
   "source": [
    "# Testing Cell (Do NOT not modify this cell)"
   ]
  },
  {
   "cell_type": "markdown",
   "metadata": {},
   "source": [
    "#### Question 8&nbsp;&nbsp;&nbsp;&nbsp;&nbsp;&nbsp;(3 Points) \n",
    "Write a Python program to convert the string variable `user_height` with value `\"175\"` into an integer. Create a variable `output8` and assign the solution to it."
   ]
  },
  {
   "cell_type": "code",
   "execution_count": 72,
   "metadata": {
    "tags": []
   },
   "outputs": [
    {
     "data": {
      "text/plain": [
       "175"
      ]
     },
     "execution_count": 72,
     "metadata": {},
     "output_type": "execute_result"
    }
   ],
   "source": [
    "user_height = \"175\""
   ]
  },
  {
   "cell_type": "code",
   "execution_count": 77,
   "metadata": {
    "deletable": false,
    "nbgrader": {
     "cell_type": "code",
     "checksum": "3c8ebb020cd6b87288c4cb31d3aa3af2",
     "grade": false,
     "grade_id": "question_8",
     "locked": false,
     "schema_version": 3,
     "solution": true,
     "task": false
    },
    "tags": []
   },
   "outputs": [
    {
     "data": {
      "text/plain": [
       "175"
      ]
     },
     "execution_count": 77,
     "metadata": {},
     "output_type": "execute_result"
    }
   ],
   "source": [
    "# Write your solution here\n",
    "\n",
    "# YOUR CODE HERE\n",
    "user_height = \"175\"\n",
    "output8 = int(user_height)\n",
    "output8"
   ]
  },
  {
   "cell_type": "code",
   "execution_count": null,
   "metadata": {
    "deletable": false,
    "editable": false,
    "nbgrader": {
     "cell_type": "code",
     "checksum": "691fde420d4212930ea38ee23e0b908f",
     "grade": true,
     "grade_id": "8-1_Type_Conversion",
     "locked": true,
     "points": 3,
     "schema_version": 3,
     "solution": false,
     "task": false
    },
    "tags": []
   },
   "outputs": [],
   "source": [
    "# Testing Cell (Do NOT not modify this cell)"
   ]
  },
  {
   "cell_type": "markdown",
   "metadata": {},
   "source": [
    "#### Question 9&nbsp;&nbsp;&nbsp;&nbsp;&nbsp;&nbsp;(3 Points)\n",
    "Create a variable `sentence` and assign the string literal `John said \"Hello\"!` to it."
   ]
  },
  {
   "cell_type": "code",
   "execution_count": 78,
   "metadata": {
    "deletable": false,
    "nbgrader": {
     "cell_type": "code",
     "checksum": "ff82f98b942adabb452927a67f708a13",
     "grade": false,
     "grade_id": "question_9_setup",
     "locked": false,
     "schema_version": 3,
     "solution": true,
     "task": false
    },
    "tags": []
   },
   "outputs": [
    {
     "data": {
      "text/plain": [
       "'John said \"Hello\"!'"
      ]
     },
     "execution_count": 78,
     "metadata": {},
     "output_type": "execute_result"
    }
   ],
   "source": [
    "# Create your variable here\n",
    "\n",
    "# YOUR CODE HERE\n",
    "sentence = 'John said \"Hello\"!'\n",
    "sentence"
   ]
  },
  {
   "cell_type": "markdown",
   "metadata": {},
   "source": [
    "Now create a variable `output9` and using string methods find the number of occurrences of double quotes (\") in `sentence`. Assign this number of occurrences to `output9`."
   ]
  },
  {
   "cell_type": "code",
   "execution_count": null,
   "metadata": {
    "deletable": false,
    "nbgrader": {
     "cell_type": "code",
     "checksum": "03a1202da1ee9a06906945535df6de9e",
     "grade": false,
     "grade_id": "question_9",
     "locked": false,
     "schema_version": 3,
     "solution": true,
     "task": false
    },
    "tags": []
   },
   "outputs": [],
   "source": [
    "# Write your solution here\n",
    "\n",
    "# YOUR CODE HERE\n",
    "raise NotImplementedError()"
   ]
  },
  {
   "cell_type": "code",
   "execution_count": null,
   "metadata": {
    "deletable": false,
    "editable": false,
    "nbgrader": {
     "cell_type": "code",
     "checksum": "03487e99358ff2541374b34baa758bb8",
     "grade": true,
     "grade_id": "9-1_String_counts",
     "locked": true,
     "points": 3,
     "schema_version": 3,
     "solution": false,
     "task": false
    },
    "tags": []
   },
   "outputs": [],
   "source": [
    "# Testing Cell (Do NOT not modify this cell)"
   ]
  },
  {
   "cell_type": "markdown",
   "metadata": {},
   "source": [
    "#### Question 10&nbsp;&nbsp;&nbsp;&nbsp;&nbsp;&nbsp;(4 Points)\n",
    "Write a Python program to convert a given temperature in Fahrenheit (F) to Celsius (C).  \n",
    "\n",
    "First create a variable `fahrenheit_temperature` and assign it a Fahrenheit temperature value."
   ]
  },
  {
   "cell_type": "code",
   "execution_count": 80,
   "metadata": {
    "deletable": false,
    "nbgrader": {
     "cell_type": "code",
     "checksum": "fbc9d279ec8cb8f3d5e1e00d3ab824dc",
     "grade": false,
     "grade_id": "question_10_setup",
     "locked": false,
     "schema_version": 3,
     "solution": true,
     "task": false
    },
    "tags": []
   },
   "outputs": [],
   "source": [
    "# Create your variable here\n",
    "\n",
    "# YOUR CODE HERE\n",
    "fahrenheit_temperature = 100"
   ]
  },
  {
   "cell_type": "markdown",
   "metadata": {},
   "source": [
    "Use the following formula to convert the Fahrenheit value to Celcius.\n",
    "\n",
    "$C=(F-32)\\times \\frac{5}{9}$\n",
    "\n",
    "Create a variable `output10` and assign the final value to it **as a whole number**."
   ]
  },
  {
   "cell_type": "code",
   "execution_count": 81,
   "metadata": {
    "deletable": false,
    "nbgrader": {
     "cell_type": "code",
     "checksum": "2b2e22cb7ee471ccee013287d0790fd1",
     "grade": false,
     "grade_id": "question_10",
     "locked": false,
     "schema_version": 3,
     "solution": true,
     "task": false
    },
    "tags": []
   },
   "outputs": [
    {
     "data": {
      "text/plain": [
       "37"
      ]
     },
     "execution_count": 81,
     "metadata": {},
     "output_type": "execute_result"
    }
   ],
   "source": [
    "# Write your solution here\n",
    "\n",
    "# YOUR CODE HERE\n",
    "output10 = int((fahrenheit_temperature-32) * (5/9))\n",
    "output10"
   ]
  },
  {
   "cell_type": "code",
   "execution_count": null,
   "metadata": {
    "deletable": false,
    "editable": false,
    "nbgrader": {
     "cell_type": "code",
     "checksum": "cd1080b2d69ccb4937928f89d97ed277",
     "grade": true,
     "grade_id": "10-1_Temperature_conversion",
     "locked": true,
     "points": 4,
     "schema_version": 3,
     "solution": false,
     "task": false
    },
    "tags": []
   },
   "outputs": [],
   "source": [
    "# Testing Cell (Do NOT not modify this cell)"
   ]
  },
  {
   "cell_type": "markdown",
   "metadata": {},
   "source": [
    "#### Question 11&nbsp;&nbsp;&nbsp;&nbsp;&nbsp;&nbsp;(5 Points)\n",
    "Write a Python program that uses python's built-in methods to format a given string so that the first letter of each word is made uppercase (and the other letters are lowercase).\n",
    "\n",
    "For example, \"thE universiTy OF adelaiDE\" would change to \"The University Of Adelaide\". \n",
    "\n",
    "Create a variable `output11` and assign the solution to it.\n",
    "\n",
    "***\n",
    "\n",
    "<details>\n",
    "  <summary><span style=\"color:blue\">Click to see Hints</span></summary>\n",
    "    <ul><li>\n",
    "    Review the <a href=\"https://docs.python.org/3/library/stdtypes.html#string-methods\" >python built-in types documentation for String methods</a> for methods that do some or all of these steps.</li>\n",
    "        <li>This type of formatting is also called <em>titlecase</em>.</li>\n",
    "    </ul>\n",
    "</details>"
   ]
  },
  {
   "cell_type": "code",
   "execution_count": 83,
   "metadata": {
    "tags": []
   },
   "outputs": [],
   "source": [
    "input11 = \"thE universiTy OF adelaiDE\""
   ]
  },
  {
   "cell_type": "code",
   "execution_count": 85,
   "metadata": {
    "deletable": false,
    "nbgrader": {
     "cell_type": "code",
     "checksum": "063c30fae744cddeafa7215b9115c4fd",
     "grade": false,
     "grade_id": "question_11",
     "locked": false,
     "schema_version": 3,
     "solution": true,
     "task": false
    },
    "tags": []
   },
   "outputs": [
    {
     "data": {
      "text/plain": [
       "'The University Of Adelaide'"
      ]
     },
     "execution_count": 85,
     "metadata": {},
     "output_type": "execute_result"
    }
   ],
   "source": [
    "# Write your solution here\n",
    "\n",
    "# YOUR CODE HERE\n",
    "output11 = input11.title()\n",
    "output11"
   ]
  },
  {
   "cell_type": "code",
   "execution_count": null,
   "metadata": {
    "deletable": false,
    "editable": false,
    "nbgrader": {
     "cell_type": "code",
     "checksum": "718a572e1608562ae75928235557dcb7",
     "grade": true,
     "grade_id": "11-1_String_Formatting",
     "locked": true,
     "points": 5,
     "schema_version": 3,
     "solution": false,
     "task": false
    },
    "tags": []
   },
   "outputs": [],
   "source": [
    "# Testing Cell (Do NOT not modify this cell)"
   ]
  },
  {
   "cell_type": "markdown",
   "metadata": {},
   "source": [
    "#### Question 12&nbsp;&nbsp;&nbsp;&nbsp;&nbsp;&nbsp;(4 Points)\n",
    "The sentence `Python 3.10.1, documentation released on 6 December 2021` contains a mixture of alphabetical characters (a-z), numbers (0-9), symbols (., ).  \n",
    "\n",
    "Write a Python program to check the input for existence of alphabetical characters, numbers and symbols as described below using string methods.\n",
    "1. Check if all the characters in `input12` are letters. Create a variable `output12_i` and assign the solution to it.\n",
    "2. Check if all the characters in `input12` are numbers. Create a variable `output12_ii` and assign the solution to it.\n",
    "3. Check if `input12` only contains alphanumeric characters - letters and numbers (example of characters that are not alphanumeric are (space)! # % & ? etc.). Create a variable `output12_iii` and assign the solution to it.\n",
    "\n",
    "Try with different input values, such as `\"Hello\"`, `\"123456\"`, `\"H3ll0\"`, and `\"H3ll0 W0rld\"`\n",
    "\n",
    "***\n",
    "\n",
    "<details>\n",
    "  <summary><span style=\"color:blue\">Click to see Hints</span></summary>\n",
    "    <ul><li>\n",
    "    Review the <a href=\"https://docs.python.org/3/library/stdtypes.html#string-methods\" >python built-in types documentation for String methods</a> for methods that do some or all of these steps.</li>\n",
    "        <li>Built-in methods that check for some condition (such as only alphabetic characters) usually start with <em>is</em>, for example <code>isupper()</code> which checks that a string is all uppercase.</li>\n",
    "    </ul>\n",
    "</details>"
   ]
  },
  {
   "cell_type": "code",
   "execution_count": 86,
   "metadata": {
    "tags": []
   },
   "outputs": [],
   "source": [
    "input12 = \"Python 3.10.1, documentation released on 6 December 2021\""
   ]
  },
  {
   "cell_type": "code",
   "execution_count": 90,
   "metadata": {
    "deletable": false,
    "nbgrader": {
     "cell_type": "code",
     "checksum": "18bf1afd02b772bc133f211c5bf6f9ee",
     "grade": false,
     "grade_id": "question_12",
     "locked": false,
     "schema_version": 3,
     "solution": true,
     "task": false
    },
    "tags": []
   },
   "outputs": [
    {
     "name": "stdout",
     "output_type": "stream",
     "text": [
      "False False False\n"
     ]
    }
   ],
   "source": [
    "# Write your solution here\n",
    "\n",
    "# YOUR CODE HERE\n",
    "output12_i = input12.isalpha()\n",
    "output12_ii = input12.isdigit()\n",
    "output12_iii = input12.isalnum()\n",
    "print(output12_i,output12_ii,output12_iii)"
   ]
  },
  {
   "cell_type": "code",
   "execution_count": null,
   "metadata": {
    "deletable": false,
    "editable": false,
    "nbgrader": {
     "cell_type": "code",
     "checksum": "3d11300b12f8e6f1e04b994c4a112c07",
     "grade": true,
     "grade_id": "12-1_String_checks",
     "locked": true,
     "points": 4,
     "schema_version": 3,
     "solution": false,
     "task": false
    },
    "tags": []
   },
   "outputs": [],
   "source": [
    "# Testing Cell (Do NOT not modify this cell)"
   ]
  },
  {
   "cell_type": "markdown",
   "metadata": {},
   "source": [
    "#### Question 13&nbsp;&nbsp;&nbsp;&nbsp;&nbsp;&nbsp;(4 Points)\n",
    "Euler's number, `e`, can be called in Python using `from math import e`,  \n",
    "1. Round `e` to the nearest integer. Create a variable `output13_i` and assign the solution to it.\n",
    "2. Round `e` to the 2 decimal places. Create a variable `output13_ii` and assign the solution to it.\n",
    "3. Round `e` to the 1 decimal place. Create a variable `output13_iii` and assign the solution to it."
   ]
  },
  {
   "cell_type": "code",
   "execution_count": 92,
   "metadata": {
    "deletable": false,
    "nbgrader": {
     "cell_type": "code",
     "checksum": "211dfa5a8c5f68edb5fa5c94ae86fe92",
     "grade": false,
     "grade_id": "question_13",
     "locked": false,
     "schema_version": 3,
     "solution": true,
     "task": false
    },
    "tags": []
   },
   "outputs": [
    {
     "name": "stdout",
     "output_type": "stream",
     "text": [
      "3 2.72 2.7\n"
     ]
    }
   ],
   "source": [
    "from math import e\n",
    "\n",
    "# Write your solution here\n",
    "output13_i = round(e)\n",
    "output13_ii = round(e, 2)\n",
    "output13_iii = round(e, 1)\n",
    "print(output13_i, output13_ii, output13_iii)\n",
    "\n"
   ]
  },
  {
   "cell_type": "code",
   "execution_count": null,
   "metadata": {
    "deletable": false,
    "editable": false,
    "nbgrader": {
     "cell_type": "code",
     "checksum": "3968012edaac52482d27664c9dc8c0a1",
     "grade": true,
     "grade_id": "13-1_E",
     "locked": true,
     "points": 4,
     "schema_version": 3,
     "solution": false,
     "task": false
    },
    "tags": []
   },
   "outputs": [],
   "source": [
    "# Testing Cell (Do NOT not modify this cell)"
   ]
  },
  {
   "cell_type": "markdown",
   "metadata": {},
   "source": [
    "#### Question 14&nbsp;&nbsp;&nbsp;&nbsp;&nbsp;&nbsp;(5 Points)\n",
    "Write a program that removes all empty spaces, commas and full stops from a given input string using string methods. Create a variable `output14` and assign the solution to it.\n",
    "\n",
    "For example, `  .i., .nc.,., .omp  r.,ehe. ns,, .,. ibi . ,l,iti,., es ` should output as _incomprehensibilities_\n",
    "\n",
    "***\n",
    "\n",
    "<details>\n",
    "   <summary><span style=\"color:blue\">Click to see Hints</span></summary>\n",
    "<ul><li>\n",
    "    Review the <a href=\"https://docs.python.org/3/library/stdtypes.html#string-methods\" >python built-in types documentation for String methods</a> for methods that do some or all of these steps.</li>\n",
    "        <li>You can remove specific characters from a string by finding and replacing them with an empty string <code>\"\"</code>.</li>\n",
    "    </ul>\n",
    "</details>"
   ]
  },
  {
   "cell_type": "code",
   "execution_count": 93,
   "metadata": {
    "tags": []
   },
   "outputs": [],
   "source": [
    "input14 = \"  .i., .nc.,., .omp  r.,ehe. ns,, .,. ibi . ,l,iti,., es \""
   ]
  },
  {
   "cell_type": "code",
   "execution_count": 94,
   "metadata": {
    "deletable": false,
    "nbgrader": {
     "cell_type": "code",
     "checksum": "501777c74c249eee107a20a9c453f0e0",
     "grade": false,
     "grade_id": "question_14",
     "locked": false,
     "schema_version": 3,
     "solution": true,
     "task": false
    },
    "tags": []
   },
   "outputs": [
    {
     "data": {
      "text/plain": [
       "'incomprehensibilities'"
      ]
     },
     "execution_count": 94,
     "metadata": {},
     "output_type": "execute_result"
    }
   ],
   "source": [
    "# Write your solution here\n",
    "\n",
    "# YOUR CODE HERE\n",
    "output14 = input14.replace(\" \",\"\").replace(\".\",\"\").replace(\",\",\"\")\n",
    "output14\n"
   ]
  },
  {
   "cell_type": "code",
   "execution_count": null,
   "metadata": {
    "deletable": false,
    "editable": false,
    "nbgrader": {
     "cell_type": "code",
     "checksum": "2fda96a6ef801d12b9eda7e4e05085b4",
     "grade": true,
     "grade_id": "14-1_String_character_replacement",
     "locked": true,
     "points": 5,
     "schema_version": 3,
     "solution": false,
     "task": false
    },
    "tags": []
   },
   "outputs": [],
   "source": [
    "# Testing Cell (Do NOT not modify this cell)"
   ]
  },
  {
   "cell_type": "markdown",
   "metadata": {},
   "source": [
    "#### Question 15 &nbsp;&nbsp;&nbsp;&nbsp;&nbsp;&nbsp;(5 Points) \n",
    "Mentioned below is an extract taken from the following Wikipedia page: https://en.wikipedia.org/wiki/Python_(programming_language)\n",
    "\n",
    "> Python is an interpreted high-level general-purpose programming language. Its design philosophy emphasises code readability with its use of significant indentation. Its language constructs as well as its object-oriented approach aim to help programmers write clear, logical code for small and large-scale projects. Python is dynamically-typed and garbage-collected. It supports multiple programming paradigms, including structured (particularly, procedural), object-oriented and functional programming. It is often described as a \"batteries included\" language due to its comprehensive standard library. Python consistently ranks as one of the most popular programming languages.\n",
    "\n",
    "First create a variable `language_details` and assign the the above-mentioned extract to it.\n"
   ]
  },
  {
   "cell_type": "code",
   "execution_count": 95,
   "metadata": {
    "deletable": false,
    "nbgrader": {
     "cell_type": "code",
     "checksum": "69c17196a7de65799aeee3c13043054e",
     "grade": false,
     "grade_id": "question_15_setup",
     "locked": false,
     "schema_version": 3,
     "solution": true,
     "task": false
    },
    "tags": []
   },
   "outputs": [],
   "source": [
    "# Create your variable here\n",
    "\n",
    "# YOUR CODE HERE\n",
    "language_details = 'Python is an interpreted high-level general-purpose programming language. Its design philosophy emphasises code readability with its use of significant indentation. Its language constructs as well as its object-oriented approach aim to help programmers write clear, logical code for small and large-scale projects. Python is dynamically-typed and garbage-collected. It supports multiple programming paradigms, including structured (particularly, procedural), object-oriented and functional programming. It is often described as a \"batteries included\" language due to its comprehensive standard library. Python consistently ranks as one of the most popular programming languages.'"
   ]
  },
  {
   "cell_type": "markdown",
   "metadata": {},
   "source": [
    "Now write a program to do the following:\n",
    "\n",
    "1. Check if the phrase `dynamically-typed` is in `language_details`. Create a variable `output15_i` and assign the result to it. [Expected output: True]\n",
    "2. Check if the phrase `object-oriented` is in `language_details`. Create a variable `output15_ii` and assign the result to it. [Expected output: True]\n",
    "3. Check if the word `Java` is **NOT** in `language_details`. Create a variable `output15_iii` and assign the result to it. [Expected output: True] \n",
    "\n",
    "Try your program with different input text, such as this extract about Java (from https://en.wikipedia.org/wiki/Java_(programming_language) )\n",
    "\n",
    "> Java is a high-level, class-based, object-oriented programming language that is designed to have as few implementation dependencies as possible.\n",
    "\n",
    "***\n",
    "\n",
    "<details>\n",
    "   <summary><span style=\"color:blue\">Click to see Hints</span></summary>\n",
    "\n",
    "    * To check if a given phrase or character is present in a string, use the keyword `in`.\n",
    "    * To check if a given phrase or character is NOT present in a string, use the keyword `not in`.\n",
    "</details>"
   ]
  },
  {
   "cell_type": "code",
   "execution_count": 97,
   "metadata": {
    "deletable": false,
    "nbgrader": {
     "cell_type": "code",
     "checksum": "ce1018fcba2048333fb20aa4b8e30ddd",
     "grade": false,
     "grade_id": "question_15",
     "locked": false,
     "schema_version": 3,
     "solution": true,
     "task": false
    },
    "tags": []
   },
   "outputs": [
    {
     "data": {
      "text/plain": [
       "(True, True, True)"
      ]
     },
     "execution_count": 97,
     "metadata": {},
     "output_type": "execute_result"
    }
   ],
   "source": [
    "# Write your solution here\n",
    "\n",
    "# YOUR CODE HERE\n",
    "output15_i = 'dynamically-typed' in language_details\n",
    "output15_ii = 'object-oriented' in language_details\n",
    "output15_iii = 'Java' not in language_details\n",
    "output15_i, output15_ii, output15_iii"
   ]
  },
  {
   "cell_type": "code",
   "execution_count": null,
   "metadata": {
    "deletable": false,
    "editable": false,
    "nbgrader": {
     "cell_type": "code",
     "checksum": "191b6d0c1edf8812cff538727a49beb2",
     "grade": true,
     "grade_id": "15-1_String_checks",
     "locked": true,
     "points": 5,
     "schema_version": 3,
     "solution": false,
     "task": false
    },
    "tags": []
   },
   "outputs": [],
   "source": [
    "# Testing Cell (Do NOT not modify this cell)"
   ]
  },
  {
   "cell_type": "markdown",
   "metadata": {},
   "source": [
    "#### Question 16 &nbsp;&nbsp;&nbsp;&nbsp;&nbsp;&nbsp;(5 Points)\n",
    "Using string methods, swap the `, ` and `.` in a given string. Create a variable `output16` and assign the solution to it.\n",
    "\n",
    "For example for the input `10, 612, 419.001` the output would become `10.612.419, 001`. "
   ]
  },
  {
   "cell_type": "code",
   "execution_count": 98,
   "metadata": {
    "tags": []
   },
   "outputs": [],
   "source": [
    "input16 = \"10, 612, 419.001\""
   ]
  },
  {
   "cell_type": "code",
   "execution_count": null,
   "metadata": {
    "deletable": false,
    "nbgrader": {
     "cell_type": "code",
     "checksum": "d8bd7bbc324df1032f04122540af5960",
     "grade": false,
     "grade_id": "question_16",
     "locked": false,
     "schema_version": 3,
     "solution": true,
     "task": false
    },
    "tags": []
   },
   "outputs": [],
   "source": [
    "# Write your solution here\n",
    "\n",
    "# YOUR CODE HERE\n"
   ]
  },
  {
   "cell_type": "code",
   "execution_count": null,
   "metadata": {
    "deletable": false,
    "editable": false,
    "nbgrader": {
     "cell_type": "code",
     "checksum": "ae3f1a8a51371f84f34b803f51b96b9d",
     "grade": true,
     "grade_id": "16-1_String_swap",
     "locked": true,
     "points": 5,
     "schema_version": 3,
     "solution": false,
     "task": false
    },
    "tags": []
   },
   "outputs": [],
   "source": [
    "# Testing Cell (Do NOT not modify this cell)"
   ]
  },
  {
   "cell_type": "markdown",
   "metadata": {},
   "source": [
    "#### Question 17 &nbsp;&nbsp;&nbsp;&nbsp;&nbsp;&nbsp;(6 Points)\n",
    "Given the sentence `hEY! i DON'T REMEMBER YOUR nAME, sORRY! wHAT WAS IT AGAIn?`: \n",
    "\n",
    "1. Make the lower case letters upper case and the upper case letters lower case in the above sentence. Create a variable `correct_txt` and assign the solution to it. [Expected Output: Hey! I don't remember your Name, Sorry! What was it agaiN?]\n",
    "<details>\n",
    "  <summary><span style=\"color:blue\">Click to see Hints</span></summary>\n",
    "  <ul><li>\n",
    "    Review the <a href=\"https://docs.python.org/3/library/stdtypes.html#string-methods\" >python built-in types documentation for String methods</a> for a method that swaps the case of all letters in a string...</li>\n",
    "    </ul>\n",
    "</details>\n",
    "\n",
    "2. Find the number of times the letter `n` appears in the `correct_txt` using string methods and assign it to the variable `count_n`\n",
    "3. Change `correct_txt` to lowercase. Now the string in `correct_txt` should be all lowercase. Count the number of times the letter `n` appears in it. Create variable `count_n_new` and assign the solution to it.\n",
    "4. Set the variable `user_name` to David. Append the `user_name` three times (using string operations) **on a new line** of `correct_txt` and assign it to the `updated_txt` variable.  \n",
    "  The `updated_txt` should looks like:  \n",
    "```\n",
    "hey! i don't remember your name, sorry! what was it again?\n",
    "David David David\n",
    "```\n",
    "\n",
    "5. Convert all the letters in `updated_txt` to uppercase, and assign the solution to `output17_i` variable.\n",
    "6. Check whether the word \"SORRY\" is in `output17_i` using string methods, and assign the solution to `output17_ii` variable. [Expected output: True]\n",
    "<details>\n",
    "  <summary><span style=\"color:blue\">Click to see Hints</span></summary>\n",
    "  <ul><li>\n",
    "      You will need to use the keyword `in` to perform this, as you saw in question 15.</li>\n",
    "    </ul>\n",
    "</details>\n",
    "\n",
    "7. Make sure everything still works as expected if you change the input sentence."
   ]
  },
  {
   "cell_type": "code",
   "execution_count": null,
   "metadata": {
    "tags": []
   },
   "outputs": [],
   "source": [
    "input17 = \"hEY! i DON'T REMEMBER YOUR nAME, sORRY! wHAT WAS IT AGAIn?\""
   ]
  },
  {
   "cell_type": "code",
   "execution_count": null,
   "metadata": {
    "deletable": false,
    "nbgrader": {
     "cell_type": "code",
     "checksum": "3043c8924c274c827355a8fed873e561",
     "grade": false,
     "grade_id": "question_17",
     "locked": false,
     "schema_version": 3,
     "solution": true,
     "task": false
    },
    "tags": []
   },
   "outputs": [],
   "source": [
    "# Write your solution here\n",
    "\n",
    "# YOUR CODE HERE\n",
    "raise NotImplementedError()"
   ]
  },
  {
   "cell_type": "code",
   "execution_count": null,
   "metadata": {
    "deletable": false,
    "editable": false,
    "nbgrader": {
     "cell_type": "code",
     "checksum": "091c964844de4343457b67217b974e85",
     "grade": true,
     "grade_id": "17-1_String_cases",
     "locked": true,
     "points": 6,
     "schema_version": 3,
     "solution": false,
     "task": false
    },
    "tags": []
   },
   "outputs": [],
   "source": [
    "# Testing Cell (Do NOT not modify this cell)"
   ]
  },
  {
   "cell_type": "markdown",
   "metadata": {},
   "source": [
    "#### Question 18 &nbsp;&nbsp;&nbsp;&nbsp;&nbsp;&nbsp;(6 Points)\n",
    "In addition to the *int* and *float* that we learnt in Topic 1, Python also has one other numeric type called\n",
    "*complex numbers*. Complex numbers are written with a \"j\" as the imaginary part (e.g., *3+5j*).\n",
    "1. Create a variable `myfirstcomplex` and assign the value `2+5j` to it.\n",
    "2. Given an int `input18_int`, convert the int to a complex number and assign the solution to the `output18_i` variable. Print the type of `output18_i` to verify that it's a complex number.\n",
    "3. Given an int `input18_float`, convert the float to a complex number and assign the solution to the `output18_ii` variable. Print the type of `output18_ii` to verify that it's a complex number.\n",
    "\n",
    "***\n",
    "<details>\n",
    "  <summary><span style=\"color:blue\">Click to see Hints</span></summary>\n",
    "    <ul>\n",
    "        <li>Python supports three types of numbers – int, float, and complex.</li>\n",
    "        <li>`complex()` to convert an integer or a float into a complex number in Python.</li></ul>\n",
    "\n",
    "</details>\n"
   ]
  },
  {
   "cell_type": "code",
   "execution_count": null,
   "metadata": {
    "tags": []
   },
   "outputs": [],
   "source": [
    "input18_int = 5\n",
    "input18_float = 17.81"
   ]
  },
  {
   "cell_type": "code",
   "execution_count": null,
   "metadata": {
    "deletable": false,
    "nbgrader": {
     "cell_type": "code",
     "checksum": "130740754b916fb52de28e08cddc1c36",
     "grade": false,
     "grade_id": "question_18",
     "locked": false,
     "schema_version": 3,
     "solution": true,
     "task": false
    },
    "tags": []
   },
   "outputs": [],
   "source": [
    "# Write your solution here\n",
    "\n",
    "# YOUR CODE HERE\n",
    "raise NotImplementedError()"
   ]
  },
  {
   "cell_type": "code",
   "execution_count": null,
   "metadata": {
    "deletable": false,
    "editable": false,
    "nbgrader": {
     "cell_type": "code",
     "checksum": "b8c6c218266dcd5fd3b20cff8b06c78f",
     "grade": true,
     "grade_id": "18-1_Complex_numbers",
     "locked": true,
     "points": 6,
     "schema_version": 3,
     "solution": false,
     "task": false
    },
    "tags": []
   },
   "outputs": [],
   "source": [
    "# Testing Cell (Do NOT not modify this cell)"
   ]
  },
  {
   "cell_type": "markdown",
   "metadata": {},
   "source": [
    "#### Question 19 &nbsp;&nbsp;&nbsp;&nbsp;&nbsp;&nbsp;(6 Points)\n",
    "Write a Python program to convert some number of hours from 24 hour format to 12 hour format as described below. \n",
    "1. What is `20` o'clock of 24 hours clock in 12 hours clock. Create a variable `output19_i` and assign the solution to it. [Expected output: 8]\n",
    "2. Update your program to handle negative hours by removing the negative mark programmatically since time cannot be negative.  \n",
    "  Test that it works by changing `hours` to `-19`.\n",
    "3. Check if the time from your conversion in `output19_i` is an odd number.  \n",
    "  Make sure the output is a boolean type, using the bool() function to convert the result.\n",
    "  Create a variable `output19_ii` and assign the boolean value to it. [Expected output: True]\n",
    "***\n",
    "<details>\n",
    "  <summary><span style=\"color:blue\">Click to see Hints</span></summary>\n",
    "    \n",
    "1. You will need to use the modulo operation (`%`) to convert the time from 24 hours clock to 12 hours clock as well as to check if the time is odd. The modulo operation is an arithmetic operation that finds the remainder of the division of one number by another. The remainder is called the modulus of the operation. <br>\n",
    "e.g., 9 divided by 2 equals 4, with a remainder of 1\n",
    "    \n",
    "2. To remove the negative mark, you will need to use built-in `abs()` function.\n",
    "</details>"
   ]
  },
  {
   "cell_type": "code",
   "execution_count": 10,
   "metadata": {
    "tags": []
   },
   "outputs": [],
   "source": [
    "hours = 20"
   ]
  },
  {
   "cell_type": "code",
   "execution_count": 11,
   "metadata": {
    "deletable": false,
    "nbgrader": {
     "cell_type": "code",
     "checksum": "82a5452b67bd90f2935b84a4cc031336",
     "grade": false,
     "grade_id": "question_19",
     "locked": false,
     "schema_version": 3,
     "solution": true,
     "task": false
    },
    "tags": []
   },
   "outputs": [
    {
     "name": "stdout",
     "output_type": "stream",
     "text": [
      "8\n",
      "7\n",
      "True\n"
     ]
    }
   ],
   "source": [
    "# Write your solution here\n",
    "\n",
    "# YOUR CODE HERE\n",
    "output19_i = hours % 12 \n",
    "print(output19_i)\n",
    "hours = -19\n",
    "output19_i = abs(hours) % 12\n",
    "print(output19_i)\n",
    "output19_ii = bool(output19_i%2)\n",
    "print(output19_ii)"
   ]
  },
  {
   "cell_type": "code",
   "execution_count": null,
   "metadata": {
    "deletable": false,
    "editable": false,
    "nbgrader": {
     "cell_type": "code",
     "checksum": "68985414b67aed1fd5b59d60d28a6918",
     "grade": true,
     "grade_id": "19-1_24_Hour_time",
     "locked": true,
     "points": 6,
     "schema_version": 3,
     "solution": false,
     "task": false
    },
    "tags": []
   },
   "outputs": [],
   "source": [
    "# Testing Cell (Do NOT not modify this cell)"
   ]
  },
  {
   "cell_type": "markdown",
   "metadata": {},
   "source": [
    "#### Question 20 &nbsp;&nbsp;&nbsp;&nbsp;&nbsp;&nbsp;(6 Points)\n",
    "Write a Python progarmme to convert time seconds, minutes, hours and days as described below. \n",
    "\n",
    "1. Convert a given number of seconds to minutes and seconds (e.g., `191 seconds` is `3` minutes and `11` seconds). Create variables `output20_i_minutes` and `output_i_seconds` and assign the number of minutes (int) and number of seconds (int) to these two variables, respectively.\n",
    "\n",
    "2. Convert a given number of hours to days and hours. Create variables `output20_ii_days` and `output20_ii_hours` and assign the number of days (int) and number of hours (int) to these variables, respectively.\n",
    "\n",
    "<details>\n",
    "  <summary><span style=\"color:blue\">Click to see Hints</span></summary>\n",
    "    \n",
    "1. You will need to use the integer division operation to obtain the number of minutes. \n",
    "\n",
    "2. You will need to use the modulo operation to obtain the number of seconds.\n",
    "</details>"
   ]
  },
  {
   "cell_type": "code",
   "execution_count": null,
   "metadata": {
    "tags": []
   },
   "outputs": [],
   "source": [
    "seconds = 303\n",
    "hours = 1909"
   ]
  },
  {
   "cell_type": "code",
   "execution_count": null,
   "metadata": {
    "deletable": false,
    "nbgrader": {
     "cell_type": "code",
     "checksum": "6403809106edcbad9dd0d8bfd07d88c8",
     "grade": false,
     "grade_id": "question_20",
     "locked": false,
     "schema_version": 3,
     "solution": true,
     "task": false
    },
    "tags": []
   },
   "outputs": [],
   "source": [
    "# Write your solution here\n",
    "\n",
    "# YOUR CODE HERE\n",
    "raise NotImplementedError()"
   ]
  },
  {
   "cell_type": "code",
   "execution_count": null,
   "metadata": {
    "deletable": false,
    "editable": false,
    "nbgrader": {
     "cell_type": "code",
     "checksum": "75aec559e5d4639848e0b0dd3dee240d",
     "grade": true,
     "grade_id": "20-1_Seconds_conversion",
     "locked": true,
     "points": 6,
     "schema_version": 3,
     "solution": false,
     "task": false
    },
    "tags": []
   },
   "outputs": [],
   "source": [
    "# Testing Cell (Do NOT not modify this cell)"
   ]
  },
  {
   "cell_type": "markdown",
   "metadata": {},
   "source": [
    "#### Question 21 &nbsp;&nbsp;&nbsp;&nbsp;&nbsp;&nbsp;(6 Points)\n",
    "Given the following string/sentence: \n",
    "```\n",
    "'          \\n   \\t   In this week we learnt about \"Environments\" and \"Variables & Types\" in Python! \\n \\n     '\n",
    "```\n",
    "\n",
    "1. Remove all whitespace at the beginning and at the end of the string using built-in functions, and assign the solution to `output21_i`.  \n",
    "  Check your work using the string length of `input21` and `output21_i` (*length of `input21` is 105 and length of `output21_i` should be 78*).\n",
    "2. In `input21`, remove all whitespace **only** at the beginning of the string using built-in functions, and assign the solution to `output21_ii`. Again, check your work using the string lengths (*length of `output21_ii` should be 87*).\n",
    "3. In `input21`, remove all whitespace **only** at the end of the string using built-in functions, and assign the solution to `output21_iii`. Again, check your work using the string lengths (*length of `output21_iii` should be 96*).\n",
    "4. In `input21`, replace all whitespace with `&` using built-in functions, and assign the solution to `output21_iv`. Your output should look like: `&&&&&&&&&&&&&&&&&&In&this&week&we&learnt&about&\"Environments\"&and&\"Variables&&&Types\"&in&Python!&&&&&&&&&`\n",
    "\n",
    "<details>\n",
    "  <summary><span style=\"color:blue\">Click to see Hints for 1, 2, 3 & 4</span></summary>\n",
    "\n",
    "* `strip()` function removes any leading (spaces at the beginning) and trailing (spaces at the end) characters (space is the default leading character to remove).\n",
    "* `lstrip()` function removes any leading characters (space is the default leading character to remove).\n",
    "* `rstrip()` function removes any trailing characters (space is the default leading character to remove).\n",
    "* use `replace()` to perform this.\n",
    "    \n",
    "If you need more information on them, use `?` or `help()`.\n",
    "\n",
    "</details>\n",
    "\n",
    "5. Check if `input21` starts with `In`. Create the variable `output21_v` and assign the solution to it.\n",
    "6. Check if `output21_i` ends with `Python!`. Create the variable `output21_vi` and assign the solution to it.\n",
    "\n",
    "<details>\n",
    "  <summary><span style=\"color:blue\">Click to see Hints for 5 & 6</span></summary>\n",
    "\n",
    "* You will need to use startswith() and endswith() methods. If you need more information on them, use `?` or `help()`.\n",
    "\n",
    "</details>"
   ]
  },
  {
   "cell_type": "code",
   "execution_count": null,
   "metadata": {
    "tags": []
   },
   "outputs": [],
   "source": [
    "input21 = '          \\n   \\t   In this week we learnt about \"Environments\" and \"Variables & Types\" in Python! \\n \\n     '"
   ]
  },
  {
   "cell_type": "code",
   "execution_count": null,
   "metadata": {
    "deletable": false,
    "nbgrader": {
     "cell_type": "code",
     "checksum": "6c00e6a7d681c4f30d5c45c06c509a18",
     "grade": false,
     "grade_id": "question_21",
     "locked": false,
     "schema_version": 3,
     "solution": true,
     "task": false
    },
    "tags": []
   },
   "outputs": [],
   "source": [
    "# Write your solution here\n",
    "\n",
    "\n",
    "# YOUR CODE HERE\n",
    "raise NotImplementedError()"
   ]
  },
  {
   "cell_type": "code",
   "execution_count": null,
   "metadata": {
    "deletable": false,
    "editable": false,
    "nbgrader": {
     "cell_type": "code",
     "checksum": "14681126a6551ec9cc6d93d0578b6fd5",
     "grade": true,
     "grade_id": "21-1_String_whitespace",
     "locked": true,
     "points": 6,
     "schema_version": 3,
     "solution": false,
     "task": false
    },
    "tags": []
   },
   "outputs": [],
   "source": [
    "# Testing Cell (Do NOT not modify this cell)"
   ]
  },
  {
   "cell_type": "markdown",
   "metadata": {},
   "source": [
    "#### Question 22 &nbsp;&nbsp;&nbsp;&nbsp;&nbsp;&nbsp;(6 Points)\n",
    "Write a Python Program to calculate the following.\n",
    "1. Write a python program to generate three random int numbers between 1 and 10000 and assign them to the variables `output22_num1`, `output22_num2` and `output22_num3`.\n",
    "2. Use these three numbers to sort them in increasing order. To do so, first find the minimum and maximum numbers using min() and max() methods. Create the two variables `output22_min` and `output22_max` and assign the solutions to them. Then find the middle number using arithmetic operations and assign the solution to `output22_mid`. From the above variables derived the following string: `The numbers in increasing order: min_num, mid_num, max_num` and assign it to the variable `output22`. \n",
    "\n",
    "\n",
    "*(Note: `min_num`, `midd_num`, `max_num` in the given string are the numbers you derived in `output22_min`, `output22_mid`, `output22_max`)*.\n",
    "\n",
    "***\n",
    "<details>\n",
    "  <summary><span style=\"color:blue\">Click to see Hints</span></summary>\n",
    "    \n",
    "* To find the middle number using arithmetic operations, you will need to get the sum of the three numbers and reduce the minimum and maximum nubers from it. e.g., sum_of_three_numbers - min_num - max_num\n",
    "</details>"
   ]
  },
  {
   "cell_type": "code",
   "execution_count": null,
   "metadata": {
    "deletable": false,
    "nbgrader": {
     "cell_type": "code",
     "checksum": "9a1d45fa876e0653f24453827d649f6b",
     "grade": false,
     "grade_id": "question_22",
     "locked": false,
     "schema_version": 3,
     "solution": true,
     "task": false
    },
    "tags": []
   },
   "outputs": [],
   "source": [
    "\n",
    "# Write your solution here\n",
    "import random\n",
    "\n",
    "\n",
    "# YOUR CODE HERE\n",
    "raise NotImplementedError()"
   ]
  },
  {
   "cell_type": "code",
   "execution_count": null,
   "metadata": {
    "deletable": false,
    "editable": false,
    "nbgrader": {
     "cell_type": "code",
     "checksum": "481b634e843b904d3b40eaaad6ae6268",
     "grade": true,
     "grade_id": "22-1_Random_numbers",
     "locked": true,
     "points": 6,
     "schema_version": 3,
     "solution": false,
     "task": false
    },
    "tags": []
   },
   "outputs": [],
   "source": [
    "# Testing Cell (Do NOT not modify this cell)"
   ]
  },
  {
   "cell_type": "markdown",
   "metadata": {},
   "source": [
    "#### Question 23 &nbsp;&nbsp;&nbsp;&nbsp;&nbsp;&nbsp;(10 Points)\n",
    "Write a Python program to convert a given number of seconds into days, hours, minutes and seconds.  \n",
    "Create variables `output23_days`, `output23_hours`, `output23_minutes` and `output23_seconds` and assign the number of days (int), number of hours (int), number of minutes (int) and number of seconds (int) to these variables, respectively. "
   ]
  },
  {
   "cell_type": "code",
   "execution_count": null,
   "metadata": {
    "tags": []
   },
   "outputs": [],
   "source": [
    "seconds = 219991"
   ]
  },
  {
   "cell_type": "code",
   "execution_count": null,
   "metadata": {
    "deletable": false,
    "nbgrader": {
     "cell_type": "code",
     "checksum": "5d8433b85b119ec04b2eb6b4a0aedbec",
     "grade": false,
     "grade_id": "question_23",
     "locked": false,
     "schema_version": 3,
     "solution": true,
     "task": false
    },
    "tags": []
   },
   "outputs": [],
   "source": [
    "# Write your solution here\n",
    "\n",
    "# YOUR CODE HERE\n",
    "raise NotImplementedError()"
   ]
  },
  {
   "cell_type": "code",
   "execution_count": null,
   "metadata": {
    "deletable": false,
    "editable": false,
    "nbgrader": {
     "cell_type": "code",
     "checksum": "2c3363dc0a5bd6579de784c27ecbec46",
     "grade": true,
     "grade_id": "23-1_Seconds_coversion_2",
     "locked": true,
     "points": 10,
     "schema_version": 3,
     "solution": false,
     "task": false
    },
    "tags": []
   },
   "outputs": [],
   "source": [
    "# Testing Cell (Do NOT not modify this cell)"
   ]
  }
 ],
 "metadata": {
  "kernelspec": {
   "display_name": "Python 3 (ipykernel)",
   "language": "python",
   "name": "python3"
  },
  "language_info": {
   "codemirror_mode": {
    "name": "ipython",
    "version": 3
   },
   "file_extension": ".py",
   "mimetype": "text/x-python",
   "name": "python",
   "nbconvert_exporter": "python",
   "pygments_lexer": "ipython3",
   "version": "3.11.7"
  }
 },
 "nbformat": 4,
 "nbformat_minor": 4
}
