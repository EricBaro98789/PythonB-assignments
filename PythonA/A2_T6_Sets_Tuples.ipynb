{
 "cells": [
  {
   "cell_type": "markdown",
   "metadata": {},
   "source": [
    "### Instructions:\n",
    "\n",
    "- You can attempt any number of questions and in any order.  \n",
    "  See the assignment page for a description of the hurdle requirement for this assessment.\n",
    "- You may submit your practical for autograding as many times as you like to check on progress, however you will save time by checking and testing your own code before submitting.\n",
    "- Develop and check your answers in the spaces provided.\n",
    "- **Replace** the code `raise NotImplementedError()` with your solution to the question.\n",
    "- Do **NOT** remove any variables other provided markings already provided in the answer spaces.\n",
    "- Do **NOT** make any changes to this notebook outside of the spaces indicated.  \n",
    "  (If you do this, the submission system might not accept your work)\n",
    "\n",
    "### Submitting:\n",
    "\n",
    "1. Before you turn this problem in, make sure everything runs as expected by resetting this notebook.    \n",
    "   (You can do this from the menubar above by selecting `Kernel`&#8594;`Restart Kernel and Run All Cells...`)\n",
    "1. Don't forget to save your notebook after this step.\n",
    "1. Submit your .ipynb file to Gradescope via file upload or GitHub repository.\n",
    "1. You can submit as many times as needed.\n",
    "\n"
   ]
  },
  {
   "cell_type": "markdown",
   "metadata": {},
   "source": [
    "---"
   ]
  },
  {
   "cell_type": "markdown",
   "metadata": {
    "tags": []
   },
   "source": [
    "# <mark style=\"background: #1059e1; color: #ffffff;\" >&nbsp;A2&nbsp;</mark> Topic 6: Sets, Tuples and List Comprehensions "
   ]
  },
  {
   "cell_type": "markdown",
   "metadata": {},
   "source": [
    "#### Question 01 &nbsp;&nbsp;&nbsp;&nbsp;&nbsp;&nbsp;(5 Points)\n",
    "\n",
    "Given a list of `names`, use a list comprehension to create a new list `is_odd` that contains `True` when the name has an odd number of characters, otherwise `False`.\n",
    "\n",
    "For example, given:\n",
    "```python\n",
    "names = ['Matt']\n",
    "\n",
    "is_odd == [False] \n",
    "```\n",
    "\n",
    "You could easily complete this task using a `for` loop or similar. Compel yourself to solve the problem with a list comprehension in preparation for the next Section Test."
   ]
  },
  {
   "cell_type": "code",
   "execution_count": null,
   "metadata": {
    "deletable": false,
    "editable": false,
    "nbgrader": {
     "cell_type": "code",
     "checksum": "9f165e89222b2d0e6076f2af08a0c7a2",
     "grade": false,
     "grade_id": "cell-fb2fed848b15ca9e",
     "locked": true,
     "schema_version": 3,
     "solution": false,
     "task": false
    },
    "tags": []
   },
   "outputs": [],
   "source": [
    "names = ['Abhilash', 'Alireza', 'Cameron', 'Bushra', 'Weitong', 'Gizella', 'Sherif']"
   ]
  },
  {
   "cell_type": "code",
   "execution_count": null,
   "metadata": {
    "deletable": false,
    "nbgrader": {
     "cell_type": "code",
     "checksum": "59ea011245cce71c48c31e4c91f86ce1",
     "grade": false,
     "grade_id": "q1",
     "locked": false,
     "schema_version": 3,
     "solution": true,
     "task": false
    },
    "tags": []
   },
   "outputs": [],
   "source": [
    "# Write your solution here\n",
    "\n",
    "# YOUR CODE HERE\n",
    "raise NotImplementedError()"
   ]
  },
  {
   "cell_type": "code",
   "execution_count": null,
   "metadata": {
    "deletable": false,
    "editable": false,
    "nbgrader": {
     "cell_type": "code",
     "checksum": "651cc1a244e0465db12802308384bd9e",
     "grade": true,
     "grade_id": "q1-1-list-comprehension",
     "locked": true,
     "points": 5,
     "schema_version": 3,
     "solution": false,
     "task": false
    },
    "tags": []
   },
   "outputs": [],
   "source": [
    "# Testing Cell (Do NOT modify this cell)"
   ]
  },
  {
   "cell_type": "markdown",
   "metadata": {},
   "source": [
    "#### Question 02 &nbsp;&nbsp;&nbsp;&nbsp;&nbsp;&nbsp;(5 Points)\n",
    "\n",
    "Given three sets, `set_a`, `set_b` and `set_c`, create two variables `intersection` and `union` that contain the intersection (A ∩ B ∩ C) and union (A ∪ B ∪ C) of the sets.\n"
   ]
  },
  {
   "cell_type": "code",
   "execution_count": null,
   "metadata": {
    "deletable": false,
    "editable": false,
    "nbgrader": {
     "cell_type": "code",
     "checksum": "6f781468ceadf66c52cb7910062dea0a",
     "grade": false,
     "grade_id": "cell-49df268e85693aca",
     "locked": true,
     "schema_version": 3,
     "solution": false,
     "task": false
    },
    "tags": []
   },
   "outputs": [],
   "source": [
    "set_a = {6, 8, 10, 12, 14, 16}\n",
    "set_b = {9, 12, 15, 18, 21, 24} \n",
    "set_c = {4, 8, 12, 16, 20, 24, 28}"
   ]
  },
  {
   "cell_type": "code",
   "execution_count": null,
   "metadata": {
    "deletable": false,
    "nbgrader": {
     "cell_type": "code",
     "checksum": "43e7c08b2bba22f2290b849253be95d8",
     "grade": false,
     "grade_id": "q2",
     "locked": false,
     "schema_version": 3,
     "solution": true,
     "task": false
    },
    "tags": []
   },
   "outputs": [],
   "source": [
    "# Write your solution here\n",
    "\n",
    "# YOUR CODE HERE\n",
    "raise NotImplementedError()"
   ]
  },
  {
   "cell_type": "code",
   "execution_count": null,
   "metadata": {
    "deletable": false,
    "editable": false,
    "nbgrader": {
     "cell_type": "code",
     "checksum": "76abe6836fd337b782ad874ee4b1ffe3",
     "grade": true,
     "grade_id": "q2-1-set-ops",
     "locked": true,
     "points": 5,
     "schema_version": 3,
     "solution": false,
     "task": false
    },
    "tags": []
   },
   "outputs": [],
   "source": [
    "# Testing Cell (Do NOT modify this cell)"
   ]
  },
  {
   "cell_type": "markdown",
   "metadata": {},
   "source": [
    "#### Question 03 &nbsp;&nbsp;&nbsp;&nbsp;&nbsp;&nbsp;(5 Points)\n",
    "\n",
    "Given a list of `fodder`, create a tuple `tuple_fodder` that represents the items in the list in a tuple retaining the ordering from the list. This should be a quick exercise using a built-in function 😂.\n",
    "\n",
    "Secondly, create a list `list_fodder` containing tuples where each tuple is of the form:\n",
    "```python\n",
    "    (index, fodder_type)\n",
    "```\n",
    "where `index` represents the index value of a type of fodder in the original `fodder` list.\n",
    "\n",
    "For example, given:\n",
    "```python\n",
    "fodder = ['Hay', 'Lucerne', 'Oats', 'Apples']\n",
    "\n",
    "list_fodder == [(0, 'Hay'), (1, 'Lucerne'), (2, 'Oats'), (3, 'Apples')]\n",
    "```\n",
    "You should attempt this transformation using a list comprehension and the `enumerate` function."
   ]
  },
  {
   "cell_type": "code",
   "execution_count": null,
   "metadata": {
    "deletable": false,
    "editable": false,
    "nbgrader": {
     "cell_type": "code",
     "checksum": "00dc0a1a26ea0967e691a7af0e5b2e9a",
     "grade": false,
     "grade_id": "cell-59284670e8b4a3a9",
     "locked": true,
     "schema_version": 3,
     "solution": false,
     "task": false
    },
    "tags": []
   },
   "outputs": [],
   "source": [
    "fodder = ['Hay', 'Lucerne', 'Oats', 'Apples']"
   ]
  },
  {
   "cell_type": "code",
   "execution_count": null,
   "metadata": {
    "deletable": false,
    "nbgrader": {
     "cell_type": "code",
     "checksum": "47e3c47f174a3538a2caaf1d19e4f575",
     "grade": false,
     "grade_id": "q3",
     "locked": false,
     "schema_version": 3,
     "solution": true,
     "task": false
    },
    "tags": []
   },
   "outputs": [],
   "source": [
    "# Write your solution here\n",
    "\n",
    "# YOUR CODE HERE\n",
    "raise NotImplementedError()"
   ]
  },
  {
   "cell_type": "code",
   "execution_count": null,
   "metadata": {
    "deletable": false,
    "editable": false,
    "nbgrader": {
     "cell_type": "code",
     "checksum": "6b616c89834fbd6db61f7c382346b3f3",
     "grade": true,
     "grade_id": "q3-1-fodder",
     "locked": true,
     "points": 5,
     "schema_version": 3,
     "solution": false,
     "task": false
    },
    "tags": []
   },
   "outputs": [],
   "source": [
    "# Testing Cell (Do NOT modify this cell)"
   ]
  },
  {
   "cell_type": "markdown",
   "metadata": {},
   "source": [
    "#### Question 04 &nbsp;&nbsp;&nbsp;&nbsp;&nbsp;&nbsp;(5 Points)\n",
    "\n",
    "Given a list of primes between 0 and 100 called `primes_to_100` and a second list of test data called `test_for_prime`, use a list comprehension to create a list `primes` containing all of the prime numbers in `test_for_prime`. You **must** attempt this problem as a list comprehension that uses a conditional statement to test each candidate prime against `primes_to_100`. 🔎🔎\n",
    "\n",
    "For example:\n",
    "```python\n",
    "test_for_prime = [1, 2, 3]\n",
    "\n",
    "assert primes == [2, 3]\n",
    "```"
   ]
  },
  {
   "cell_type": "code",
   "execution_count": null,
   "metadata": {
    "deletable": false,
    "editable": false,
    "nbgrader": {
     "cell_type": "code",
     "checksum": "af561c342213f49841d5403ad3a01ffb",
     "grade": false,
     "grade_id": "cell-1354c5a65ead5ac2",
     "locked": true,
     "schema_version": 3,
     "solution": false,
     "task": false
    },
    "tags": []
   },
   "outputs": [],
   "source": [
    "primes_to_100 = [2, 3, 5, 7, 11, 13, 17, 19, 23, 29, 31, 37, 41, 43, 47, 53, 59, 61, 67, 71, 73, 79, 83, 89, 97]\n",
    "test_for_prime = [10, 11, 12]"
   ]
  },
  {
   "cell_type": "code",
   "execution_count": null,
   "metadata": {
    "deletable": false,
    "nbgrader": {
     "cell_type": "code",
     "checksum": "8e44eec03aea1735226d35be43969550",
     "grade": false,
     "grade_id": "q4",
     "locked": false,
     "schema_version": 3,
     "solution": true,
     "task": false
    },
    "tags": []
   },
   "outputs": [],
   "source": [
    "# Write your solution here\n",
    "\n",
    "# YOUR CODE HERE\n",
    "raise NotImplementedError()"
   ]
  },
  {
   "cell_type": "code",
   "execution_count": null,
   "metadata": {
    "deletable": false,
    "editable": false,
    "nbgrader": {
     "cell_type": "code",
     "checksum": "5b12b266756d962b11a251b06169dadf",
     "grade": true,
     "grade_id": "q4-1-primes",
     "locked": true,
     "points": 5,
     "schema_version": 3,
     "solution": false,
     "task": false
    },
    "tags": []
   },
   "outputs": [],
   "source": [
    "# Testing Cell (Do NOT modify this cell)"
   ]
  },
  {
   "cell_type": "markdown",
   "metadata": {},
   "source": [
    "#### Question 05 &nbsp;&nbsp;&nbsp;&nbsp;&nbsp;&nbsp;(5 Points)\n",
    "\n",
    "Tuples are immutable. However, often times we need to make modifications to a tuple via an intermediary data type while retaining ordering.\n",
    "\n",
    "Given a tuple `attitude`, remove the `'-'` character and prepend the character `'D'` and `'e'` to the tuple (ie: insert `'D'` and `'e'` as the first and second element of the tuple).\n",
    "\n",
    "For example, given:\n",
    "```python\n",
    "attitude = ('L', 'i', 'M', 'i', 'T', '-', 'E', 'd')\n",
    "```\n",
    "your tuple will transform to:\n",
    "```python\n",
    "('D', 'e', 'L', 'i', 'M', 'i', 'T', 'E', 'd')\n",
    "```"
   ]
  },
  {
   "cell_type": "code",
   "execution_count": null,
   "metadata": {
    "deletable": false,
    "editable": false,
    "nbgrader": {
     "cell_type": "code",
     "checksum": "0e628571f70f95c3881be26f0dc83012",
     "grade": false,
     "grade_id": "cell-de2b572f5b81580d",
     "locked": true,
     "schema_version": 3,
     "solution": false,
     "task": false
    },
    "tags": []
   },
   "outputs": [],
   "source": [
    "attitude = ('L', 'i', 'M', 'i', 'T', '-', 'E', 'd')"
   ]
  },
  {
   "cell_type": "code",
   "execution_count": null,
   "metadata": {
    "deletable": false,
    "nbgrader": {
     "cell_type": "code",
     "checksum": "a709818024c3ba51e1637274fbd1a6b5",
     "grade": false,
     "grade_id": "q5",
     "locked": false,
     "schema_version": 3,
     "solution": true,
     "task": false
    },
    "tags": []
   },
   "outputs": [],
   "source": [
    "# Write your solution here\n",
    "\n",
    "# YOUR CODE HERE\n",
    "raise NotImplementedError()"
   ]
  },
  {
   "cell_type": "code",
   "execution_count": null,
   "metadata": {
    "deletable": false,
    "editable": false,
    "nbgrader": {
     "cell_type": "code",
     "checksum": "bdf345e0e2e21ba61d87d4b0901a051a",
     "grade": true,
     "grade_id": "q5-1-attitude",
     "locked": true,
     "points": 5,
     "schema_version": 3,
     "solution": false,
     "task": false
    },
    "tags": []
   },
   "outputs": [],
   "source": [
    "# Testing Cell (Do NOT modify this cell)"
   ]
  },
  {
   "cell_type": "markdown",
   "metadata": {},
   "source": [
    "#### Question 06 &nbsp;&nbsp;&nbsp;&nbsp;&nbsp;&nbsp;(5 Points)\n",
    "\n",
    "You have no doubt seen the power of Python tuples to elegantly swap values in a tuple like:\n",
    "```python\n",
    "a = 5\n",
    "b = 10\n",
    "a, b = b, a\n",
    "print (a, b)\n",
    "```\n",
    "```text\n",
    "10 5\n",
    "```\n",
    "Write a simple function `swapsies` that returns a tuple of arguments `a` and `b` swapped in order like `(b, a)`."
   ]
  },
  {
   "cell_type": "code",
   "execution_count": null,
   "metadata": {
    "deletable": false,
    "nbgrader": {
     "cell_type": "code",
     "checksum": "5455d9463b17d831bc6738fa4e46e84c",
     "grade": false,
     "grade_id": "q6",
     "locked": false,
     "schema_version": 3,
     "solution": true,
     "task": false
    },
    "tags": []
   },
   "outputs": [],
   "source": [
    "def swapsies (a, b): \n",
    "    # Write your solution here\n",
    "    ...\n",
    "\n",
    "# YOUR CODE HERE\n",
    "raise NotImplementedError()"
   ]
  },
  {
   "cell_type": "code",
   "execution_count": null,
   "metadata": {
    "deletable": false,
    "editable": false,
    "nbgrader": {
     "cell_type": "code",
     "checksum": "61f673e445e449aa954e9375d96a1e98",
     "grade": true,
     "grade_id": "q6-1-swapsies",
     "locked": true,
     "points": 10,
     "schema_version": 3,
     "solution": false,
     "task": false
    },
    "tags": []
   },
   "outputs": [],
   "source": [
    "# Testing Cell (Do NOT modify this cell)"
   ]
  },
  {
   "attachments": {
    "cc92d5f9-88b6-49cc-af4e-60f1a626f1fa.png": {
     "image/png": "[encoded data removed]"
    }
   },
   "cell_type": "markdown",
   "metadata": {},
   "source": [
    "#### Question 07 &nbsp;&nbsp;&nbsp;&nbsp;&nbsp;&nbsp;(15 Points)\n",
    "\n",
    "Let's smash through some set operations considering two sets `x1` and `x2`... here's a picture:\n",
    "\n",
    "![sets.png](attachment:cc92d5f9-88b6-49cc-af4e-60f1a626f1fa.png)\n",
    "\n",
    "Most set operations have both a method (examinable) and an operator (not examinable). Often, but not always, these have interchangeable function and usage. The course material presents the methods. Use this chance to familiarise yourself with the [set operators](https://docs.python.org/3/library/stdtypes.html#set-types-set-frozenset) that include `|`, `&`, `>`, `-` and `<` amongst others. For example:\n",
    "```python\n",
    "assert x1.union(x2) == x1 | x2\n",
    "```\n",
    "\n",
    "Given an arbitrary set `x3`, assign a boolean value to the variable `is_empty` if it's an empty set. There are at least two good ways to do this... \n",
    "\n",
    "Given two arbitrary sets `x1` and `x2`, calculate the following:\n",
    "* `x1_n_x2` as the intersection of x1 ∩ x2\n",
    "* `x1_u_x2` as the union of x1 and x2 \n",
    "* `x1_diff_x2` as the difference of x1 and x2 \n",
    "* `x1_symdiff_x2` as the symmetric difference of x1 and x2 \n",
    "* `x1_is_disjoint_x2` as a boolean that is `True` when the sets are disjoint \n",
    "* `x1_is_subset_x2` as a boolean that is `True` when x1 is a subset of x2 \n",
    "* `x1_is_superset_x2` as a boolean that is `True` when x1 is a superset of x2"
   ]
  },
  {
   "cell_type": "code",
   "execution_count": null,
   "metadata": {
    "deletable": false,
    "editable": false,
    "nbgrader": {
     "cell_type": "code",
     "checksum": "0caf0d7b6c4284a8ed372092dec21186",
     "grade": false,
     "grade_id": "cell-5da51df6c55c77d0",
     "locked": true,
     "schema_version": 3,
     "solution": false,
     "task": false
    },
    "tags": []
   },
   "outputs": [],
   "source": [
    "x1 = {'foo', 'bar', 'baz'}\n",
    "x2 = {'baz', 'qux', 'quux'}\n",
    "x3 = set()"
   ]
  },
  {
   "cell_type": "code",
   "execution_count": null,
   "metadata": {
    "deletable": false,
    "nbgrader": {
     "cell_type": "code",
     "checksum": "bf672dd07741cee0199249d215c25f24",
     "grade": false,
     "grade_id": "q7",
     "locked": false,
     "schema_version": 3,
     "solution": true,
     "task": false
    },
    "tags": []
   },
   "outputs": [],
   "source": [
    "# Write your solution here\n",
    "is_empty = ...\n",
    "x1_u_x2 = ... \n",
    "x1_n_x2 = ... \n",
    "x1_diff_x2 = ... \n",
    "x1_symdiff_x2 = ... \n",
    "x1_is_disjoint_x2 = ... \n",
    "x1_is_subset_x2 = ... \n",
    "x1_is_superset_x2 = ... \n",
    "\n",
    "# YOUR CODE HERE\n",
    "raise NotImplementedError()"
   ]
  },
  {
   "cell_type": "code",
   "execution_count": null,
   "metadata": {
    "deletable": false,
    "editable": false,
    "nbgrader": {
     "cell_type": "code",
     "checksum": "51b96bc151fdd87fa1a46a2e55a92eea",
     "grade": true,
     "grade_id": "q7-1-set-ops",
     "locked": true,
     "points": 15,
     "schema_version": 3,
     "solution": false,
     "task": false
    },
    "tags": []
   },
   "outputs": [],
   "source": [
    "# Testing Cell (Do NOT modify this cell)"
   ]
  },
  {
   "cell_type": "markdown",
   "metadata": {},
   "source": [
    "#### Question 08 &nbsp;&nbsp;&nbsp;&nbsp;&nbsp;&nbsp;(10 Points)\n",
    "\n",
    "Let's take a look at nested list comprehensions. In the [online learning materials](https://myuni.adelaide.edu.au/courses/86137/pages/a2-%7C-topic-6-list-comprehension), there is an example of a simple nested list comprehension used to transpose and reshape a matrix from 3 x 2 to 2 x 3. Nested list comprehensions are a list comprehension within another list comprehension - which is quite similar to nested for loops over a 2D matrix.\n",
    "\n",
    "Consider a square matrix `ain`. Using a nested list comprehension, transform this nested list into a flat, single dimension list. For example, given:\n",
    "```python\n",
    "ain = [[1, 2, 3],\n",
    "       [4, 5, 6],\n",
    "       [7, 8, 9]]\n",
    "```\n",
    "use a *nested* list comprehension to iterate through each row and produce a flat list:\n",
    "```python\n",
    "aout = [1, 2, 3, 4, 5, 6, 7, 8, 9]\n",
    "```\n",
    "You can adopt nested for loops to complete this question, but please practice trying to use a nested list comprehension to build your understanding of the concepts. You will receive 5 points for solving the `3 x 3` matrix and a further 10 points for creating a solution that solves an arbitrary `n x m` matrix."
   ]
  },
  {
   "cell_type": "code",
   "execution_count": null,
   "metadata": {
    "deletable": false,
    "editable": false,
    "nbgrader": {
     "cell_type": "code",
     "checksum": "12a1c098036bf93c1f79a42fe6c0693d",
     "grade": false,
     "grade_id": "cell-19f99dc0e34b98a4",
     "locked": true,
     "schema_version": 3,
     "solution": false,
     "task": false
    },
    "tags": []
   },
   "outputs": [],
   "source": [
    "ain = [[1, 2, 3],\n",
    "       [4, 5, 6],\n",
    "       [7, 8, 9]]"
   ]
  },
  {
   "cell_type": "code",
   "execution_count": null,
   "metadata": {
    "deletable": false,
    "nbgrader": {
     "cell_type": "code",
     "checksum": "0c1737153f68ce6f0b255313e2fce108",
     "grade": false,
     "grade_id": "q8",
     "locked": false,
     "schema_version": 3,
     "solution": true,
     "task": false
    },
    "tags": []
   },
   "outputs": [],
   "source": [
    "# Write your solution here\n",
    "\n",
    "# YOUR CODE HERE\n",
    "raise NotImplementedError()"
   ]
  },
  {
   "cell_type": "code",
   "execution_count": null,
   "metadata": {
    "deletable": false,
    "editable": false,
    "nbgrader": {
     "cell_type": "code",
     "checksum": "0be1330e05e834a4a967ec33264d5ac9",
     "grade": true,
     "grade_id": "q8-1-3x3",
     "locked": true,
     "points": 5,
     "schema_version": 3,
     "solution": false,
     "task": false
    },
    "tags": []
   },
   "outputs": [],
   "source": [
    "# Testing Cell (Do NOT modify this cell)"
   ]
  },
  {
   "cell_type": "code",
   "execution_count": null,
   "metadata": {
    "deletable": false,
    "editable": false,
    "nbgrader": {
     "cell_type": "code",
     "checksum": "476ce45163751cc3deb42fac18c12c85",
     "grade": true,
     "grade_id": "q8-2-nxn",
     "locked": true,
     "points": 10,
     "schema_version": 3,
     "solution": false,
     "task": false
    },
    "tags": []
   },
   "outputs": [],
   "source": [
    "# Testing Cell (Do NOT modify this cell)"
   ]
  },
  {
   "cell_type": "markdown",
   "metadata": {},
   "source": [
    "#### Question 09 &nbsp;&nbsp;&nbsp;&nbsp;&nbsp;&nbsp;(10 Points)\n",
    "\n",
    "Python includes set and dictionary comprehensions (both not examinable) which follow the same approach as list comprehensions (examinable). Set comprehensions are a readable and pythonic way to create one set from another applying an expression to change the input set data and a filter via a conditional expression. As always, it's worth reading the [Python standard library documentation](https://docs.python.org/3/reference/expressions.html#displays-for-lists-sets-and-dictionaries) to understand the details.\n",
    "\n",
    "You may use a set comprhension or any other method to answer the following:\n",
    "\n",
    "Given a set of prime numbers between 0 and 100, `set_o_primes`, create a set of the square of primes > 80 as the variable `primes_squared`. For example, the first prime > 80 is 83. So the first element of `primes_squared` will be `83 ** 2`."
   ]
  },
  {
   "cell_type": "code",
   "execution_count": null,
   "metadata": {},
   "outputs": [],
   "source": [
    "set_o_primes = set (primes_to_100)"
   ]
  },
  {
   "cell_type": "code",
   "execution_count": null,
   "metadata": {
    "deletable": false,
    "nbgrader": {
     "cell_type": "code",
     "checksum": "b10ea41487c46513420a20c142b6c9f1",
     "grade": false,
     "grade_id": "q9",
     "locked": false,
     "schema_version": 3,
     "solution": true,
     "task": false
    },
    "tags": []
   },
   "outputs": [],
   "source": [
    "# Write your solution here\n",
    "\n",
    "# YOUR CODE HERE\n",
    "raise NotImplementedError()"
   ]
  },
  {
   "cell_type": "code",
   "execution_count": null,
   "metadata": {
    "deletable": false,
    "editable": false,
    "nbgrader": {
     "cell_type": "code",
     "checksum": "4801dbbd2593326796fc96261c18af52",
     "grade": true,
     "grade_id": "q9-1-set-comprehension",
     "locked": true,
     "points": 10,
     "schema_version": 3,
     "solution": false,
     "task": false
    },
    "tags": []
   },
   "outputs": [],
   "source": [
    "# Testing Cell (Do NOT modify this cell)"
   ]
  },
  {
   "cell_type": "markdown",
   "metadata": {},
   "source": [
    "#### Question 10 &nbsp;&nbsp;&nbsp;&nbsp;&nbsp;&nbsp;(10 Points)\n",
    "\n",
    "Ok, let's flex on tuples. \n",
    "\n",
    "Tuples are immutable, and usually contain a heterogeneous sequence of elements while lists are mutable, and their elements are usually homogeneous and are accessed by iterating over the list. In Python, [tuples are considered *sequences*](https://docs.python.org/3/library/stdtypes.html#sequence-types-list-tuple-range) along with lists and ranges - meaning they share some common methods around indexing and slicing (for example).\n",
    "\n",
    "Given a heterogeneous tuple, `tuple_flex`, calculate the following:\n",
    "* an empty tuple as `empty_tuple`,\n",
    "* a singleton or `monuple` containing a single element of any type (for example `'a'`),\n",
    "* a count of the number of times the **string** `'0'` appears in the tuple `tuple_flex` as `count_0`,\n",
    "* the index of the integer 42 in `tuple_flex` as `index_42`,\n",
    "* a boolean `forty_two_in_tuple` that is `True` if the string `'forty two'` exists in the tuple `tuple_flex`, and\n",
    "* a tuple called `tuple_slice` that contains the second and third element of `tuple_flex`.\n"
   ]
  },
  {
   "cell_type": "code",
   "execution_count": null,
   "metadata": {
    "deletable": false,
    "editable": false,
    "nbgrader": {
     "cell_type": "code",
     "checksum": "53d2d5f11f89583229f6c9a4f182086c",
     "grade": false,
     "grade_id": "cell-ddab21ae8c4ab076",
     "locked": true,
     "schema_version": 3,
     "solution": false,
     "task": false
    },
    "tags": []
   },
   "outputs": [],
   "source": [
    "tuple_flex = ('0', 0, 42, 'forty two')"
   ]
  },
  {
   "cell_type": "code",
   "execution_count": null,
   "metadata": {
    "deletable": false,
    "nbgrader": {
     "cell_type": "code",
     "checksum": "f07114ea5719a5ac323afc461957c202",
     "grade": false,
     "grade_id": "q10",
     "locked": false,
     "schema_version": 3,
     "solution": true,
     "task": false
    },
    "tags": []
   },
   "outputs": [],
   "source": [
    "# Write your solution here\n",
    "\n",
    "empty_tuple = ...\n",
    "monuple = ...\n",
    "count_0 = ...\n",
    "index_42 = ...\n",
    "forty_two_in_tuple = ...\n",
    "tuple_slice = ...\n",
    "\n",
    "# YOUR CODE HERE\n",
    "raise NotImplementedError()"
   ]
  },
  {
   "cell_type": "code",
   "execution_count": null,
   "metadata": {
    "deletable": false,
    "editable": false,
    "nbgrader": {
     "cell_type": "code",
     "checksum": "77c3b1e70fe1bf43d1b571fd6c485937",
     "grade": true,
     "grade_id": "q10-1-tuple",
     "locked": true,
     "points": 10,
     "schema_version": 3,
     "solution": false,
     "task": false
    },
    "tags": []
   },
   "outputs": [],
   "source": [
    "# Testing Cell (Do NOT modify this cell)"
   ]
  },
  {
   "cell_type": "markdown",
   "metadata": {},
   "source": [
    "#### Question 11 &nbsp;&nbsp;&nbsp;&nbsp;&nbsp;&nbsp;(15 Points)\n",
    "\n",
    "Lets [grab some data](https://nssdc.gsfc.nasa.gov/planetary/factsheet/) as a dictionary of dictionaries and complete the practical by extracting some insights into the data. You are encouraged to use comprehensions to answer the following questions in a concise, pythonic manner:\n",
    "\n",
    "Produce a list of planets `sorted_by_distance` where each element of the list is a tuple sorted by distance from the sun in millions of kilometers:\n",
    "```python\n",
    "    (name, distance_from_sun)\n",
    "```\n",
    "like:\n",
    "```python\n",
    "[('Mercury', 57.9), ('Venus', 108.2), ... ('Neptune', 4515)]\n",
    "```\n",
    "\n",
    "So called \"giant planets\" are massive, low-density planets composed primarily of hydrogen, helium, methane, and ammonia in either gaseous or liquid state. Create a set `giants` of the names of planets whose absolute mass exceeds the mass of the Earth by a factor of 10. For example:\n",
    "```python\n",
    "{'Jupiter', ...}\n",
    "```\n",
    "On Mars, the gravity is about one third that of earth, a problem that is not easily captured in movies like [The Martian](https://www.theguardian.com/film/2015/oct/06/how-scientifically-accurate-is-the-martian). Mercury has a similar gravity but it is a bit too close to the sun to safely grow potatoes. Create a set of the names of planet(s), called `potato_land`, where gravity is less than a half of that on Earth and whose distance from the sun exceeds that of Mercury. For example:\n",
    "```python\n",
    "    {'Pluto'} # not a planet, not the answer and not safe to grow potatoes\n",
    "```"
   ]
  },
  {
   "cell_type": "code",
   "execution_count": null,
   "metadata": {
    "deletable": false,
    "editable": false,
    "nbgrader": {
     "cell_type": "code",
     "checksum": "f14ec53dafe9eb8ba831310b8529e0ec",
     "grade": false,
     "grade_id": "cell-dcc859b54324a382",
     "locked": true,
     "schema_version": 3,
     "solution": false,
     "task": false
    },
    "tags": []
   },
   "outputs": [],
   "source": [
    "planets = {\n",
    " 'Earth': {'Diameter (km)': 12756.0,\n",
    "           'Distance from Sun (10^6 km)': 149.6,\n",
    "           'Gravity (m/s2)': 9.8,\n",
    "           'Mass (10^24kg)': 5.97},\n",
    " 'Jupiter': {'Diameter (km)': 142984.0,\n",
    "             'Distance from Sun (10^6 km)': 778.5,\n",
    "             'Gravity (m/s2)': 23.1,\n",
    "             'Mass (10^24kg)': 1898.0},\n",
    " 'Mars': {'Diameter (km)': 6792.0,\n",
    "          'Distance from Sun (10^6 km)': 228.0,\n",
    "          'Gravity (m/s2)': 3.7,\n",
    "          'Mass (10^24kg)': 0.642},\n",
    " 'Mercury': {'Diameter (km)': 4879.0,\n",
    "             'Distance from Sun (10^6 km)': 57.9,\n",
    "             'Gravity (m/s2)': 3.7,\n",
    "             'Mass (10^24kg)': 0.33},\n",
    " 'Neptune': {'Diameter (km)': 49528,\n",
    "             'Distance from Sun (10^6 km)': 4515,\n",
    "             'Gravity (m/s2)': 11,\n",
    "             'Mass (10^24kg)': 102},\n",
    " 'Saturn': {'Diameter (km)': 120536,\n",
    "            'Distance from Sun (10^6 km)': 1432,\n",
    "            'Gravity (m/s2)': 9,\n",
    "            'Mass (10^24kg)': 568},\n",
    " 'Uranus': {'Diameter (km)': 51118.0,\n",
    "            'Distance from Sun (10^6 km)': 2867.0,\n",
    "            'Gravity (m/s2)': 8.7,\n",
    "            'Mass (10^24kg)': 86.8},\n",
    " 'Venus': {'Diameter (km)': 12104.0,\n",
    "           'Distance from Sun (10^6 km)': 108.2,\n",
    "           'Gravity (m/s2)': 8.9,\n",
    "           'Mass (10^24kg)': 4.87}}"
   ]
  },
  {
   "cell_type": "code",
   "execution_count": null,
   "metadata": {
    "deletable": false,
    "nbgrader": {
     "cell_type": "code",
     "checksum": "68b9aaf42cdb5b314c623544efd18f7a",
     "grade": false,
     "grade_id": "q11",
     "locked": false,
     "schema_version": 3,
     "solution": true,
     "task": false
    },
    "tags": []
   },
   "outputs": [],
   "source": [
    "# Write your solution here\n",
    "\n",
    "# YOUR CODE HERE\n",
    "raise NotImplementedError()"
   ]
  },
  {
   "cell_type": "code",
   "execution_count": null,
   "metadata": {
    "deletable": false,
    "editable": false,
    "nbgrader": {
     "cell_type": "code",
     "checksum": "73480806dc7d9514e317ac273c21c4aa",
     "grade": true,
     "grade_id": "q11-1-planets",
     "locked": true,
     "points": 15,
     "schema_version": 3,
     "solution": false,
     "task": false
    },
    "tags": []
   },
   "outputs": [],
   "source": [
    "# Testing Cell (Do NOT modify this cell)"
   ]
  }
 ],
 "metadata": {
  "kernelspec": {
   "display_name": "Python 3 (ipykernel)",
   "language": "python",
   "name": "python3"
  },
  "language_info": {
   "codemirror_mode": {
    "name": "ipython",
    "version": 3
   },
   "file_extension": ".py",
   "mimetype": "text/x-python",
   "name": "python",
   "nbconvert_exporter": "python",
   "pygments_lexer": "ipython3",
   "version": "3.9.13"
  },
  "varInspector": {
   "cols": {
    "lenName": 16,
    "lenType": 16,
    "lenVar": 40
   },
   "kernels_config": {
    "python": {
     "delete_cmd_postfix": "",
     "delete_cmd_prefix": "del ",
     "library": "var_list.py",
     "varRefreshCmd": "print(var_dic_list())"
    },
    "r": {
     "delete_cmd_postfix": ") ",
     "delete_cmd_prefix": "rm(",
     "library": "var_list.r",
     "varRefreshCmd": "cat(var_dic_list()) "
    }
   },
   "types_to_exclude": [
    "module",
    "function",
    "builtin_function_or_method",
    "instance",
    "_Feature"
   ],
   "window_display": false
  },
  "vscode": {
   "interpreter": {
    "hash": "0ac57d2eed93d1985c061356ac1b47099e5703f3945d87a36acb05b5379e5e68"
   }
  }
 },
 "nbformat": 4,
 "nbformat_minor": 4
}
