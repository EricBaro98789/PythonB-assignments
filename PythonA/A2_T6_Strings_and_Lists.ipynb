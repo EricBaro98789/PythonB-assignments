{
 "cells": [
  {
   "cell_type": "markdown",
   "metadata": {},
   "source": [
    "### Instructions:\n",
    "\n",
    "- You can attempt any number of questions and in any order.  \n",
    "  See the assignment page for a description of the hurdle requirement for this assessment.\n",
    "- You may submit your practical for autograding as many times as you like to check on progress, however you will save time by checking and testing your own code before submitting.\n",
    "- Develop and check your answers in the spaces provided.\n",
    "- **Replace** the code `raise NotImplementedError()` with your solution to the question.\n",
    "- Do **NOT** remove any variables other provided markings already provided in the answer spaces.\n",
    "- Do **NOT** make any changes to this notebook outside of the spaces indicated.  \n",
    "  (If you do this, the submission system might not accept your work)\n",
    "\n",
    "### Submitting:\n",
    "\n",
    "1. Before you turn this problem in, make sure everything runs as expected by resetting this notebook.    \n",
    "   (You can do this from the menubar above by selecting `Kernel`&#8594;`Restart Kernel and Run All Cells...`)\n",
    "1. Don't forget to save your notebook after this step.\n",
    "1. Submit your .ipynb file to Gradescope via file upload or GitHub repository.\n",
    "1. You can submit as many times as needed.\n",
    "1. You **must** give your submitted file the **identical** filename to that which you downloaded without changing **any** aspects - spaces, underscores, capitalisation etc. If your operating system has changed the filename because you downloaded the file twice or more you **must** also fix this.  \n",
    "\n"
   ]
  },
  {
   "cell_type": "markdown",
   "metadata": {},
   "source": [
    "---"
   ]
  },
  {
   "cell_type": "markdown",
   "metadata": {},
   "source": [
    "# <mark style=\"background: #1059e1; color: #ffffff;\" >&nbsp;A2&nbsp;</mark> Topic 6: Strings and Lists"
   ]
  },
  {
   "cell_type": "markdown",
   "metadata": {},
   "source": [
    "#### Question 1&nbsp;&nbsp;&nbsp;&nbsp;&nbsp;&nbsp;(5 Points)\n",
    "\n",
    "Write a function `q1_output` that takes 1 parameter which is a list such as\n",
    "```python\n",
    "q1_list = [1,2,3,4,5,6,7]\n",
    "```\n",
    "In your function, replace the number at index position `2` with a `0` using the function `q1_output` and return the modified list like:\n",
    "```python\n",
    "assert q1_output(q1_list) == [1,2,0,4,5,6,7]\n",
    "```"
   ]
  },
  {
   "cell_type": "code",
   "execution_count": 1,
   "metadata": {
    "deletable": false,
    "editable": false,
    "nbgrader": {
     "cell_type": "code",
     "checksum": "c665cdb4afecc939e9cb9ae5d6cb36f7",
     "grade": false,
     "grade_id": "cell-35c13e4a7c1e2082",
     "locked": true,
     "schema_version": 3,
     "solution": false,
     "task": false
    },
    "tags": []
   },
   "outputs": [],
   "source": [
    "q1_list = [1,2,3,4,5,6,7]"
   ]
  },
  {
   "cell_type": "code",
   "execution_count": 2,
   "metadata": {
    "deletable": false,
    "nbgrader": {
     "cell_type": "code",
     "checksum": "784ab9fef5d75e7815a2a9ab67221034",
     "grade": false,
     "grade_id": "A1",
     "locked": false,
     "schema_version": 3,
     "solution": true,
     "task": false
    }
   },
   "outputs": [
    {
     "name": "stdout",
     "output_type": "stream",
     "text": [
      "[1, 2, 0, 4, 5, 6, 7]\n"
     ]
    }
   ],
   "source": [
    "# Write your solution here\n",
    "\n",
    "def q1_output(list_):\n",
    "    \n",
    "    # YOUR CODE HERE\n",
    "    list_[2] = 0\n",
    "    return list_\n",
    "\n",
    "print(q1_output(q1_list))"
   ]
  },
  {
   "cell_type": "code",
   "execution_count": null,
   "metadata": {
    "deletable": false,
    "editable": false,
    "nbgrader": {
     "cell_type": "code",
     "checksum": "48d84de854bd7b1e1269d6a024660514",
     "grade": true,
     "grade_id": "test_A1-replaceZero",
     "locked": true,
     "points": 5,
     "schema_version": 3,
     "solution": false,
     "task": false
    },
    "tags": []
   },
   "outputs": [],
   "source": [
    "# Testing Cell (Do NOT modify this cell)\n"
   ]
  },
  {
   "cell_type": "markdown",
   "metadata": {},
   "source": [
    "#### Question 2&nbsp;&nbsp;&nbsp;&nbsp;&nbsp;&nbsp;(5 Points)\n",
    "\n",
    "Consider a list of integers `q2_list`.\n",
    "\n",
    "Replace the elements at even indexes with `0` and odd indexes with `1` using the function `q2_output` that takes 1 parameter which is a list. Your function should return the following list: \n",
    "```python\n",
    "assert q2_output (q2_list) == [0, 1, 0, 1, 0, 1, 0, 1, 0, 1]\n",
    "```"
   ]
  },
  {
   "cell_type": "code",
   "execution_count": 3,
   "metadata": {
    "deletable": false,
    "editable": false,
    "nbgrader": {
     "cell_type": "code",
     "checksum": "aa2a135af19caaacdbdaf122c7f46fd0",
     "grade": false,
     "grade_id": "cell-71b61232f556c3de",
     "locked": true,
     "schema_version": 3,
     "solution": false,
     "task": false
    },
    "tags": []
   },
   "outputs": [],
   "source": [
    "q2_list = [1,2,3,4,5,6,7,8,9,10]"
   ]
  },
  {
   "cell_type": "code",
   "execution_count": 5,
   "metadata": {
    "deletable": false,
    "nbgrader": {
     "cell_type": "code",
     "checksum": "924993e7847953dcc23f3a32f652dccd",
     "grade": false,
     "grade_id": "A2",
     "locked": false,
     "schema_version": 3,
     "solution": true,
     "task": false
    }
   },
   "outputs": [
    {
     "name": "stdout",
     "output_type": "stream",
     "text": [
      "[0, 1, 0, 1, 0, 1, 0, 1, 0, 1]\n"
     ]
    }
   ],
   "source": [
    "# Write your solution here\n",
    "\n",
    "def q2_output(list_):\n",
    "\n",
    "    # YOUR CODE HERE\n",
    "    for i in range(len(q2_list)):\n",
    "        if i % 2 == 0:\n",
    "            q2_list[i] = 0\n",
    "        else:\n",
    "            q2_list[i] = 1\n",
    "    return list_\n",
    "\n",
    "print(q2_output(q2_list))"
   ]
  },
  {
   "cell_type": "code",
   "execution_count": null,
   "metadata": {
    "deletable": false,
    "editable": false,
    "nbgrader": {
     "cell_type": "code",
     "checksum": "3c73075e9ab9635890f16ee5ec25d510",
     "grade": true,
     "grade_id": "test_A2-evenOdd",
     "locked": true,
     "points": 5,
     "schema_version": 3,
     "solution": false,
     "task": false
    },
    "tags": []
   },
   "outputs": [],
   "source": [
    "# Testing Cell (Do NOT modify this cell)\n"
   ]
  },
  {
   "cell_type": "markdown",
   "metadata": {},
   "source": [
    "#### Question 3&nbsp;&nbsp;&nbsp;&nbsp;&nbsp;&nbsp;(5 Points)\n",
    "Consider the pre-defined list `q3_list` passed to a function:\n",
    "```python\n",
    "def q3_output(q3_list):\n",
    "```\n",
    "If an element has an even index, replace it with its square and, for elements at odd indexes, replace it with string `'Y'` using the function `q3_output()` that takes 1 parameter which is a list. Your function should return the modified list. \n",
    "\n",
    "For example, `[121, 'Y', 169, 'Y', 225, 'Y', 289, 'Y', 361, 'Y']`"
   ]
  },
  {
   "cell_type": "code",
   "execution_count": 6,
   "metadata": {
    "deletable": false,
    "editable": false,
    "nbgrader": {
     "cell_type": "code",
     "checksum": "ccdb1e1afe4319dedf0165dc9385fffa",
     "grade": false,
     "grade_id": "cell-276ac6c2df6cb697",
     "locked": true,
     "schema_version": 3,
     "solution": false,
     "task": false
    },
    "tags": []
   },
   "outputs": [],
   "source": [
    "q3_list = [11,12,13,14,15,16,17,18,19,20]"
   ]
  },
  {
   "cell_type": "code",
   "execution_count": 9,
   "metadata": {
    "deletable": false,
    "nbgrader": {
     "cell_type": "code",
     "checksum": "80c2b234b4dfcea100e0d61f0746d27e",
     "grade": false,
     "grade_id": "A3",
     "locked": false,
     "schema_version": 3,
     "solution": true,
     "task": false
    }
   },
   "outputs": [
    {
     "name": "stdout",
     "output_type": "stream",
     "text": [
      "[14641, 'Y', 28561, 'Y', 50625, 'Y', 83521, 'Y', 130321, 'Y']\n"
     ]
    }
   ],
   "source": [
    "# Write your solution here\n",
    "\n",
    "def q3_output(q3_list):\n",
    "\n",
    "    # YOUR CODE HERE\n",
    "    for i in range(len(q3_list)):\n",
    "        if i % 2 == 0 :\n",
    "            q3_list[i] = q3_list[i] ** 2\n",
    "        else:\n",
    "            q3_list[i] = 'Y'\n",
    "    \n",
    "    return q3_list \n",
    "\n",
    "print(q3_output(q3_list))"
   ]
  },
  {
   "cell_type": "code",
   "execution_count": 10,
   "metadata": {
    "deletable": false,
    "editable": false,
    "nbgrader": {
     "cell_type": "code",
     "checksum": "336853fb08fb39ef828a73e4bd96a637",
     "grade": true,
     "grade_id": "test_A3-squareEven",
     "locked": true,
     "points": 5,
     "schema_version": 3,
     "solution": false,
     "task": false
    },
    "tags": []
   },
   "outputs": [],
   "source": [
    "# Testing Cell (Do NOT modify this cell)\n"
   ]
  },
  {
   "cell_type": "markdown",
   "metadata": {},
   "source": [
    "#### Question 4&nbsp;&nbsp;&nbsp;&nbsp;&nbsp;&nbsp;(5 Points)\n",
    "Write a Python function `q4_output(list_)` that takes 1 parameter which is a list. \n",
    "\n",
    "If the list is *not* empty calculated the product of all numbers in the list by multiplying them togather. If the list is empty, return a string `\"Error!! Empty list\"`.\n",
    "\n",
    "For example:\n",
    "```python\n",
    "assert q4_output(list()) == \"Error!! Empty list\"\n",
    "# while\n",
    "assert q4_output([1,2,3]) == 6\n",
    "```"
   ]
  },
  {
   "cell_type": "code",
   "execution_count": 12,
   "metadata": {
    "deletable": false,
    "nbgrader": {
     "cell_type": "code",
     "checksum": "bd79448350cbcf7725ae39e4a2c3a413",
     "grade": false,
     "grade_id": "A4",
     "locked": false,
     "schema_version": 3,
     "solution": true,
     "task": false
    }
   },
   "outputs": [
    {
     "name": "stdout",
     "output_type": "stream",
     "text": [
      "6\n"
     ]
    }
   ],
   "source": [
    "# Write your solution here\n",
    "\n",
    "def q4_output(list_):\n",
    "\n",
    "    # YOUR CODE HERE\n",
    "    if list_ == []:\n",
    "        return 'Error!! Empty list'\n",
    "    else:\n",
    "        result = 1\n",
    "        for i in list_:\n",
    "            result *= i\n",
    "        return result\n",
    "print(q4_output([1,3,2]))"
   ]
  },
  {
   "cell_type": "code",
   "execution_count": null,
   "metadata": {
    "deletable": false,
    "editable": false,
    "nbgrader": {
     "cell_type": "code",
     "checksum": "db37182338be817ea035f7569c4e51ed",
     "grade": true,
     "grade_id": "test_A4-notEmpty",
     "locked": true,
     "points": 5,
     "schema_version": 3,
     "solution": false,
     "task": false
    },
    "tags": []
   },
   "outputs": [],
   "source": [
    "# Testing Cell (Do NOT modify this cell)\n"
   ]
  },
  {
   "cell_type": "markdown",
   "metadata": {},
   "source": [
    "#### Question 5&nbsp;&nbsp;&nbsp;&nbsp;&nbsp;&nbsp;(5 Points)\n",
    "Consider the following a string `q5_string` such as `'ab#cd#ef'`.\n",
    "\n",
    "Create a function `q5_output` that takes one string parameter and performs the following tasks and returns a list of strings as its only output.\n",
    "\n",
    "1. split the in the input string into a list of smaller strings using the `'#'` chracter as a discared delimiter to create a list in the following format: `['ab', 'cd', 'ef']`.\n",
    "\n",
    "For example:\n",
    "```python\n",
    "assert q5_output ('ab#cd#ef') == ['ab', 'cd', 'ef']\n",
    "assert q5_output ('aaa#cccc') == ['aaa', 'cccc']\n",
    "```"
   ]
  },
  {
   "cell_type": "code",
   "execution_count": 13,
   "metadata": {
    "deletable": false,
    "editable": false,
    "nbgrader": {
     "cell_type": "code",
     "checksum": "fef34360c475ebd3c084fc7f99fb387d",
     "grade": false,
     "grade_id": "cell-0f5202ab9f07b417",
     "locked": true,
     "schema_version": 3,
     "solution": false,
     "task": false
    },
    "tags": []
   },
   "outputs": [],
   "source": [
    "q5_string = 'ab#cd#ef'"
   ]
  },
  {
   "cell_type": "code",
   "execution_count": 22,
   "metadata": {
    "deletable": false,
    "nbgrader": {
     "cell_type": "code",
     "checksum": "1cf151266b1b3d5c43d81b9af0c1ba12",
     "grade": false,
     "grade_id": "A5",
     "locked": false,
     "schema_version": 3,
     "solution": true,
     "task": false
    }
   },
   "outputs": [
    {
     "name": "stdout",
     "output_type": "stream",
     "text": [
      "['ab', 'cd', 'ef']\n",
      "['aaa', 'cccc']\n"
     ]
    }
   ],
   "source": [
    "# Write your solution here\n",
    "\n",
    "def q5_output(s):\n",
    "    \n",
    "    # YOUR CODE HERE\n",
    "    ele = ''\n",
    "    result = []\n",
    "    for i in range(len(s)):\n",
    "        if s[i] == '#':\n",
    "            result.append(ele)\n",
    "            ele = ''\n",
    "        else:\n",
    "            ele += s[i]\n",
    "        if i == len(s) - 1:\n",
    "            result.append(ele)\n",
    "    return result\n",
    "\n",
    "print(q5_output(q5_string))\n",
    "print(q5_output('aaa#cccc'))\n",
    "\n",
    "    "
   ]
  },
  {
   "cell_type": "code",
   "execution_count": null,
   "metadata": {
    "deletable": false,
    "editable": false,
    "nbgrader": {
     "cell_type": "code",
     "checksum": "945e3c1ddbeeff985ea7e2f420d3c23e",
     "grade": true,
     "grade_id": "test_A5-string",
     "locked": true,
     "points": 5,
     "schema_version": 3,
     "solution": false,
     "task": false
    },
    "tags": []
   },
   "outputs": [],
   "source": [
    "# Testing Cell (Do NOT modify this cell)\n"
   ]
  },
  {
   "cell_type": "markdown",
   "metadata": {},
   "source": [
    "#### Question 6&nbsp;&nbsp;&nbsp;&nbsp;&nbsp;&nbsp;(5 Points)\n",
    "Write a Python function called `q6_output` that accepts a single list parameter. The function move all 1's in the input list to the end of the list.\n",
    "\n",
    "For example:\n",
    "```python\n",
    "assert q6_output (q6_list) == [2,3,4,5,6,7,8,9,0,1,1,1,1,1,1,1]\n",
    "```"
   ]
  },
  {
   "cell_type": "code",
   "execution_count": 7,
   "metadata": {
    "deletable": false,
    "editable": false,
    "nbgrader": {
     "cell_type": "code",
     "checksum": "23fa46f97e3c17df685db460831884c9",
     "grade": false,
     "grade_id": "cell-8eee60d934053a0c",
     "locked": true,
     "schema_version": 3,
     "solution": false,
     "task": false
    },
    "tags": []
   },
   "outputs": [],
   "source": [
    "q6_list = [1,2,3,1,4,5,6,1,1,1,7,8,9,1,1,0]"
   ]
  },
  {
   "cell_type": "code",
   "execution_count": 11,
   "metadata": {
    "deletable": false,
    "nbgrader": {
     "cell_type": "code",
     "checksum": "13f66afa66aa67963be218195acc3cef",
     "grade": false,
     "grade_id": "A6",
     "locked": false,
     "schema_version": 3,
     "solution": true,
     "task": false
    }
   },
   "outputs": [
    {
     "name": "stdout",
     "output_type": "stream",
     "text": [
      "[2, 3, 4, 5, 6, 7, 8, 9, 0, 1, 1, 1, 1, 1, 1, 1]\n"
     ]
    }
   ],
   "source": [
    "# Write your solution here\n",
    "\n",
    "def q6_output(q6_list):\n",
    "\n",
    "    count1 = q6_list.count(1)\n",
    "    new_list = [x for x in q6_list if x != 1]\n",
    "    new_list.extend([1] * count1)\n",
    "    return new_list\n",
    "\n",
    "print(q6_output(q6_list))"
   ]
  },
  {
   "cell_type": "code",
   "execution_count": null,
   "metadata": {
    "deletable": false,
    "editable": false,
    "nbgrader": {
     "cell_type": "code",
     "checksum": "b7a708ea3c4b3640de92af924ef87310",
     "grade": true,
     "grade_id": "test_A6-RemoveAppend",
     "locked": true,
     "points": 5,
     "schema_version": 3,
     "solution": false,
     "task": false
    }
   },
   "outputs": [],
   "source": [
    "# Testing Cell (Do NOT modify this cell)"
   ]
  },
  {
   "cell_type": "markdown",
   "metadata": {},
   "source": [
    "#### Question 7&nbsp;&nbsp;&nbsp;&nbsp;&nbsp;&nbsp;(5 Points) \n",
    "Write a Python function `q7_output` that takes one list parameter. Within in the list are numberous sublists all containing integers.\n",
    "\n",
    "The function my remove all duplicated sublists and return the pruned list maintaining the order is so far as is possible of the original list.\n",
    "\n",
    "For example:\n",
    "```python\n",
    "dedupe = q7_output([[100, 200], [400], [300, 506, 205], [100, 200], [303], [400]])\n",
    "assert dedupe == [[100, 200], [400], [300, 506, 205], [303]]\n",
    "```"
   ]
  },
  {
   "cell_type": "code",
   "execution_count": 16,
   "metadata": {
    "deletable": false,
    "nbgrader": {
     "cell_type": "code",
     "checksum": "c21d861cca85efa24a11914880248561",
     "grade": false,
     "grade_id": "A7",
     "locked": false,
     "schema_version": 3,
     "solution": true,
     "task": false
    }
   },
   "outputs": [
    {
     "name": "stdout",
     "output_type": "stream",
     "text": [
      "[[100, 200], [400], [300, 506, 205], [303]]\n"
     ]
    }
   ],
   "source": [
    "# Write your solution here\n",
    "\n",
    "def q7_output(k):\n",
    "    \n",
    "    # YOUR CODE HERE\n",
    "    dedupe = []\n",
    "    for sublist in k:\n",
    "        if sublist not in dedupe:\n",
    "            dedupe.append(sublist)\n",
    "    return dedupe\n",
    "\n",
    "print(q7_output([[100, 200], [400], [300, 506, 205], [100, 200], [303], [400]]))\n",
    "\n"
   ]
  },
  {
   "cell_type": "code",
   "execution_count": 14,
   "metadata": {
    "deletable": false,
    "editable": false,
    "nbgrader": {
     "cell_type": "code",
     "checksum": "db4ac2d9e15f2b01a8a69c7be8015ca0",
     "grade": true,
     "grade_id": "test_A7-removeDuplicate",
     "locked": true,
     "points": 5,
     "schema_version": 3,
     "solution": false,
     "task": false
    }
   },
   "outputs": [],
   "source": [
    "# Testing Cell (Do NOT modify this cell)"
   ]
  },
  {
   "cell_type": "markdown",
   "metadata": {},
   "source": [
    "#### Question 8&nbsp;&nbsp;&nbsp;&nbsp;&nbsp;&nbsp;(5 Points) \n",
    "Write a Python function called `q8_output` that takes two ordered parameters:\n",
    "1. A string, and\n",
    "2. And an artitrary character (single character string).\n",
    "\n",
    "The function returns the first and last occurrences of the letter in the string (zero indexed, case sensitive) as a tuple.\n",
    "```python\n",
    "assert q8_output (\"Hello everyone, this is python\", 'o') == (4, 28)\n",
    "```\n",
    "If the character is not found at all in the string, the value `None` is returned. If the character only exists once, the return value will contain identical index numbers."
   ]
  },
  {
   "cell_type": "code",
   "execution_count": 29,
   "metadata": {
    "deletable": false,
    "nbgrader": {
     "cell_type": "code",
     "checksum": "d29e6ae6c9a293618937d6873cefb736",
     "grade": false,
     "grade_id": "A8",
     "locked": false,
     "schema_version": 3,
     "solution": true,
     "task": false
    }
   },
   "outputs": [
    {
     "name": "stdout",
     "output_type": "stream",
     "text": [
      "(4, 28)\n"
     ]
    }
   ],
   "source": [
    "# Write your solution here\n",
    "\n",
    "def q8_output(s, ch):\n",
    "    # YOUR CODE HERE\n",
    "    x,y = -1, -1\n",
    "    index_list = []\n",
    "    for i in range(len(s)):\n",
    "        if s[i]  == ch and x == -1:\n",
    "            x = i\n",
    "        elif s[i] == ch:\n",
    "            index_list.append(i)\n",
    "    if index_list:\n",
    "        y = index_list.pop()\n",
    "    elif x != -1:\n",
    "        return (x,x)\n",
    "    elif x == -1:\n",
    "        return None\n",
    "    return (x,y)\n",
    "print(q8_output (\"Hello everyone, this is python\", 'o'))\n",
    "assert q8_output (\"Hello everyone, this is python\", 'o') == (4, 28)"
   ]
  },
  {
   "cell_type": "code",
   "execution_count": null,
   "metadata": {
    "deletable": false,
    "editable": false,
    "nbgrader": {
     "cell_type": "code",
     "checksum": "87b50bdb8a7cd86b0de3112bc3d84531",
     "grade": true,
     "grade_id": "test_A8-lastOccur",
     "locked": true,
     "points": 5,
     "schema_version": 3,
     "solution": false,
     "task": false
    }
   },
   "outputs": [],
   "source": [
    "# Testing Cell (Do NOT modify this cell)"
   ]
  },
  {
   "cell_type": "markdown",
   "metadata": {},
   "source": [
    "#### Question 9&nbsp;&nbsp;&nbsp;&nbsp;&nbsp;&nbsp;(5 Points)\n",
    "Write a Python function `q9_output` that accepts a string as a single parameter and returns a list of words in the passed string that:\n",
    "* have an even number of characters, and\n",
    "* are more than 5 characters in length.\n",
    "\n",
    "For example, given the string:  \n",
    "```python\n",
    "\"In this week we learnt more on strings and lists in Python! Next we will learn tuples and sets.\"\n",
    "```\n",
    "your function should return the list: `['learnt', 'tuples']`."
   ]
  },
  {
   "cell_type": "code",
   "execution_count": 1,
   "metadata": {
    "deletable": false,
    "nbgrader": {
     "cell_type": "code",
     "checksum": "ae03e6e3e681960b2e7193731b2ce246",
     "grade": false,
     "grade_id": "A9",
     "locked": false,
     "schema_version": 3,
     "solution": true,
     "task": false
    }
   },
   "outputs": [
    {
     "name": "stdout",
     "output_type": "stream",
     "text": [
      "['learnt', 'tuples']\n"
     ]
    }
   ],
   "source": [
    "# Write your solution here\n",
    "\n",
    "def q9_output(s):\n",
    "\n",
    "    # YOUR CODE HERE\n",
    "    words = s.split()\n",
    "    result = []\n",
    "    for word in words:\n",
    "        if len(word) % 2 == 0 and len(word) > 5:\n",
    "            result.append(word)\n",
    "\n",
    "    return result\n",
    "\n",
    "print(q9_output('In this week we learnt more on strings and lists in Python! Next we will learn tuples and sets.'))"
   ]
  },
  {
   "cell_type": "code",
   "execution_count": null,
   "metadata": {
    "deletable": false,
    "editable": false,
    "nbgrader": {
     "cell_type": "code",
     "checksum": "59367cf7585d5a161f4dee1cb3d265f9",
     "grade": true,
     "grade_id": "test_A9-evenLength",
     "locked": true,
     "points": 5,
     "schema_version": 3,
     "solution": false,
     "task": false
    }
   },
   "outputs": [],
   "source": [
    "# Testing Cell (Do NOT modify this cell)"
   ]
  },
  {
   "cell_type": "markdown",
   "metadata": {},
   "source": [
    "#### Question 10&nbsp;&nbsp;&nbsp;&nbsp;&nbsp;&nbsp;(5 Points)\n",
    "Write a function q10_output that performs a **really** specfic slice of a list. It looks like this:\n",
    "```python\n",
    "def q10_output(list_ = [1,2,3,4,5,6,7,8,9,10]):\n",
    "    ''' Slice the input list and return the tuple with these two slices:\n",
    "             ([4, 5, 6], [8, 9, 10])\n",
    "        You MUST use list slicing.     \n",
    "```\n"
   ]
  },
  {
   "cell_type": "code",
   "execution_count": 4,
   "metadata": {
    "deletable": false,
    "nbgrader": {
     "cell_type": "code",
     "checksum": "91c48b6d5a58db5d31a5d3073c189757",
     "grade": false,
     "grade_id": "A10",
     "locked": false,
     "schema_version": 3,
     "solution": true,
     "task": false
    }
   },
   "outputs": [
    {
     "name": "stdout",
     "output_type": "stream",
     "text": [
      "([4, 5, 6], [8, 9, 10])\n"
     ]
    }
   ],
   "source": [
    "# Write your solution here\n",
    "\n",
    "def q10_output(list_ = [1, 2, 3, 4, 5, 6, 7, 8, 9, 10]):\n",
    "    \n",
    "    # YOUR CODE HERE\n",
    "    return (list_[3: 6], list_[-3:])\n",
    "\n",
    "print(q10_output())"
   ]
  },
  {
   "cell_type": "code",
   "execution_count": null,
   "metadata": {
    "deletable": false,
    "editable": false,
    "nbgrader": {
     "cell_type": "code",
     "checksum": "3d884a59cc9e4f8dda62c7d0af769bd9",
     "grade": true,
     "grade_id": "test_A10-extractSlices",
     "locked": true,
     "points": 5,
     "schema_version": 3,
     "solution": false,
     "task": false
    }
   },
   "outputs": [],
   "source": [
    "# Testing Cell (Do NOT modify this cell)"
   ]
  },
  {
   "cell_type": "markdown",
   "metadata": {},
   "source": [
    "#### Question 11&nbsp;&nbsp;&nbsp;&nbsp;&nbsp;&nbsp;(10 Points)\n",
    "Write a Python function `q11_output` that takes 2 parameter which are lists.\n",
    "\n",
    "The function should concatentate the list and build an analysis of the frequency that each character or digit in the input list occurs. This is information is returned by the function as a list of list where each sublist contains:\n",
    "```python\n",
    "    [[character, occurrences], [character, occurrences]... ]\n",
    "```\n",
    "For example, given the following two lists,  \n",
    "```python\n",
    "l1 = ['a','b','c']  \n",
    "l2 = ['c','c','a']  \n",
    "\n",
    "assert q11_output (l1, l2) == [['a', 2], ['b', 1], ['c', 3]]\n",
    "\n",
    "assert q11_ouput ([], []) == []\n",
    "```"
   ]
  },
  {
   "cell_type": "code",
   "execution_count": 14,
   "metadata": {
    "deletable": false,
    "nbgrader": {
     "cell_type": "code",
     "checksum": "2955c1ac0d57a505719644b1c1a8ce29",
     "grade": false,
     "grade_id": "A11",
     "locked": false,
     "schema_version": 3,
     "solution": true,
     "task": false
    }
   },
   "outputs": [
    {
     "name": "stdout",
     "output_type": "stream",
     "text": [
      "[]\n"
     ]
    }
   ],
   "source": [
    "# Write your solution here\n",
    "\n",
    "def q11_output(lst1, lst2):\n",
    "    \n",
    "    # YOUR CODE HERE\n",
    "    combine_list = lst1 + lst2\n",
    "    result_list = []\n",
    "    existed_i = []\n",
    "    for i in combine_list:\n",
    "        if i not in existed_i:\n",
    "            existed_i.append(i)\n",
    "            i_count = combine_list.count(i)\n",
    "            list_i = [i, i_count]\n",
    "            result_list.append(list_i)\n",
    "\n",
    "    return result_list\n",
    "print(q11_output([], []))"
   ]
  },
  {
   "cell_type": "code",
   "execution_count": null,
   "metadata": {
    "deletable": false,
    "editable": false,
    "nbgrader": {
     "cell_type": "code",
     "checksum": "ed0e3c8072cfbed559d61cf5ca0b55fe",
     "grade": true,
     "grade_id": "test_A11-frequencyElement",
     "locked": true,
     "points": 10,
     "schema_version": 3,
     "solution": false,
     "task": false
    }
   },
   "outputs": [],
   "source": [
    "# Testing Cell (Do NOT modify this cell)"
   ]
  },
  {
   "cell_type": "markdown",
   "metadata": {},
   "source": [
    "#### Question 12&nbsp;&nbsp;&nbsp;&nbsp;&nbsp;&nbsp;(10 Points)\n",
    "Write a Python program to interleave two list using the function `q12_output` that takes 2 parameters which are lists.\n",
    "\n",
    "For example, given the following two lists:\n",
    "```python\n",
    "assert q12_output ([1,2,3], ['a','b','c']) == [1,'a',2,'b',3,'c']\n",
    "```\n",
    "You handle empty lists and lists of non equal size."
   ]
  },
  {
   "cell_type": "code",
   "execution_count": 36,
   "metadata": {
    "deletable": false,
    "nbgrader": {
     "cell_type": "code",
     "checksum": "f5e0144abd569fc3c883dd8539bb811b",
     "grade": false,
     "grade_id": "A12",
     "locked": false,
     "schema_version": 3,
     "solution": true,
     "task": false
    }
   },
   "outputs": [
    {
     "name": "stdout",
     "output_type": "stream",
     "text": [
      "[1, 'a', 2, 'b', 3, 'c', 4, 'd', 'e']\n"
     ]
    }
   ],
   "source": [
    "# Write your solution here\n",
    "\n",
    "\n",
    "def q12_output(list_1, list_2):\n",
    "    \n",
    "    # YOUR CODE HERE\n",
    "    result_list = []\n",
    "    if len(list_1) > len(list_2):\n",
    "        for i in range(len(list_2)):\n",
    "            result_list.append(list_1[i])\n",
    "            result_list.append(list_2[i])\n",
    "        for i in range(len(list_2), len(list_1)):\n",
    "            result_list.append(list_1[i])\n",
    "    else:\n",
    "        for i in range(len(list_1)):\n",
    "            result_list.append(list_1[i])\n",
    "            result_list.append(list_2[i])\n",
    "        for i in range(len(list_1), len(list_2)):\n",
    "            result_list.append(list_2[i])\n",
    "    return result_list\n",
    "\n",
    "print(q12_output([1,2,3,4], ['a', 'b', 'c', 'd', 'e']))\n",
    "        "
   ]
  },
  {
   "cell_type": "code",
   "execution_count": 22,
   "metadata": {},
   "outputs": [
    {
     "name": "stdout",
     "output_type": "stream",
     "text": [
      "[3, 2, 1] [1, 2, 3]\n"
     ]
    }
   ],
   "source": [
    "l1 = [1,2,3]\n",
    "l2 = [3,2,1]\n",
    "l1,l2 = l2,l1\n",
    "print(l1,l2)"
   ]
  },
  {
   "cell_type": "code",
   "execution_count": null,
   "metadata": {
    "deletable": false,
    "editable": false,
    "nbgrader": {
     "cell_type": "code",
     "checksum": "dd3c386688e2a48b441d12681a1390e1",
     "grade": true,
     "grade_id": "test_A12-interLeave",
     "locked": true,
     "points": 10,
     "schema_version": 3,
     "solution": false,
     "task": false
    }
   },
   "outputs": [],
   "source": [
    "# Testing Cell (Do NOT modify this cell)"
   ]
  },
  {
   "cell_type": "markdown",
   "metadata": {},
   "source": [
    "#### Question 13&nbsp;&nbsp;&nbsp;&nbsp;&nbsp;&nbsp;(15 Points)\n",
    "Write a Python program to find elements that only appear in one the following two lists.\n",
    "```python\n",
    "q13_list1 = [ [11, 12], [13, 14], [15, 16] ]  \n",
    "q13_list2 = [ [13, 14], [15, 17], [11, 12] ]\n",
    " ```\n",
    "Return a list which contains only elements that do not appear in both lists. \n",
    "\n",
    "Use the function `q13_output` that takes 2 parameters which are lists. Your function should return the symmetric difference between the two list."
   ]
  },
  {
   "cell_type": "code",
   "execution_count": null,
   "metadata": {
    "deletable": false,
    "nbgrader": {
     "cell_type": "code",
     "checksum": "57bcaddbc768444d2252ed601ea3a942",
     "grade": false,
     "grade_id": "A13",
     "locked": false,
     "schema_version": 3,
     "solution": true,
     "task": false
    }
   },
   "outputs": [],
   "source": [
    "# Write your solution here\n",
    "\n",
    "def q13_output(test_list1, test_list2):\n",
    "    \n",
    "    # YOUR CODE HERE\n",
    "    raise NotImplementedError()"
   ]
  },
  {
   "cell_type": "code",
   "execution_count": null,
   "metadata": {
    "deletable": false,
    "editable": false,
    "nbgrader": {
     "cell_type": "code",
     "checksum": "b56e5eb1a4b5d724097eb7d556cf7ec5",
     "grade": true,
     "grade_id": "test_A13-uncommonElements",
     "locked": true,
     "points": 15,
     "schema_version": 3,
     "solution": false,
     "task": false
    },
    "tags": []
   },
   "outputs": [],
   "source": [
    "# Testing Cell (Do NOT modify this cell)"
   ]
  },
  {
   "cell_type": "markdown",
   "metadata": {},
   "source": [
    "#### Question 14 &nbsp;&nbsp;&nbsp;&nbsp;&nbsp;&nbsp;(15 Points) \n",
    "Write a Python function `q14_output` that takes a list as a parameter. The function must return a lists of sublists where each contains a combination of the elements of the list. Overall, your returned list must contain sublists that contain *every single combination* of elements in the argument list. \n",
    "```python\n",
    "combos = q14_output ([1, 2, 3, 4])\n",
    "\n",
    "print (combos)\n",
    "\n",
    "[[], [1], [2], [2, 1], [3], [3, 1], [3, 2], [3, 2, 1], [4], [4, 1], [4, 2], [4, 2, 1], [4, 3], [4, 3, 1], [4, 3, 2], [4, 3, 2, 1]]\n",
    "```\n",
    "Note that the empty list is included and that ordering of numbers in the sublists must always be lagest to smallest and generally follow the pattern illustrated above."
   ]
  },
  {
   "cell_type": "code",
   "execution_count": null,
   "metadata": {
    "deletable": false,
    "nbgrader": {
     "cell_type": "code",
     "checksum": "3a39776484c55988a39bd7c6ba45b79c",
     "grade": false,
     "grade_id": "A14",
     "locked": false,
     "schema_version": 3,
     "solution": true,
     "task": false
    },
    "tags": []
   },
   "outputs": [],
   "source": [
    "# Write your solution here\n",
    "\n",
    "def q14_output(colors):\n",
    "\n",
    "    # YOUR CODE HERE\n",
    "    raise NotImplementedError()"
   ]
  },
  {
   "cell_type": "code",
   "execution_count": null,
   "metadata": {
    "deletable": false,
    "editable": false,
    "nbgrader": {
     "cell_type": "code",
     "checksum": "54e63ccf0b5466778dc887b4141b9266",
     "grade": true,
     "grade_id": "test_A14-possibleCombination",
     "locked": true,
     "points": 15,
     "schema_version": 3,
     "solution": false,
     "task": false
    },
    "tags": []
   },
   "outputs": [],
   "source": [
    "# Testing Cell (Do NOT modify this cell)"
   ]
  }
 ],
 "metadata": {
  "hide_input": false,
  "kernelspec": {
   "display_name": "Python 3 (ipykernel)",
   "language": "python",
   "name": "python3"
  },
  "language_info": {
   "codemirror_mode": {
    "name": "ipython",
    "version": 3
   },
   "file_extension": ".py",
   "mimetype": "text/x-python",
   "name": "python",
   "nbconvert_exporter": "python",
   "pygments_lexer": "ipython3",
   "version": "3.12.2"
  },
  "nbTranslate": {
   "displayLangs": [
    "*"
   ],
   "hotkey": "alt-t",
   "langInMainMenu": true,
   "sourceLang": "en",
   "targetLang": "fr",
   "useGoogleTranslate": true
  },
  "toc": {
   "base_numbering": 1,
   "nav_menu": {},
   "number_sections": true,
   "sideBar": true,
   "skip_h1_title": false,
   "title_cell": "Table of Contents",
   "title_sidebar": "Contents",
   "toc_cell": false,
   "toc_position": {},
   "toc_section_display": true,
   "toc_window_display": false
  },
  "varInspector": {
   "cols": {
    "lenName": 16,
    "lenType": 16,
    "lenVar": 40
   },
   "kernels_config": {
    "python": {
     "delete_cmd_postfix": "",
     "delete_cmd_prefix": "del ",
     "library": "var_list.py",
     "varRefreshCmd": "print(var_dic_list())"
    },
    "r": {
     "delete_cmd_postfix": ") ",
     "delete_cmd_prefix": "rm(",
     "library": "var_list.r",
     "varRefreshCmd": "cat(var_dic_list()) "
    }
   },
   "types_to_exclude": [
    "module",
    "function",
    "builtin_function_or_method",
    "instance",
    "_Feature"
   ],
   "window_display": false
  }
 },
 "nbformat": 4,
 "nbformat_minor": 4
}
