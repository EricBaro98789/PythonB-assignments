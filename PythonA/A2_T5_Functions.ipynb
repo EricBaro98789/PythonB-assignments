{
 "cells": [
  {
   "cell_type": "markdown",
   "metadata": {},
   "source": [
    "### Instructions:\n",
    "\n",
    "- You can attempt any number of questions and in any order.  \n",
    "  See the assignment page for a description of the hurdle requirement for this assessment.\n",
    "- You may submit your practical for autograding as many times as you like to check on progress, however you will save time by checking and testing your own code before submitting.\n",
    "- Develop and check your answers in the spaces provided.\n",
    "- **Replace** the code `raise NotImplementedError()` with your solution to the question.\n",
    "- Do **NOT** remove any variables other provided markings already provided in the answer spaces.\n",
    "- Do **NOT** make any changes to this notebook outside of the spaces indicated.  \n",
    "  (If you do this, the submission system might not accept your work)\n",
    "\n",
    "### Submitting:\n",
    "\n",
    "1. Before you turn this problem in, make sure everything runs as expected by resetting this notebook.    \n",
    "   (You can do this from the menubar above by selecting `Kernel`&#8594;`Restart Kernel and Run All Cells...`)\n",
    "1. Don't forget to save your notebook after this step.\n",
    "1. Submit your .ipynb file to Gradescope via file upload or GitHub repository.\n",
    "1. You can submit as many times as needed.\n",
    "1. You **must** give your submitted file the **identical** filename to that which you downloaded without changing **any** aspects - spaces, underscores, capitalisation etc. If your operating system has changed the filename because you downloaded the file twice or more you **must** also fix this.  \n",
    "\n"
   ]
  },
  {
   "cell_type": "markdown",
   "metadata": {},
   "source": [
    "---"
   ]
  },
  {
   "cell_type": "markdown",
   "metadata": {},
   "source": [
    "# <mark style=\"background: #1059e1; color: #ffffff;\" >&nbsp;A2&nbsp;</mark> Topic 5: Functions "
   ]
  },
  {
   "cell_type": "markdown",
   "metadata": {},
   "source": [
    "#### Question 1&nbsp;&nbsp;&nbsp;&nbsp;&nbsp;&nbsp;(3 Points)\n",
    "\n",
    "Create a Python program to define your own function named `q1_indent_string` that takes 1 parameter (a string). Your function then should return the provided string with **four** spaces added to the front of it."
   ]
  },
  {
   "cell_type": "code",
   "execution_count": 2,
   "metadata": {
    "deletable": false,
    "nbgrader": {
     "cell_type": "code",
     "checksum": "b683b17a3168e0e2568e1655d3914e98",
     "grade": false,
     "grade_id": "A1",
     "locked": false,
     "schema_version": 3,
     "solution": true,
     "task": false
    }
   },
   "outputs": [
    {
     "name": "stdout",
     "output_type": "stream",
     "text": [
      "    Eric Baron\n"
     ]
    }
   ],
   "source": [
    "# Write your solution here\n",
    "\n",
    "# YOUR CODE HERE\n",
    "def q1_indent_string(x):\n",
    "    return '    '+ x\n",
    "\n",
    "print(q1_indent_string('Eric Baron'))\n"
   ]
  },
  {
   "cell_type": "code",
   "execution_count": null,
   "metadata": {
    "deletable": false,
    "editable": false,
    "nbgrader": {
     "cell_type": "code",
     "checksum": "2940ad79561fcaf3fd70c44c688e13c5",
     "grade": true,
     "grade_id": "test_a1-stringFunc",
     "locked": true,
     "points": 3,
     "schema_version": 3,
     "solution": false,
     "task": false
    }
   },
   "outputs": [],
   "source": [
    "# Testing Cell (Do NOT modify this cell)"
   ]
  },
  {
   "cell_type": "markdown",
   "metadata": {},
   "source": [
    "#### Question 2&nbsp;&nbsp;&nbsp;&nbsp;&nbsp;&nbsp;(3 Points)\n",
    "\n",
    "Create a Python program to define your own function named `q2_ask_ultimate_question` that takes 0 parameters. Your function then should return the integer `42`."
   ]
  },
  {
   "cell_type": "code",
   "execution_count": 4,
   "metadata": {
    "deletable": false,
    "nbgrader": {
     "cell_type": "code",
     "checksum": "df9f898c558b312abb63cc8d26fd83e7",
     "grade": false,
     "grade_id": "A2",
     "locked": false,
     "schema_version": 3,
     "solution": true,
     "task": false
    }
   },
   "outputs": [
    {
     "name": "stdout",
     "output_type": "stream",
     "text": [
      "42\n"
     ]
    }
   ],
   "source": [
    "# Write your solution here\n",
    "\n",
    "# YOUR CODE HERE\n",
    "def q2_ask_ultimate_question():\n",
    "    return 42\n",
    "\n",
    "print(q2_ask_ultimate_question())"
   ]
  },
  {
   "cell_type": "code",
   "execution_count": null,
   "metadata": {
    "deletable": false,
    "editable": false,
    "nbgrader": {
     "cell_type": "code",
     "checksum": "0870d66393785cd024ee74d5722aac2b",
     "grade": true,
     "grade_id": "test_a2-noParam",
     "locked": true,
     "points": 3,
     "schema_version": 3,
     "solution": false,
     "task": false
    }
   },
   "outputs": [],
   "source": [
    "# Testing Cell (Do NOT modify this cell)"
   ]
  },
  {
   "cell_type": "markdown",
   "metadata": {},
   "source": [
    "#### Question 3&nbsp;&nbsp;&nbsp;&nbsp;&nbsp;&nbsp;(3 Points)\n",
    "Create a Python program to define your own function named `q3_trim_whitespace` that takes 1 parameter (a string). Your function then should return the provided string with all spaces removed."
   ]
  },
  {
   "cell_type": "code",
   "execution_count": 6,
   "metadata": {
    "deletable": false,
    "nbgrader": {
     "cell_type": "code",
     "checksum": "d2f404b7adcf3e7148bf7976f69eaa00",
     "grade": false,
     "grade_id": "A3",
     "locked": false,
     "schema_version": 3,
     "solution": true,
     "task": false
    }
   },
   "outputs": [
    {
     "name": "stdout",
     "output_type": "stream",
     "text": [
      "fdsfsdfdsdf\n"
     ]
    }
   ],
   "source": [
    "# Write your solution here\n",
    "\n",
    "# YOUR CODE HERE\n",
    "def q3_trim_whitespace(string):\n",
    "    return string.replace(' ', '')\n",
    "print(q3_trim_whitespace('fdsfsd   fdsdf'))"
   ]
  },
  {
   "cell_type": "code",
   "execution_count": null,
   "metadata": {
    "deletable": false,
    "editable": false,
    "nbgrader": {
     "cell_type": "code",
     "checksum": "da2a497f93c36668d9dba2d695772e62",
     "grade": true,
     "grade_id": "test_a3-trimWhite",
     "locked": true,
     "points": 3,
     "schema_version": 3,
     "solution": false,
     "task": false
    }
   },
   "outputs": [],
   "source": [
    "# Testing Cell (Do NOT modify this cell)"
   ]
  },
  {
   "cell_type": "markdown",
   "metadata": {},
   "source": [
    "#### Question 4&nbsp;&nbsp;&nbsp;&nbsp;&nbsp;&nbsp;(3 Points)\n",
    "Create a Python program using the following guidelines. First, create a variable `output4` set to 0. Then below that, define your own function named `q4` that takes 0 parameters and returns `None`. Use `q4` to change `output4` to 12."
   ]
  },
  {
   "cell_type": "code",
   "execution_count": 9,
   "metadata": {
    "deletable": false,
    "nbgrader": {
     "cell_type": "code",
     "checksum": "d82e740d0c6a82c04f5b73a2a8b57cd4",
     "grade": false,
     "grade_id": "A4",
     "locked": false,
     "schema_version": 3,
     "solution": true,
     "task": false
    }
   },
   "outputs": [
    {
     "name": "stdout",
     "output_type": "stream",
     "text": [
      "12\n"
     ]
    }
   ],
   "source": [
    "# Write your solution here\n",
    "\n",
    "# YOUR CODE HERE\n",
    "output4 = 0\n",
    "def q4():\n",
    "    global output4\n",
    "    output4 = 12\n",
    "    return None\n",
    "\n",
    "q4()\n",
    "print(output4)"
   ]
  },
  {
   "cell_type": "code",
   "execution_count": null,
   "metadata": {
    "deletable": false,
    "editable": false,
    "nbgrader": {
     "cell_type": "code",
     "checksum": "4b0f9eb3849c78f63e353eb7afa15452",
     "grade": true,
     "grade_id": "test_A4-q4",
     "locked": true,
     "points": 3,
     "schema_version": 3,
     "solution": false,
     "task": false
    }
   },
   "outputs": [],
   "source": [
    "# Testing Cell (Do NOT modify this cell)"
   ]
  },
  {
   "cell_type": "markdown",
   "metadata": {},
   "source": [
    "#### Question 5&nbsp;&nbsp;&nbsp;&nbsp;&nbsp;&nbsp;(3 Points)\n",
    "Create a Python program to define your own function named `q5_float_to_int_and_round` that takes 1 parameter (a float). Your function then should return two numbers. The first is the provided number cast to an int, the second is the provided number rounded to 0 decimal places."
   ]
  },
  {
   "cell_type": "code",
   "execution_count": 11,
   "metadata": {
    "deletable": false,
    "nbgrader": {
     "cell_type": "code",
     "checksum": "d3aabab2e6ed4dbe982becb28a849a8d",
     "grade": false,
     "grade_id": "A5",
     "locked": false,
     "schema_version": 3,
     "solution": true,
     "task": false
    }
   },
   "outputs": [
    {
     "name": "stdout",
     "output_type": "stream",
     "text": [
      "323 323.0\n"
     ]
    }
   ],
   "source": [
    "# Write your solution here\n",
    "\n",
    "# YOUR CODE HERE\n",
    "def q5_float_to_int_and_round(float):\n",
    "    return int(float), round(float, 0)\n",
    "\n",
    "integer, round0 = q5_float_to_int_and_round(323.33)\n",
    "print(integer, round0)"
   ]
  },
  {
   "cell_type": "code",
   "execution_count": null,
   "metadata": {
    "deletable": false,
    "editable": false,
    "nbgrader": {
     "cell_type": "code",
     "checksum": "7a289a0eb5d65aaed75a914018f32dc2",
     "grade": true,
     "grade_id": "test_A5-roundFunc",
     "locked": true,
     "points": 3,
     "schema_version": 3,
     "solution": false,
     "task": false
    }
   },
   "outputs": [],
   "source": [
    "# Testing Cell (Do NOT modify this cell)"
   ]
  },
  {
   "cell_type": "markdown",
   "metadata": {},
   "source": [
    "#### Question 6&nbsp;&nbsp;&nbsp;&nbsp;&nbsp;&nbsp;(5 Points)\n",
    "Create a Python program to define your own function named `q6_concat_strings` that takes 2 parameters (both strings). Your function then should return a new string formed by concatenating the two parameters in sequence and seperated by a space. However, if a user forgotton to pass a value to the second parameter, the default value of \"No String\" should be used."
   ]
  },
  {
   "cell_type": "code",
   "execution_count": 13,
   "metadata": {
    "deletable": false,
    "nbgrader": {
     "cell_type": "code",
     "checksum": "29f3b447662101cecbee510ae16a0061",
     "grade": false,
     "grade_id": "A6",
     "locked": false,
     "schema_version": 3,
     "solution": true,
     "task": false
    }
   },
   "outputs": [
    {
     "name": "stdout",
     "output_type": "stream",
     "text": [
      "Eric Baron\n"
     ]
    }
   ],
   "source": [
    "# Write your solution here\n",
    "\n",
    "# YOUR CODE HERE\n",
    "def q6_concat_strings(string1, string2 = 'No String'):\n",
    "    return string1 + ' ' + string2\n",
    "print(q6_concat_strings('Eric', 'Baron'))"
   ]
  },
  {
   "cell_type": "code",
   "execution_count": null,
   "metadata": {
    "deletable": false,
    "editable": false,
    "nbgrader": {
     "cell_type": "code",
     "checksum": "f911d42a32c70e650ab68d25ff6dfe38",
     "grade": true,
     "grade_id": "test_A6-concatFunc",
     "locked": true,
     "points": 5,
     "schema_version": 3,
     "solution": false,
     "task": false
    }
   },
   "outputs": [],
   "source": [
    "# Testing Cell (Do NOT modify this cell)"
   ]
  },
  {
   "cell_type": "markdown",
   "metadata": {},
   "source": [
    "#### Question 7&nbsp;&nbsp;&nbsp;&nbsp;&nbsp;&nbsp;(5 Points) \n",
    "Create a Python program to define your own function named `q7_multiply` that takes variable length parameters (More specifically, `*integers`). Your function then should return the product of these numbers."
   ]
  },
  {
   "cell_type": "code",
   "execution_count": 22,
   "metadata": {
    "deletable": false,
    "nbgrader": {
     "cell_type": "code",
     "checksum": "6c982ae16fa4067368385fa2bb9fb2fe",
     "grade": false,
     "grade_id": "A7",
     "locked": false,
     "schema_version": 3,
     "solution": true,
     "task": false
    }
   },
   "outputs": [
    {
     "name": "stdout",
     "output_type": "stream",
     "text": [
      "36\n"
     ]
    }
   ],
   "source": [
    "# Write your solution here\n",
    "\n",
    "# YOUR CODE HERE\n",
    "def q7_multiply(*integers):\n",
    "    result = 1\n",
    "    for i in integers:\n",
    "        result *= i\n",
    "    return result\n",
    "\n",
    "print(q7_multiply(2,3,6))"
   ]
  },
  {
   "cell_type": "code",
   "execution_count": null,
   "metadata": {
    "deletable": false,
    "editable": false,
    "nbgrader": {
     "cell_type": "code",
     "checksum": "e84978694060d347551f9c0bd1bbc3d3",
     "grade": true,
     "grade_id": "test_A7-multiplyFunc",
     "locked": true,
     "points": 5,
     "schema_version": 3,
     "solution": false,
     "task": false
    }
   },
   "outputs": [],
   "source": [
    "# Testing Cell (Do NOT modify this cell)"
   ]
  },
  {
   "cell_type": "markdown",
   "metadata": {},
   "source": [
    "#### Question 8&nbsp;&nbsp;&nbsp;&nbsp;&nbsp;&nbsp;(5 Points) \n",
    "Create a Python program to define your own function named `q8_split_number` that takes one integer parameter. Your function must return a tuple of exactly two non-negative integers: \n",
    "```python\n",
    "    (first_digits, last_digit)\n",
    "```\n",
    "where `last_digit` is the last single digit of the input argument and `first_digits` includes all of the digits preceding `last_digit`. Thus splitting `468` would return `(46, 8)`. See further examples below.\n",
    "\n",
    "Apply the following requirements, *in order*, to condition the passed argument:\n",
    "1. If the argument is negative, make it positive (e.g., `-12` to `12`), \n",
    "2. If the argument is in the range of `0 .. 9` (including both 0 and 9), return the the value of `(10, 10)`.\n",
    "\n",
    "For example:\n",
    "```python\n",
    "    q8_split_number (-12) == (1, 2)\n",
    "    q8_split_number (99) == (9, 9)\n",
    "    q8_split_number (0) == (10, 10)\n",
    "    q8_split_number (-9) == (10, 10)\n",
    "    q8_split_number (-123) == (12, 3)\n",
    "```"
   ]
  },
  {
   "cell_type": "code",
   "execution_count": 50,
   "metadata": {
    "deletable": false,
    "nbgrader": {
     "cell_type": "code",
     "checksum": "00effc46552ba19d164720dc6c7b25cb",
     "grade": false,
     "grade_id": "A8",
     "locked": false,
     "schema_version": 3,
     "solution": true,
     "task": false
    }
   },
   "outputs": [
    {
     "data": {
      "text/plain": [
       "(12, 3)"
      ]
     },
     "execution_count": 50,
     "metadata": {},
     "output_type": "execute_result"
    }
   ],
   "source": [
    "# Write your solution here\n",
    "\n",
    "# YOUR CODE HERE\n",
    "def q8_split_number(integer):\n",
    "    if integer < 0:\n",
    "        integer = -integer\n",
    "    if 0 <= integer <= 9:\n",
    "        return (10, 10)\n",
    "    else:\n",
    "        # for i in str(integer):\n",
    "        #     print(i)\n",
    "        return (int(str(integer)[:-1]), int(str(integer)[-1]))\n",
    "        \n",
    "        #return( integer - (integer % 10), integer % 10)\n",
    "q8_split_number(-123)"
   ]
  },
  {
   "cell_type": "code",
   "execution_count": null,
   "metadata": {
    "deletable": false,
    "editable": false,
    "nbgrader": {
     "cell_type": "code",
     "checksum": "333fb7f38f135a1e012781b0529ee8bb",
     "grade": true,
     "grade_id": "test_A8-splitFunc",
     "locked": true,
     "points": 5,
     "schema_version": 3,
     "solution": false,
     "task": false
    }
   },
   "outputs": [],
   "source": [
    "# Testing Cell (Do NOT modify this cell)"
   ]
  },
  {
   "cell_type": "markdown",
   "metadata": {},
   "source": [
    "#### Question 9&nbsp;&nbsp;&nbsp;&nbsp;&nbsp;&nbsp;(5 Points)\n",
    "Create a Python program to define your own function named `q9_increment_number` that takes 1 or 2 parameters (both integers). The first parameter is mandatory and the second is optional. Your function should return the sum of both parameters. If the optional parameter is absent, it should increase the number by one."
   ]
  },
  {
   "cell_type": "code",
   "execution_count": 34,
   "metadata": {
    "deletable": false,
    "nbgrader": {
     "cell_type": "code",
     "checksum": "54dd4675a0a533a8ca6a03575bcff9c8",
     "grade": false,
     "grade_id": "A9",
     "locked": false,
     "schema_version": 3,
     "solution": true,
     "task": false
    }
   },
   "outputs": [
    {
     "name": "stdout",
     "output_type": "stream",
     "text": [
      "18\n"
     ]
    }
   ],
   "source": [
    "# Write your solution here\n",
    "\n",
    "# YOUR CODE HERE\n",
    "def q9_increment_number(num1, num2 = 1):\n",
    "    return num1 + num2\n",
    "print(q9_increment_number(9, 9))"
   ]
  },
  {
   "cell_type": "code",
   "execution_count": null,
   "metadata": {
    "deletable": false,
    "editable": false,
    "nbgrader": {
     "cell_type": "code",
     "checksum": "4113d1baeb9ef4b8b12f01abad6f6d18",
     "grade": true,
     "grade_id": "test_A9-increment",
     "locked": true,
     "points": 5,
     "schema_version": 3,
     "solution": false,
     "task": false
    }
   },
   "outputs": [],
   "source": [
    "# Testing Cell (Do NOT modify this cell)"
   ]
  },
  {
   "cell_type": "markdown",
   "metadata": {},
   "source": [
    "#### Question 10&nbsp;&nbsp;&nbsp;&nbsp;&nbsp;&nbsp;(5 Points)\n",
    "Create a Python program to define your own function named `q10_indent_string` that takes 1 or 2 parameters. The first parameter is a string and is mandatory and the second is an optional postive integer. Your function then should return the provided string with a number spaces added to the front of it equal to the value of the second parameter. If the optional parameter is absent, it should add four spaces.\n",
    "\n",
    "For example:\n",
    "```python\n",
    "assert q10_indent_string(\"no 2nd arg\") == \"    no 2nd arg\"\n",
    "```"
   ]
  },
  {
   "cell_type": "code",
   "execution_count": 38,
   "metadata": {
    "deletable": false,
    "nbgrader": {
     "cell_type": "code",
     "checksum": "5463cb570ca810ee1c85be8139eca650",
     "grade": false,
     "grade_id": "A10",
     "locked": false,
     "schema_version": 3,
     "solution": true,
     "task": false
    }
   },
   "outputs": [
    {
     "name": "stdout",
     "output_type": "stream",
     "text": [
      "          life is not hard, but for my dream, I have to work harder\n"
     ]
    }
   ],
   "source": [
    "# Write your solution here\n",
    "\n",
    "# YOUR CODE HERE\n",
    "def q10_indent_string(string, p_int = 4):\n",
    "    return p_int * ' ' + string\n",
    "print(q10_indent_string('life is not hard, but for my dream, I have to work harder', 10))"
   ]
  },
  {
   "cell_type": "code",
   "execution_count": null,
   "metadata": {
    "deletable": false,
    "editable": false,
    "nbgrader": {
     "cell_type": "code",
     "checksum": "083cfe05a7d39335ca6d14609c09ace2",
     "grade": true,
     "grade_id": "test_A10-indent",
     "locked": true,
     "points": 5,
     "schema_version": 3,
     "solution": false,
     "task": false
    }
   },
   "outputs": [],
   "source": [
    "# Testing Cell (Do NOT modify this cell)"
   ]
  },
  {
   "cell_type": "markdown",
   "metadata": {},
   "source": [
    "#### Question 11&nbsp;&nbsp;&nbsp;&nbsp;&nbsp;&nbsp;(10 Points)\n",
    "Create a Python program to define your own function named `q11_args_length` that takes some number of arbitrary arguments. Your function should return the number of arguments."
   ]
  },
  {
   "cell_type": "code",
   "execution_count": 1,
   "metadata": {
    "deletable": false,
    "nbgrader": {
     "cell_type": "code",
     "checksum": "34bd10ab714e375fef4523449e6fdec3",
     "grade": false,
     "grade_id": "A11",
     "locked": false,
     "schema_version": 3,
     "solution": true,
     "task": false
    }
   },
   "outputs": [
    {
     "name": "stdout",
     "output_type": "stream",
     "text": [
      "3\n"
     ]
    }
   ],
   "source": [
    "# Write your solution here\n",
    "\n",
    "# YOUR CODE HERE\n",
    "def q11_args_length(*args):\n",
    "    return len(args)\n",
    "\n",
    "print(q11_args_length(32,323,32323))\n"
   ]
  },
  {
   "cell_type": "code",
   "execution_count": null,
   "metadata": {
    "deletable": false,
    "editable": false,
    "nbgrader": {
     "cell_type": "code",
     "checksum": "3d45bebdf0950ed6a7f306dcebd080a1",
     "grade": true,
     "grade_id": "test_A11-argsLength",
     "locked": true,
     "points": 10,
     "schema_version": 3,
     "solution": false,
     "task": false
    }
   },
   "outputs": [],
   "source": [
    "# Testing Cell (Do NOT modify this cell)"
   ]
  },
  {
   "cell_type": "markdown",
   "metadata": {},
   "source": [
    "#### Question 12&nbsp;&nbsp;&nbsp;&nbsp;&nbsp;&nbsp;(10 Points)\n",
    "Create a Python program to define your own function named `q12_get_id` that takes some number of arbitrary keyword arguments. One of the arguments, you do not know which, uses \"id\" as its key. Find the value paired with that key."
   ]
  },
  {
   "cell_type": "code",
   "execution_count": 7,
   "metadata": {
    "deletable": false,
    "nbgrader": {
     "cell_type": "code",
     "checksum": "007729089994ea5de2aa818cd1b47967",
     "grade": false,
     "grade_id": "A12",
     "locked": false,
     "schema_version": 3,
     "solution": true,
     "task": false
    }
   },
   "outputs": [
    {
     "name": "stdout",
     "output_type": "stream",
     "text": [
      "1932548\n"
     ]
    }
   ],
   "source": [
    "# Write your solution here\n",
    "\n",
    "# YOUR CODE HERE\n",
    "def q12_get_id(**kwarg):\n",
    "    if 'id' in kwarg:\n",
    "        return kwarg['id']\n",
    "print(q12_get_id(name = 'Eric', city = 'Adelaide', id = '1932548' ))"
   ]
  },
  {
   "cell_type": "code",
   "execution_count": null,
   "metadata": {
    "deletable": false,
    "editable": false,
    "nbgrader": {
     "cell_type": "code",
     "checksum": "3b3f43235f8b02a3246e089df4f8156b",
     "grade": true,
     "grade_id": "test_A12-getID",
     "locked": true,
     "points": 10,
     "schema_version": 3,
     "solution": false,
     "task": false
    }
   },
   "outputs": [],
   "source": [
    "# Testing Cell (Do NOT modify this cell)"
   ]
  },
  {
   "cell_type": "markdown",
   "metadata": {},
   "source": [
    "#### Question 13&nbsp;&nbsp;&nbsp;&nbsp;&nbsp;&nbsp;(10 Points)\n",
    "Create a Python program to construct your own anonymous function and assign it to a variable `q13_function` (as you saw in the content). Your function should find the area of a triangle (as a float), given two dimensions as positive integers."
   ]
  },
  {
   "cell_type": "code",
   "execution_count": 30,
   "metadata": {
    "deletable": false,
    "nbgrader": {
     "cell_type": "code",
     "checksum": "b52ca32ac02e66e7718b457c4059593a",
     "grade": false,
     "grade_id": "A13",
     "locked": false,
     "schema_version": 3,
     "solution": true,
     "task": false
    }
   },
   "outputs": [
    {
     "name": "stdout",
     "output_type": "stream",
     "text": [
      "4.5\n"
     ]
    }
   ],
   "source": [
    "# Write your solution here\n",
    "\n",
    "# YOUR CODE HERE\n",
    "q13_function = lambda bottom, height: 0.5 * bottom * height\n",
    "print(q13_function(3,3))    "
   ]
  },
  {
   "cell_type": "code",
   "execution_count": null,
   "metadata": {
    "deletable": false,
    "editable": false,
    "nbgrader": {
     "cell_type": "code",
     "checksum": "4543608ce93c93993d94c13dd5577394",
     "grade": true,
     "grade_id": "test_a13-anonymous",
     "locked": true,
     "points": 10,
     "schema_version": 3,
     "solution": false,
     "task": false
    }
   },
   "outputs": [],
   "source": [
    "# Testing Cell (Do NOT modify this cell)"
   ]
  },
  {
   "cell_type": "markdown",
   "metadata": {},
   "source": [
    "#### Question 14&nbsp;&nbsp;&nbsp;&nbsp;&nbsp;&nbsp;(10 Points)\n",
    "Create a Python program to define your own function named `q14_count_to_from` that has the following positional parameters:\n",
    "* `stop`\n",
    "* `start` (default = 0)\n",
    "\n",
    "The function has the following requirements:\n",
    "1. The function must return a string of every number from the `start` to the `stop` (including the starting and stopping values). Each number should be seperated by a space, without any trailing whitespace at the end.\n",
    "```python\n",
    "    q14_count_to_from (5) == \"0 1 2 3 4 5\" # start defaults to zero\n",
    "    q14_count_to_from (5, 4) == \"4 5\" \n",
    "```\n",
    "2. If `start` and `stop` are the same, the returned string contains just the `start` value. \n",
    "```python\n",
    "    q14_count_to_from (0) == \"0\" # start defaults to zero\n",
    "```\n",
    "3. If `stop < start`, the function returns an emptry string.\n",
    "```python\n",
    "    q14_count_to_from(1, 5) == \"\"\n",
    "```"
   ]
  },
  {
   "cell_type": "code",
   "execution_count": 25,
   "metadata": {
    "deletable": false,
    "nbgrader": {
     "cell_type": "code",
     "checksum": "a2c0e0bbaa032ddce85636ace2ebb415",
     "grade": false,
     "grade_id": "A14",
     "locked": false,
     "schema_version": 3,
     "solution": true,
     "task": false
    }
   },
   "outputs": [
    {
     "data": {
      "text/plain": [
       "''"
      ]
     },
     "execution_count": 25,
     "metadata": {},
     "output_type": "execute_result"
    }
   ],
   "source": [
    "# Write your solution here\n",
    "\n",
    "# YOUR CODE HERE\n",
    "def q14_count_to_from(stop, start=0):\n",
    "    if stop >= start:\n",
    "        result = ''\n",
    "        for number in range(start, stop+1):\n",
    "            result += str(number) \n",
    "            if number != stop:\n",
    "                result += ' '\n",
    "\n",
    "        return result\n",
    "    else:\n",
    "        return ''\n",
    "q14_count_to_from(1, 5)"
   ]
  },
  {
   "cell_type": "code",
   "execution_count": null,
   "metadata": {
    "deletable": false,
    "editable": false,
    "nbgrader": {
     "cell_type": "code",
     "checksum": "edcf271667083695e3d2afb7d1366864",
     "grade": true,
     "grade_id": "test_A14-countToForm",
     "locked": true,
     "points": 10,
     "schema_version": 3,
     "solution": false,
     "task": false
    }
   },
   "outputs": [],
   "source": [
    "# Testing Cell (Do NOT modify this cell)"
   ]
  },
  {
   "cell_type": "markdown",
   "metadata": {},
   "source": [
    "#### Question 15 &nbsp;&nbsp;&nbsp;&nbsp;&nbsp;&nbsp;(10 Points) \n",
    "Create a Python program to define your own function named `q15_show_stars` to return the pattern below (i.e., the returned value should be a string using `output15` variable). This function takes two parameters (rows and pattern), as discussed in the below guidliens.\n",
    "1. Number of rows in the pattern. If nothing is provided the default value need to be 6 rows (as shown in the pattern below).\n",
    "2. Pattern type. If nothing is provided used stars (`*`), as shown in the pattern below.\n",
    "\n",
    "```\n",
    "*\n",
    "**\n",
    "***\n",
    "****\n",
    "*****\n",
    "******\n",
    "```"
   ]
  },
  {
   "cell_type": "code",
   "execution_count": 28,
   "metadata": {
    "deletable": false,
    "nbgrader": {
     "cell_type": "code",
     "checksum": "51a41e7480878e2c5c8d703676fb6393",
     "grade": false,
     "grade_id": "A15",
     "locked": false,
     "schema_version": 3,
     "solution": true,
     "task": false
    }
   },
   "outputs": [
    {
     "name": "stdout",
     "output_type": "stream",
     "text": [
      "*\n",
      "**\n",
      "***\n",
      "****\n",
      "*****\n",
      "******\n"
     ]
    }
   ],
   "source": [
    "# Write your solution here\n",
    "\n",
    "# YOUR CODE HERE\n",
    "def q15_show_stars(rows = 6, pattern = '*'):\n",
    "    output15 = ''\n",
    "    for i in range(1,rows + 1):\n",
    "        output15 += i * pattern\n",
    "        output15 += '\\n'\n",
    "    output15 = output15.strip()\n",
    "    return output15\n",
    "\n",
    "print(q15_show_stars())"
   ]
  },
  {
   "cell_type": "code",
   "execution_count": null,
   "metadata": {
    "deletable": false,
    "editable": false,
    "nbgrader": {
     "cell_type": "code",
     "checksum": "7c6e74fad385916d4fb1aed610dcd799",
     "grade": true,
     "grade_id": "test_A15-stars",
     "locked": true,
     "points": 10,
     "schema_version": 3,
     "solution": false,
     "task": false
    }
   },
   "outputs": [],
   "source": [
    "# Testing Cell (Do NOT modify this cell)"
   ]
  },
  {
   "cell_type": "markdown",
   "metadata": {},
   "source": [
    "#### Question 16 &nbsp;&nbsp;&nbsp;&nbsp;&nbsp;&nbsp;(10 Points)\n",
    "Create a Python program to define your own function named `q16_divisible` that will take in an unknown number of arguments and multiply all of the together that are only divisible by 3. Use the following guidelines when implementing this program.\n",
    "1. If the user has mistakenly entered `0`, ignore this number in the calculations. \n",
    "2. If the user has entered any negative numbers, ignore them in the calculations.\n",
    "3. Your function should return three values. First, the count of numbers that are divisbile by 3. Second, the list of numbers that are divisible by 3. Third, the multiplied value of the numbers that are divisible by 3."
   ]
  },
  {
   "cell_type": "code",
   "execution_count": 29,
   "metadata": {
    "deletable": false,
    "nbgrader": {
     "cell_type": "code",
     "checksum": "ccd3aa919f9c70da2f6c8506468b1aea",
     "grade": false,
     "grade_id": "A16",
     "locked": false,
     "schema_version": 3,
     "solution": true,
     "task": false
    }
   },
   "outputs": [
    {
     "name": "stdout",
     "output_type": "stream",
     "text": [
      "(3, [3, 6, 9], 162)\n"
     ]
    }
   ],
   "source": [
    "# Write your solution here\n",
    "\n",
    "# YOUR CODE HERE\n",
    "def q16_divisible(*numbers):\n",
    "    count = 0\n",
    "    list_div = []\n",
    "    mul_value = 1\n",
    "    for i in numbers:\n",
    "        if i > 0:\n",
    "            if i % 3 == 0:\n",
    "                count += 1\n",
    "                list_div.append(i)\n",
    "                mul_value *= i\n",
    "    return count, list_div, mul_value\n",
    "\n",
    "print(q16_divisible(23,3,6,9,323,20))\n"
   ]
  },
  {
   "cell_type": "code",
   "execution_count": null,
   "metadata": {
    "deletable": false,
    "editable": false,
    "nbgrader": {
     "cell_type": "code",
     "checksum": "e3cef1f7ee261971c73aab9eae0fb5f4",
     "grade": true,
     "grade_id": "test_A16-divisible",
     "locked": true,
     "points": 10,
     "schema_version": 3,
     "solution": false,
     "task": false
    }
   },
   "outputs": [],
   "source": [
    "# Testing Cell (Do NOT modify this cell)"
   ]
  }
 ],
 "metadata": {
  "hide_input": false,
  "kernelspec": {
   "display_name": "Python 3 (ipykernel)",
   "language": "python",
   "name": "python3"
  },
  "language_info": {
   "codemirror_mode": {
    "name": "ipython",
    "version": 3
   },
   "file_extension": ".py",
   "mimetype": "text/x-python",
   "name": "python",
   "nbconvert_exporter": "python",
   "pygments_lexer": "ipython3",
   "version": "3.12.4"
  },
  "nbTranslate": {
   "displayLangs": [
    "*"
   ],
   "hotkey": "alt-t",
   "langInMainMenu": true,
   "sourceLang": "en",
   "targetLang": "fr",
   "useGoogleTranslate": true
  },
  "toc": {
   "base_numbering": 1,
   "nav_menu": {},
   "number_sections": true,
   "sideBar": true,
   "skip_h1_title": false,
   "title_cell": "Table of Contents",
   "title_sidebar": "Contents",
   "toc_cell": false,
   "toc_position": {},
   "toc_section_display": true,
   "toc_window_display": false
  },
  "varInspector": {
   "cols": {
    "lenName": 16,
    "lenType": 16,
    "lenVar": 40
   },
   "kernels_config": {
    "python": {
     "delete_cmd_postfix": "",
     "delete_cmd_prefix": "del ",
     "library": "var_list.py",
     "varRefreshCmd": "print(var_dic_list())"
    },
    "r": {
     "delete_cmd_postfix": ") ",
     "delete_cmd_prefix": "rm(",
     "library": "var_list.r",
     "varRefreshCmd": "cat(var_dic_list()) "
    }
   },
   "types_to_exclude": [
    "module",
    "function",
    "builtin_function_or_method",
    "instance",
    "_Feature"
   ],
   "window_display": false
  }
 },
 "nbformat": 4,
 "nbformat_minor": 4
}
