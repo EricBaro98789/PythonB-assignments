{
 "cells": [
  {
   "cell_type": "markdown",
   "metadata": {},
   "source": [
    "### Instructions:\n",
    "\n",
    "- You can attempt any number of questions and in any order.  \n",
    "  See the assignment page for a description of the hurdle requirement for this assessment.\n",
    "- You may submit your practical for autograding as many times as you like to check on progress, however you will save time by checking and testing your own code before submitting.\n",
    "- Develop and check your answers in the spaces provided.\n",
    "- **Replace** the code `raise NotImplementedError()` with your solution to the question.\n",
    "- Do **NOT** remove any variables other provided markings already provided in the answer spaces.\n",
    "- Do **NOT** make any changes to this notebook outside of the spaces indicated.  \n",
    "  (If you do this, the submission system might not accept your work)\n",
    "\n",
    "### Submitting:\n",
    "\n",
    "1. Before you turn this problem in, make sure everything runs as expected by resetting this notebook.    \n",
    "   (You can do this from the menubar above by selecting `Kernel`&#8594;`Restart Kernel and Run All Cells...`)\n",
    "1. Don't forget to save your notebook after this step.\n",
    "1. Submit your .ipynb file to Gradescope via file upload or GitHub repository.\n",
    "1. You can submit as many times as needed.\n",
    "\n"
   ]
  },
  {
   "cell_type": "markdown",
   "metadata": {},
   "source": [
    "---"
   ]
  },
  {
   "cell_type": "markdown",
   "metadata": {},
   "source": [
    "# A2 | Week 1: Practice For Loops & Dictionary\n",
    "\n",
    "------\n"
   ]
  },
  {
   "cell_type": "markdown",
   "metadata": {},
   "source": [
    "#### Example Question\n",
    "Write a Python program to display the elements in the list `[1, 2, 3, 4, 5, 6, 7, 8, 9, 10]` using for loops. Create the variable `example_output` and use it inside the for loop to construct the string that you want to display at the end of the program.\n",
    "\n",
    "```python\n",
    "# This solution is for demonstration purposes ONLY. \n",
    "# There may be other ways of doing this task using for loops that produce the same output.\n",
    "# You have the freedom to use a solution that you prefer as long as it uses for loop and \n",
    "# produces the expected output using the example_output variable.\n",
    "\n",
    "example_output = \"\"\n",
    "example_list = [1, 2, 3, 4, 5, 6, 7, 8, 9, 10]\n",
    "\n",
    "for i in example_list:\n",
    "    example_output += str(i)\n",
    "    example_output += \"\\n\"\n",
    "example_output = example_output.strip() #this is to remove the extra new line in 10\n",
    "print(example_output)\n",
    "```"
   ]
  },
  {
   "cell_type": "markdown",
   "metadata": {},
   "source": [
    "#### Question 1&nbsp;&nbsp;&nbsp;&nbsp;&nbsp;&nbsp;(1 Point)\n",
    "Create a list `q1_list` and add the following names to it: `Lisa`, `Dave`, `Sage`, `Emma`, `John` and `David`. Write a Python program to display names using a for loop in the following format: `Hello! \"NAME\"` (*Note: NAME should be replaced with the name in the list in each iteration*). Create the variable `output1` and use it inside the while loop to construct the string that you want to display at the end of the program. The constructed string shoudld have no trailing whitespace and must be terminated by a newling (except for the last line of output which has no newline).\n",
    "\n",
    "Expected Output:  \n",
    "```text\n",
    "Hello! \"Lisa\"  \n",
    "Hello! \"Dave\"  \n",
    "Hello! \"Sage\"  \n",
    "Hello! \"Emma\"  \n",
    "Hello! \"John\"  \n",
    "Hello! \"David\"\n",
    "```"
   ]
  },
  {
   "cell_type": "code",
   "execution_count": 6,
   "metadata": {},
   "outputs": [],
   "source": [
    "# Test data. Do not duplicate this variable in your submitted solution.\n",
    "q1_list = ['Lisa', 'Dave', 'Sage', 'Emma', 'John', 'David']"
   ]
  },
  {
   "cell_type": "code",
   "execution_count": 11,
   "metadata": {
    "deletable": false,
    "lang": "en",
    "nbgrader": {
     "cell_type": "code",
     "checksum": "b683b17a3168e0e2568e1655d3914e98",
     "grade": false,
     "grade_id": "A1",
     "locked": false,
     "schema_version": 3,
     "solution": true,
     "task": false
    },
    "tags": []
   },
   "outputs": [
    {
     "name": "stdout",
     "output_type": "stream",
     "text": [
      "Hello! \"Lisa\"\n",
      "Hello! \"Dave\"\n",
      "Hello! \"Sage\"\n",
      "Hello! \"Emma\"\n",
      "Hello! \"John\"\n",
      "Hello! \"David\"\n"
     ]
    }
   ],
   "source": [
    "# Write your solution here\n",
    "\n",
    "# YOUR CODE HERE\n",
    "output1 = ''\n",
    "for i in q1_list:\n",
    "    output1 += f'Hello! \"{i}\"\\n'\n",
    "output1 = output1.strip()\n",
    "print(output1)"
   ]
  },
  {
   "cell_type": "code",
   "execution_count": null,
   "metadata": {
    "deletable": false,
    "editable": false,
    "lang": "fr",
    "nbgrader": {
     "cell_type": "code",
     "checksum": "bc7fdfbfd8dc9321c67d6b6d91f5302d",
     "grade": true,
     "grade_id": "test_A1-print",
     "locked": true,
     "points": 1,
     "schema_version": 3,
     "solution": false,
     "task": false
    }
   },
   "outputs": [],
   "source": [
    "# Testing Cell (Do NOT modify this cell)"
   ]
  },
  {
   "cell_type": "markdown",
   "metadata": {},
   "source": [
    "#### Question 2&nbsp;&nbsp;&nbsp;&nbsp;&nbsp;&nbsp;(1 Point)\n",
    "Create a list `q2_list` and add the following numbers to it: *1, 2, 6, 10, 19, 21*. Write a Python program to display the square of each number using a for loop in the following format: `The square of NUMBER is SQUARENUM!` (*Note: NUMBER and SQUARENUM should be replaced with the number in the list in each iteration and the square of it*). Create the variable `output2` and use it inside the for loop to construct the string that you want to display at the end of the program.\n",
    "\n",
    "*Note: The displayed string should be in the same format as in Q1. For clarity, the expected output is shown below.*\n",
    "\n",
    "Expected Output:\n",
    "```\n",
    "The square of 1 is 1!\n",
    "The square of 2 is 4!\n",
    "The square of 6 is 36!\n",
    "The square of 10 is 100! \n",
    "The square of 19 is 361!\n",
    "The square of 21 is 441!\n",
    "```"
   ]
  },
  {
   "cell_type": "code",
   "execution_count": 16,
   "metadata": {
    "deletable": false,
    "lang": "en",
    "nbgrader": {
     "cell_type": "code",
     "checksum": "df9f898c558b312abb63cc8d26fd83e7",
     "grade": false,
     "grade_id": "A2",
     "locked": false,
     "schema_version": 3,
     "solution": true,
     "task": false
    },
    "tags": []
   },
   "outputs": [
    {
     "name": "stdout",
     "output_type": "stream",
     "text": [
      "The square of 1 is 1!\n",
      "The square of 2 is 4!\n",
      "The square of 6 is 36!\n",
      "The square of 10 is 100!\n",
      "The square of 19 is 361!\n",
      "The square of 21 is 441!\n"
     ]
    }
   ],
   "source": [
    "# Write your solution here\n",
    "\n",
    "# YOUR CODE HERE\n",
    "q2_list = [1,2,6,10,19,21]\n",
    "output2 = ''\n",
    "for i in q2_list:\n",
    "    square = i ** 2\n",
    "    output2 += f'The square of {i} is {square}!\\n'\n",
    "\n",
    "output2 = output2.strip()\n",
    "print(output2)"
   ]
  },
  {
   "cell_type": "code",
   "execution_count": null,
   "metadata": {
    "deletable": false,
    "editable": false,
    "nbgrader": {
     "cell_type": "code",
     "checksum": "7362ef10a6792fc517f989e8d08ced51",
     "grade": true,
     "grade_id": "A2_test-squareNumber",
     "locked": true,
     "points": 1,
     "schema_version": 3,
     "solution": false,
     "task": false
    }
   },
   "outputs": [],
   "source": [
    "# Testing Cell (Do NOT modify this cell)"
   ]
  },
  {
   "cell_type": "markdown",
   "metadata": {},
   "source": [
    "#### Question 3&nbsp;&nbsp;&nbsp;&nbsp;&nbsp;&nbsp;(1 Point)\n",
    "Write a Python program to iterate through the string `q3_txt = \"PyThoN\"` and displays every letter in upper-case using a for loop. Create the variable `output3` and use  it inside the for loop to construct the string that you want to display at the end of the program.\n",
    "\n",
    "*Note: The displayed string should be in the same format as in Q1. For clarity, the expected output is shown below.*\n",
    "\n",
    "Expected Output:\n",
    "```\n",
    "P\n",
    "Y\n",
    "T\n",
    "H\n",
    "O\n",
    "N\n",
    "```"
   ]
  },
  {
   "cell_type": "code",
   "execution_count": 27,
   "metadata": {},
   "outputs": [],
   "source": [
    "# Test data. Do not duplicate this variable in your submitted solution.\n",
    "q3_txt = \"PyThoN\""
   ]
  },
  {
   "cell_type": "code",
   "execution_count": 28,
   "metadata": {
    "deletable": false,
    "nbgrader": {
     "cell_type": "code",
     "checksum": "d2f404b7adcf3e7148bf7976f69eaa00",
     "grade": false,
     "grade_id": "A3",
     "locked": false,
     "schema_version": 3,
     "solution": true,
     "task": false
    },
    "tags": []
   },
   "outputs": [
    {
     "name": "stdout",
     "output_type": "stream",
     "text": [
      "P\n",
      "Y\n",
      "T\n",
      "H\n",
      "O\n",
      "N\n"
     ]
    }
   ],
   "source": [
    "# Write your solution here\n",
    "\n",
    "# YOUR CODE HERE\n",
    "output3 = ''\n",
    "for i in q3_txt:\n",
    "    output3 += i.upper() + '\\n'\n",
    "\n",
    "output3 = output3.strip()\n",
    "print(output3)"
   ]
  },
  {
   "cell_type": "code",
   "execution_count": null,
   "metadata": {
    "deletable": false,
    "editable": false,
    "nbgrader": {
     "cell_type": "code",
     "checksum": "534aaa19d58e1fc76d0fc90d5753ba2f",
     "grade": true,
     "grade_id": "A3_test-upper",
     "locked": true,
     "points": 1,
     "schema_version": 3,
     "solution": false,
     "task": false
    }
   },
   "outputs": [],
   "source": [
    "# Testing Cell (Do NOT modify this cell)"
   ]
  },
  {
   "cell_type": "markdown",
   "metadata": {},
   "source": [
    "#### Question 4&nbsp;&nbsp;&nbsp;&nbsp;&nbsp;&nbsp;(1 Point)\n",
    "Write a Python program to iterate through the string `q4_txt = \"Python is My favorite programming language. It is also famous for its simple programming syntax, code readability and English-like commands that make coding in Python lot easier and efficient.\"` and find the count of letter `m` using a for loop (make sure that you lower-case the string to calculate all `m`s in it). Use the counter variable `output4` for the calculations needed."
   ]
  },
  {
   "cell_type": "code",
   "execution_count": 1,
   "metadata": {},
   "outputs": [],
   "source": [
    "# Test data. Do not duplicate this variable in your submitted solution.\n",
    "q4_txt = \"Python is My favorite programming language. It is also famous for its simple programming syntax, code readability and English-like commands that make coding in Python lot easier and efficient.\""
   ]
  },
  {
   "cell_type": "code",
   "execution_count": 2,
   "metadata": {
    "deletable": false,
    "nbgrader": {
     "cell_type": "code",
     "checksum": "d82e740d0c6a82c04f5b73a2a8b57cd4",
     "grade": false,
     "grade_id": "A4",
     "locked": false,
     "schema_version": 3,
     "solution": true,
     "task": false
    },
    "tags": []
   },
   "outputs": [
    {
     "name": "stdout",
     "output_type": "stream",
     "text": [
      "10\n"
     ]
    }
   ],
   "source": [
    "# Write your solution here\n",
    "\n",
    "# YOUR CODE HERE\n",
    "output4 = 0\n",
    "for i in q4_txt.lower():\n",
    "    if i == 'm':\n",
    "        output4 += 1\n",
    "print(output4)"
   ]
  },
  {
   "cell_type": "code",
   "execution_count": null,
   "metadata": {
    "deletable": false,
    "editable": false,
    "nbgrader": {
     "cell_type": "code",
     "checksum": "bfd1460f5c0a72da40e3f85dd2c7b49e",
     "grade": true,
     "grade_id": "A4_test-countM",
     "locked": true,
     "points": 1,
     "schema_version": 3,
     "solution": false,
     "task": false
    }
   },
   "outputs": [],
   "source": [
    "# Testing Cell (Do NOT modify this cell)"
   ]
  },
  {
   "cell_type": "markdown",
   "metadata": {},
   "source": [
    "#### Question 5&nbsp;&nbsp;&nbsp;&nbsp;&nbsp;&nbsp;(1 Point)\n",
    "Create a list `q5_list` and add the following numbers to it: *-12, 20, -91, 90, -19, 39*. Write a Python program to display numbers in the list that are both postive and even using a for loop. Create the variable `output5` and use it inside the for loop to construct the string that you want to display at the end of the program.\n",
    "\n",
    "*Note: The displayed string should be in the same format as in Q1.*"
   ]
  },
  {
   "cell_type": "code",
   "execution_count": 4,
   "metadata": {},
   "outputs": [],
   "source": [
    "# Test data. Do not duplicate this variable in your submitted solution.\n",
    "q5_list = [-12, 20, -91, 90, -19, 39]"
   ]
  },
  {
   "cell_type": "code",
   "execution_count": 5,
   "metadata": {
    "deletable": false,
    "nbgrader": {
     "cell_type": "code",
     "checksum": "d3aabab2e6ed4dbe982becb28a849a8d",
     "grade": false,
     "grade_id": "A5",
     "locked": false,
     "schema_version": 3,
     "solution": true,
     "task": false
    },
    "tags": []
   },
   "outputs": [
    {
     "name": "stdout",
     "output_type": "stream",
     "text": [
      "20\n",
      "90\n"
     ]
    }
   ],
   "source": [
    "# Write your solution here\n",
    "\n",
    "# YOUR CODE HERE\n",
    "output5 = ''\n",
    "for i in q5_list:\n",
    "    if i > 0 and i % 2 == 0:\n",
    "        output5 += str(i) + '\\n'\n",
    "output5 = output5.strip()\n",
    "print(output5)"
   ]
  },
  {
   "cell_type": "code",
   "execution_count": null,
   "metadata": {
    "deletable": false,
    "editable": false,
    "nbgrader": {
     "cell_type": "code",
     "checksum": "b5724acadb8179dffc9d538fdb67e6a4",
     "grade": true,
     "grade_id": "A5_test-PositiveNegative",
     "locked": true,
     "points": 1,
     "schema_version": 3,
     "solution": false,
     "task": false
    }
   },
   "outputs": [],
   "source": [
    "# Testing Cell (Do NOT modify this cell)"
   ]
  },
  {
   "cell_type": "markdown",
   "metadata": {},
   "source": [
    "#### Question 6&nbsp;&nbsp;&nbsp;&nbsp;&nbsp;&nbsp;(3 Points)\n",
    "Create a list `q6_list` with the following items to it: *1, Emma, 6, John, David, 21, 19, Dave*. Create two empty lists `output6_numbers` and `output6_names`. Write a Python program that loops through `q6_list` and perform the folowing:\n",
    "* if a number is encountered, add it to `output6_numbers`\n",
    "* if a name (i.e., a string) is encountered add it to `output6_names`\n",
    "\n",
    "***\n",
    "<details>\n",
    "  <summary><span style=\"color:blue\">Click to see Hints</span></summary>\n",
    "    \n",
    "* You will need to use string methods such as isdigit() and isalpha() to identify whether it is a number or a name.\n",
    "</details>"
   ]
  },
  {
   "cell_type": "code",
   "execution_count": 7,
   "metadata": {},
   "outputs": [],
   "source": [
    "# Test data. Do not duplicate this variable in your submitted solution.\n",
    "q6_list = [1, 'Emma', 6, 'John', 'David', 21, 19, 'Dave']"
   ]
  },
  {
   "cell_type": "code",
   "execution_count": 8,
   "metadata": {
    "deletable": false,
    "nbgrader": {
     "cell_type": "code",
     "checksum": "29f3b447662101cecbee510ae16a0061",
     "grade": false,
     "grade_id": "A6",
     "locked": false,
     "schema_version": 3,
     "solution": true,
     "task": false
    },
    "tags": []
   },
   "outputs": [
    {
     "name": "stdout",
     "output_type": "stream",
     "text": [
      "[1, 6, 21, 19]\n",
      "['Emma', 'John', 'David', 'Dave']\n"
     ]
    }
   ],
   "source": [
    "# Write your solution here\n",
    "\n",
    "# YOUR CODE HERE\n",
    "output6_numbers = []\n",
    "output6_names = []\n",
    "for i in q6_list:\n",
    "    if isinstance(i, int):\n",
    "        output6_numbers.append(i)\n",
    "    if isinstance(i, str):\n",
    "        output6_names.append(i)\n",
    "print(output6_numbers)\n",
    "print(output6_names)"
   ]
  },
  {
   "cell_type": "code",
   "execution_count": null,
   "metadata": {
    "deletable": false,
    "editable": false,
    "nbgrader": {
     "cell_type": "code",
     "checksum": "3d56a390d3feb2a9a9a1649eacbc3410",
     "grade": true,
     "grade_id": "A6_test-numbersNames",
     "locked": true,
     "points": 3,
     "schema_version": 3,
     "solution": false,
     "task": false
    }
   },
   "outputs": [],
   "source": [
    "# Testing Cell (Do NOT modify this cell)"
   ]
  },
  {
   "cell_type": "markdown",
   "metadata": {},
   "source": [
    "#### Question 7&nbsp;&nbsp;&nbsp;&nbsp;&nbsp;&nbsp;(3 Points) \n",
    "Write a Python program to display the following pattern using for loops. Create the variable `output7` and use it inside the while loop to construct the string that you want to display at the end of the program.\n",
    "\n",
    "```\n",
    "1 \n",
    "1 2\n",
    "1 2 3 \n",
    "1 2 3 4\n",
    "1 2 3 4 5\n",
    "```\n",
    "Note: The constructed string should be in the same format as in Q1. No trailing string before the newline and no newline on the final row of text."
   ]
  },
  {
   "cell_type": "code",
   "execution_count": 12,
   "metadata": {
    "deletable": false,
    "nbgrader": {
     "cell_type": "code",
     "checksum": "6c982ae16fa4067368385fa2bb9fb2fe",
     "grade": false,
     "grade_id": "A7",
     "locked": false,
     "schema_version": 3,
     "solution": true,
     "task": false
    },
    "tags": []
   },
   "outputs": [
    {
     "name": "stdout",
     "output_type": "stream",
     "text": [
      "1 \n",
      "1 2 \n",
      "1 2 3 \n",
      "1 2 3 4 \n",
      "1 2 3 4 5 \n"
     ]
    }
   ],
   "source": [
    "# Write your solution here\n",
    "\n",
    "# YOUR CODE HERE\n",
    "output7 = ''\n",
    "count = 2\n",
    "while count < 7:\n",
    "    for i in range(1,count):\n",
    "        output7 += str(i) + ' '\n",
    "    output7 += '\\n'\n",
    "    count += 1\n",
    "output7 = output7.rstrip('\\n')\n",
    "print(output7)\n",
    "\n"
   ]
  },
  {
   "cell_type": "code",
   "execution_count": null,
   "metadata": {
    "deletable": false,
    "editable": false,
    "nbgrader": {
     "cell_type": "code",
     "checksum": "464dbd3b499709c5c0915dac95756ec6",
     "grade": true,
     "grade_id": "A7_test-LoopsNumbers",
     "locked": true,
     "points": 3,
     "schema_version": 3,
     "solution": false,
     "task": false
    }
   },
   "outputs": [],
   "source": [
    "# Testing Cell (Do NOT modify this cell)"
   ]
  },
  {
   "cell_type": "markdown",
   "metadata": {},
   "source": [
    "#### Question 8&nbsp;&nbsp;&nbsp;&nbsp;&nbsp;&nbsp;(3 Points) \n",
    "Create a list `q8_list = [1, 3.1, [\"John\", \"David\"], 19, 30, \"Python\", 9.1, \"Java\", 12.1212, \"Go\", -1.2, \".NET\", 9, [-1.2, 1.0], -9, [1, 2]]`. Create an empty list `output8_ints`. \n",
    "\n",
    "Write a Python program that loops through `q8_list` and append only integer numbers to `output8_ints`."
   ]
  },
  {
   "cell_type": "code",
   "execution_count": 9,
   "metadata": {},
   "outputs": [],
   "source": [
    "q8_list = [1, 3.1, [\"John\", \"David\"], 19, 30, \"Python\", 9.1, \"Java\", 12.1212, \"Go\", -1.2, \".NET\", 9, [-1.2, 1.0], -9, [1, 2]]"
   ]
  },
  {
   "cell_type": "code",
   "execution_count": 10,
   "metadata": {
    "deletable": false,
    "nbgrader": {
     "cell_type": "code",
     "checksum": "00effc46552ba19d164720dc6c7b25cb",
     "grade": false,
     "grade_id": "A8",
     "locked": false,
     "schema_version": 3,
     "solution": true,
     "task": false
    },
    "tags": []
   },
   "outputs": [
    {
     "name": "stdout",
     "output_type": "stream",
     "text": [
      "[1, 19, 30, 9, -9]\n"
     ]
    }
   ],
   "source": [
    "# Write your solution here\n",
    "\n",
    "# YOUR CODE HERE\n",
    "\n",
    "output8_ints = []\n",
    "for i in q8_list:\n",
    "    if isinstance(i, int):\n",
    "        output8_ints.append(i)\n",
    "print(output8_ints)\n"
   ]
  },
  {
   "cell_type": "code",
   "execution_count": null,
   "metadata": {
    "deletable": false,
    "editable": false,
    "nbgrader": {
     "cell_type": "code",
     "checksum": "b4be0186827bf4aa43e16db81fe94c2c",
     "grade": true,
     "grade_id": "A8_test-appendIntegers",
     "locked": true,
     "points": 3,
     "schema_version": 3,
     "solution": false,
     "task": false
    }
   },
   "outputs": [],
   "source": [
    "# Testing Cell (Do NOT modify this cell)"
   ]
  },
  {
   "cell_type": "markdown",
   "metadata": {},
   "source": [
    "#### Question 9&nbsp;&nbsp;&nbsp;&nbsp;&nbsp;&nbsp;(3 Points)\n",
    "Write a Python program to display the Fibonacci series up to `MAX_FIB` terms. The next number in Fibonacci series is found by adding up the two numbers before it. The first two numbers are 0 and 1. For example, in the Fibonacci series: 0, 1, 1, 2, 3, 5, 8, the next number is calculated as 5 + 8 = 13. \n",
    "\n",
    "Use a for loop to create the list `output9` and use it inside the for loop to store the numbers of the Fibonacci series."
   ]
  },
  {
   "cell_type": "code",
   "execution_count": 46,
   "metadata": {
    "deletable": false,
    "editable": false,
    "nbgrader": {
     "cell_type": "code",
     "checksum": "8416d821321db72f92b5b5614ea58141",
     "grade": false,
     "grade_id": "cell-5908de6390a7e523",
     "locked": true,
     "schema_version": 3,
     "solution": false,
     "task": false
    },
    "tags": []
   },
   "outputs": [],
   "source": [
    "# Test data. Do not duplicate this variable in your submitted solution.\n",
    "MAX_FIB = 10"
   ]
  },
  {
   "cell_type": "code",
   "execution_count": 47,
   "metadata": {
    "deletable": false,
    "nbgrader": {
     "cell_type": "code",
     "checksum": "54dd4675a0a533a8ca6a03575bcff9c8",
     "grade": false,
     "grade_id": "A9",
     "locked": false,
     "schema_version": 3,
     "solution": true,
     "task": false
    },
    "tags": []
   },
   "outputs": [
    {
     "name": "stdout",
     "output_type": "stream",
     "text": [
      "[0, 1, 1, 2, 3, 5, 8, 13, 21, 34]\n"
     ]
    }
   ],
   "source": [
    "# Write your solution here\n",
    "\n",
    "# YOUR CODE HERE\n",
    "add1 = 0\n",
    "add2 = 1\n",
    "output9 = [0, 1]\n",
    "# if MAX_FIB == 1:\n",
    "#     output9 = [0]\n",
    "# elif MAX_FIB == 2:\n",
    "#     output9 == [1]\n",
    "# else:\n",
    "for count in range(1, MAX_FIB  - 1):\n",
    "    result = add1 + add2\n",
    "    add1 = add2\n",
    "    add2 = result \n",
    "    count += 1\n",
    "    output9.append(result)\n",
    "\n",
    "if MAX_FIB == 1:\n",
    "    output9 = [0]\n",
    "print(output9)"
   ]
  },
  {
   "cell_type": "code",
   "execution_count": null,
   "metadata": {
    "deletable": false,
    "editable": false,
    "nbgrader": {
     "cell_type": "code",
     "checksum": "924c3f5dda75d2991086d22f2a5fe613",
     "grade": true,
     "grade_id": "A9_test-fibonacci",
     "locked": true,
     "points": 3,
     "schema_version": 3,
     "solution": false,
     "task": false
    }
   },
   "outputs": [],
   "source": [
    "# Testing Cell (Do NOT modify this cell)"
   ]
  },
  {
   "cell_type": "markdown",
   "metadata": {},
   "source": [
    "#### Question 10&nbsp;&nbsp;&nbsp;&nbsp;&nbsp;&nbsp;(3 Points)\n",
    "Write a Python program to convert the following two lists into a dictionary called `output10`.\n",
    "```\n",
    "q10_keys = [\"John\", \"Danise\", \"David\", \"Kelly\", \"Emma\", \"Olivia\"]\n",
    "q10_values = [12, 10, 9, 19, 30, 33]\n",
    "```"
   ]
  },
  {
   "cell_type": "code",
   "execution_count": 48,
   "metadata": {
    "deletable": false,
    "editable": false,
    "nbgrader": {
     "cell_type": "code",
     "checksum": "1276355c9acc8a18bfdd481978b5bdb6",
     "grade": false,
     "grade_id": "cell-d2aad3322647761c",
     "locked": true,
     "schema_version": 3,
     "solution": false,
     "task": false
    },
    "tags": []
   },
   "outputs": [],
   "source": [
    "# Test data. Do not duplicate this variable in your submitted solution.\n",
    "q10_keys = [\"John\", \"Danise\", \"David\", \"Kelly\", \"Emma\", \"Olivia\"]\n",
    "q10_values = [12, 10, 9, 19, 30, 33]"
   ]
  },
  {
   "cell_type": "code",
   "execution_count": 49,
   "metadata": {
    "deletable": false,
    "nbgrader": {
     "cell_type": "code",
     "checksum": "5463cb570ca810ee1c85be8139eca650",
     "grade": false,
     "grade_id": "A10",
     "locked": false,
     "schema_version": 3,
     "solution": true,
     "task": false
    },
    "tags": []
   },
   "outputs": [
    {
     "name": "stdout",
     "output_type": "stream",
     "text": [
      "{'John': 12, 'Danise': 10, 'David': 9, 'Kelly': 19, 'Emma': 30, 'Olivia': 33}\n"
     ]
    }
   ],
   "source": [
    "# Write your solution here\n",
    "\n",
    "# YOUR CODE HERE\n",
    "output10 = dict(zip(q10_keys, q10_values))\n",
    "print(output10)\n",
    "    "
   ]
  },
  {
   "cell_type": "code",
   "execution_count": null,
   "metadata": {
    "deletable": false,
    "editable": false,
    "nbgrader": {
     "cell_type": "code",
     "checksum": "2b73530ede1dcaa47ca3f8d31e187081",
     "grade": true,
     "grade_id": "A10_test-dictionary",
     "locked": true,
     "points": 3,
     "schema_version": 3,
     "solution": false,
     "task": false
    }
   },
   "outputs": [],
   "source": [
    "# Testing Cell (Do NOT modify this cell)"
   ]
  },
  {
   "cell_type": "markdown",
   "metadata": {},
   "source": [
    "#### Question 11&nbsp;&nbsp;&nbsp;&nbsp;&nbsp;&nbsp;(4 Points)\n",
    "Write a Python program to display the following pattern using for loops. Create the variable `output11` and use it inside the while loop to construct the string that you want to display at the end of the program.\n",
    "```\n",
    "5 4 3 2 1 \n",
    "4 3 2 1 \n",
    "3 2 1 \n",
    "2 1\n",
    "1\n",
    "```\n",
    "Note: The constructed string should be in the same format as in Q1. No trailing string before the newline and no newline on the final row of text."
   ]
  },
  {
   "cell_type": "code",
   "execution_count": 11,
   "metadata": {
    "deletable": false,
    "nbgrader": {
     "cell_type": "code",
     "checksum": "34bd10ab714e375fef4523449e6fdec3",
     "grade": false,
     "grade_id": "A11",
     "locked": false,
     "schema_version": 3,
     "solution": true,
     "task": false
    },
    "tags": []
   },
   "outputs": [
    {
     "name": "stdout",
     "output_type": "stream",
     "text": [
      "5 4 3 2 1 \n",
      "4 3 2 1 \n",
      "3 2 1 \n",
      "2 1 \n",
      "1\n"
     ]
    }
   ],
   "source": [
    "# Write your solution here\n",
    "\n",
    "# YOUR CODE HERE\n",
    "output11 = ''\n",
    "count = 5\n",
    "while count > 0:\n",
    "    for i in range(count , 0 , -1):\n",
    "        output11 += str(i) + ' '\n",
    "    output11 += '\\n'\n",
    "    count -= 1\n",
    "output11 = output11.rstrip('\\n')\n",
    "print(output11)\n"
   ]
  },
  {
   "cell_type": "code",
   "execution_count": null,
   "metadata": {
    "deletable": false,
    "editable": false,
    "nbgrader": {
     "cell_type": "code",
     "checksum": "8215c34a30590a6d5e55d08bbc5ceaf0",
     "grade": true,
     "grade_id": "A11_test-patternLoop",
     "locked": true,
     "points": 4,
     "schema_version": 3,
     "solution": false,
     "task": false
    }
   },
   "outputs": [],
   "source": [
    "# Testing Cell (Do NOT modify this cell)"
   ]
  },
  {
   "cell_type": "markdown",
   "metadata": {},
   "source": [
    "#### Question 12&nbsp;&nbsp;&nbsp;&nbsp;&nbsp;&nbsp;(4 Points)\n",
    "Write a Python program to display the following pattern using for loops. Create the variable `output12` and use it inside the while loop to construct the string that you want to display at the end of the program.\n",
    "```\n",
    "* \n",
    "* * \n",
    "* * * \n",
    "* * * * \n",
    "* * * * * \n",
    "* * * * \n",
    "* * * \n",
    "* * \n",
    "*\n",
    "```\n",
    "Note: The constructed string should be in the same format as in Q1. No trailing string before the newline and no newline on the final row of text."
   ]
  },
  {
   "cell_type": "code",
   "execution_count": 14,
   "metadata": {
    "deletable": false,
    "nbgrader": {
     "cell_type": "code",
     "checksum": "007729089994ea5de2aa818cd1b47967",
     "grade": false,
     "grade_id": "A12",
     "locked": false,
     "schema_version": 3,
     "solution": true,
     "task": false
    },
    "tags": []
   },
   "outputs": [
    {
     "name": "stdout",
     "output_type": "stream",
     "text": [
      "* \n",
      "* * \n",
      "* * * \n",
      "* * * * \n",
      "* * * * * \n",
      "* * * * \n",
      "* * * \n",
      "* * \n",
      "* \n"
     ]
    }
   ],
   "source": [
    "# Write your solution here\n",
    "\n",
    "# YOUR CODE HERE\n",
    "output12 = ''\n",
    "for i in range(1, 6):\n",
    "    output12 += i * '* ' + '\\n'\n",
    "for i in range(4, 0, -1):\n",
    "    output12 += i * '* ' + '\\n'\n",
    "output12 = output12.rstrip('\\n')\n",
    "print(output12)"
   ]
  },
  {
   "cell_type": "code",
   "execution_count": null,
   "metadata": {
    "deletable": false,
    "editable": false,
    "nbgrader": {
     "cell_type": "code",
     "checksum": "7ec823b4eb98ebc04b2430d093f659cd",
     "grade": true,
     "grade_id": "A12_test-starPatterns",
     "locked": true,
     "points": 4,
     "schema_version": 3,
     "solution": false,
     "task": false
    }
   },
   "outputs": [],
   "source": [
    "# Testing Cell (Do NOT modify this cell)"
   ]
  },
  {
   "cell_type": "markdown",
   "metadata": {},
   "source": [
    "#### Question 13&nbsp;&nbsp;&nbsp;&nbsp;&nbsp;&nbsp;(4 Points)\n",
    "Write a Python program to concatenate following dictionaries to create a new dictionary called `output13`.\n",
    "```\n",
    "q13_1 = {1:10, 2:20, 3:30}\n",
    "q13_2 = {4:40, 5:50}\n",
    "q13_3 = {6:60, 7:70, 8:80}\n",
    "q13_4 = {9:90}\n",
    "```\n",
    "\n",
    "***\n",
    "\n",
    "<details>\n",
    "  <summary><span style=\"color:blue\">Dictionary unpacking for concatenation</span></summary>\n",
    "    One handy approach to concatenating dictionaries is to <i>unpack</i> them with the `**` operator. The <a href=\"https://docs.python.org/3/reference/expressions.html#dictionary-displays\">pydocs</a> say: \"A double asterisk ** denotes dictionary unpacking. Its operand must be a mapping. Each mapping item is added to the new dictionary.\" \n",
    "</details>"
   ]
  },
  {
   "cell_type": "code",
   "execution_count": 69,
   "metadata": {
    "deletable": false,
    "editable": false,
    "nbgrader": {
     "cell_type": "code",
     "checksum": "5646a613c711c0a2e60eaf5488926771",
     "grade": false,
     "grade_id": "cell-cd157bfc35ef4255",
     "locked": true,
     "schema_version": 3,
     "solution": false,
     "task": false
    },
    "tags": []
   },
   "outputs": [],
   "source": [
    "# Test data. Do not duplicate this variable in your submitted solution.\n",
    "q13_1 = {1:10, 2:20, 3:30}\n",
    "q13_2 = {4:40, 5:50}\n",
    "q13_3 = {6:60, 7:70, 8:80}\n",
    "q13_4 = {9:90}"
   ]
  },
  {
   "cell_type": "code",
   "execution_count": 74,
   "metadata": {
    "deletable": false,
    "nbgrader": {
     "cell_type": "code",
     "checksum": "b52ca32ac02e66e7718b457c4059593a",
     "grade": false,
     "grade_id": "A13",
     "locked": false,
     "schema_version": 3,
     "solution": true,
     "task": false
    },
    "tags": []
   },
   "outputs": [
    {
     "name": "stdout",
     "output_type": "stream",
     "text": [
      "{1: 10, 2: 20, 3: 30, 4: 40, 5: 50, 6: 60, 7: 70, 8: 80, 9: 90}\n"
     ]
    }
   ],
   "source": [
    "# Write your solution here\n",
    "\n",
    "# YOUR CODE HERE\n",
    "output13 = {**q13_1,  ** q13_2, **q13_3, **q13_4}\n",
    "print(output13)"
   ]
  },
  {
   "cell_type": "code",
   "execution_count": null,
   "metadata": {
    "deletable": false,
    "editable": false,
    "nbgrader": {
     "cell_type": "code",
     "checksum": "680289bd433a377799f8fdc61fe1c0e7",
     "grade": true,
     "grade_id": "A13_test-concatDict",
     "locked": true,
     "points": 4,
     "schema_version": 3,
     "solution": false,
     "task": false
    }
   },
   "outputs": [],
   "source": [
    "# Testing Cell (Do NOT modify this cell)"
   ]
  },
  {
   "cell_type": "markdown",
   "metadata": {},
   "source": [
    "#### Question 14&nbsp;&nbsp;&nbsp;&nbsp;&nbsp;&nbsp;(4 Points)\n",
    "Write a Python program that filters odd and even numbers from the following list: `q14_list = [19, 21, 2, 6, 26, 26, 39, 91, 93, 33, 12, 19, 31, 30]`. Create two empty lists: `output14_odd` and `output14_even` and append odd and even numbers respectively from the elements in `q14_list`."
   ]
  },
  {
   "cell_type": "code",
   "execution_count": 76,
   "metadata": {
    "deletable": false,
    "editable": false,
    "nbgrader": {
     "cell_type": "code",
     "checksum": "38a83d06e081da7c4b89ad6460076175",
     "grade": false,
     "grade_id": "cell-b6e4a5ec7331e280",
     "locked": true,
     "schema_version": 3,
     "solution": false,
     "task": false
    },
    "tags": []
   },
   "outputs": [],
   "source": [
    "# Test data. Do not duplicate this variable in your submitted solution. \n",
    "q14_list = [19, 21, 2, 6, 26, 26, 39, 91, 93, 33, 12, 19, 31, 30]"
   ]
  },
  {
   "cell_type": "code",
   "execution_count": 77,
   "metadata": {
    "deletable": false,
    "nbgrader": {
     "cell_type": "code",
     "checksum": "a2c0e0bbaa032ddce85636ace2ebb415",
     "grade": false,
     "grade_id": "A14",
     "locked": false,
     "schema_version": 3,
     "solution": true,
     "task": false
    },
    "tags": []
   },
   "outputs": [
    {
     "name": "stdout",
     "output_type": "stream",
     "text": [
      "[2, 6, 26, 26, 12, 30]\n",
      "[19, 21, 39, 91, 93, 33, 19, 31]\n"
     ]
    }
   ],
   "source": [
    "# Write your solution here\n",
    "\n",
    "# YOUR CODE HERE\n",
    "output14_odd = []\n",
    "output14_even = []\n",
    "for i in q14_list:\n",
    "    if i % 2 == 1:\n",
    "        output14_odd.append(i)\n",
    "    if i % 2 == 0:\n",
    "        output14_even.append(i)\n",
    "print(output14_even)\n",
    "print(output14_odd)"
   ]
  },
  {
   "cell_type": "code",
   "execution_count": null,
   "metadata": {
    "deletable": false,
    "editable": false,
    "nbgrader": {
     "cell_type": "code",
     "checksum": "26caef42d7ba5fb44ac1012228cb7da5",
     "grade": true,
     "grade_id": "A14_test-OddEven",
     "locked": true,
     "points": 4,
     "schema_version": 3,
     "solution": false,
     "task": false
    }
   },
   "outputs": [],
   "source": [
    "# Testing Cell (Do NOT modify this cell)"
   ]
  },
  {
   "cell_type": "markdown",
   "metadata": {},
   "source": [
    "#### Question 15 &nbsp;&nbsp;&nbsp;&nbsp;&nbsp;&nbsp;(4 Points) \n",
    "Write a Python program to display the following pattern using for loops. Create the variable `output15` and use it inside the while loop to construct the string that you want to display at the end of the program.\n",
    "```\n",
    "1 2 3 4 5\n",
    "2 2 3 4 5 \n",
    "3 3 3 4 5 \n",
    "4 4 4 4 5 \n",
    "5 5 5 5 5\n",
    "```\n",
    "Note: The constructed string should be in the same format as in Q1. No trailing string before the newline and no newline on the final row of text."
   ]
  },
  {
   "cell_type": "code",
   "execution_count": 13,
   "metadata": {
    "deletable": false,
    "nbgrader": {
     "cell_type": "code",
     "checksum": "51a41e7480878e2c5c8d703676fb6393",
     "grade": false,
     "grade_id": "A15",
     "locked": false,
     "schema_version": 3,
     "solution": true,
     "task": false
    },
    "tags": []
   },
   "outputs": [
    {
     "name": "stdout",
     "output_type": "stream",
     "text": [
      "\n",
      "12345\n",
      "22345\n",
      "33345\n",
      "44445\n",
      "55555\n"
     ]
    }
   ],
   "source": [
    "# Write your solution here\n",
    "\n",
    "# YOUR CODE HERE\n",
    "output15 = ''\n",
    "for i in range(1,6):\n",
    "    output15 += '\\n'\n",
    "    for j in range(1, 6):\n",
    "        if i <= j:\n",
    "            output15 += str(j)\n",
    "        else:\n",
    "            output15 += str(i)\n",
    "\n",
    "output15 = output15.rstrip('\\n')\n",
    "\n",
    "print(output15)"
   ]
  },
  {
   "cell_type": "code",
   "execution_count": null,
   "metadata": {
    "deletable": false,
    "editable": false,
    "nbgrader": {
     "cell_type": "code",
     "checksum": "f7c1fab0fcc23528b1cfb4d8f44e92ce",
     "grade": true,
     "grade_id": "A15-test_patternEnd",
     "locked": true,
     "points": 4,
     "schema_version": 3,
     "solution": false,
     "task": false
    }
   },
   "outputs": [],
   "source": [
    "# Testing Cell (Do NOT modify this cell)"
   ]
  },
  {
   "cell_type": "markdown",
   "metadata": {},
   "source": [
    "#### Question 16 &nbsp;&nbsp;&nbsp;&nbsp;&nbsp;&nbsp;(10 Points)\n",
    "Write a Python program to iterate through a dictionary, `q16_d`, and calculate the product of multiplying its values together (ignore the keys). For example, given a dict like:\n",
    "```python\n",
    "{'John': 12, 'Danise': 10, 'David': 9, 'Kelly': 19, 'Emma': 30, 'Olivia': 33}\n",
    "```\n",
    "your result, saved as `output16` would be the product of `12 * 10 * 9 * 19 * 30 * 33`."
   ]
  },
  {
   "cell_type": "code",
   "execution_count": 83,
   "metadata": {
    "deletable": false,
    "editable": false,
    "nbgrader": {
     "cell_type": "code",
     "checksum": "65d07b50aab6c1a71b094e867f391c46",
     "grade": false,
     "grade_id": "cell-7147c0e6f92dc7ac",
     "locked": true,
     "schema_version": 3,
     "solution": false,
     "task": false
    },
    "tags": []
   },
   "outputs": [],
   "source": [
    "# Test data. Do not duplicate this variable in your submitted solution.\n",
    "q16_d = {'John': 12, 'Danise': 10, 'David': 9, 'Kelly': 19, 'Emma': 30, 'Olivia': 33}"
   ]
  },
  {
   "cell_type": "code",
   "execution_count": 84,
   "metadata": {
    "deletable": false,
    "nbgrader": {
     "cell_type": "code",
     "checksum": "ccd3aa919f9c70da2f6c8506468b1aea",
     "grade": false,
     "grade_id": "A16",
     "locked": false,
     "schema_version": 3,
     "solution": true,
     "task": false
    },
    "tags": []
   },
   "outputs": [
    {
     "name": "stdout",
     "output_type": "stream",
     "text": [
      "20314800\n"
     ]
    }
   ],
   "source": [
    "# Write your solution here\n",
    "\n",
    "# YOUR CODE HERE\n",
    "output16 = 1\n",
    "for key in q16_d:\n",
    "    output16 *= q16_d[key]\n",
    "print(output16)"
   ]
  },
  {
   "cell_type": "code",
   "execution_count": null,
   "metadata": {
    "deletable": false,
    "editable": false,
    "nbgrader": {
     "cell_type": "code",
     "checksum": "77c8a87a04529e280d093244073a5d73",
     "grade": true,
     "grade_id": "A16_test-MultyDict",
     "locked": true,
     "points": 10,
     "schema_version": 3,
     "solution": false,
     "task": false
    },
    "tags": []
   },
   "outputs": [],
   "source": [
    "# Testing Cell (Do NOT modify this cell)"
   ]
  },
  {
   "cell_type": "markdown",
   "metadata": {},
   "source": [
    "#### Question 17 &nbsp;&nbsp;&nbsp;&nbsp;&nbsp;&nbsp;(10 Points)\n",
    " Write a Python program to calculate factorial of an integer number, `q17_input`, using a for loop. Create a variable `output17` and assign the factorial of it. \n",
    " \n",
    "To calculate the factorial use the following guidelines:\n",
    "\n",
    "* Factorial of number n is represented by `n!` and it is equal to `1*2*3*....*(n-1)*n`. For example, `4!` = `1*2*3*4` = 24\n",
    "* Note that 1! = 1 and 0! = 1"
   ]
  },
  {
   "cell_type": "code",
   "execution_count": 85,
   "metadata": {},
   "outputs": [],
   "source": [
    "# Test data. Do not duplicate this variable in your submitted solution.\n",
    "q17_input = 4"
   ]
  },
  {
   "cell_type": "code",
   "execution_count": 86,
   "metadata": {
    "deletable": false,
    "nbgrader": {
     "cell_type": "code",
     "checksum": "176a9d70ca7c2f982fa9215c16beabab",
     "grade": false,
     "grade_id": "A17",
     "locked": false,
     "schema_version": 3,
     "solution": true,
     "task": false
    },
    "tags": []
   },
   "outputs": [
    {
     "name": "stdout",
     "output_type": "stream",
     "text": [
      "24\n"
     ]
    }
   ],
   "source": [
    "# Write your solution here\n",
    "\n",
    "# YOUR CODE HERE\n",
    "output17 = 1\n",
    "for i in range(1, q17_input + 1):\n",
    "    output17 *= i\n",
    "print(output17) "
   ]
  },
  {
   "cell_type": "code",
   "execution_count": 87,
   "metadata": {
    "deletable": false,
    "editable": false,
    "nbgrader": {
     "cell_type": "code",
     "checksum": "1ab023c67364cb7a81719ecf7ba3a87f",
     "grade": true,
     "grade_id": "A17-test_factorial",
     "locked": true,
     "points": 10,
     "schema_version": 3,
     "solution": false,
     "task": false
    },
    "tags": []
   },
   "outputs": [],
   "source": [
    "# Testing Cell (Do NOT modify this cell)"
   ]
  },
  {
   "cell_type": "markdown",
   "metadata": {},
   "source": [
    "#### Question 18 &nbsp;&nbsp;&nbsp;&nbsp;&nbsp;&nbsp;(10 Points)\n",
    "Given the following two dictionaries, write a Python program to combine two dictionary. Where keys are identical in the two input dictionaries, the value should be the sum of the original values. Assign the new dictionary to `output18`.\n",
    "\n",
    "For example, given:\n",
    "```\n",
    "q18_d1 = {'x': 120, 'y': 200, 'z':300, 'w': 30}\n",
    "q18_d2 = {'x': 90, 'y': 120, 'z':300, 'm': 120}\n",
    "```\n",
    "then adding values with identical keys would produce:\n",
    "```\n",
    "output18 = {'x': 210, 'y': 320, 'z': 600, 'w': 30, 'm': 120}\n",
    "```"
   ]
  },
  {
   "cell_type": "code",
   "execution_count": 89,
   "metadata": {
    "deletable": false,
    "editable": false,
    "nbgrader": {
     "cell_type": "code",
     "checksum": "891a59d0decf492204d04fed31c8249c",
     "grade": false,
     "grade_id": "cell-bdd19990c050bc25",
     "locked": true,
     "schema_version": 3,
     "solution": false,
     "task": false
    },
    "tags": []
   },
   "outputs": [],
   "source": [
    "# Test data. Do not duplicate this variable in your submitted solution.\n",
    "q18_d1 = {'x': 120, 'y': 200, 'z':300, 'w': 30}\n",
    "q18_d2 = {'x': 90, 'y': 120, 'z':300, 'm': 120}"
   ]
  },
  {
   "cell_type": "code",
   "execution_count": 96,
   "metadata": {
    "deletable": false,
    "nbgrader": {
     "cell_type": "code",
     "checksum": "fab986a8a2261782b3912111e2c79601",
     "grade": false,
     "grade_id": "A18",
     "locked": false,
     "schema_version": 3,
     "solution": true,
     "task": false
    },
    "tags": []
   },
   "outputs": [
    {
     "name": "stdout",
     "output_type": "stream",
     "text": [
      "{'x': 210, 'y': 320, 'z': 600, 'w': 30, 'm': 120}\n"
     ]
    }
   ],
   "source": [
    "# Write your solution here\n",
    "# YOUR CODE HERE\n",
    "output18 = {}\n",
    "for key in q18_d1:\n",
    "    if key in q18_d2:\n",
    "        output18[key] = q18_d1[key] + q18_d2[key]\n",
    "    else:\n",
    "        output18[key] = q18_d1[key]\n",
    "\n",
    "for key in q18_d2:\n",
    "    if key not in q18_d1:\n",
    "        output18[key] = q18_d2[key]\n",
    "\n",
    "\n",
    "print(output18)\n"
   ]
  },
  {
   "cell_type": "code",
   "execution_count": null,
   "metadata": {
    "deletable": false,
    "editable": false,
    "nbgrader": {
     "cell_type": "code",
     "checksum": "e1572952d48de1774c5bafd505319504",
     "grade": true,
     "grade_id": "A18-test_newDict",
     "locked": true,
     "points": 10,
     "schema_version": 3,
     "solution": false,
     "task": false
    },
    "tags": []
   },
   "outputs": [],
   "source": [
    "# Testing Cell (Do NOT modify this cell)"
   ]
  },
  {
   "cell_type": "markdown",
   "metadata": {},
   "source": [
    "#### Question 19 &nbsp;&nbsp;&nbsp;&nbsp;&nbsp;&nbsp;(10 Points)\n",
    "Given the following dictionary, `q19_d` , write a Python program to identify all unique **values** in it and append the value to a list called `output19`. For example, given:\n",
    "```python\n",
    "{112:'dog', 113:'cat', 119:'dog'}\n",
    "```\n",
    "the list of unique values would be:\n",
    "```python\n",
    "['dog', 'cat']\n",
    "```\n",
    "\n",
    "***\n",
    "\n",
    "<details>\n",
    "  <summary><span style=\"color:blue\">Guaranteeing uniqueness</span></summary>\n",
    "    The most Pythonic approach to ensuring values are unique is to add them to a <i>set</i>. While the course material has not covered sets, you can (if you choose) get some additional insight from \n",
    "this <a href=\"https://docs.python.org/3/tutorial/datastructures.html#sets\">this python.org tutorial</a>. \n",
    "</details>"
   ]
  },
  {
   "cell_type": "code",
   "execution_count": 98,
   "metadata": {
    "deletable": false,
    "editable": false,
    "nbgrader": {
     "cell_type": "code",
     "checksum": "b803dc4117985be2e93312e82505e1ba",
     "grade": false,
     "grade_id": "cell-8e80b9f70b034df6",
     "locked": true,
     "schema_version": 3,
     "solution": false,
     "task": false
    },
    "tags": []
   },
   "outputs": [],
   "source": [
    "# Test data. Do not duplicate this variable in your submitted solution.\n",
    "q19_d = {112:'dog', 113:'cat', 119:'dog', 120:'dog', 126:'parrot', 130:'duck', 131:'dog', 133:'cat', 136:'duck', 139:'parrot'}"
   ]
  },
  {
   "cell_type": "code",
   "execution_count": 99,
   "metadata": {
    "deletable": false,
    "nbgrader": {
     "cell_type": "code",
     "checksum": "86431d486c51e7d7de65cdd541c49c60",
     "grade": false,
     "grade_id": "A19",
     "locked": false,
     "schema_version": 3,
     "solution": true,
     "task": false
    },
    "tags": []
   },
   "outputs": [
    {
     "name": "stdout",
     "output_type": "stream",
     "text": [
      "['dog', 'cat', 'parrot', 'duck']\n"
     ]
    }
   ],
   "source": [
    "# Write your solution here\n",
    "\n",
    "# YOUR CODE HERE\n",
    "output19 = []\n",
    "for i in q19_d:\n",
    "    if q19_d[i] not in output19:\n",
    "        output19.append(q19_d[i])\n",
    "print(output19)"
   ]
  },
  {
   "cell_type": "code",
   "execution_count": null,
   "metadata": {
    "deletable": false,
    "editable": false,
    "nbgrader": {
     "cell_type": "code",
     "checksum": "a14e528d431a2c63eb5370c939ae6818",
     "grade": true,
     "grade_id": "A19_test-unique",
     "locked": true,
     "points": 10,
     "schema_version": 3,
     "solution": false,
     "task": false
    },
    "tags": []
   },
   "outputs": [],
   "source": [
    "# Testing Cell (Do NOT modify this cell)"
   ]
  },
  {
   "cell_type": "markdown",
   "metadata": {},
   "source": [
    "#### Question 20 &nbsp;&nbsp;&nbsp;&nbsp;&nbsp;&nbsp;(10 Points)\n",
    "Given the following list, write a Python program to convert it into a nested dictionary of keys called `output20`.\n",
    "```\n",
    "q20_list = ['John', 'Danise', 'David', 'Kelly']\n",
    "```\n",
    "The expected output of `output20` is `{'John': {'Danise': {'David': {'Kelly': {}}}}}`"
   ]
  },
  {
   "cell_type": "code",
   "execution_count": 117,
   "metadata": {
    "deletable": false,
    "editable": false,
    "nbgrader": {
     "cell_type": "code",
     "checksum": "edae59b67dede5a7cab7339c25772d2e",
     "grade": false,
     "grade_id": "cell-07c5b06599ad33ca",
     "locked": true,
     "schema_version": 3,
     "solution": false,
     "task": false
    },
    "tags": []
   },
   "outputs": [],
   "source": [
    "# Test data. Do not duplicate this variable in your submitted solution.\n",
    "q20_list = ['John', 'Danise', 'David', 'Kelly']"
   ]
  },
  {
   "cell_type": "code",
   "execution_count": 118,
   "metadata": {
    "deletable": false,
    "nbgrader": {
     "cell_type": "code",
     "checksum": "9efa62c00f2965045b4e8a177866925e",
     "grade": false,
     "grade_id": "A20",
     "locked": false,
     "schema_version": 3,
     "solution": true,
     "task": false
    },
    "tags": []
   },
   "outputs": [
    {
     "name": "stdout",
     "output_type": "stream",
     "text": [
      "{'John': {'Danise': {'David': {'Kelly': {}}}}}\n"
     ]
    }
   ],
   "source": [
    "# Write your solution here\n",
    "\n",
    "# YOUR CODE HERE\n",
    "output20 = {}\n",
    "for i in reversed(q20_list):\n",
    "    output20 = {i:output20}\n",
    "print(output20)"
   ]
  },
  {
   "cell_type": "code",
   "execution_count": null,
   "metadata": {
    "deletable": false,
    "editable": false,
    "nbgrader": {
     "cell_type": "code",
     "checksum": "4a0f71d16b6037b4ee1965d6eb6b903e",
     "grade": true,
     "grade_id": "A20_test-nestedDict",
     "locked": true,
     "points": 10,
     "schema_version": 3,
     "solution": false,
     "task": false
    },
    "tags": []
   },
   "outputs": [],
   "source": [
    "# Testing Cell (Do NOT modify this cell)"
   ]
  },
  {
   "cell_type": "markdown",
   "metadata": {},
   "source": [
    "#### Question 21 &nbsp;&nbsp;&nbsp;&nbsp;&nbsp;&nbsp;(10 Points)\n",
    "Given two equal sized lists, `keys` and `values`, create a dictionary `output21` with those keys and values. You should choose a for loop to iterate over the lists.\n",
    "\n",
    "***\n",
    "\n",
    "<details>\n",
    "  <summary><span style=\"color:blue\">Zipping dictionaries...</span></summary>\n",
    "    As an alernative to building the dictionary with iteration, the most Pythonic approach is to <a href=\"https://docs.python.org/3/library/functions.html#zip\">zip the two lists together</a> which creates a list of tuples (actually an iterator of tuples). This can then simply be turned into a dict using the built in function like <i>dict (zip (list_of_keys, list_of_values))</i>. \n",
    "</details>"
   ]
  },
  {
   "cell_type": "code",
   "execution_count": 2,
   "metadata": {
    "deletable": false,
    "editable": false,
    "nbgrader": {
     "cell_type": "code",
     "checksum": "7898c710ec2f517097ea9c6a8aaf425c",
     "grade": false,
     "grade_id": "cell-1fa5cbfdb856c275",
     "locked": true,
     "schema_version": 3,
     "solution": false,
     "task": false
    },
    "tags": []
   },
   "outputs": [],
   "source": [
    "# Test data. Do not duplicate this variable in your submitted solution.\n",
    "keys = ['##', '$$', '!!', '**', '))', '((']\n",
    "values = [11, 44, 66, 99, 11, 0]"
   ]
  },
  {
   "cell_type": "code",
   "execution_count": 3,
   "metadata": {
    "deletable": false,
    "nbgrader": {
     "cell_type": "code",
     "checksum": "93eff54864e486741f29e04a4763ee13",
     "grade": false,
     "grade_id": "A21",
     "locked": false,
     "schema_version": 3,
     "solution": true,
     "task": false
    },
    "tags": []
   },
   "outputs": [
    {
     "name": "stdout",
     "output_type": "stream",
     "text": [
      "{'##': 11, '$$': 44, '!!': 66, '**': 99, '))': 11, '((': 0}\n"
     ]
    }
   ],
   "source": [
    "# Write your solution here\n",
    "\n",
    "# YOUR CODE HERE\n",
    "output21 = dict(zip(keys, values))\n",
    "print(output21)"
   ]
  },
  {
   "cell_type": "code",
   "execution_count": null,
   "metadata": {
    "deletable": false,
    "editable": false,
    "nbgrader": {
     "cell_type": "code",
     "checksum": "e6a4765d9bd7046c5431c24fe42d0eee",
     "grade": true,
     "grade_id": "A21_test-averageDict",
     "locked": true,
     "points": 10,
     "schema_version": 3,
     "solution": false,
     "task": false
    },
    "tags": []
   },
   "outputs": [],
   "source": [
    "# Testing Cell (Do NOT modify this cell)"
   ]
  }
 ],
 "metadata": {
  "hide_input": false,
  "kernelspec": {
   "display_name": "Python 3 (ipykernel)",
   "language": "python",
   "name": "python3"
  },
  "language_info": {
   "codemirror_mode": {
    "name": "ipython",
    "version": 3
   },
   "file_extension": ".py",
   "mimetype": "text/x-python",
   "name": "python",
   "nbconvert_exporter": "python",
   "pygments_lexer": "ipython3",
   "version": "3.12.4"
  },
  "nbTranslate": {
   "displayLangs": [
    "auto"
   ],
   "hotkey": "alt-t",
   "langInMainMenu": true,
   "sourceLang": "en",
   "targetLang": "en",
   "useGoogleTranslate": true
  },
  "otter": {
   "tests": {
    "Question 01": {
     "name": "Question 01",
     "points": 1,
     "suites": [
      {
       "cases": [],
       "scored": true,
       "setup": "",
       "teardown": "",
       "type": "doctest"
      }
     ]
    },
    "Question 02": {
     "name": "Question 02",
     "points": 1,
     "suites": [
      {
       "cases": [],
       "scored": true,
       "setup": "",
       "teardown": "",
       "type": "doctest"
      }
     ]
    },
    "Question 03": {
     "name": "Question 03",
     "points": 1,
     "suites": [
      {
       "cases": [],
       "scored": true,
       "setup": "",
       "teardown": "",
       "type": "doctest"
      }
     ]
    },
    "Question 04": {
     "name": "Question 04",
     "points": 1,
     "suites": [
      {
       "cases": [],
       "scored": true,
       "setup": "",
       "teardown": "",
       "type": "doctest"
      }
     ]
    },
    "Question 05": {
     "name": "Question 05",
     "points": 1,
     "suites": [
      {
       "cases": [],
       "scored": true,
       "setup": "",
       "teardown": "",
       "type": "doctest"
      }
     ]
    },
    "Question 06": {
     "name": "Question 06",
     "points": 3,
     "suites": [
      {
       "cases": [],
       "scored": true,
       "setup": "",
       "teardown": "",
       "type": "doctest"
      }
     ]
    },
    "Question 07": {
     "name": "Question 07",
     "points": 3,
     "suites": [
      {
       "cases": [],
       "scored": true,
       "setup": "",
       "teardown": "",
       "type": "doctest"
      }
     ]
    },
    "Question 08": {
     "name": "Question 08",
     "points": 3,
     "suites": [
      {
       "cases": [],
       "scored": true,
       "setup": "",
       "teardown": "",
       "type": "doctest"
      }
     ]
    },
    "Question 09": {
     "name": "Question 09",
     "points": 3,
     "suites": [
      {
       "cases": [],
       "scored": true,
       "setup": "",
       "teardown": "",
       "type": "doctest"
      }
     ]
    },
    "Question 10": {
     "name": "Question 10",
     "points": 3,
     "suites": [
      {
       "cases": [],
       "scored": true,
       "setup": "",
       "teardown": "",
       "type": "doctest"
      }
     ]
    },
    "Question 11": {
     "name": "Question 11",
     "points": 4,
     "suites": [
      {
       "cases": [],
       "scored": true,
       "setup": "",
       "teardown": "",
       "type": "doctest"
      }
     ]
    },
    "Question 12": {
     "name": "Question 12",
     "points": 4,
     "suites": [
      {
       "cases": [],
       "scored": true,
       "setup": "",
       "teardown": "",
       "type": "doctest"
      }
     ]
    },
    "Question 13": {
     "name": "Question 13",
     "points": 4,
     "suites": [
      {
       "cases": [],
       "scored": true,
       "setup": "",
       "teardown": "",
       "type": "doctest"
      }
     ]
    },
    "Question 14": {
     "name": "Question 14",
     "points": 4,
     "suites": [
      {
       "cases": [],
       "scored": true,
       "setup": "",
       "teardown": "",
       "type": "doctest"
      }
     ]
    },
    "Question 15": {
     "name": "Question 15",
     "points": 4,
     "suites": [
      {
       "cases": [],
       "scored": true,
       "setup": "",
       "teardown": "",
       "type": "doctest"
      }
     ]
    },
    "Question 16": {
     "name": "Question 16",
     "points": 4,
     "suites": [
      {
       "cases": [],
       "scored": true,
       "setup": "",
       "teardown": "",
       "type": "doctest"
      }
     ]
    },
    "Question 17": {
     "name": "Question 17",
     "points": 6,
     "suites": [
      {
       "cases": [],
       "scored": true,
       "setup": "",
       "teardown": "",
       "type": "doctest"
      }
     ]
    },
    "Question 18": {
     "name": "Question 18",
     "points": 6,
     "suites": [
      {
       "cases": [],
       "scored": true,
       "setup": "",
       "teardown": "",
       "type": "doctest"
      }
     ]
    },
    "Question 19": {
     "name": "Question 19",
     "points": 6,
     "suites": [
      {
       "cases": [],
       "scored": true,
       "setup": "",
       "teardown": "",
       "type": "doctest"
      }
     ]
    },
    "Question 20": {
     "name": "Question 20",
     "points": 6,
     "suites": [
      {
       "cases": [],
       "scored": true,
       "setup": "",
       "teardown": "",
       "type": "doctest"
      }
     ]
    },
    "Question 21": {
     "name": "Question 21",
     "points": 6,
     "suites": [
      {
       "cases": [],
       "scored": true,
       "setup": "",
       "teardown": "",
       "type": "doctest"
      }
     ]
    },
    "Question 22": {
     "name": "Question 22",
     "points": 6,
     "suites": [
      {
       "cases": [],
       "scored": true,
       "setup": "",
       "teardown": "",
       "type": "doctest"
      }
     ]
    },
    "Question 23": {
     "name": "Question 23",
     "points": 10,
     "suites": [
      {
       "cases": [],
       "scored": true,
       "setup": "",
       "teardown": "",
       "type": "doctest"
      }
     ]
    },
    "Question 24": {
     "name": "Question 24",
     "points": 10,
     "suites": [
      {
       "cases": [],
       "scored": true,
       "setup": "",
       "teardown": "",
       "type": "doctest"
      }
     ]
    }
   }
  },
  "toc": {
   "base_numbering": 1,
   "nav_menu": {},
   "number_sections": true,
   "sideBar": true,
   "skip_h1_title": false,
   "title_cell": "Table of Contents",
   "title_sidebar": "Contents",
   "toc_cell": false,
   "toc_position": {},
   "toc_section_display": true,
   "toc_window_display": false
  },
  "varInspector": {
   "cols": {
    "lenName": 16,
    "lenType": 16,
    "lenVar": 40
   },
   "kernels_config": {
    "python": {
     "delete_cmd_postfix": "",
     "delete_cmd_prefix": "del ",
     "library": "var_list.py",
     "varRefreshCmd": "print(var_dic_list())"
    },
    "r": {
     "delete_cmd_postfix": ") ",
     "delete_cmd_prefix": "rm(",
     "library": "var_list.r",
     "varRefreshCmd": "cat(var_dic_list()) "
    }
   },
   "types_to_exclude": [
    "module",
    "function",
    "builtin_function_or_method",
    "instance",
    "_Feature"
   ],
   "window_display": false
  }
 },
 "nbformat": 4,
 "nbformat_minor": 4
}
